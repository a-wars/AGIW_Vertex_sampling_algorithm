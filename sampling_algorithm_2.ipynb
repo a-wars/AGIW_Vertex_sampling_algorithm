{
  "nbformat": 4,
  "nbformat_minor": 0,
  "metadata": {
    "colab": {
      "name": "sampling_algorithm_2.ipynb",
      "version": "0.3.2",
      "provenance": [],
      "include_colab_link": true
    },
    "kernelspec": {
      "name": "python3",
      "display_name": "Python 3"
    },
    "accelerator": "GPU"
  },
  "cells": [
    {
      "cell_type": "markdown",
      "metadata": {
        "id": "view-in-github",
        "colab_type": "text"
      },
      "source": [
        "<a href=\"https://colab.research.google.com/github/lucapas/VERTEX/blob/master/sampling_algorithm_2.ipynb\" target=\"_parent\"><img src=\"https://colab.research.google.com/assets/colab-badge.svg\" alt=\"Open In Colab\"/></a>"
      ]
    },
    {
      "metadata": {
        "id": "qlWvwJv9I4JX",
        "colab_type": "text"
      },
      "cell_type": "markdown",
      "source": [
        "# Sampling algorithm\n",
        "Implementation of Vertex sampling algorithm described in [_Web-scale information extraction with vertex_](https://ieeexplore.ieee.org/abstract/document/5767842)"
      ]
    },
    {
      "metadata": {
        "id": "ymukEtf1I4JZ",
        "colab_type": "code",
        "colab": {}
      },
      "cell_type": "code",
      "source": [
        "import requests\n",
        "from lxml import html\n",
        "from collections import defaultdict"
      ],
      "execution_count": 0,
      "outputs": []
    },
    {
      "metadata": {
        "id": "FMGpbiOxI4Jd",
        "colab_type": "text"
      },
      "cell_type": "markdown",
      "source": [
        "## Get all xpath"
      ]
    },
    {
      "metadata": {
        "id": "6JkGq2gqI4Je",
        "colab_type": "code",
        "colab": {}
      },
      "cell_type": "code",
      "source": [
        "def get_all_xpath(html_src):\n",
        "    \n",
        "    # select nodes whose children include text nodes\n",
        "    XPATH_SELECTOR = \"//*[child::text()]\" \n",
        "        \n",
        "    root = html.fromstring(html_src)\n",
        "    \n",
        "    tree = root.getroottree()\n",
        "    \n",
        "    # leaf_nodes is not properly a list of all leaf nodes. \n",
        "    # It contains nodes which are parent of text elements in the DOM\n",
        "    leaf_nodes = root.xpath(XPATH_SELECTOR)\n",
        "    \n",
        "    xpath_list = []\n",
        "    \n",
        "    # extract xpath from previously selected nodes and filter out \"noisy\" nodes\n",
        "    for leaf in leaf_nodes:\n",
        "        \n",
        "        xpath = tree.getpath(leaf) + \"/text()\"\n",
        "        \n",
        "        # Filtering out xpaths which extract javascript code or css stylesheet\n",
        "        if  \"/script\" not in xpath and \"/noscript\" not in xpath and \"/style\" not in xpath:\n",
        "                        \n",
        "            selected_values = root.xpath(xpath)\n",
        "            selected_string = ''.join(selected_values).strip()\n",
        "            \n",
        "            # Filtering out xpaths which extract empty strings\n",
        "            if selected_string:\n",
        "                xpath_list.append(xpath)\n",
        "\n",
        "    return xpath_list    "
      ],
      "execution_count": 0,
      "outputs": []
    },
    {
      "metadata": {
        "id": "MX5AagIdI4J7",
        "colab_type": "text"
      },
      "cell_type": "markdown",
      "source": [
        "## Compute necessary data structures\n",
        "### Utility functions\n",
        "#### Get xpath value\n",
        "Returns xpath selected value from a given page"
      ]
    },
    {
      "metadata": {
        "id": "gj7dWJ7tI4J8",
        "colab_type": "code",
        "colab": {}
      },
      "cell_type": "code",
      "source": [
        "def get_xpath_value(html_src, xpath):\n",
        "    \n",
        "    root = html.fromstring(html_src)\n",
        "    selected_values = root.xpath(xpath)\n",
        "    selected_string = ''.join(selected_values).strip()\n",
        "    \n",
        "    return selected_string"
      ],
      "execution_count": 0,
      "outputs": []
    },
    {
      "metadata": {
        "id": "85IHwjF8I4KD",
        "colab_type": "text"
      },
      "cell_type": "markdown",
      "source": [
        "#### xpath to value\n",
        "Given page source code _src_ and a list of xpath l returns a dict { _xpath_ : _value_ }, where _xpath_ is an xpath and _value_ is the string retrieved from the xpath on _src_"
      ]
    },
    {
      "metadata": {
        "id": "ue2m4IyFI4KE",
        "colab_type": "code",
        "colab": {}
      },
      "cell_type": "code",
      "source": [
        "def xpath_to_value(html_src, xpath_list):\n",
        "    \n",
        "    result = {}\n",
        "    \n",
        "    for xpath in xpath_list:\n",
        "        value = get_xpath_value(html_src, xpath)\n",
        "        result.update({xpath: value})\n",
        "        \n",
        "    return result"
      ],
      "execution_count": 0,
      "outputs": []
    },
    {
      "metadata": {
        "id": "CuqblzXkI4KM",
        "colab_type": "text"
      },
      "cell_type": "markdown",
      "source": [
        "#### get html\n",
        "Given a list of URLs, returns a dictionary _url_, _html page_"
      ]
    },
    {
      "metadata": {
        "id": "SJx_a8OII4KN",
        "colab_type": "code",
        "colab": {}
      },
      "cell_type": "code",
      "source": [
        "def get_html(list_of_urls):\n",
        "    \n",
        "    result = {}\n",
        "    \n",
        "    for url in list_of_urls:\n",
        "        r = requests.get(url)\n",
        "        if r.ok:\n",
        "            result[url] = r.content\n",
        "            \n",
        "    return result"
      ],
      "execution_count": 0,
      "outputs": []
    },
    {
      "metadata": {
        "id": "XYoFuoxvI4KV",
        "colab_type": "text"
      },
      "cell_type": "markdown",
      "source": [
        "#### get_data_structures\n",
        "Return necessary data structures for computing xpaths weights"
      ]
    },
    {
      "metadata": {
        "id": "-5fbZaMfI4KW",
        "colab_type": "code",
        "colab": {}
      },
      "cell_type": "code",
      "source": [
        "def get_data_structures(list_of_urls):\n",
        "    \n",
        "    html_pages = get_html(list_of_urls)\n",
        "    \n",
        "    url_to_xpaths = {}\n",
        "    xpath_to_value_list = defaultdict(list)\n",
        "    \n",
        "    for url in list_of_urls:\n",
        "        page = html_pages[url]\n",
        "        xpath_list = get_all_xpath(page)\n",
        "        \n",
        "        url_to_xpaths[url] = xpath_list\n",
        "        \n",
        "        xpath_to_single_value = xpath_to_value(page, xpath_list)\n",
        "        \n",
        "        for xpath in xpath_to_single_value:\n",
        "            value = xpath_to_single_value[xpath]\n",
        "            xpath_to_value_list[xpath].append(value)\n",
        "    \n",
        "    return (url_to_xpaths, xpath_to_value_list)"
      ],
      "execution_count": 0,
      "outputs": []
    },
    {
      "metadata": {
        "id": "Djn4NANMI4Ko",
        "colab_type": "text"
      },
      "cell_type": "markdown",
      "source": [
        "## Compute weights\n",
        "\n",
        "### Compute frequency\n",
        "Given a list of values extracted from a xpath _Xi_ returns the frequency of _Xi_"
      ]
    },
    {
      "metadata": {
        "id": "c9kMXAhyI4Kp",
        "colab_type": "code",
        "colab": {}
      },
      "cell_type": "code",
      "source": [
        "def compute_frequency(values_list):\n",
        "    return len(values_list)"
      ],
      "execution_count": 0,
      "outputs": []
    },
    {
      "metadata": {
        "id": "8lwvvSi6I4Kt",
        "colab_type": "text"
      },
      "cell_type": "markdown",
      "source": [
        "### Compute informativeness\n",
        "Given cluster size and a list of values extracted from a xpath _Xi_ returns the informativeness of _Xi_"
      ]
    },
    {
      "metadata": {
        "id": "-Dj2n0L9I4Ku",
        "colab_type": "code",
        "colab": {}
      },
      "cell_type": "code",
      "source": [
        "def compute_informativeness(M, values_list):\n",
        "\n",
        "    values_set = set(values_list)\n",
        "    Ti = len(values_set)\n",
        "    \n",
        "    sum_F_Xi = compute_frequency(values_list)\n",
        "\n",
        "    return 1 - sum_F_Xi/(M*Ti)\n",
        "    "
      ],
      "execution_count": 0,
      "outputs": []
    },
    {
      "metadata": {
        "id": "xxetj1D5I4Kz",
        "colab_type": "text"
      },
      "cell_type": "markdown",
      "source": [
        "### xpath weight\n",
        "Given a list of values extracted from a xpath _Xi_ returns the weight of _Xi_"
      ]
    },
    {
      "metadata": {
        "id": "OktxJDV6I4K0",
        "colab_type": "code",
        "colab": {}
      },
      "cell_type": "code",
      "source": [
        "def xpath_weight(cluster_size, list_of_values):\n",
        "    return compute_frequency(list_of_values)*compute_informativeness(cluster_size, list_of_values)"
      ],
      "execution_count": 0,
      "outputs": []
    },
    {
      "metadata": {
        "id": "HZ_Zb7ppI4LB",
        "colab_type": "text"
      },
      "cell_type": "markdown",
      "source": [
        "### calcola_pesi\n",
        "Arguments:\n",
        "- **xpath_to_values_map**: list of xpath of a given page\n",
        "- **list_of_urls**: list of uri\n"
      ]
    },
    {
      "metadata": {
        "id": "ymoncZuYI4LE",
        "colab_type": "code",
        "colab": {}
      },
      "cell_type": "code",
      "source": [
        "def F(xpath,second_data):\n",
        "  return len(second_data.get(xpath))  \n",
        "   \n",
        "\n",
        "def I(xpath,second_data,list_of_urls):\n",
        "  return 1 - ( F(xpath,second_data) / ( len(list_of_urls) * len(set(second_data.get(xpath))) ) )\n",
        "\n",
        "def w(xpath,second_data,list_of_urls):\n",
        "  return F(xpath,second_data)*I(xpath,second_data,list_of_urls)\n",
        "\n",
        "\n",
        "\n",
        "def calcola_pesi(xpath_to_values_map,list_of_urls):\n",
        "  w_list_xpath={}\n",
        "  for xpath in xpath_to_values_map:\n",
        "    w_list_xpath.update({xpath: w(xpath,xpath_to_values_map,list_of_urls)})\n",
        "  return w_list_xpath\n",
        "  \n"
      ],
      "execution_count": 0,
      "outputs": []
    },
    {
      "metadata": {
        "id": "g-UbckCrI4Ls",
        "colab_type": "text"
      },
      "cell_type": "markdown",
      "source": [
        "### Max weight page\n",
        "Arguments:\n",
        "- **list_of_urls**: dictionary where keys are urls and values are xpaths extracted from urls\n",
        "- **xpath_to_values_map**: dictionary where keys are xpaths and values are values retrieved from the xpath\n",
        "- **list_xpath_weight**: xpath weight's\n"
      ]
    },
    {
      "metadata": {
        "id": "_TdTxRRjWL2u",
        "colab_type": "code",
        "colab": {}
      },
      "cell_type": "code",
      "source": [
        "def max_weight_page(list_of_urls, xpath_to_values_map, list_xpath_weight):\n",
        "  massimo_url=''\n",
        "  massimo=0\n",
        "\n",
        "  for uri in list_of_urls:\n",
        "    peso_pagina=0\n",
        "    for xpath in xpath_to_values_map[uri]:\n",
        "      w=list_xpath_weight.get(xpath)\n",
        "      if bool(w):\n",
        "        peso_pagina=peso_pagina+w \n",
        "        \n",
        "    if massimo<peso_pagina:\n",
        "      massimo=peso_pagina\n",
        "      massimo_url=uri\n",
        "      \n",
        "  return massimo_url\n"
      ],
      "execution_count": 0,
      "outputs": []
    },
    {
      "metadata": {
        "id": "WJEtUL8FXPsb",
        "colab_type": "code",
        "colab": {}
      },
      "cell_type": "code",
      "source": [
        "def del_xpath(uri,list_xpath_weight,url_to_xpaths_map):\n",
        "  for xpath in url_to_xpaths_map[uri]:\n",
        "    if bool(list_xpath_weight.get(xpath)):\n",
        "      list_xpath_weight.pop(xpath)"
      ],
      "execution_count": 0,
      "outputs": []
    },
    {
      "metadata": {
        "id": "7hJcHgPVvvyZ",
        "colab_type": "code",
        "colab": {}
      },
      "cell_type": "code",
      "source": [
        "def page_weight(list_of_xpath, xpath_to_values_map, cluster_size, intersection = None):\n",
        "\n",
        "    weight = 0\n",
        "    \n",
        "    if intersection is None:\n",
        "        intersection = list_of_xpath\n",
        "        \n",
        "    for xpath in list_of_xpath:\n",
        "        if xpath in intersection:\n",
        "            list_of_values = xpath_to_values_map[xpath]\n",
        "            weight_of_xpath = xpath_weight(cluster_size, list_of_values)\n",
        "            weight += weight_of_xpath\n",
        "    return weight"
      ],
      "execution_count": 0,
      "outputs": []
    },
    {
      "metadata": {
        "id": "np714jtpugp6",
        "colab_type": "code",
        "colab": {}
      },
      "cell_type": "code",
      "source": [
        "def coverage(X, sample_pages_urls, cluster_pages_urls, url_to_xpaths_map, xpath_to_values_map):\n",
        "    covered = 0\n",
        "    cluster_size = len(cluster_pages_urls)\n",
        "    for url in cluster_pages_urls:\n",
        "        if url not in sample_pages_urls:\n",
        "            xpaths = url_to_xpaths_map[url]\n",
        "            weight = page_weight(xpaths, xpath_to_values_map, cluster_size, X)\n",
        "            if weight == 0:\n",
        "                covered = covered + 1\n",
        "    \n",
        "    return (covered + len(sample_pages_urls))/cluster_size"
      ],
      "execution_count": 0,
      "outputs": []
    },
    {
      "metadata": {
        "id": "vREQSlorI4L1",
        "colab_type": "text"
      },
      "cell_type": "markdown",
      "source": [
        "## Sampling algorithm"
      ]
    },
    {
      "metadata": {
        "id": "2k4EAEC-I4L2",
        "colab_type": "code",
        "colab": {}
      },
      "cell_type": "code",
      "source": [
        "def sampling(list_of_urls, k = 20):\n",
        "\n",
        "    cluster_size = len(list_of_urls)\n",
        "    url_to_xpaths_map, xpath_to_values_map = get_data_structures(list_of_urls)\n",
        "\n",
        "    list_xpath_weight = calcola_pesi(xpath_to_values_map,list_of_urls)\n",
        "\n",
        "    #X = list(xpath_to_values_map) #insert dictionary keys into a list\n",
        "    result = []\n",
        "    covered_page=0\n",
        "    \n",
        "    while list_xpath_weight and len(result) <= k:\n",
        "        max_weight_url = max_weight_page(list_of_urls, url_to_xpaths_map, list_xpath_weight)\n",
        "        result.append(max_weight_url)\n",
        "        del_xpath(max_weight_url,list_xpath_weight,url_to_xpaths_map)\n",
        "        \n",
        "        coverage_value = coverage(list_xpath_weight, result, list_of_urls, url_to_xpaths_map, xpath_to_values_map)\n",
        "        print(coverage_value)\n",
        "    return result,coverage_value"
      ],
      "execution_count": 0,
      "outputs": []
    },
    {
      "metadata": {
        "id": "3NzVPkLbvOqJ",
        "colab_type": "code",
        "colab": {}
      },
      "cell_type": "code",
      "source": [
        "#def sampling(url_to_html_map, k = 20):\n",
        "#    \n",
        "#   cluster_size = len(url_to_html_map)\n",
        "#   \n",
        "#   url_to_xpaths_map, xpath_to_values_map = get_data_structures(url_to_html_map)\n",
        "#    \n",
        "#    X = list(xpath_to_values_map) #insert dictionary keys into a list\n",
        "#    result = []\n",
        "#    \n",
        "#    iteration_no = 1\n",
        "#    \n",
        "#    while X and len(result) <= k:\n",
        "#        max_weight_url = max_weight_page(url_to_xpaths_map, xpath_to_values_map, cluster_size, X)\n",
        "#        result.append(max_weight_url)\n",
        "#        X = [xpath for xpath in X if xpath not in url_to_xpaths_map[max_weight_url]]\n",
        "#        url_to_xpaths_map.pop(max_weight_url)\n",
        "#        print(\"-------------------\")\n",
        "#        print(\"Iteration {}\".format(iteration_no))\n",
        "#        coverage_value = coverage(X, result, list(url_to_html_map), url_to_xpaths_map, xpath_to_values_map)\n",
        "#        print(\"Coverage is {}\".format(coverage_value))\n",
        "#        print(\"-------------------\")\n",
        "#        print(\"-------------------\")\n",
        "#        iteration_no = iteration_no +1\n",
        "\n",
        "\n",
        "#    return result,coverage_value"
      ],
      "execution_count": 0,
      "outputs": []
    },
    {
      "metadata": {
        "id": "FCOMm8_8etZF",
        "colab_type": "code",
        "colab": {}
      },
      "cell_type": "code",
      "source": [
        "#mettere k=1 se no non funziona\n",
        "list_uri=[\"https://www.androidworld.it/schede/redmi-7-2/\", \"https://www.androidworld.it/schede/samsung-galaxy-a70/\"]\n",
        "#sampling(list_uri)"
      ],
      "execution_count": 0,
      "outputs": []
    },
    {
      "metadata": {
        "id": "tzvPAlWcGcFW",
        "colab_type": "code",
        "colab": {
          "base_uri": "https://localhost:8080/",
          "height": 54
        },
        "outputId": "40748265-4857-4261-c672-5fdc771f5db2"
      },
      "cell_type": "code",
      "source": [
        "from lxml import html\n",
        "import requests\n",
        "url = \"http://www.europarl.europa.eu/news/en/press-room/page/\"\n",
        "list_of_links = []\n",
        "for page in range(2):\n",
        "    r = requests.get(url + str(page))\n",
        "    source = r.content\n",
        "    page_source = html.fromstring(source)\n",
        "    list_of_links.extend(page_source.xpath('//a[@title=\"Read more\"]/@href'))\n",
        "print(list_of_links)"
      ],
      "execution_count": 18,
      "outputs": [
        {
          "output_type": "stream",
          "text": [
            "['http://www.europarl.europa.eu/news/en/press-room/20190404IPR35103/eu-member-states-test-cybersecurity-preparedness-for-free-and-fair-eu-elections', 'http://www.europarl.europa.eu/news/en/press-room/20190405IPR35201/the-european-parliament-launches-a-website-on-european-election-results', 'http://www.europarl.europa.eu/news/en/press-room/20190402IPR34671/mobility-package-parliament-adopts-position-on-overhaul-of-road-transport-rules', 'http://www.europarl.europa.eu/news/en/press-room/20190402IPR34670/meps-adopted-measures-to-reconcile-work-and-family-life', 'http://www.europarl.europa.eu/news/en/press-room/20190402IPR34682/meps-back-first-eu-management-plan-for-fish-stocks-in-the-western-mediterranean', 'http://www.europarl.europa.eu/news/en/press-room/20190402IPR34683/schengen-meps-adopt-their-position-on-temporary-checks-at-national-borders', 'http://www.europarl.europa.eu/news/en/press-room/20190402IPR34673/natural-gas-parliament-extends-eu-rules-to-pipelines-from-non-eu-countries', 'http://www.europarl.europa.eu/news/en/press-room/20190403IPR34819/brexit-reciprocal-visa-free-access-for-eu-and-uk-nationals', 'http://www.europarl.europa.eu/news/en/press-room/20190402IPR34672/swedish-pm-lofven-our-common-values-must-guide-us-to-an-even-better-future', 'http://www.europarl.europa.eu/news/en/press-room/20190402IPR34687/brexit-political-groups-discuss-options-for-an-orderly-withdrawal', 'http://www.europarl.europa.eu/news/en/press-room/20190402IPR34668/opening-kovesi-has-parliament-s-support-as-candidate-for-eu-public-prosecutor', 'http://www.europarl.europa.eu/news/en/press-room/20190403IPR34801/brexit-visa-free-access-to-the-eu-for-uk-nationals-and-to-the-uk-for-europeans', 'http://www.europarl.europa.eu/news/en/press-room/20190401IPR34530/fairer-simpler-more-flexible-eu-farm-policy-meps-vote-on-post-2020-reform', 'http://www.europarl.europa.eu/news/en/press-room/20190401IPR34529/protecting-farmers-and-quality-products-vote-on-eu-farm-policy-reform-plans', 'http://www.europarl.europa.eu/news/en/press-room/20190228IPR29246/new-seat-projections-for-the-next-european-parliament', 'http://www.europarl.europa.eu/news/en/press-room/20190325IPR33125/malta-and-slovakia-meps-warn-of-lack-of-judicial-independence-and-corruption', 'http://www.europarl.europa.eu/news/en/press-room/20190322IPR32350/dieselgate-parliament-calls-for-mandatory-retrofits-of-polluting-cars', 'http://www.europarl.europa.eu/news/en/press-room/20190321IPR32118/venezuela-meps-demand-free-presidential-elections-and-an-end-to-repression', 'http://www.europarl.europa.eu/news/en/press-room/20190321IPR32121/erasmus-2021-2027-more-people-to-experience-learning-exchanges-in-europe', 'http://www.europarl.europa.eu/news/en/press-room/20190321IPR32119/parliament-supports-plans-to-improve-quality-of-tap-water-and-cut-plastic-litter', 'http://www.europarl.europa.eu/news/en/press-room/20190327IPR33413/eu-border-and-coast-guard-agency-10-000-operational-staff-by-2027', 'http://www.europarl.europa.eu/news/en/press-room/20190321IPR32117/meps-agree-on-future-regional-and-cohesion-funding', 'http://www.europarl.europa.eu/news/en/press-room/20190321IPR32112/parliament-backs-new-co2-emissions-limits-for-cars-and-vans', 'http://www.europarl.europa.eu/news/en/press-room/20190321IPR32111/parliament-seals-ban-on-throwaway-plastics-by-2021', 'http://www.europarl.europa.eu/news/en/press-room/20190321IPR32120/external-action-more-funds-for-human-rights-development-and-peace', 'http://www.europarl.europa.eu/news/en/press-room/20190321IPR32115/meps-debate-brexit-and-relations-with-china-following-eu-spring-summit', 'http://www.europarl.europa.eu/news/en/press-room/20190321IPR32113/mobility-package-postponed', 'http://www.europarl.europa.eu/news/en/press-room/20190111IPR23225/questions-and-answers-on-issues-about-the-digital-copyright-directive', 'http://www.europarl.europa.eu/news/en/press-room/20190321IPR32114/meps-approve-eu-s-spending-in-2017', 'http://www.europarl.europa.eu/news/en/press-room/20190321IPR32107/parliament-backs-proposal-to-end-switch-between-summer-and-winter-time-in-2021']\n"
          ],
          "name": "stdout"
        }
      ]
    },
    {
      "metadata": {
        "id": "xl9J3ZfXxek0",
        "colab_type": "code",
        "colab": {
          "base_uri": "https://localhost:8080/",
          "height": 748
        },
        "outputId": "e0fa4568-1637-49eb-c6d3-37996e648b44"
      },
      "cell_type": "code",
      "source": [
        "sampling(list_of_links)"
      ],
      "execution_count": 19,
      "outputs": [
        {
          "output_type": "stream",
          "text": [
            "0.03333333333333333\n",
            "0.1\n",
            "0.13333333333333333\n",
            "0.26666666666666666\n",
            "0.3\n",
            "0.3333333333333333\n",
            "0.36666666666666664\n",
            "0.4\n",
            "0.5333333333333333\n",
            "0.6\n",
            "0.6333333333333333\n",
            "0.6666666666666666\n",
            "0.7\n",
            "0.7333333333333333\n",
            "0.7666666666666667\n",
            "0.8\n",
            "0.8666666666666667\n",
            "0.9\n",
            "0.9333333333333333\n",
            "0.9666666666666667\n",
            "1.0\n"
          ],
          "name": "stdout"
        },
        {
          "output_type": "execute_result",
          "data": {
            "text/plain": [
              "(['http://www.europarl.europa.eu/news/en/press-room/20190321IPR32114/meps-approve-eu-s-spending-in-2017',\n",
              "  'http://www.europarl.europa.eu/news/en/press-room/20190321IPR32118/venezuela-meps-demand-free-presidential-elections-and-an-end-to-repression',\n",
              "  'http://www.europarl.europa.eu/news/en/press-room/20190402IPR34671/mobility-package-parliament-adopts-position-on-overhaul-of-road-transport-rules',\n",
              "  'http://www.europarl.europa.eu/news/en/press-room/20190111IPR23225/questions-and-answers-on-issues-about-the-digital-copyright-directive',\n",
              "  'http://www.europarl.europa.eu/news/en/press-room/20190405IPR35201/the-european-parliament-launches-a-website-on-european-election-results',\n",
              "  'http://www.europarl.europa.eu/news/en/press-room/20190401IPR34530/fairer-simpler-more-flexible-eu-farm-policy-meps-vote-on-post-2020-reform',\n",
              "  'http://www.europarl.europa.eu/news/en/press-room/20190321IPR32113/mobility-package-postponed',\n",
              "  'http://www.europarl.europa.eu/news/en/press-room/20190321IPR32111/parliament-seals-ban-on-throwaway-plastics-by-2021',\n",
              "  'http://www.europarl.europa.eu/news/en/press-room/20190321IPR32115/meps-debate-brexit-and-relations-with-china-following-eu-spring-summit',\n",
              "  'http://www.europarl.europa.eu/news/en/press-room/20190404IPR35103/eu-member-states-test-cybersecurity-preparedness-for-free-and-fair-eu-elections',\n",
              "  'http://www.europarl.europa.eu/news/en/press-room/20190402IPR34687/brexit-political-groups-discuss-options-for-an-orderly-withdrawal',\n",
              "  'http://www.europarl.europa.eu/news/en/press-room/20190321IPR32107/parliament-backs-proposal-to-end-switch-between-summer-and-winter-time-in-2021',\n",
              "  'http://www.europarl.europa.eu/news/en/press-room/20190402IPR34670/meps-adopted-measures-to-reconcile-work-and-family-life',\n",
              "  'http://www.europarl.europa.eu/news/en/press-room/20190402IPR34672/swedish-pm-lofven-our-common-values-must-guide-us-to-an-even-better-future',\n",
              "  'http://www.europarl.europa.eu/news/en/press-room/20190401IPR34529/protecting-farmers-and-quality-products-vote-on-eu-farm-policy-reform-plans',\n",
              "  'http://www.europarl.europa.eu/news/en/press-room/20190402IPR34682/meps-back-first-eu-management-plan-for-fish-stocks-in-the-western-mediterranean',\n",
              "  'http://www.europarl.europa.eu/news/en/press-room/20190327IPR33413/eu-border-and-coast-guard-agency-10-000-operational-staff-by-2027',\n",
              "  'http://www.europarl.europa.eu/news/en/press-room/20190321IPR32120/external-action-more-funds-for-human-rights-development-and-peace',\n",
              "  'http://www.europarl.europa.eu/news/en/press-room/20190325IPR33125/malta-and-slovakia-meps-warn-of-lack-of-judicial-independence-and-corruption',\n",
              "  'http://www.europarl.europa.eu/news/en/press-room/20190321IPR32112/parliament-backs-new-co2-emissions-limits-for-cars-and-vans',\n",
              "  'http://www.europarl.europa.eu/news/en/press-room/20190402IPR34668/opening-kovesi-has-parliament-s-support-as-candidate-for-eu-public-prosecutor'],\n",
              " 1.0)"
            ]
          },
          "metadata": {
            "tags": []
          },
          "execution_count": 19
        }
      ]
    },
    {
      "metadata": {
        "id": "eMlC11i-0A-Q",
        "colab_type": "code",
        "colab": {}
      },
      "cell_type": "code",
      "source": [
        "len(list_of_links)"
      ],
      "execution_count": 0,
      "outputs": []
    },
    {
      "metadata": {
        "id": "kydelLYjy7wP",
        "colab_type": "code",
        "colab": {
          "base_uri": "https://localhost:8080/",
          "height": 54
        },
        "outputId": "225bd5d8-f9bd-486c-bc32-55fe4b7bc2a1"
      },
      "cell_type": "code",
      "source": [
        "from lxml import html\n",
        "import requests\n",
        "url = \"http://www.europarl.europa.eu/news/en/press-room/page/\"\n",
        "list_of_links = []\n",
        "for page in range(20):\n",
        "    r = requests.get(url + str(page))\n",
        "    source = r.content\n",
        "    page_source = html.fromstring(source)\n",
        "    list_of_links.extend(page_source.xpath('//a[@title=\"Read more\"]/@href'))\n",
        "print(list_of_links)"
      ],
      "execution_count": 20,
      "outputs": [
        {
          "output_type": "stream",
          "text": [
            "['http://www.europarl.europa.eu/news/en/press-room/20190404IPR35103/eu-member-states-test-cybersecurity-preparedness-for-free-and-fair-eu-elections', 'http://www.europarl.europa.eu/news/en/press-room/20190405IPR35201/the-european-parliament-launches-a-website-on-european-election-results', 'http://www.europarl.europa.eu/news/en/press-room/20190402IPR34671/mobility-package-parliament-adopts-position-on-overhaul-of-road-transport-rules', 'http://www.europarl.europa.eu/news/en/press-room/20190402IPR34670/meps-adopted-measures-to-reconcile-work-and-family-life', 'http://www.europarl.europa.eu/news/en/press-room/20190402IPR34682/meps-back-first-eu-management-plan-for-fish-stocks-in-the-western-mediterranean', 'http://www.europarl.europa.eu/news/en/press-room/20190402IPR34683/schengen-meps-adopt-their-position-on-temporary-checks-at-national-borders', 'http://www.europarl.europa.eu/news/en/press-room/20190402IPR34673/natural-gas-parliament-extends-eu-rules-to-pipelines-from-non-eu-countries', 'http://www.europarl.europa.eu/news/en/press-room/20190403IPR34819/brexit-reciprocal-visa-free-access-for-eu-and-uk-nationals', 'http://www.europarl.europa.eu/news/en/press-room/20190402IPR34672/swedish-pm-lofven-our-common-values-must-guide-us-to-an-even-better-future', 'http://www.europarl.europa.eu/news/en/press-room/20190402IPR34687/brexit-political-groups-discuss-options-for-an-orderly-withdrawal', 'http://www.europarl.europa.eu/news/en/press-room/20190402IPR34668/opening-kovesi-has-parliament-s-support-as-candidate-for-eu-public-prosecutor', 'http://www.europarl.europa.eu/news/en/press-room/20190403IPR34801/brexit-visa-free-access-to-the-eu-for-uk-nationals-and-to-the-uk-for-europeans', 'http://www.europarl.europa.eu/news/en/press-room/20190401IPR34530/fairer-simpler-more-flexible-eu-farm-policy-meps-vote-on-post-2020-reform', 'http://www.europarl.europa.eu/news/en/press-room/20190401IPR34529/protecting-farmers-and-quality-products-vote-on-eu-farm-policy-reform-plans', 'http://www.europarl.europa.eu/news/en/press-room/20190228IPR29246/new-seat-projections-for-the-next-european-parliament', 'http://www.europarl.europa.eu/news/en/press-room/20190325IPR33125/malta-and-slovakia-meps-warn-of-lack-of-judicial-independence-and-corruption', 'http://www.europarl.europa.eu/news/en/press-room/20190322IPR32350/dieselgate-parliament-calls-for-mandatory-retrofits-of-polluting-cars', 'http://www.europarl.europa.eu/news/en/press-room/20190321IPR32118/venezuela-meps-demand-free-presidential-elections-and-an-end-to-repression', 'http://www.europarl.europa.eu/news/en/press-room/20190321IPR32121/erasmus-2021-2027-more-people-to-experience-learning-exchanges-in-europe', 'http://www.europarl.europa.eu/news/en/press-room/20190321IPR32119/parliament-supports-plans-to-improve-quality-of-tap-water-and-cut-plastic-litter', 'http://www.europarl.europa.eu/news/en/press-room/20190327IPR33413/eu-border-and-coast-guard-agency-10-000-operational-staff-by-2027', 'http://www.europarl.europa.eu/news/en/press-room/20190321IPR32117/meps-agree-on-future-regional-and-cohesion-funding', 'http://www.europarl.europa.eu/news/en/press-room/20190321IPR32112/parliament-backs-new-co2-emissions-limits-for-cars-and-vans', 'http://www.europarl.europa.eu/news/en/press-room/20190321IPR32111/parliament-seals-ban-on-throwaway-plastics-by-2021', 'http://www.europarl.europa.eu/news/en/press-room/20190321IPR32120/external-action-more-funds-for-human-rights-development-and-peace', 'http://www.europarl.europa.eu/news/en/press-room/20190321IPR32115/meps-debate-brexit-and-relations-with-china-following-eu-spring-summit', 'http://www.europarl.europa.eu/news/en/press-room/20190321IPR32113/mobility-package-postponed', 'http://www.europarl.europa.eu/news/en/press-room/20190111IPR23225/questions-and-answers-on-issues-about-the-digital-copyright-directive', 'http://www.europarl.europa.eu/news/en/press-room/20190321IPR32114/meps-approve-eu-s-spending-in-2017', 'http://www.europarl.europa.eu/news/en/press-room/20190321IPR32107/parliament-backs-proposal-to-end-switch-between-summer-and-winter-time-in-2021', 'http://www.europarl.europa.eu/news/en/press-room/20190321IPR32109/tax-crimes-meps-want-eu-financial-police-force-and-financial-intelligence-unit', 'http://www.europarl.europa.eu/news/en/press-room/20190321IPR32116/parliament-boosts-consumer-rights-online-and-offline', 'http://www.europarl.europa.eu/news/en/press-room/20190321IPR32133/end-racist-discrimination-against-afro-european-people-in-the-eu', 'http://www.europarl.europa.eu/news/en/press-room/20190321IPR32110/european-parliament-approves-new-copyright-rules-for-the-internet', 'http://www.europarl.europa.eu/news/en/press-room/20190321IPR32108/parliament-makes-eu-electricity-market-cleaner-and-more-consumer-friendly', 'http://www.europarl.europa.eu/news/en/press-room/20190321IPR32135/new-rules-to-help-consumers-join-forces-to-seek-compensation', 'http://www.europarl.europa.eu/news/en/press-room/20190326IPR33205/safer-roads-eu-lawmakers-agree-on-life-saving-technologies-for-new-vehicles', 'http://www.europarl.europa.eu/news/en/press-room/20190321IPR32106/opening-minute-of-silence-for-victims-of-terrorism-and-natural-disasters', 'http://www.europarl.europa.eu/news/en/press-room/20190321IPR32155/deal-agreed-to-protect-consumers-against-misleading-and-unfair-practices', 'http://www.europarl.europa.eu/news/en/press-room/20190318IPR31813/council-strongly-criticised-over-failing-to-act-to-protect-eu-values-in-hungary', 'http://www.europarl.europa.eu/news/en/press-room/20190321IPR32132/acp-eu-parliamentary-assembly-strengthening-the-partnership', 'http://www.europarl.europa.eu/news/en/press-room/20190312IPR31161/fairer-and-clearer-rules-on-social-benefits-for-eu-mobile-workers-agreed', 'http://www.europarl.europa.eu/news/en/press-room/20190318IPR31806/ngos-saving-lives-in-the-mediterranean-meps-take-stock-of-the-situation', 'http://www.europarl.europa.eu/news/en/press-room/20190318IPR31824/european-parliament-to-host-high-level-conference-on-oceans', 'http://www.europarl.europa.eu/news/en/press-room/20190312IPR31159/migration-and-rule-of-law-on-next-acp-eu-parliamentary-assembly-agenda', 'http://www.europarl.europa.eu/news/en/press-room/20190307IPR30752/non-performing-loans-banks-need-to-mitigate-the-risk-of-potential-losses', 'http://www.europarl.europa.eu/news/en/press-room/20190307IPR30745/climate-change-parliament-s-blueprint-for-long-term-co2-cuts', 'http://www.europarl.europa.eu/news/en/press-room/20190307IPR30748/meps-call-for-eu-magnitsky-act-to-impose-sanctions-on-human-rights-abusers', 'http://www.europarl.europa.eu/news/en/press-room/20190307IPR30753/parliament-criticises-council-s-rejection-of-money-laundering-blacklist', 'http://www.europarl.europa.eu/news/en/press-room/20190307IPR30757/human-rights-breaches-in-iran-kazakhstan-and-guatemala', 'http://www.europarl.europa.eu/news/en/press-room/20190307IPR30746/parliament-wants-to-suspend-eu-accession-negotiations-with-turkey', 'http://www.europarl.europa.eu/news/en/press-room/20190307IPR30695/eu-prepares-itself-to-fight-back-against-hostile-propaganda', 'http://www.europarl.europa.eu/news/en/press-room/20190307IPR30747/parliament-proposes-policy-toolbox-to-curb-air-pollution', 'http://www.europarl.europa.eu/news/en/press-room/20190307IPR30749/more-accessible-products-and-services-for-disabled-and-elderly-people', 'http://www.europarl.europa.eu/news/en/press-room/20190307IPR30739/meps-vote-to-limit-negative-impact-of-no-deal-brexit-on-citizens', 'http://www.europarl.europa.eu/news/en/press-room/20190307IPR30738/uk-must-make-clear-what-it-wants-meps-say-in-brexit-debate', 'http://www.europarl.europa.eu/news/en/press-room/20190307IPR30744/upgraded-eu-visa-information-database-to-increase-security-at-external-borders', 'http://www.europarl.europa.eu/news/en/press-room/20190307IPR30741/slovak-prime-minister-calls-for-a-long-term-eu-vision-that-citizens-can-trust', 'http://www.europarl.europa.eu/news/en/press-room/20190307IPR30743/parliament-makes-it-easier-to-organise-a-european-citizens-initiative', 'http://www.europarl.europa.eu/news/en/press-room/20190307IPR30694/meps-adopt-cybersecurity-act-and-want-eu-to-counter-it-threat-from-china', 'http://www.europarl.europa.eu/news/en/press-room/20190307IPR30737/russia-can-no-longer-be-considered-a-strategic-partner-say-meps', 'http://www.europarl.europa.eu/news/en/press-room/20190307IPR30742/from-farms-to-supermarkets-meps-approve-new-eu-rules-against-unfair-trading', 'http://www.europarl.europa.eu/news/en/press-room/20190308IPR30918/fighting-crime-faster-eu-wide-exchange-of-non-eu-nationals-criminal-records', 'http://www.europarl.europa.eu/news/en/press-room/20190311IPR31055/first-eu-wide-protection-for-whistle-blowers-agreed', 'http://www.europarl.europa.eu/news/en/press-room/20190307IPR30740/opening-victims-of-terrorism-remembered', 'http://www.europarl.europa.eu/news/en/press-room/20190305IPR30201/women-must-have-an-equal-share-in-politics-say-meps-and-national-mps', 'http://www.europarl.europa.eu/news/en/press-room/20190304IPR30096/external-action-more-funds-for-human-rights-development-and-climate-change', 'http://www.europarl.europa.eu/news/en/press-room/20190304IPR30073/could-switching-between-summer-and-winter-time-end-in-2021', 'http://www.europarl.europa.eu/news/en/press-room/20190227IPR28908/laura-codruta-kovesi-civil-liberties-meps-top-choice-for-eu-chief-prosecutor', 'http://www.europarl.europa.eu/news/en/press-room/20190225IPR28727/tax-crimes-special-committee-calls-for-a-european-financial-police-force', 'http://www.europarl.europa.eu/news/en/press-room/20190225IPR28729/protecting-citizens-access-to-social-security-in-case-of-no-deal-brexit', 'http://www.europarl.europa.eu/news/en/press-room/20190226IPR28811/copyright-meps-back-provisional-agreement', 'http://www.europarl.europa.eu/news/en/press-room/20190225IPR28720/meps-to-quiz-candidates-for-position-of-eu-chief-prosecutor-on-tuesday-at-15-30', 'http://www.europarl.europa.eu/news/en/press-room/20190222IPR28563/parliament-to-host-conference-on-abolishing-the-death-penalty', 'http://www.europarl.europa.eu/news/en/press-room/20190220IPR27656/safer-roads-more-life-saving-technology-to-be-mandatory-in-vehicles', 'http://www.europarl.europa.eu/news/en/press-room/20190220IPR27659/meps-urge-the-eu-to-lead-the-way-to-net-zero-emissions-by-2050', 'http://www.europarl.europa.eu/news/en/press-room/20190218IPR26760/new-erasmus-more-opportunities-for-disadvantaged-youth', 'http://www.europarl.europa.eu/news/en/press-room/20190219IPR27560/parliaments-broadly-agree-on-next-steps-for-economic-monetary-union', 'http://www.europarl.europa.eu/news/en/press-room/20190218IPR26964/malta-and-slovakia-serious-shortcomings-in-the-rule-of-law', 'http://www.europarl.europa.eu/news/en/press-room/20190219IPR27353/cutting-co2-emissions-from-trucks-meps-reach-deal-with-council', 'http://www.europarl.europa.eu/news/en/press-room/20190218IPR26999/migration-and-asylum-eu-funds-to-promote-integration-and-protect-borders', 'http://www.europarl.europa.eu/news/en/press-room/20190219IPR27357/trade-negotiations-with-us-can-start-under-certain-conditions', 'http://www.europarl.europa.eu/news/en/press-room/20190207IPR25224/meps-urge-eu-states-to-ensure-better-care-of-transported-animals', 'http://www.europarl.europa.eu/news/en/press-room/20190207IPR25223/eu-cross-border-payments-outside-eurozone-meps-scrap-excessive-fees', 'http://www.europarl.europa.eu/news/en/press-room/20190207IPR25209/eu-to-scrutinise-foreign-direct-investment-more-closely', 'http://www.europarl.europa.eu/news/en/press-room/20190207IPR25225/human-rights-breaches-in-saudi-arabia-chechnya-and-zimbabwe', 'http://www.europarl.europa.eu/news/en/press-room/20190214IPR26425/online-platforms-required-by-law-to-be-more-transparent-with-eu-businesses', 'http://www.europarl.europa.eu/news/en/press-room/20190214IPR26418/meps-agree-on-objectives-and-scope-for-future-regional-and-cohesion-funding', 'http://www.europarl.europa.eu/news/en/press-room/20190212IPR26152/agreement-reached-on-digital-copyright-rules', 'http://www.europarl.europa.eu/news/en/press-room/20190207IPR25207/ep-gives-green-light-to-eu-singapore-trade-and-investment-protection-deals', 'http://www.europarl.europa.eu/news/en/press-room/20190207IPR25221/take-medical-use-of-cannabis-seriously-say-meps', 'http://www.europarl.europa.eu/news/en/press-room/20190207IPR25220/bosnia-and-herzegovina-meps-concerned-by-slow-progress-in-eu-related-reforms', 'http://www.europarl.europa.eu/news/en/press-room/20190207IPR25208/meps-reject-making-eu-regional-funding-dependent-on-economic-targets', 'http://www.europarl.europa.eu/news/en/press-room/20190212IPR25908/eu-gas-market-new-rules-agreed-will-also-cover-gas-pipelines-entering-the-eu', 'http://www.europarl.europa.eu/news/en/press-room/20190207IPR25210/italian-prime-minister-giuseppe-conte-europe-must-listen-to-the-people', 'http://www.europarl.europa.eu/news/en/press-room/20190212IPR26201/parliament-names-two-of-its-buildings-after-helmut-kohl-and-stefan-zweig', 'http://www.europarl.europa.eu/news/en/press-room/20190212IPR26008/european-parliament-and-professional-footballers-team-up', 'http://www.europarl.europa.eu/news/en/press-room/20190207IPR25206/civil-protection-parliament-strengthens-eu-disaster-response-capability', 'http://www.europarl.europa.eu/news/en/press-room/20190207IPR25218/meps-adopt-new-fisheries-partnership-with-morocco-including-western-sahara', 'http://www.europarl.europa.eu/news/en/press-room/20190207IPR25214/meps-back-plans-to-promote-water-reuse-for-agricultural-irrigation', 'http://www.europarl.europa.eu/news/en/press-room/20190207IPR25212/fisheries-management-plan-for-western-waters-adopted', 'http://www.europarl.europa.eu/news/en/press-room/20190212IPR25936/food-safety-enhancing-consumer-trust-in-eu-risk-assessment-and-authorisation', 'http://www.europarl.europa.eu/news/en/press-room/20190211IPR25771/stronger-european-border-and-coast-guard-to-secure-eu-s-borders', 'http://www.europarl.europa.eu/news/en/press-room/20190211IPR25764/parliament-names-radio-studio-after-journalists-murdered-in-december-attack', 'http://www.europarl.europa.eu/news/en/press-room/20190205IPR25030/opening-ep-demands-that-incarcerated-journalists-be-released', 'http://www.europarl.europa.eu/news/en/press-room/20190207IPR25330/safer-products-ep-and-council-close-deal-to-beef-up-checks-and-inspections', 'http://www.europarl.europa.eu/news/en/press-room/20190207IPR25282/new-forms-of-work-deal-on-measures-boosting-workers-rights', 'http://www.europarl.europa.eu/news/en/press-room/20190205IPR25020/erasmus-will-finance-existing-uk-eu-mobility-in-the-event-of-no-deal-brexit', 'http://www.europarl.europa.eu/news/en/press-room/20190204IPR24914/meps-and-eu-ministers-agree-on-closing-information-gaps-to-enhance-security', 'http://www.europarl.europa.eu/news/en/press-room/20190204IPR24909/deal-on-tightening-the-rules-to-stop-terrorists-from-using-homemade-explosives', 'http://www.europarl.europa.eu/news/en/press-room/20190204IPR24911/setting-up-a-company-in-the-eu-could-become-easier-and-cheaper', 'http://www.europarl.europa.eu/news/en/press-room/20190204IPR24950/solidarity-corps-more-opportunities-for-young-people', 'http://www.europarl.europa.eu/news/en/press-room/20190123IPR24128/ep-approves-more-transparency-and-efficiency-in-its-internal-rules', 'http://www.europarl.europa.eu/news/en/press-room/20190125IPR24303/venezuela-parliament-recognises-guaido-urges-eu-to-follow-suit', 'http://www.europarl.europa.eu/news/en/press-room/20190123IPR24127/finnish-prime-minister-calls-for-a-more-united-eu-of-concrete-actions', 'http://www.europarl.europa.eu/news/en/press-room/20190123IPR24124/meps-urge-uk-to-break-current-deadlock', 'http://www.europarl.europa.eu/news/en/press-room/20190130IPR24601/partnership-agreement-with-businesses-ahead-of-ep-elections', 'http://www.europarl.europa.eu/news/en/press-room/20190123IPR24125/parliament-commemorates-the-victims-of-the-holocaust', 'http://www.europarl.europa.eu/news/en/press-room/20190123IPR24123/opening-parliament-stands-up-for-human-rights-in-venezuela-not-oppression', 'http://www.europarl.europa.eu/news/en/press-room/20190129IPR24507/meps-to-debate-state-of-play-on-brexit-on-wednesday-afternoon', 'http://www.europarl.europa.eu/news/en/press-room/20190129IPR24504/visa-free-access-to-the-eu-for-uk-nationals-and-to-the-uk-for-eu-nationals', 'http://www.europarl.europa.eu/news/en/press-room/20190129IPR24505/new-rules-for-short-stay-visas-ep-and-council-reach-a-deal', 'http://www.europarl.europa.eu/news/en/press-room/20190129IPR24506/consumer-protection-deal-on-eu-wide-rules-for-those-sold-faulty-products', 'http://www.europarl.europa.eu/news/en/press-room/20190128IPR24410/mario-draghi-quizzed-for-last-time-by-economic-and-monetary-affairs-committee', 'http://www.europarl.europa.eu/news/en/press-room/20190125IPR24304/european-elections-new-website-explains-how-to-vote-in-every-member-state', 'http://www.europarl.europa.eu/news/en/press-room/20190124IPR24213/parliament-and-council-agree-on-measures-to-reconcile-career-and-private-life', 'http://www.europarl.europa.eu/news/en/press-room/20190121IPR23917/welfare-of-transported-animals-meps-urge-eu-states-to-do-a-better-job', 'http://www.europarl.europa.eu/news/en/press-room/20190124IPR24202/eu-singapore-free-trade-deal-gets-green-light-in-trade-committee', 'http://www.europarl.europa.eu/news/en/press-room/20190124IPR24201/ep-brexit-steering-group-calls-on-the-uk-to-overcome-the-deadlock', 'http://www.europarl.europa.eu/news/en/press-room/20190121IPR23915/consumers-rights-against-defective-digital-content-agreed-by-eu-lawmakers', 'http://www.europarl.europa.eu/news/en/press-room/20190121IPR23916/2021-2027-eu-budget-EU378-1-billion-to-benefit-all-regions', 'http://www.europarl.europa.eu/news/en/press-room/20190122IPR24027/romanian-presidency-priorities-discussed-in-committees', 'http://www.europarl.europa.eu/news/en/press-room/20190121IPR23924/meps-back-plans-to-promote-water-reuse-for-agricultural-irrigation', 'http://www.europarl.europa.eu/news/en/press-room/20190121IPR23925/consumers-to-be-better-protected-against-misleading-and-unfair-practices', 'http://www.europarl.europa.eu/news/en/press-room/20190122IPR24011/hostile-propaganda-the-eu-must-develop-a-firm-response', 'http://www.europarl.europa.eu/news/en/press-room/20190121IPR23926/meps-close-legal-loopholes-to-protect-victims-of-road-accidents', 'http://www.europarl.europa.eu/news/en/press-room/20190109IPR23011/member-states-jeopardising-the-rule-of-law-will-risk-losing-eu-funds', 'http://www.europarl.europa.eu/news/en/press-room/20190109IPR23024/promoting-rule-of-law-and-fundamental-rights-in-the-eu', 'http://www.europarl.europa.eu/news/en/press-room/20190109IPR23023/eu-integration-meps-want-to-end-permanent-opt-outs-from-eu-law', 'http://www.europarl.europa.eu/news/en/press-room/20190109IPR23027/human-rights-breaches-in-azerbaijan-and-sudan', 'http://www.europarl.europa.eu/news/en/press-room/20190109IPR23026/eu-fundamental-rights-under-threat-in-several-member-states', 'http://www.europarl.europa.eu/news/en/press-room/20190109IPR23016/meps-spell-out-priorities-for-the-european-central-bank-and-on-banking-union', 'http://www.europarl.europa.eu/news/en/press-room/20190109IPR23009/investeu-meps-support-new-programme-to-boost-financing-for-jobs-and-growth', 'http://www.europarl.europa.eu/news/en/press-room/20190115IPR23551/pesticides-meps-propose-blueprint-to-improve-eu-approval-procedure', 'http://www.europarl.europa.eu/news/en/press-room/20190109IPR23022/european-fund-for-transition-to-support-more-workers-made-redundant', 'http://www.europarl.europa.eu/news/en/press-room/20190109IPR23021/meps-want-to-eu-to-invest-more-in-young-people', 'http://www.europarl.europa.eu/news/en/press-room/20190109IPR23018/preferential-tariffs-to-help-western-sahara-to-develop', 'http://www.europarl.europa.eu/news/en/press-room/20190109IPR23019/pedro-sanchez-we-must-protect-europe-so-europe-can-protect-its-citizens', 'http://www.europarl.europa.eu/news/en/press-room/20190116IPR23603/eu-elections-new-rules-to-prevent-breaches-of-data-used-to-influence-elections', 'http://www.europarl.europa.eu/news/en/press-room/20190109IPR23020/brexit-the-time-has-come-for-the-uk-to-clarify-its-position', 'http://www.europarl.europa.eu/news/en/press-room/20190109IPR23015/romanian-presidency-of-the-council-debate-with-prime-minister-viorica-dancila', 'http://www.europarl.europa.eu/news/en/press-room/20190109IPR23014/austrian-council-presidency-positively-reviewed', 'http://www.europarl.europa.eu/news/en/press-room/20190109IPR23012/eu-leaders-past-and-present-pay-homage-to-the-euro', 'http://www.europarl.europa.eu/news/en/press-room/20190109IPR23013/meps-call-for-safety-and-liability-rules-for-driverless-cars', 'http://www.europarl.europa.eu/news/en/press-room/20190110IPR23119/meps-to-debate-eu-asylum-and-migration-policy-at-9-00-on-tuesday', 'http://www.europarl.europa.eu/news/en/press-room/20190109IPR23008/opening-minute-of-silence-in-memory-of-victims-of-violence-across-europe', 'http://www.europarl.europa.eu/news/en/press-room/20190111IPR23213/europe-in-the-palm-of-your-hand-launch-of-a-citizens-app', 'http://www.europarl.europa.eu/news/en/press-room/20190109IPR23041/meps-adopt-revised-rules-for-road-haulage-operations-in-another-eu-country', 'http://www.europarl.europa.eu/news/en/press-room/20181222IPR22501/euro-celebrates-its-20th-birthday', 'http://www.europarl.europa.eu/news/en/press-room/20181217IPR21949/eu-deal-on-electricity-market-rules-to-benefit-both-consumers-and-environment', 'http://www.europarl.europa.eu/news/en/press-room/20181219IPR22301/parliament-and-council-agree-drastic-cuts-to-plastic-pollution-of-environment', 'http://www.europarl.europa.eu/news/en/press-room/20181205IPR20944/meps-agree-on-new-rules-to-tax-digital-companies-revenues', 'http://www.europarl.europa.eu/news/en/press-room/20181205IPR20934/meps-want-to-fund-crucial-areas-to-stimulate-european-growth', 'http://www.europarl.europa.eu/news/en/press-room/20181205IPR20945/human-rights-breaches-in-iran-egypt-and-tanzania', 'http://www.europarl.europa.eu/news/en/press-room/20181207IPR21307/czech-republic-meps-call-for-immediate-steps-to-protect-eu-money', 'http://www.europarl.europa.eu/news/en/press-room/20181213IPR21711/member-states-jeopardising-the-rule-of-law-will-risk-losing-eu-funds', 'http://www.europarl.europa.eu/news/en/press-room/20181210IPR21406/investeu-programme-new-boost-for-jobs-growth-and-investment', 'http://www.europarl.europa.eu/news/en/press-room/20181213IPR21701/eu-citizens-initiative-to-be-overhauled-to-improve-chances-of-success', 'http://www.europarl.europa.eu/news/en/press-room/20181126IPR20132/online-radio-and-news-broadcasts-parliament-and-council-reach-deal', 'http://www.europarl.europa.eu/news/en/press-room/20181205IPR20939/president-anastasiades-we-have-to-join-forces-for-a-prosperous-europe', 'http://www.europarl.europa.eu/news/en/press-room/20181205IPR20940/meps-commend-ukraine-s-reform-efforts-and-denounce-russian-aggression', 'http://www.europarl.europa.eu/news/en/press-room/20181212IPR21641/eu-joint-response-to-disasters-deal-reached-with-council', 'http://www.europarl.europa.eu/news/en/press-room/20181205IPR20943/meps-take-stock-of-the-eu-s-foreign-security-and-defence-policy-priorities', 'http://www.europarl.europa.eu/news/en/press-room/20181212IPR21624/ep-group-leaders-on-brexit-the-agreement-is-not-open-to-renegotiation', 'http://www.europarl.europa.eu/news/en/press-room/20181205IPR20942/combatting-terrorism-parliament-sets-out-proposals-for-a-new-eu-strategy', 'http://www.europarl.europa.eu/news/en/press-room/20181205IPR20930/parliament-endorses-landmark-eu-japan-free-trade-agreement', 'http://www.europarl.europa.eu/news/en/press-room/20181205IPR20938/eu-budget-2019-approved-focus-on-the-young-innovation-and-migration', 'http://www.europarl.europa.eu/news/en/press-room/20181212IPR21606/freedom-and-democracy-will-always-win-over-violence-crime-and-terror', 'http://www.europarl.europa.eu/news/en/press-room/20181211IPR21525/strasbourg-shooting', 'http://www.europarl.europa.eu/news/en/press-room/20181211IPR21506/deal-on-faster-exchange-of-non-eu-nationals-criminal-records', 'http://www.europarl.europa.eu/news/en/press-room/20181205IPR20935/food-safety-more-transparency-better-risk-prevention', 'http://www.europarl.europa.eu/news/en/press-room/20181205IPR20933/humanitarian-visas-to-avoid-deaths-and-improve-management-of-refugee-flows', 'http://www.europarl.europa.eu/news/en/press-room/20181205IPR20937/final-vote-on-protection-from-carcinogens-including-diesel-fumes', 'http://www.europarl.europa.eu/news/en/press-room/20181210IPR21431/cybersecurity-agreement-reached-on-better-protection-for-citizens-and-companies', 'http://www.europarl.europa.eu/news/en/press-room/20181210IPR21433/stricter-rules-to-stop-terrorists-from-using-homemade-explosives', 'http://www.europarl.europa.eu/news/en/press-room/20181210IPR21405/trade-committee-advocates-lower-tariffs-in-western-sahara', 'http://www.europarl.europa.eu/news/en/press-room/20181204IPR20813/opening-journalists-are-the-first-guardians-of-human-rights', 'http://www.europarl.europa.eu/news/en/press-room/20181210IPR21430/meps-strongly-welcome-the-global-compact-on-migration', 'http://www.europarl.europa.eu/news/en/press-room/20181210IPR21418/eu-elections-support-for-eu-and-the-lead-candidates-process-continues-to-rise', 'http://www.europarl.europa.eu/news/en/press-room/20181206IPR21260/pesticides-meps-propose-blueprint-to-improve-eu-approval-procedure', 'http://www.europarl.europa.eu/news/en/press-room/20181205IPR21089/meps-propose-more-transparent-legislative-drafting-and-use-of-allowances', 'http://www.europarl.europa.eu/news/en/press-room/20181205IPR21088/first-eu-collective-redress-mechanism-to-protect-consumers', 'http://www.europarl.europa.eu/news/en/press-room/20181206IPR21208/eu-elections-new-rules-to-prevent-breaches-of-data-used-to-influence-elections', 'http://www.europarl.europa.eu/news/en/press-room/20181206IPR21207/online-platforms-improving-transparency-and-fairness-for-eu-businesses', 'http://www.europarl.europa.eu/news/en/press-room/20181203IPR20715/acp-eu-meps-agree-on-a-partnership-tailored-to-the-international-context', 'http://www.europarl.europa.eu/news/en/press-room/20181205IPR20927/ep-and-the-eesc-to-cooperate-on-european-elections-campaign', 'http://www.europarl.europa.eu/news/en/press-room/20181203IPR20714/eu-budget-2019-deal-ep-boosts-support-for-researchers-and-the-young', 'http://www.europarl.europa.eu/news/en/press-room/20181204IPR20819/banking-package-parliament-and-council-reach-an-agreement', 'http://www.europarl.europa.eu/news/en/press-room/20181203IPR20736/meps-want-ambitious-funding-for-cross-border-projects-to-connect-people', 'http://www.europarl.europa.eu/news/en/press-room/20181203IPR20709/improved-access-to-financial-information-to-curb-serious-crime', 'http://www.europarl.europa.eu/news/en/press-room/20181203IPR20710/better-id-card-security-to-curb-document-fraud', 'http://www.europarl.europa.eu/news/en/press-room/20181203IPR20711/new-eu-short-stay-visas-more-advantages-for-legitimate-travellers', 'http://www.europarl.europa.eu/news/en/press-room/20181203IPR20713/humanitarian-visas-would-reduce-refugees-death-toll', 'http://www.europarl.europa.eu/news/en/press-room/20181129IPR20524/the-future-of-the-acp-eu-partnership-to-be-debated-in-cotonou', 'http://www.europarl.europa.eu/news/en/press-room/20181129IPR20509/online-shopping-across-the-eu-to-be-easier-from-3-december', 'http://www.europarl.europa.eu/news/en/press-room/20181120IPR19548/european-parliament-marks-eu-accession-prospects-for-serbia-and-kosovo', 'http://www.europarl.europa.eu/news/en/press-room/20181120IPR19552/cum-ex-tax-fraud-meps-call-for-inquiry-justice-and-stronger-tax-authorities', 'http://www.europarl.europa.eu/news/en/press-room/20181126IPR20157/western-balkans-european-parliament-takes-stock-of-2018-progress', 'http://www.europarl.europa.eu/news/en/press-room/20181120IPR19551/role-of-german-youth-welfare-office-in-cross-border-family-disputes', 'http://www.europarl.europa.eu/news/en/press-room/20181120IPR19549/new-rules-for-temporary-border-controls-within-the-schengen-area', 'http://www.europarl.europa.eu/news/en/press-room/20181120IPR19550/ep-backs-EU2-3-million-worth-of-aid-to-help-550-redundant-media-workers-in-greece', 'http://www.europarl.europa.eu/news/en/press-room/20181126IPR20156/brexit-the-time-has-come-to-back-the-withdrawal-deal', 'http://www.europarl.europa.eu/news/en/press-room/20181120IPR19547/danish-prime-minister-future-of-eu-depends-on-how-it-solves-today-s-challenges', 'http://www.europarl.europa.eu/news/en/press-room/20181120IPR19522/opening-russia-must-meet-its-obligations-in-the-sea-of-azov', 'http://www.europarl.europa.eu/news/en/press-room/20181128IPR20415/sakharov-prize-2018-book-your-interview-slot', 'http://www.europarl.europa.eu/news/en/press-room/20181120IPR19553/danish-prime-minister-lars-lokke-rasmussen-to-debate-future-of-europe-with-meps', 'http://www.europarl.europa.eu/news/en/press-room/20181127IPR20241/eu-food-watchdog-more-transparency-better-risk-prevention', 'http://www.europarl.europa.eu/news/en/press-room/20181126IPR20127/libya-situation-of-migrants-and-rescue-operations-up-for-discussion', 'http://www.europarl.europa.eu/news/en/press-room/20181123IPR20007/european-parliament-to-host-high-level-conference-on-eu-research', 'http://www.europarl.europa.eu/news/en/press-room/20181123BKG20009/ep-press-kit-for-the-european-council-eu27-of-25-november-2018', 'http://www.europarl.europa.eu/news/en/press-room/20181122IPR19828/agreement-reached-on-new-eu-measures-to-prevent-electricity-blackouts', 'http://www.europarl.europa.eu/news/en/press-room/20181122IPR19823/meps-want-to-ensure-sufficient-funding-for-connecting-europe-s-future', 'http://www.europarl.europa.eu/news/en/press-room/20181121IPR19738/meps-back-EU2-3m-worth-of-aid-to-help-550-media-workers-made-redundant-in-greece', 'http://www.europarl.europa.eu/news/en/press-room/20181119IPR19378/meps-wants-to-increase-research-funding-to-EU120-billion-in-2021-2027', 'http://www.europarl.europa.eu/news/en/press-room/20181120IPR19501/eu-japan-relations-foreign-affairs-meps-back-strategic-partnership-agreement', 'http://www.europarl.europa.eu/news/en/press-room/20181120IPR19506/agreement-reached-on-screening-of-foreign-direct-investment-for-eu-security', 'http://www.europarl.europa.eu/news/en/press-room/20181119IPR19407/fertilisers-cadmium-parliament-and-council-negotiators-reach-provisional-deal', 'http://www.europarl.europa.eu/news/en/press-room/20181119IPR19408/employment-meps-want-to-ensure-more-flexibility-and-clarity-for-eu-mobile-worker', 'http://www.europarl.europa.eu/news/en/press-room/20181120IPR19504/eu-wide-protection-and-support-for-whistle-blowers', 'http://www.europarl.europa.eu/news/en/press-room/20181119IPR19450/eu-budget-2019-no-deal-before-the-end-of-the-conciliation-period', 'http://www.europarl.europa.eu/news/en/press-room/20181119IPR19374/rule-of-law-in-poland-debate-with-timmermans-and-the-polish-government', 'http://www.europarl.europa.eu/news/en/press-room/20181119IPR19347/european-cultural-heritage-debate-with-national-parliaments', 'http://www.europarl.europa.eu/news/en/press-room/20181116IPR19230/eu-budget-2019-conciliation-talks-suspended', \"http://www.europarl.europa.eu/news/en/press-room/20181116IPR19220/youth-parliament-to-finalise-millennials'-priorities-for-future-of-the-eu\", 'http://www.europarl.europa.eu/news/en/press-room/20181116IPR19218/european-parliament-to-host-human-rights-week', 'http://www.europarl.europa.eu/news/en/press-room/20181106IPR18319/meps-vote-for-upgrade-to-rail-passenger-rights', 'http://www.europarl.europa.eu/news/en/press-room/20181106IPR18332/human-rights-breaches-in-bangladesh-cuba-and-vietnam', 'http://www.europarl.europa.eu/news/en/press-room/20181106IPR18328/parliament-calls-for-alarming-spread-of-lyme-disease-to-be-tackled', 'http://www.europarl.europa.eu/news/en/press-room/20181115IPR19112/president-tajani-on-brexit-agreement', 'http://www.europarl.europa.eu/news/en/press-room/20181114IPR19055/statement-of-the-brexit-steering-group', 'http://www.europarl.europa.eu/news/en/press-room/20181113IPR18809/combatting-terrorism-ep-special-committee-calls-for-closer-eu-cooperation', 'http://www.europarl.europa.eu/news/en/press-room/20181106IPR18331/european-parliament-backs-co2-emissions-cuts-for-trucks', 'http://www.europarl.europa.eu/news/en/press-room/20181106IPR18329/moldova-must-take-urgent-action-and-georgia-should-continue-efforts-say-meps', 'http://www.europarl.europa.eu/news/en/press-room/20181106IPR18327/mechanism-to-protect-democracy-in-the-eu-needed-more-than-ever-says-the-ep', 'http://www.europarl.europa.eu/news/en/press-room/20181106IPR18320/meps-cap-prices-of-calls-within-eu-and-approve-emergency-alert-system', 'http://www.europarl.europa.eu/news/en/press-room/20181106IPR18317/long-term-eu-budget-meps-lay-down-funding-priorities-for-post-2020-budget', 'http://www.europarl.europa.eu/news/en/press-room/20181106IPR18324/meps-call-to-strengthen-the-checks-on-eu-arms-exports', 'http://www.europarl.europa.eu/news/en/press-room/20181106IPR18325/the-eu-and-africa-are-bound-by-common-values-says-south-african-president', \"http://www.europarl.europa.eu/news/en/press-room/20181106IPR18318/woman-at-war-wins-the-european-parliament's-2018-lux-film-prize\", 'http://www.europarl.europa.eu/news/en/press-room/20181109IPR18623/european-elections-2019-what-europe-does-for-me', 'http://www.europarl.europa.eu/news/en/press-room/20181106IPR18316/merkel-nationalism-and-egoism-must-never-have-a-chance-again-in-europe', 'http://www.europarl.europa.eu/news/en/press-room/20181106IPR18322/adriatic-sea-meps-adopt-multiannual-plan-for-fisheries', 'http://www.europarl.europa.eu/news/en/press-room/20181106IPR18326/romania-meps-are-deeply-concerned-about-judicial-independence-and-rule-of-law', 'http://www.europarl.europa.eu/news/en/press-room/20181106IPR18321/meps-call-for-eu-rules-to-better-protect-minorities-rights', 'http://www.europarl.europa.eu/news/en/press-room/20181106IPR18323/parliament-approves-EU17-7-million-in-eu-aid-after-intense-floods-in-latvia', 'http://www.europarl.europa.eu/news/en/press-room/20181106IPR18315/energy-new-ambitious-targets-on-renewables-and-energy-efficiency', 'http://www.europarl.europa.eu/news/en/press-room/20181106IPR18314/opening-world-war-i-armistice-remembered', 'http://www.europarl.europa.eu/news/en/press-room/20181108IPR18560/european-accessibility-act-parliament-and-council-negotiators-strike-a-deal', 'http://www.europarl.europa.eu/news/en/press-room/20181108IPR18518/european-parliament-signs-agreement-with-private-tv-outlets', 'http://www.europarl.europa.eu/news/en/press-room/20181105IPR18252/meps-demand-bulgaria-s-and-romania-s-swift-accession-to-schengen-area', 'http://www.europarl.europa.eu/news/en/press-room/20181105IPR18253/new-eu-rules-to-boost-crowdfunding-platforms-and-protect-investors', 'http://www.europarl.europa.eu/news/en/press-room/20181105IPR18263/brexit-ensuring-a-smooth-transition-for-car-producers-and-safety-on-the-roads', 'http://www.europarl.europa.eu/news/en/press-room/20181105IPR18262/meps-approve-EU17-7-million-in-eu-aid-after-intense-floods-in-latvia', 'http://www.europarl.europa.eu/news/en/press-room/20181105IPR18264/trade-committee-meps-give-greenlight-to-landmark-eu-japan-trade-agreement', 'http://www.europarl.europa.eu/news/en/press-room/20181105IPR18258/long-term-eu-budget-meps-lay-down-funding-priorities-post-2020', 'http://www.europarl.europa.eu/news/en/press-room/20181018IPR16536/meps-demand-end-to-eu-arms-exports-to-saudi-arabia', 'http://www.europarl.europa.eu/news/en/press-room/20181018IPR16551/reform-of-road-use-charges-to-spur-cleaner-transport-and-ensure-fairness', 'http://www.europarl.europa.eu/news/en/press-room/20181018IPR16525/facebook-cambridge-analytica-meps-demand-action-to-protect-citizens-privacy', 'http://www.europarl.europa.eu/news/en/press-room/20181018IPR16550/paris-agreement-meps-call-for-stepping-up-eu-climate-commitments', 'http://www.europarl.europa.eu/news/en/press-room/20181018IPR16527/parliament-demands-ban-on-neo-fascist-and-neo-nazi-groups-in-the-eu', 'http://www.europarl.europa.eu/news/en/press-room/20181018IPR16526/meps-back-plans-to-halt-spread-of-drug-resistance-from-animals-to-humans', 'http://www.europarl.europa.eu/news/en/press-room/20181025IPR17307/food-supply-chain-a-step-closer-to-ending-unfair-trading', 'http://www.europarl.europa.eu/news/en/press-room/20181023IPR17126/oleg-sentsov-awarded-the-2018-sakharov-prize', 'http://www.europarl.europa.eu/news/en/press-room/20181025IPR17319/ep-president-signs-partnership-agreement-with-public-regional-tv-stations', 'http://www.europarl.europa.eu/news/en/press-room/20181018IPR16529/eu-budget-2019-focus-on-the-young-on-migration-and-innovation', 'http://www.europarl.europa.eu/news/en/press-room/20181018IPR16524/plastic-oceans-meps-back-eu-ban-on-throwaway-plastics-by-2021', 'http://www.europarl.europa.eu/news/en/press-room/20181018IPR16534/strengthening-security-through-an-eu-wide-information-system', 'http://www.europarl.europa.eu/news/en/press-room/20181018IPR16531/meps-debate-the-lack-of-results-of-eu-october-summit', 'http://www.europarl.europa.eu/news/en/press-room/20181018IPR16523/drinking-water-new-plans-to-improve-tap-water-quality-and-cut-plastic-litter', 'http://www.europarl.europa.eu/news/en/press-room/20181018IPR16535/portugal-EU4-66-million-in-aid-for-1-460-dismissed-workers-and-jobless-young', 'http://www.europarl.europa.eu/news/en/press-room/20181018IPR16528/klaus-iohannis-unity-must-be-our-watchword-for-the-future-of-europe', 'http://www.europarl.europa.eu/news/en/press-room/20181022IPR16910/schengen-new-rules-for-temporary-checks-at-national-borders', 'http://www.europarl.europa.eu/news/en/press-room/20181017IPR16381/opening-deaths-of-journalists-must-be-rigorously-investigated', 'http://www.europarl.europa.eu/news/en/press-room/20181017IPR16396/environment-committee-meps-push-for-cleaner-trucks-and-electric-buses', 'http://www.europarl.europa.eu/news/en/press-room/20181017IPR16398/gig-economy-employment-committee-meps-want-to-boost-workers-rights', 'http://www.europarl.europa.eu/news/en/press-room/20181017BKG16357/european-parliament-press-kit-for-the-european-council-of-17-and-18-october-2018', 'http://www.europarl.europa.eu/news/en/press-room/20181017IPR16355/brexit-effect-a-majority-of-maltese-people-would-vote-to-stay-in-the-eu', 'http://www.europarl.europa.eu/news/en/press-room/20181017IPR16308/eurobarometer-public-opinion-survey-shows-that-eu-is-more-appreciated-than-ever', 'http://www.europarl.europa.eu/news/en/press-room/20181016IPR16213/brexit-effect-public-opinion-survey-shows-that-eu-is-more-appreciated-than-ever', 'http://www.europarl.europa.eu/news/en/press-room/20181015IPR16006/security-better-access-to-data-for-border-control-and-migration-management', 'http://www.europarl.europa.eu/news/en/press-room/20181015IPR16074/brexit-ep-steering-group-insists-on-need-for-ireland-northern-ireland-backstop', 'http://www.europarl.europa.eu/news/en/press-room/20181015IPR16011/future-of-development-cooperation-how-innovation-can-help', 'http://www.europarl.europa.eu/news/en/press-room/20181011IPR15832/deal-on-protecting-workers-from-exposure-to-harmful-substances', 'http://www.europarl.europa.eu/news/en/press-room/20181010IPR15602/the-future-of-international-election-observation-missions', 'http://www.europarl.europa.eu/news/en/press-room/20181008IPR15260/facebook-meps-demand-a-full-audit-by-eu-bodies-to-assess-data-protection', 'http://www.europarl.europa.eu/news/en/press-room/20181009IPR15501/plastic-oceans-meps-back-eu-ban-on-polluting-throwaway-plastics-by-2021', 'http://www.europarl.europa.eu/news/en/press-room/20181008IPR15261/humanitarian-visas-to-avoid-refugees-deaths', 'http://www.europarl.europa.eu/news/en/press-room/20181008IPR15256/portugal-budget-meps-back-EU4-66-m-in-job-search-aid-for-730-redundant-workers', 'http://www.europarl.europa.eu/news/en/press-room/20181008IPR15258/eu-budget-2019-to-focus-on-young-people', 'http://www.europarl.europa.eu/news/en/press-room/20181009IPR15401/western-balkans-meps-take-stock-of-2018-progress']\n"
          ],
          "name": "stdout"
        }
      ]
    },
    {
      "metadata": {
        "id": "Cez5BjsdGgKA",
        "colab_type": "code",
        "colab": {
          "base_uri": "https://localhost:8080/",
          "height": 748
        },
        "outputId": "5feae0a8-bfe2-4657-f9eb-06752089a5cb"
      },
      "cell_type": "code",
      "source": [
        "sampling(list_of_links)"
      ],
      "execution_count": 21,
      "outputs": [
        {
          "output_type": "stream",
          "text": [
            "0.0033333333333333335\n",
            "0.016666666666666666\n",
            "0.023333333333333334\n",
            "0.03333333333333333\n",
            "0.05\n",
            "0.05333333333333334\n",
            "0.056666666666666664\n",
            "0.1\n",
            "0.18666666666666668\n",
            "0.21666666666666667\n",
            "0.28\n",
            "0.2866666666666667\n",
            "0.33666666666666667\n",
            "0.3566666666666667\n",
            "0.36333333333333334\n",
            "0.37333333333333335\n",
            "0.39\n",
            "0.3933333333333333\n",
            "0.4066666666666667\n",
            "0.41\n",
            "0.43333333333333335\n"
          ],
          "name": "stdout"
        },
        {
          "output_type": "execute_result",
          "data": {
            "text/plain": [
              "(['http://www.europarl.europa.eu/news/en/press-room/20190321IPR32135/new-rules-to-help-consumers-join-forces-to-seek-compensation',\n",
              "  'http://www.europarl.europa.eu/news/en/press-room/20190307IPR30738/uk-must-make-clear-what-it-wants-meps-say-in-brexit-debate',\n",
              "  'http://www.europarl.europa.eu/news/en/press-room/20190220IPR27656/safer-roads-more-life-saving-technology-to-be-mandatory-in-vehicles',\n",
              "  'http://www.europarl.europa.eu/news/en/press-room/20181116IPR19218/european-parliament-to-host-human-rights-week',\n",
              "  'http://www.europarl.europa.eu/news/en/press-room/20181205IPR20934/meps-want-to-fund-crucial-areas-to-stimulate-european-growth',\n",
              "  'http://www.europarl.europa.eu/news/en/press-room/20181017BKG16357/european-parliament-press-kit-for-the-european-council-of-17-and-18-october-2018',\n",
              "  'http://www.europarl.europa.eu/news/en/press-room/20190121IPR23915/consumers-rights-against-defective-digital-content-agreed-by-eu-lawmakers',\n",
              "  'http://www.europarl.europa.eu/news/en/press-room/20190123IPR24127/finnish-prime-minister-calls-for-a-more-united-eu-of-concrete-actions',\n",
              "  'http://www.europarl.europa.eu/news/en/press-room/20181205IPR20944/meps-agree-on-new-rules-to-tax-digital-companies-revenues',\n",
              "  'http://www.europarl.europa.eu/news/en/press-room/20190321IPR32110/european-parliament-approves-new-copyright-rules-for-the-internet',\n",
              "  'http://www.europarl.europa.eu/news/en/press-room/20190312IPR31161/fairer-and-clearer-rules-on-social-benefits-for-eu-mobile-workers-agreed',\n",
              "  'http://www.europarl.europa.eu/news/en/press-room/20190122IPR24027/romanian-presidency-priorities-discussed-in-committees',\n",
              "  'http://www.europarl.europa.eu/news/en/press-room/20181106IPR18317/long-term-eu-budget-meps-lay-down-funding-priorities-for-post-2020-budget',\n",
              "  'http://www.europarl.europa.eu/news/en/press-room/20190111IPR23225/questions-and-answers-on-issues-about-the-digital-copyright-directive',\n",
              "  'http://www.europarl.europa.eu/news/en/press-room/20190109IPR23011/member-states-jeopardising-the-rule-of-law-will-risk-losing-eu-funds',\n",
              "  'http://www.europarl.europa.eu/news/en/press-room/20181222IPR22501/euro-celebrates-its-20th-birthday',\n",
              "  'http://www.europarl.europa.eu/news/en/press-room/20181127IPR20241/eu-food-watchdog-more-transparency-better-risk-prevention',\n",
              "  'http://www.europarl.europa.eu/news/en/press-room/20181210IPR21430/meps-strongly-welcome-the-global-compact-on-migration',\n",
              "  'http://www.europarl.europa.eu/news/en/press-room/20181205IPR20942/combatting-terrorism-parliament-sets-out-proposals-for-a-new-eu-strategy',\n",
              "  'http://www.europarl.europa.eu/news/en/press-room/20190307IPR30739/meps-vote-to-limit-negative-impact-of-no-deal-brexit-on-citizens',\n",
              "  'http://www.europarl.europa.eu/news/en/press-room/20190207IPR25207/ep-gives-green-light-to-eu-singapore-trade-and-investment-protection-deals'],\n",
              " 0.43333333333333335)"
            ]
          },
          "metadata": {
            "tags": []
          },
          "execution_count": 21
        }
      ]
    },
    {
      "metadata": {
        "id": "r7LrkVXIhAzU",
        "colab_type": "code",
        "colab": {
          "base_uri": "https://localhost:8080/",
          "height": 34
        },
        "outputId": "d4ac6a04-89df-4756-94a9-cff444111c5b"
      },
      "cell_type": "code",
      "source": [
        "len(list_of_links)"
      ],
      "execution_count": 22,
      "outputs": [
        {
          "output_type": "execute_result",
          "data": {
            "text/plain": [
              "300"
            ]
          },
          "metadata": {
            "tags": []
          },
          "execution_count": 22
        }
      ]
    },
    {
      "metadata": {
        "id": "aLa747vm4-mD",
        "colab_type": "code",
        "colab": {
          "base_uri": "https://localhost:8080/",
          "height": 54
        },
        "outputId": "35c7eab0-322d-40e2-fea2-2ebf820eefd6"
      },
      "cell_type": "code",
      "source": [
        "from lxml import html\n",
        "import requests\n",
        "url = \"http://www.europarl.europa.eu/news/en/press-room/page/\"\n",
        "list_of_links = []\n",
        "for page in range(50):\n",
        "    r = requests.get(url + str(page))\n",
        "    source = r.content\n",
        "    page_source = html.fromstring(source)\n",
        "    list_of_links.extend(page_source.xpath('//a[@title=\"Read more\"]/@href'))\n",
        "print(list_of_links)"
      ],
      "execution_count": 24,
      "outputs": [
        {
          "output_type": "stream",
          "text": [
            "['http://www.europarl.europa.eu/news/en/press-room/20190404IPR35103/eu-member-states-test-cybersecurity-preparedness-for-free-and-fair-eu-elections', 'http://www.europarl.europa.eu/news/en/press-room/20190405IPR35201/the-european-parliament-launches-a-website-on-european-election-results', 'http://www.europarl.europa.eu/news/en/press-room/20190402IPR34671/mobility-package-parliament-adopts-position-on-overhaul-of-road-transport-rules', 'http://www.europarl.europa.eu/news/en/press-room/20190402IPR34670/meps-adopted-measures-to-reconcile-work-and-family-life', 'http://www.europarl.europa.eu/news/en/press-room/20190402IPR34682/meps-back-first-eu-management-plan-for-fish-stocks-in-the-western-mediterranean', 'http://www.europarl.europa.eu/news/en/press-room/20190402IPR34683/schengen-meps-adopt-their-position-on-temporary-checks-at-national-borders', 'http://www.europarl.europa.eu/news/en/press-room/20190402IPR34673/natural-gas-parliament-extends-eu-rules-to-pipelines-from-non-eu-countries', 'http://www.europarl.europa.eu/news/en/press-room/20190403IPR34819/brexit-reciprocal-visa-free-access-for-eu-and-uk-nationals', 'http://www.europarl.europa.eu/news/en/press-room/20190402IPR34672/swedish-pm-lofven-our-common-values-must-guide-us-to-an-even-better-future', 'http://www.europarl.europa.eu/news/en/press-room/20190402IPR34687/brexit-political-groups-discuss-options-for-an-orderly-withdrawal', 'http://www.europarl.europa.eu/news/en/press-room/20190402IPR34668/opening-kovesi-has-parliament-s-support-as-candidate-for-eu-public-prosecutor', 'http://www.europarl.europa.eu/news/en/press-room/20190403IPR34801/brexit-visa-free-access-to-the-eu-for-uk-nationals-and-to-the-uk-for-europeans', 'http://www.europarl.europa.eu/news/en/press-room/20190401IPR34530/fairer-simpler-more-flexible-eu-farm-policy-meps-vote-on-post-2020-reform', 'http://www.europarl.europa.eu/news/en/press-room/20190401IPR34529/protecting-farmers-and-quality-products-vote-on-eu-farm-policy-reform-plans', 'http://www.europarl.europa.eu/news/en/press-room/20190228IPR29246/new-seat-projections-for-the-next-european-parliament', 'http://www.europarl.europa.eu/news/en/press-room/20190325IPR33125/malta-and-slovakia-meps-warn-of-lack-of-judicial-independence-and-corruption', 'http://www.europarl.europa.eu/news/en/press-room/20190322IPR32350/dieselgate-parliament-calls-for-mandatory-retrofits-of-polluting-cars', 'http://www.europarl.europa.eu/news/en/press-room/20190321IPR32118/venezuela-meps-demand-free-presidential-elections-and-an-end-to-repression', 'http://www.europarl.europa.eu/news/en/press-room/20190321IPR32121/erasmus-2021-2027-more-people-to-experience-learning-exchanges-in-europe', 'http://www.europarl.europa.eu/news/en/press-room/20190321IPR32119/parliament-supports-plans-to-improve-quality-of-tap-water-and-cut-plastic-litter', 'http://www.europarl.europa.eu/news/en/press-room/20190327IPR33413/eu-border-and-coast-guard-agency-10-000-operational-staff-by-2027', 'http://www.europarl.europa.eu/news/en/press-room/20190321IPR32117/meps-agree-on-future-regional-and-cohesion-funding', 'http://www.europarl.europa.eu/news/en/press-room/20190321IPR32112/parliament-backs-new-co2-emissions-limits-for-cars-and-vans', 'http://www.europarl.europa.eu/news/en/press-room/20190321IPR32111/parliament-seals-ban-on-throwaway-plastics-by-2021', 'http://www.europarl.europa.eu/news/en/press-room/20190321IPR32120/external-action-more-funds-for-human-rights-development-and-peace', 'http://www.europarl.europa.eu/news/en/press-room/20190321IPR32115/meps-debate-brexit-and-relations-with-china-following-eu-spring-summit', 'http://www.europarl.europa.eu/news/en/press-room/20190321IPR32113/mobility-package-postponed', 'http://www.europarl.europa.eu/news/en/press-room/20190111IPR23225/questions-and-answers-on-issues-about-the-digital-copyright-directive', 'http://www.europarl.europa.eu/news/en/press-room/20190321IPR32114/meps-approve-eu-s-spending-in-2017', 'http://www.europarl.europa.eu/news/en/press-room/20190321IPR32107/parliament-backs-proposal-to-end-switch-between-summer-and-winter-time-in-2021', 'http://www.europarl.europa.eu/news/en/press-room/20190321IPR32109/tax-crimes-meps-want-eu-financial-police-force-and-financial-intelligence-unit', 'http://www.europarl.europa.eu/news/en/press-room/20190321IPR32116/parliament-boosts-consumer-rights-online-and-offline', 'http://www.europarl.europa.eu/news/en/press-room/20190321IPR32133/end-racist-discrimination-against-afro-european-people-in-the-eu', 'http://www.europarl.europa.eu/news/en/press-room/20190321IPR32110/european-parliament-approves-new-copyright-rules-for-the-internet', 'http://www.europarl.europa.eu/news/en/press-room/20190321IPR32108/parliament-makes-eu-electricity-market-cleaner-and-more-consumer-friendly', 'http://www.europarl.europa.eu/news/en/press-room/20190321IPR32135/new-rules-to-help-consumers-join-forces-to-seek-compensation', 'http://www.europarl.europa.eu/news/en/press-room/20190326IPR33205/safer-roads-eu-lawmakers-agree-on-life-saving-technologies-for-new-vehicles', 'http://www.europarl.europa.eu/news/en/press-room/20190321IPR32106/opening-minute-of-silence-for-victims-of-terrorism-and-natural-disasters', 'http://www.europarl.europa.eu/news/en/press-room/20190321IPR32155/deal-agreed-to-protect-consumers-against-misleading-and-unfair-practices', 'http://www.europarl.europa.eu/news/en/press-room/20190318IPR31813/council-strongly-criticised-over-failing-to-act-to-protect-eu-values-in-hungary', 'http://www.europarl.europa.eu/news/en/press-room/20190321IPR32132/acp-eu-parliamentary-assembly-strengthening-the-partnership', 'http://www.europarl.europa.eu/news/en/press-room/20190312IPR31161/fairer-and-clearer-rules-on-social-benefits-for-eu-mobile-workers-agreed', 'http://www.europarl.europa.eu/news/en/press-room/20190318IPR31806/ngos-saving-lives-in-the-mediterranean-meps-take-stock-of-the-situation', 'http://www.europarl.europa.eu/news/en/press-room/20190318IPR31824/european-parliament-to-host-high-level-conference-on-oceans', 'http://www.europarl.europa.eu/news/en/press-room/20190312IPR31159/migration-and-rule-of-law-on-next-acp-eu-parliamentary-assembly-agenda', 'http://www.europarl.europa.eu/news/en/press-room/20190307IPR30752/non-performing-loans-banks-need-to-mitigate-the-risk-of-potential-losses', 'http://www.europarl.europa.eu/news/en/press-room/20190307IPR30745/climate-change-parliament-s-blueprint-for-long-term-co2-cuts', 'http://www.europarl.europa.eu/news/en/press-room/20190307IPR30748/meps-call-for-eu-magnitsky-act-to-impose-sanctions-on-human-rights-abusers', 'http://www.europarl.europa.eu/news/en/press-room/20190307IPR30753/parliament-criticises-council-s-rejection-of-money-laundering-blacklist', 'http://www.europarl.europa.eu/news/en/press-room/20190307IPR30757/human-rights-breaches-in-iran-kazakhstan-and-guatemala', 'http://www.europarl.europa.eu/news/en/press-room/20190307IPR30746/parliament-wants-to-suspend-eu-accession-negotiations-with-turkey', 'http://www.europarl.europa.eu/news/en/press-room/20190307IPR30695/eu-prepares-itself-to-fight-back-against-hostile-propaganda', 'http://www.europarl.europa.eu/news/en/press-room/20190307IPR30747/parliament-proposes-policy-toolbox-to-curb-air-pollution', 'http://www.europarl.europa.eu/news/en/press-room/20190307IPR30749/more-accessible-products-and-services-for-disabled-and-elderly-people', 'http://www.europarl.europa.eu/news/en/press-room/20190307IPR30739/meps-vote-to-limit-negative-impact-of-no-deal-brexit-on-citizens', 'http://www.europarl.europa.eu/news/en/press-room/20190307IPR30738/uk-must-make-clear-what-it-wants-meps-say-in-brexit-debate', 'http://www.europarl.europa.eu/news/en/press-room/20190307IPR30744/upgraded-eu-visa-information-database-to-increase-security-at-external-borders', 'http://www.europarl.europa.eu/news/en/press-room/20190307IPR30741/slovak-prime-minister-calls-for-a-long-term-eu-vision-that-citizens-can-trust', 'http://www.europarl.europa.eu/news/en/press-room/20190307IPR30743/parliament-makes-it-easier-to-organise-a-european-citizens-initiative', 'http://www.europarl.europa.eu/news/en/press-room/20190307IPR30694/meps-adopt-cybersecurity-act-and-want-eu-to-counter-it-threat-from-china', 'http://www.europarl.europa.eu/news/en/press-room/20190307IPR30737/russia-can-no-longer-be-considered-a-strategic-partner-say-meps', 'http://www.europarl.europa.eu/news/en/press-room/20190307IPR30742/from-farms-to-supermarkets-meps-approve-new-eu-rules-against-unfair-trading', 'http://www.europarl.europa.eu/news/en/press-room/20190308IPR30918/fighting-crime-faster-eu-wide-exchange-of-non-eu-nationals-criminal-records', 'http://www.europarl.europa.eu/news/en/press-room/20190311IPR31055/first-eu-wide-protection-for-whistle-blowers-agreed', 'http://www.europarl.europa.eu/news/en/press-room/20190307IPR30740/opening-victims-of-terrorism-remembered', 'http://www.europarl.europa.eu/news/en/press-room/20190305IPR30201/women-must-have-an-equal-share-in-politics-say-meps-and-national-mps', 'http://www.europarl.europa.eu/news/en/press-room/20190304IPR30096/external-action-more-funds-for-human-rights-development-and-climate-change', 'http://www.europarl.europa.eu/news/en/press-room/20190304IPR30073/could-switching-between-summer-and-winter-time-end-in-2021', 'http://www.europarl.europa.eu/news/en/press-room/20190227IPR28908/laura-codruta-kovesi-civil-liberties-meps-top-choice-for-eu-chief-prosecutor', 'http://www.europarl.europa.eu/news/en/press-room/20190225IPR28727/tax-crimes-special-committee-calls-for-a-european-financial-police-force', 'http://www.europarl.europa.eu/news/en/press-room/20190225IPR28729/protecting-citizens-access-to-social-security-in-case-of-no-deal-brexit', 'http://www.europarl.europa.eu/news/en/press-room/20190226IPR28811/copyright-meps-back-provisional-agreement', 'http://www.europarl.europa.eu/news/en/press-room/20190225IPR28720/meps-to-quiz-candidates-for-position-of-eu-chief-prosecutor-on-tuesday-at-15-30', 'http://www.europarl.europa.eu/news/en/press-room/20190222IPR28563/parliament-to-host-conference-on-abolishing-the-death-penalty', 'http://www.europarl.europa.eu/news/en/press-room/20190220IPR27656/safer-roads-more-life-saving-technology-to-be-mandatory-in-vehicles', 'http://www.europarl.europa.eu/news/en/press-room/20190220IPR27659/meps-urge-the-eu-to-lead-the-way-to-net-zero-emissions-by-2050', 'http://www.europarl.europa.eu/news/en/press-room/20190218IPR26760/new-erasmus-more-opportunities-for-disadvantaged-youth', 'http://www.europarl.europa.eu/news/en/press-room/20190219IPR27560/parliaments-broadly-agree-on-next-steps-for-economic-monetary-union', 'http://www.europarl.europa.eu/news/en/press-room/20190218IPR26964/malta-and-slovakia-serious-shortcomings-in-the-rule-of-law', 'http://www.europarl.europa.eu/news/en/press-room/20190219IPR27353/cutting-co2-emissions-from-trucks-meps-reach-deal-with-council', 'http://www.europarl.europa.eu/news/en/press-room/20190218IPR26999/migration-and-asylum-eu-funds-to-promote-integration-and-protect-borders', 'http://www.europarl.europa.eu/news/en/press-room/20190219IPR27357/trade-negotiations-with-us-can-start-under-certain-conditions', 'http://www.europarl.europa.eu/news/en/press-room/20190207IPR25224/meps-urge-eu-states-to-ensure-better-care-of-transported-animals', 'http://www.europarl.europa.eu/news/en/press-room/20190207IPR25223/eu-cross-border-payments-outside-eurozone-meps-scrap-excessive-fees', 'http://www.europarl.europa.eu/news/en/press-room/20190207IPR25209/eu-to-scrutinise-foreign-direct-investment-more-closely', 'http://www.europarl.europa.eu/news/en/press-room/20190207IPR25225/human-rights-breaches-in-saudi-arabia-chechnya-and-zimbabwe', 'http://www.europarl.europa.eu/news/en/press-room/20190214IPR26425/online-platforms-required-by-law-to-be-more-transparent-with-eu-businesses', 'http://www.europarl.europa.eu/news/en/press-room/20190214IPR26418/meps-agree-on-objectives-and-scope-for-future-regional-and-cohesion-funding', 'http://www.europarl.europa.eu/news/en/press-room/20190212IPR26152/agreement-reached-on-digital-copyright-rules', 'http://www.europarl.europa.eu/news/en/press-room/20190207IPR25207/ep-gives-green-light-to-eu-singapore-trade-and-investment-protection-deals', 'http://www.europarl.europa.eu/news/en/press-room/20190207IPR25221/take-medical-use-of-cannabis-seriously-say-meps', 'http://www.europarl.europa.eu/news/en/press-room/20190207IPR25220/bosnia-and-herzegovina-meps-concerned-by-slow-progress-in-eu-related-reforms', 'http://www.europarl.europa.eu/news/en/press-room/20190207IPR25208/meps-reject-making-eu-regional-funding-dependent-on-economic-targets', 'http://www.europarl.europa.eu/news/en/press-room/20190212IPR25908/eu-gas-market-new-rules-agreed-will-also-cover-gas-pipelines-entering-the-eu', 'http://www.europarl.europa.eu/news/en/press-room/20190207IPR25210/italian-prime-minister-giuseppe-conte-europe-must-listen-to-the-people', 'http://www.europarl.europa.eu/news/en/press-room/20190212IPR26201/parliament-names-two-of-its-buildings-after-helmut-kohl-and-stefan-zweig', 'http://www.europarl.europa.eu/news/en/press-room/20190212IPR26008/european-parliament-and-professional-footballers-team-up', 'http://www.europarl.europa.eu/news/en/press-room/20190207IPR25206/civil-protection-parliament-strengthens-eu-disaster-response-capability', 'http://www.europarl.europa.eu/news/en/press-room/20190207IPR25218/meps-adopt-new-fisheries-partnership-with-morocco-including-western-sahara', 'http://www.europarl.europa.eu/news/en/press-room/20190207IPR25214/meps-back-plans-to-promote-water-reuse-for-agricultural-irrigation', 'http://www.europarl.europa.eu/news/en/press-room/20190207IPR25212/fisheries-management-plan-for-western-waters-adopted', 'http://www.europarl.europa.eu/news/en/press-room/20190212IPR25936/food-safety-enhancing-consumer-trust-in-eu-risk-assessment-and-authorisation', 'http://www.europarl.europa.eu/news/en/press-room/20190211IPR25771/stronger-european-border-and-coast-guard-to-secure-eu-s-borders', 'http://www.europarl.europa.eu/news/en/press-room/20190211IPR25764/parliament-names-radio-studio-after-journalists-murdered-in-december-attack', 'http://www.europarl.europa.eu/news/en/press-room/20190205IPR25030/opening-ep-demands-that-incarcerated-journalists-be-released', 'http://www.europarl.europa.eu/news/en/press-room/20190207IPR25330/safer-products-ep-and-council-close-deal-to-beef-up-checks-and-inspections', 'http://www.europarl.europa.eu/news/en/press-room/20190207IPR25282/new-forms-of-work-deal-on-measures-boosting-workers-rights', 'http://www.europarl.europa.eu/news/en/press-room/20190205IPR25020/erasmus-will-finance-existing-uk-eu-mobility-in-the-event-of-no-deal-brexit', 'http://www.europarl.europa.eu/news/en/press-room/20190204IPR24914/meps-and-eu-ministers-agree-on-closing-information-gaps-to-enhance-security', 'http://www.europarl.europa.eu/news/en/press-room/20190204IPR24909/deal-on-tightening-the-rules-to-stop-terrorists-from-using-homemade-explosives', 'http://www.europarl.europa.eu/news/en/press-room/20190204IPR24911/setting-up-a-company-in-the-eu-could-become-easier-and-cheaper', 'http://www.europarl.europa.eu/news/en/press-room/20190204IPR24950/solidarity-corps-more-opportunities-for-young-people', 'http://www.europarl.europa.eu/news/en/press-room/20190123IPR24128/ep-approves-more-transparency-and-efficiency-in-its-internal-rules', 'http://www.europarl.europa.eu/news/en/press-room/20190125IPR24303/venezuela-parliament-recognises-guaido-urges-eu-to-follow-suit', 'http://www.europarl.europa.eu/news/en/press-room/20190123IPR24127/finnish-prime-minister-calls-for-a-more-united-eu-of-concrete-actions', 'http://www.europarl.europa.eu/news/en/press-room/20190123IPR24124/meps-urge-uk-to-break-current-deadlock', 'http://www.europarl.europa.eu/news/en/press-room/20190130IPR24601/partnership-agreement-with-businesses-ahead-of-ep-elections', 'http://www.europarl.europa.eu/news/en/press-room/20190123IPR24125/parliament-commemorates-the-victims-of-the-holocaust', 'http://www.europarl.europa.eu/news/en/press-room/20190123IPR24123/opening-parliament-stands-up-for-human-rights-in-venezuela-not-oppression', 'http://www.europarl.europa.eu/news/en/press-room/20190129IPR24507/meps-to-debate-state-of-play-on-brexit-on-wednesday-afternoon', 'http://www.europarl.europa.eu/news/en/press-room/20190129IPR24504/visa-free-access-to-the-eu-for-uk-nationals-and-to-the-uk-for-eu-nationals', 'http://www.europarl.europa.eu/news/en/press-room/20190129IPR24505/new-rules-for-short-stay-visas-ep-and-council-reach-a-deal', 'http://www.europarl.europa.eu/news/en/press-room/20190129IPR24506/consumer-protection-deal-on-eu-wide-rules-for-those-sold-faulty-products', 'http://www.europarl.europa.eu/news/en/press-room/20190128IPR24410/mario-draghi-quizzed-for-last-time-by-economic-and-monetary-affairs-committee', 'http://www.europarl.europa.eu/news/en/press-room/20190125IPR24304/european-elections-new-website-explains-how-to-vote-in-every-member-state', 'http://www.europarl.europa.eu/news/en/press-room/20190124IPR24213/parliament-and-council-agree-on-measures-to-reconcile-career-and-private-life', 'http://www.europarl.europa.eu/news/en/press-room/20190121IPR23917/welfare-of-transported-animals-meps-urge-eu-states-to-do-a-better-job', 'http://www.europarl.europa.eu/news/en/press-room/20190124IPR24202/eu-singapore-free-trade-deal-gets-green-light-in-trade-committee', 'http://www.europarl.europa.eu/news/en/press-room/20190124IPR24201/ep-brexit-steering-group-calls-on-the-uk-to-overcome-the-deadlock', 'http://www.europarl.europa.eu/news/en/press-room/20190121IPR23915/consumers-rights-against-defective-digital-content-agreed-by-eu-lawmakers', 'http://www.europarl.europa.eu/news/en/press-room/20190121IPR23916/2021-2027-eu-budget-EU378-1-billion-to-benefit-all-regions', 'http://www.europarl.europa.eu/news/en/press-room/20190122IPR24027/romanian-presidency-priorities-discussed-in-committees', 'http://www.europarl.europa.eu/news/en/press-room/20190121IPR23924/meps-back-plans-to-promote-water-reuse-for-agricultural-irrigation', 'http://www.europarl.europa.eu/news/en/press-room/20190121IPR23925/consumers-to-be-better-protected-against-misleading-and-unfair-practices', 'http://www.europarl.europa.eu/news/en/press-room/20190122IPR24011/hostile-propaganda-the-eu-must-develop-a-firm-response', 'http://www.europarl.europa.eu/news/en/press-room/20190121IPR23926/meps-close-legal-loopholes-to-protect-victims-of-road-accidents', 'http://www.europarl.europa.eu/news/en/press-room/20190109IPR23011/member-states-jeopardising-the-rule-of-law-will-risk-losing-eu-funds', 'http://www.europarl.europa.eu/news/en/press-room/20190109IPR23024/promoting-rule-of-law-and-fundamental-rights-in-the-eu', 'http://www.europarl.europa.eu/news/en/press-room/20190109IPR23023/eu-integration-meps-want-to-end-permanent-opt-outs-from-eu-law', 'http://www.europarl.europa.eu/news/en/press-room/20190109IPR23027/human-rights-breaches-in-azerbaijan-and-sudan', 'http://www.europarl.europa.eu/news/en/press-room/20190109IPR23026/eu-fundamental-rights-under-threat-in-several-member-states', 'http://www.europarl.europa.eu/news/en/press-room/20190109IPR23016/meps-spell-out-priorities-for-the-european-central-bank-and-on-banking-union', 'http://www.europarl.europa.eu/news/en/press-room/20190109IPR23009/investeu-meps-support-new-programme-to-boost-financing-for-jobs-and-growth', 'http://www.europarl.europa.eu/news/en/press-room/20190115IPR23551/pesticides-meps-propose-blueprint-to-improve-eu-approval-procedure', 'http://www.europarl.europa.eu/news/en/press-room/20190109IPR23022/european-fund-for-transition-to-support-more-workers-made-redundant', 'http://www.europarl.europa.eu/news/en/press-room/20190109IPR23021/meps-want-to-eu-to-invest-more-in-young-people', 'http://www.europarl.europa.eu/news/en/press-room/20190109IPR23018/preferential-tariffs-to-help-western-sahara-to-develop', 'http://www.europarl.europa.eu/news/en/press-room/20190109IPR23019/pedro-sanchez-we-must-protect-europe-so-europe-can-protect-its-citizens', 'http://www.europarl.europa.eu/news/en/press-room/20190116IPR23603/eu-elections-new-rules-to-prevent-breaches-of-data-used-to-influence-elections', 'http://www.europarl.europa.eu/news/en/press-room/20190109IPR23020/brexit-the-time-has-come-for-the-uk-to-clarify-its-position', 'http://www.europarl.europa.eu/news/en/press-room/20190109IPR23015/romanian-presidency-of-the-council-debate-with-prime-minister-viorica-dancila', 'http://www.europarl.europa.eu/news/en/press-room/20190109IPR23014/austrian-council-presidency-positively-reviewed', 'http://www.europarl.europa.eu/news/en/press-room/20190109IPR23012/eu-leaders-past-and-present-pay-homage-to-the-euro', 'http://www.europarl.europa.eu/news/en/press-room/20190109IPR23013/meps-call-for-safety-and-liability-rules-for-driverless-cars', 'http://www.europarl.europa.eu/news/en/press-room/20190110IPR23119/meps-to-debate-eu-asylum-and-migration-policy-at-9-00-on-tuesday', 'http://www.europarl.europa.eu/news/en/press-room/20190109IPR23008/opening-minute-of-silence-in-memory-of-victims-of-violence-across-europe', 'http://www.europarl.europa.eu/news/en/press-room/20190111IPR23213/europe-in-the-palm-of-your-hand-launch-of-a-citizens-app', 'http://www.europarl.europa.eu/news/en/press-room/20190109IPR23041/meps-adopt-revised-rules-for-road-haulage-operations-in-another-eu-country', 'http://www.europarl.europa.eu/news/en/press-room/20181222IPR22501/euro-celebrates-its-20th-birthday', 'http://www.europarl.europa.eu/news/en/press-room/20181217IPR21949/eu-deal-on-electricity-market-rules-to-benefit-both-consumers-and-environment', 'http://www.europarl.europa.eu/news/en/press-room/20181219IPR22301/parliament-and-council-agree-drastic-cuts-to-plastic-pollution-of-environment', 'http://www.europarl.europa.eu/news/en/press-room/20181205IPR20944/meps-agree-on-new-rules-to-tax-digital-companies-revenues', 'http://www.europarl.europa.eu/news/en/press-room/20181205IPR20934/meps-want-to-fund-crucial-areas-to-stimulate-european-growth', 'http://www.europarl.europa.eu/news/en/press-room/20181205IPR20945/human-rights-breaches-in-iran-egypt-and-tanzania', 'http://www.europarl.europa.eu/news/en/press-room/20181207IPR21307/czech-republic-meps-call-for-immediate-steps-to-protect-eu-money', 'http://www.europarl.europa.eu/news/en/press-room/20181213IPR21711/member-states-jeopardising-the-rule-of-law-will-risk-losing-eu-funds', 'http://www.europarl.europa.eu/news/en/press-room/20181210IPR21406/investeu-programme-new-boost-for-jobs-growth-and-investment', 'http://www.europarl.europa.eu/news/en/press-room/20181213IPR21701/eu-citizens-initiative-to-be-overhauled-to-improve-chances-of-success', 'http://www.europarl.europa.eu/news/en/press-room/20181126IPR20132/online-radio-and-news-broadcasts-parliament-and-council-reach-deal', 'http://www.europarl.europa.eu/news/en/press-room/20181205IPR20939/president-anastasiades-we-have-to-join-forces-for-a-prosperous-europe', 'http://www.europarl.europa.eu/news/en/press-room/20181205IPR20940/meps-commend-ukraine-s-reform-efforts-and-denounce-russian-aggression', 'http://www.europarl.europa.eu/news/en/press-room/20181212IPR21641/eu-joint-response-to-disasters-deal-reached-with-council', 'http://www.europarl.europa.eu/news/en/press-room/20181205IPR20943/meps-take-stock-of-the-eu-s-foreign-security-and-defence-policy-priorities', 'http://www.europarl.europa.eu/news/en/press-room/20181212IPR21624/ep-group-leaders-on-brexit-the-agreement-is-not-open-to-renegotiation', 'http://www.europarl.europa.eu/news/en/press-room/20181205IPR20942/combatting-terrorism-parliament-sets-out-proposals-for-a-new-eu-strategy', 'http://www.europarl.europa.eu/news/en/press-room/20181205IPR20930/parliament-endorses-landmark-eu-japan-free-trade-agreement', 'http://www.europarl.europa.eu/news/en/press-room/20181205IPR20938/eu-budget-2019-approved-focus-on-the-young-innovation-and-migration', 'http://www.europarl.europa.eu/news/en/press-room/20181212IPR21606/freedom-and-democracy-will-always-win-over-violence-crime-and-terror', 'http://www.europarl.europa.eu/news/en/press-room/20181211IPR21525/strasbourg-shooting', 'http://www.europarl.europa.eu/news/en/press-room/20181211IPR21506/deal-on-faster-exchange-of-non-eu-nationals-criminal-records', 'http://www.europarl.europa.eu/news/en/press-room/20181205IPR20935/food-safety-more-transparency-better-risk-prevention', 'http://www.europarl.europa.eu/news/en/press-room/20181205IPR20933/humanitarian-visas-to-avoid-deaths-and-improve-management-of-refugee-flows', 'http://www.europarl.europa.eu/news/en/press-room/20181205IPR20937/final-vote-on-protection-from-carcinogens-including-diesel-fumes', 'http://www.europarl.europa.eu/news/en/press-room/20181210IPR21431/cybersecurity-agreement-reached-on-better-protection-for-citizens-and-companies', 'http://www.europarl.europa.eu/news/en/press-room/20181210IPR21433/stricter-rules-to-stop-terrorists-from-using-homemade-explosives', 'http://www.europarl.europa.eu/news/en/press-room/20181210IPR21405/trade-committee-advocates-lower-tariffs-in-western-sahara', 'http://www.europarl.europa.eu/news/en/press-room/20181204IPR20813/opening-journalists-are-the-first-guardians-of-human-rights', 'http://www.europarl.europa.eu/news/en/press-room/20181210IPR21430/meps-strongly-welcome-the-global-compact-on-migration', 'http://www.europarl.europa.eu/news/en/press-room/20181210IPR21418/eu-elections-support-for-eu-and-the-lead-candidates-process-continues-to-rise', 'http://www.europarl.europa.eu/news/en/press-room/20181206IPR21260/pesticides-meps-propose-blueprint-to-improve-eu-approval-procedure', 'http://www.europarl.europa.eu/news/en/press-room/20181205IPR21089/meps-propose-more-transparent-legislative-drafting-and-use-of-allowances', 'http://www.europarl.europa.eu/news/en/press-room/20181205IPR21088/first-eu-collective-redress-mechanism-to-protect-consumers', 'http://www.europarl.europa.eu/news/en/press-room/20181206IPR21208/eu-elections-new-rules-to-prevent-breaches-of-data-used-to-influence-elections', 'http://www.europarl.europa.eu/news/en/press-room/20181206IPR21207/online-platforms-improving-transparency-and-fairness-for-eu-businesses', 'http://www.europarl.europa.eu/news/en/press-room/20181203IPR20715/acp-eu-meps-agree-on-a-partnership-tailored-to-the-international-context', 'http://www.europarl.europa.eu/news/en/press-room/20181205IPR20927/ep-and-the-eesc-to-cooperate-on-european-elections-campaign', 'http://www.europarl.europa.eu/news/en/press-room/20181203IPR20714/eu-budget-2019-deal-ep-boosts-support-for-researchers-and-the-young', 'http://www.europarl.europa.eu/news/en/press-room/20181204IPR20819/banking-package-parliament-and-council-reach-an-agreement', 'http://www.europarl.europa.eu/news/en/press-room/20181203IPR20736/meps-want-ambitious-funding-for-cross-border-projects-to-connect-people', 'http://www.europarl.europa.eu/news/en/press-room/20181203IPR20709/improved-access-to-financial-information-to-curb-serious-crime', 'http://www.europarl.europa.eu/news/en/press-room/20181203IPR20710/better-id-card-security-to-curb-document-fraud', 'http://www.europarl.europa.eu/news/en/press-room/20181203IPR20711/new-eu-short-stay-visas-more-advantages-for-legitimate-travellers', 'http://www.europarl.europa.eu/news/en/press-room/20181203IPR20713/humanitarian-visas-would-reduce-refugees-death-toll', 'http://www.europarl.europa.eu/news/en/press-room/20181129IPR20524/the-future-of-the-acp-eu-partnership-to-be-debated-in-cotonou', 'http://www.europarl.europa.eu/news/en/press-room/20181129IPR20509/online-shopping-across-the-eu-to-be-easier-from-3-december', 'http://www.europarl.europa.eu/news/en/press-room/20181120IPR19548/european-parliament-marks-eu-accession-prospects-for-serbia-and-kosovo', 'http://www.europarl.europa.eu/news/en/press-room/20181120IPR19552/cum-ex-tax-fraud-meps-call-for-inquiry-justice-and-stronger-tax-authorities', 'http://www.europarl.europa.eu/news/en/press-room/20181126IPR20157/western-balkans-european-parliament-takes-stock-of-2018-progress', 'http://www.europarl.europa.eu/news/en/press-room/20181120IPR19551/role-of-german-youth-welfare-office-in-cross-border-family-disputes', 'http://www.europarl.europa.eu/news/en/press-room/20181120IPR19549/new-rules-for-temporary-border-controls-within-the-schengen-area', 'http://www.europarl.europa.eu/news/en/press-room/20181120IPR19550/ep-backs-EU2-3-million-worth-of-aid-to-help-550-redundant-media-workers-in-greece', 'http://www.europarl.europa.eu/news/en/press-room/20181126IPR20156/brexit-the-time-has-come-to-back-the-withdrawal-deal', 'http://www.europarl.europa.eu/news/en/press-room/20181120IPR19547/danish-prime-minister-future-of-eu-depends-on-how-it-solves-today-s-challenges', 'http://www.europarl.europa.eu/news/en/press-room/20181120IPR19522/opening-russia-must-meet-its-obligations-in-the-sea-of-azov', 'http://www.europarl.europa.eu/news/en/press-room/20181128IPR20415/sakharov-prize-2018-book-your-interview-slot', 'http://www.europarl.europa.eu/news/en/press-room/20181120IPR19553/danish-prime-minister-lars-lokke-rasmussen-to-debate-future-of-europe-with-meps', 'http://www.europarl.europa.eu/news/en/press-room/20181127IPR20241/eu-food-watchdog-more-transparency-better-risk-prevention', 'http://www.europarl.europa.eu/news/en/press-room/20181126IPR20127/libya-situation-of-migrants-and-rescue-operations-up-for-discussion', 'http://www.europarl.europa.eu/news/en/press-room/20181123IPR20007/european-parliament-to-host-high-level-conference-on-eu-research', 'http://www.europarl.europa.eu/news/en/press-room/20181123BKG20009/ep-press-kit-for-the-european-council-eu27-of-25-november-2018', 'http://www.europarl.europa.eu/news/en/press-room/20181122IPR19828/agreement-reached-on-new-eu-measures-to-prevent-electricity-blackouts', 'http://www.europarl.europa.eu/news/en/press-room/20181122IPR19823/meps-want-to-ensure-sufficient-funding-for-connecting-europe-s-future', 'http://www.europarl.europa.eu/news/en/press-room/20181121IPR19738/meps-back-EU2-3m-worth-of-aid-to-help-550-media-workers-made-redundant-in-greece', 'http://www.europarl.europa.eu/news/en/press-room/20181119IPR19378/meps-wants-to-increase-research-funding-to-EU120-billion-in-2021-2027', 'http://www.europarl.europa.eu/news/en/press-room/20181120IPR19501/eu-japan-relations-foreign-affairs-meps-back-strategic-partnership-agreement', 'http://www.europarl.europa.eu/news/en/press-room/20181120IPR19506/agreement-reached-on-screening-of-foreign-direct-investment-for-eu-security', 'http://www.europarl.europa.eu/news/en/press-room/20181119IPR19407/fertilisers-cadmium-parliament-and-council-negotiators-reach-provisional-deal', 'http://www.europarl.europa.eu/news/en/press-room/20181119IPR19408/employment-meps-want-to-ensure-more-flexibility-and-clarity-for-eu-mobile-worker', 'http://www.europarl.europa.eu/news/en/press-room/20181120IPR19504/eu-wide-protection-and-support-for-whistle-blowers', 'http://www.europarl.europa.eu/news/en/press-room/20181119IPR19450/eu-budget-2019-no-deal-before-the-end-of-the-conciliation-period', 'http://www.europarl.europa.eu/news/en/press-room/20181119IPR19374/rule-of-law-in-poland-debate-with-timmermans-and-the-polish-government', 'http://www.europarl.europa.eu/news/en/press-room/20181119IPR19347/european-cultural-heritage-debate-with-national-parliaments', 'http://www.europarl.europa.eu/news/en/press-room/20181116IPR19230/eu-budget-2019-conciliation-talks-suspended', \"http://www.europarl.europa.eu/news/en/press-room/20181116IPR19220/youth-parliament-to-finalise-millennials'-priorities-for-future-of-the-eu\", 'http://www.europarl.europa.eu/news/en/press-room/20181116IPR19218/european-parliament-to-host-human-rights-week', 'http://www.europarl.europa.eu/news/en/press-room/20181106IPR18319/meps-vote-for-upgrade-to-rail-passenger-rights', 'http://www.europarl.europa.eu/news/en/press-room/20181106IPR18332/human-rights-breaches-in-bangladesh-cuba-and-vietnam', 'http://www.europarl.europa.eu/news/en/press-room/20181106IPR18328/parliament-calls-for-alarming-spread-of-lyme-disease-to-be-tackled', 'http://www.europarl.europa.eu/news/en/press-room/20181115IPR19112/president-tajani-on-brexit-agreement', 'http://www.europarl.europa.eu/news/en/press-room/20181114IPR19055/statement-of-the-brexit-steering-group', 'http://www.europarl.europa.eu/news/en/press-room/20181113IPR18809/combatting-terrorism-ep-special-committee-calls-for-closer-eu-cooperation', 'http://www.europarl.europa.eu/news/en/press-room/20181106IPR18331/european-parliament-backs-co2-emissions-cuts-for-trucks', 'http://www.europarl.europa.eu/news/en/press-room/20181106IPR18329/moldova-must-take-urgent-action-and-georgia-should-continue-efforts-say-meps', 'http://www.europarl.europa.eu/news/en/press-room/20181106IPR18327/mechanism-to-protect-democracy-in-the-eu-needed-more-than-ever-says-the-ep', 'http://www.europarl.europa.eu/news/en/press-room/20181106IPR18320/meps-cap-prices-of-calls-within-eu-and-approve-emergency-alert-system', 'http://www.europarl.europa.eu/news/en/press-room/20181106IPR18317/long-term-eu-budget-meps-lay-down-funding-priorities-for-post-2020-budget', 'http://www.europarl.europa.eu/news/en/press-room/20181106IPR18324/meps-call-to-strengthen-the-checks-on-eu-arms-exports', 'http://www.europarl.europa.eu/news/en/press-room/20181106IPR18325/the-eu-and-africa-are-bound-by-common-values-says-south-african-president', \"http://www.europarl.europa.eu/news/en/press-room/20181106IPR18318/woman-at-war-wins-the-european-parliament's-2018-lux-film-prize\", 'http://www.europarl.europa.eu/news/en/press-room/20181109IPR18623/european-elections-2019-what-europe-does-for-me', 'http://www.europarl.europa.eu/news/en/press-room/20181106IPR18316/merkel-nationalism-and-egoism-must-never-have-a-chance-again-in-europe', 'http://www.europarl.europa.eu/news/en/press-room/20181106IPR18322/adriatic-sea-meps-adopt-multiannual-plan-for-fisheries', 'http://www.europarl.europa.eu/news/en/press-room/20181106IPR18326/romania-meps-are-deeply-concerned-about-judicial-independence-and-rule-of-law', 'http://www.europarl.europa.eu/news/en/press-room/20181106IPR18321/meps-call-for-eu-rules-to-better-protect-minorities-rights', 'http://www.europarl.europa.eu/news/en/press-room/20181106IPR18323/parliament-approves-EU17-7-million-in-eu-aid-after-intense-floods-in-latvia', 'http://www.europarl.europa.eu/news/en/press-room/20181106IPR18315/energy-new-ambitious-targets-on-renewables-and-energy-efficiency', 'http://www.europarl.europa.eu/news/en/press-room/20181106IPR18314/opening-world-war-i-armistice-remembered', 'http://www.europarl.europa.eu/news/en/press-room/20181108IPR18560/european-accessibility-act-parliament-and-council-negotiators-strike-a-deal', 'http://www.europarl.europa.eu/news/en/press-room/20181108IPR18518/european-parliament-signs-agreement-with-private-tv-outlets', 'http://www.europarl.europa.eu/news/en/press-room/20181105IPR18252/meps-demand-bulgaria-s-and-romania-s-swift-accession-to-schengen-area', 'http://www.europarl.europa.eu/news/en/press-room/20181105IPR18253/new-eu-rules-to-boost-crowdfunding-platforms-and-protect-investors', 'http://www.europarl.europa.eu/news/en/press-room/20181105IPR18263/brexit-ensuring-a-smooth-transition-for-car-producers-and-safety-on-the-roads', 'http://www.europarl.europa.eu/news/en/press-room/20181105IPR18262/meps-approve-EU17-7-million-in-eu-aid-after-intense-floods-in-latvia', 'http://www.europarl.europa.eu/news/en/press-room/20181105IPR18264/trade-committee-meps-give-greenlight-to-landmark-eu-japan-trade-agreement', 'http://www.europarl.europa.eu/news/en/press-room/20181105IPR18258/long-term-eu-budget-meps-lay-down-funding-priorities-post-2020', 'http://www.europarl.europa.eu/news/en/press-room/20181018IPR16536/meps-demand-end-to-eu-arms-exports-to-saudi-arabia', 'http://www.europarl.europa.eu/news/en/press-room/20181018IPR16551/reform-of-road-use-charges-to-spur-cleaner-transport-and-ensure-fairness', 'http://www.europarl.europa.eu/news/en/press-room/20181018IPR16525/facebook-cambridge-analytica-meps-demand-action-to-protect-citizens-privacy', 'http://www.europarl.europa.eu/news/en/press-room/20181018IPR16550/paris-agreement-meps-call-for-stepping-up-eu-climate-commitments', 'http://www.europarl.europa.eu/news/en/press-room/20181018IPR16527/parliament-demands-ban-on-neo-fascist-and-neo-nazi-groups-in-the-eu', 'http://www.europarl.europa.eu/news/en/press-room/20181018IPR16526/meps-back-plans-to-halt-spread-of-drug-resistance-from-animals-to-humans', 'http://www.europarl.europa.eu/news/en/press-room/20181025IPR17307/food-supply-chain-a-step-closer-to-ending-unfair-trading', 'http://www.europarl.europa.eu/news/en/press-room/20181023IPR17126/oleg-sentsov-awarded-the-2018-sakharov-prize', 'http://www.europarl.europa.eu/news/en/press-room/20181025IPR17319/ep-president-signs-partnership-agreement-with-public-regional-tv-stations', 'http://www.europarl.europa.eu/news/en/press-room/20181018IPR16529/eu-budget-2019-focus-on-the-young-on-migration-and-innovation', 'http://www.europarl.europa.eu/news/en/press-room/20181018IPR16524/plastic-oceans-meps-back-eu-ban-on-throwaway-plastics-by-2021', 'http://www.europarl.europa.eu/news/en/press-room/20181018IPR16534/strengthening-security-through-an-eu-wide-information-system', 'http://www.europarl.europa.eu/news/en/press-room/20181018IPR16531/meps-debate-the-lack-of-results-of-eu-october-summit', 'http://www.europarl.europa.eu/news/en/press-room/20181018IPR16523/drinking-water-new-plans-to-improve-tap-water-quality-and-cut-plastic-litter', 'http://www.europarl.europa.eu/news/en/press-room/20181018IPR16535/portugal-EU4-66-million-in-aid-for-1-460-dismissed-workers-and-jobless-young', 'http://www.europarl.europa.eu/news/en/press-room/20181018IPR16528/klaus-iohannis-unity-must-be-our-watchword-for-the-future-of-europe', 'http://www.europarl.europa.eu/news/en/press-room/20181022IPR16910/schengen-new-rules-for-temporary-checks-at-national-borders', 'http://www.europarl.europa.eu/news/en/press-room/20181017IPR16381/opening-deaths-of-journalists-must-be-rigorously-investigated', 'http://www.europarl.europa.eu/news/en/press-room/20181017IPR16396/environment-committee-meps-push-for-cleaner-trucks-and-electric-buses', 'http://www.europarl.europa.eu/news/en/press-room/20181017IPR16398/gig-economy-employment-committee-meps-want-to-boost-workers-rights', 'http://www.europarl.europa.eu/news/en/press-room/20181017BKG16357/european-parliament-press-kit-for-the-european-council-of-17-and-18-october-2018', 'http://www.europarl.europa.eu/news/en/press-room/20181017IPR16355/brexit-effect-a-majority-of-maltese-people-would-vote-to-stay-in-the-eu', 'http://www.europarl.europa.eu/news/en/press-room/20181017IPR16308/eurobarometer-public-opinion-survey-shows-that-eu-is-more-appreciated-than-ever', 'http://www.europarl.europa.eu/news/en/press-room/20181016IPR16213/brexit-effect-public-opinion-survey-shows-that-eu-is-more-appreciated-than-ever', 'http://www.europarl.europa.eu/news/en/press-room/20181015IPR16006/security-better-access-to-data-for-border-control-and-migration-management', 'http://www.europarl.europa.eu/news/en/press-room/20181015IPR16074/brexit-ep-steering-group-insists-on-need-for-ireland-northern-ireland-backstop', 'http://www.europarl.europa.eu/news/en/press-room/20181015IPR16011/future-of-development-cooperation-how-innovation-can-help', 'http://www.europarl.europa.eu/news/en/press-room/20181011IPR15832/deal-on-protecting-workers-from-exposure-to-harmful-substances', 'http://www.europarl.europa.eu/news/en/press-room/20181010IPR15602/the-future-of-international-election-observation-missions', 'http://www.europarl.europa.eu/news/en/press-room/20181008IPR15260/facebook-meps-demand-a-full-audit-by-eu-bodies-to-assess-data-protection', 'http://www.europarl.europa.eu/news/en/press-room/20181009IPR15501/plastic-oceans-meps-back-eu-ban-on-polluting-throwaway-plastics-by-2021', 'http://www.europarl.europa.eu/news/en/press-room/20181008IPR15261/humanitarian-visas-to-avoid-refugees-deaths', 'http://www.europarl.europa.eu/news/en/press-room/20181008IPR15256/portugal-budget-meps-back-EU4-66-m-in-job-search-aid-for-730-redundant-workers', 'http://www.europarl.europa.eu/news/en/press-room/20181008IPR15258/eu-budget-2019-to-focus-on-young-people', 'http://www.europarl.europa.eu/news/en/press-room/20181009IPR15401/western-balkans-meps-take-stock-of-2018-progress', 'http://www.europarl.europa.eu/news/en/press-room/20181008IPR15275/meps-back-update-of-rail-passenger-rights-across-eu', 'http://www.europarl.europa.eu/news/en/press-room/20181009IPR15306/sakharov-prize-2018-three-finalists-selected', 'http://www.europarl.europa.eu/news/en/press-room/20181008IPR15273/leading-female-eu-politicians-urge-women-to-vote-and-stand-in-european-elections', 'http://www.europarl.europa.eu/news/en/press-room/20181005IPR15169/ep-president-praises-nobel-peace-prize-award-to-denis-mukwege-and-nadia-murad', 'http://www.europarl.europa.eu/news/en/press-room/20181005IPR15111/european-parliament-to-host-a-high-level-event-on-election-observation', 'http://www.europarl.europa.eu/news/en/press-room/20180926IPR14411/quicker-freezing-and-confiscation-of-criminal-assets-to-fight-organised-crime', 'http://www.europarl.europa.eu/news/en/press-room/20180926IPR14408/meps-condemn-attacks-on-civilians-including-children-in-yemen', 'http://www.europarl.europa.eu/news/en/press-room/20180926IPR14410/eu-s-judicial-cooperation-arm-eurojust-to-become-more-effective-with-new-rules', 'http://www.europarl.europa.eu/news/en/press-room/20180926IPR14412/human-rights-breaches-in-china-belarus-and-united-arab-emirates', 'http://www.europarl.europa.eu/news/en/press-room/20180926IPR14403/free-flow-of-non-personal-data-parliament-approves-eu-s-fifth-freedom', 'http://www.europarl.europa.eu/news/en/press-room/20181003IPR14922/brexit-ep-steering-group-calls-for-wa-negotiations-to-intensify', 'http://www.europarl.europa.eu/news/en/press-room/20180925IPR14306/parliament-pushes-for-cleaner-cars-on-eu-roads-by-2030', 'http://www.europarl.europa.eu/news/en/press-room/20180925IPR14316/estonian-prime-minister-ratas-europe-is-a-thought-that-must-become-a-feeling', 'http://www.europarl.europa.eu/news/en/press-room/20180926IPR14444/meps-back-plans-to-boost-joint-assessment-of-medicines', 'http://www.europarl.europa.eu/news/en/press-room/20180926IPR14409/green-light-for-vat-overhaul-to-simplify-system-and-cut-fraud', 'http://www.europarl.europa.eu/news/en/press-room/20180925IPR14315/meps-urge-romania-to-respect-judicial-independence-and-keep-fighting-corruption', 'http://www.europarl.europa.eu/news/en/press-room/20180926IPR14404/the-eu-will-always-have-a-stable-partner-in-montenegro-says-president-dukanovic', 'http://www.europarl.europa.eu/news/en/press-room/20180925IPR14307/new-rules-for-audiovisual-media-services-approved-by-parliament', 'http://www.europarl.europa.eu/news/en/press-room/20180926IPR14407/turkey-meps-cut-support-by-EU70m-due-to-no-improvement-in-respect-for-eu-values', 'http://www.europarl.europa.eu/news/en/press-room/20180926IPR14406/netherlands-meps-back-EU1-2m-in-job-search-aid-for-450-workers-made-redundant', 'http://www.europarl.europa.eu/news/en/press-room/20180925IPR14314/brexit-and-migration-dominates-the-debate-on-october-s-eu-summit', 'http://www.europarl.europa.eu/news/en/press-room/20181001IPR14722/fairer-food-supply-chain-agriculture-meps-clamp-down-on-unfair-trading', 'http://www.europarl.europa.eu/news/en/press-room/20180925IPR14305/opening-minute-of-silence-for-victims-of-earthquake-and-tsunami-in-indonesia', 'http://www.europarl.europa.eu/news/en/press-room/20180927IPR14517/ep-leaders-call-for-negotiations-on-upgraded-transparency-register-to-continue', 'http://www.europarl.europa.eu/news/en/press-room/20180924IPR14224/eu-budget-2019-meps-increase-funding-on-youth-migration-and-research', 'http://www.europarl.europa.eu/news/en/press-room/20180926IPR14418/sakharov-prize-2018-meps-to-discuss-the-candidates', 'http://www.europarl.europa.eu/news/en/press-room/20180924IPR14222/netherlands-budget-meps-back-EU1-2m-in-job-search-aid-for-450-redundant-workers', 'http://www.europarl.europa.eu/news/en/press-room/20180924IPR14223/no-improvement-in-respect-for-eu-values-meps-cut-support-for-turkey-by-EU70m', 'http://www.europarl.europa.eu/news/en/press-room/20180924IPR14226/european-parliament-to-host-the-10th-asia-europe-parliamentary-meeting', 'http://www.europarl.europa.eu/news/en/press-room/20180914IPR13511/humanitarian-emergency-in-venezuela-was-central-debate-of-the-eurolat-plenary', 'http://www.europarl.europa.eu/news/en/press-room/20180918IPR13718/a-europe-that-delivers-eu-citizens-expect-more-eu-level-action-in-future', 'http://www.europarl.europa.eu/news/en/press-room/20180917IPR13653/rule-of-law-in-poland-meps-to-check-situation-on-the-ground', 'http://www.europarl.europa.eu/news/en/press-room/20180913IPR13437/european-parliament-to-mark-the-international-day-of-democracy', 'http://www.europarl.europa.eu/news/en/press-room/20180913IPR13417/health-committee-meps-back-plans-to-boost-joint-assessment-of-medicines', 'http://www.europarl.europa.eu/news/en/press-room/20180906IPR12112/meps-propose-ways-to-boost-plastics-recycling', 'http://www.europarl.europa.eu/news/en/press-room/20180907IPR12460/consumer-product-quality-parliament-takes-aim-at-dual-standards', 'http://www.europarl.europa.eu/news/en/press-room/20180906IPR12117/we-dream-of-being-a-part-of-the-european-family-says-fyrom-pm', 'http://www.europarl.europa.eu/news/en/press-room/20180906IPR12111/superbugs-meps-advocate-further-measures-to-curb-use-of-antibiotics', 'http://www.europarl.europa.eu/news/en/press-room/20180912IPR13304/parliament-in-favour-of-lifting-visa-requirements-for-kosovars', 'http://www.europarl.europa.eu/news/en/press-room/20180906IPR12113/human-rights-breaches-in-cambodia-uganda-and-myanmar', 'http://www.europarl.europa.eu/news/en/press-room/20180906IPR12104/rule-of-law-in-hungary-parliament-calls-on-the-eu-to-act', 'http://www.europarl.europa.eu/news/en/press-room/20180906IPR12123/european-parliament-speaks-out-against-killer-robots', 'http://www.europarl.europa.eu/news/en/press-room/20180906IPR12109/america-first-policy-goes-against-eu-us-partnership-say-meps', 'http://www.europarl.europa.eu/news/en/press-room/20180906IPR12110/chinese-investment-in-eu-infrastructure-meps-urge-eu-countries-to-act-together', 'http://www.europarl.europa.eu/news/en/press-room/20180906IPR12103/parliament-adopts-its-position-on-digital-copyright-rules', 'http://www.europarl.europa.eu/news/en/press-room/20180906IPR12180/new-eu-rules-to-thwart-money-laundering-and-terrorist-financing', 'http://www.europarl.europa.eu/news/en/press-room/20180906IPR12102/state-of-the-union-debate-strengthen-eu-as-a-global-player', 'http://www.europarl.europa.eu/news/en/press-room/20180906IPR12108/special-measures-for-greece-100-absorption-rate', 'http://www.europarl.europa.eu/news/en/press-room/20180911IPR13102/meps-discuss-rule-of-law-in-hungary-with-council-commission-and-pm-orban', 'http://www.europarl.europa.eu/news/en/press-room/20180906IPR12106/2019-eu-elections-will-be-a-battle-of-values-says-greek-pm-tsipras', 'http://www.europarl.europa.eu/news/en/press-room/20180906IPR12105/lebanon-has-borne-the-brunt-of-the-surrounding-crises-says-lebanese-president', 'http://www.europarl.europa.eu/news/en/press-room/20180906IPR12119/northern-ireland-parliament-wants-to-secure-post-brexit-regional-funding', 'http://www.europarl.europa.eu/news/en/press-room/20180906IPR12101/final-vote-on-european-solidarity-corps', 'http://www.europarl.europa.eu/news/en/press-room/20180911IPR13115/drinking-water-new-plans-to-improve-tap-water-quality-and-cut-plastic-litter', 'http://www.europarl.europa.eu/news/en/press-room/20180906IPR12107/parliament-approves-EU34m-in-eu-aid-to-greece-poland-lithuania-and-bulgaria', 'http://www.europarl.europa.eu/news/en/press-room/20180911IPR13114/more-electric-cars-on-eu-roads-by-2030', 'http://www.europarl.europa.eu/news/en/press-room/20180904IPR11858/opening-minute-of-silence-for-victims-of-natural-disasters-and-bridge-collapse', 'http://www.europarl.europa.eu/news/en/press-room/20180904IPR11842/eu-ambassadors-conference-a-multilateral-approach-to-global-challenges-needed', 'http://www.europarl.europa.eu/news/en/press-room/20180903IPR11652/better-protection-against-non-cash-payment-fraud', 'http://www.europarl.europa.eu/news/en/press-room/20180903IPR11612/safer-products-stepping-up-checks-and-inspections-to-protect-consumers', 'http://www.europarl.europa.eu/news/en/press-room/20180827IPR10730/budget-meps-approve-EU34m-in-eu-aid-to-greece-poland-lithuania-and-bulgaria', 'http://www.europarl.europa.eu/news/en/press-room/20180816IPR10003/brexit-meps-concerned-over-reported-uk-registration-plans-for-eu27-citizens', 'http://www.europarl.europa.eu/news/en/press-room/20180727IPR08701/brexit-no-withdrawal-agreement-without-a-backstop-for-the-irish-border', 'http://www.europarl.europa.eu/news/en/press-room/20180713IPR07919/lux-prize-2018-the-finalists-announced-in-rome', 'http://www.europarl.europa.eu/news/en/press-room/20180622IPR06401/uk-crawley-group-wins-european-citizens-prize', 'http://www.europarl.europa.eu/news/en/press-room/20180713IPR07916/euro-mediterranean-assembly-fixes-its-permanent-seat-in-rome', 'http://www.europarl.europa.eu/news/en/press-room/20180712IPR07806/statement-by-the-brexit-steering-group-on-uk-government-white-paper', 'http://www.europarl.europa.eu/news/en/press-room/20180711IPR07740/consumer-product-quality-meps-take-aim-at-dual-standards', 'http://www.europarl.europa.eu/news/en/press-room/20180711IPR07739/single-digital-gateway-a-time-saver-for-citizens-and-companies', 'http://www.europarl.europa.eu/news/en/press-room/20180710IPR07601/meps-to-sound-out-german-finance-minister-on-economic-and-monetary-union', 'http://www.europarl.europa.eu/news/en/press-room/20180711IPR07727/european-parliament-and-eurovision-sign-partnership-for-european-elections', 'http://www.europarl.europa.eu/news/en/press-room/20180710IPR07611/meps-back-measures-to-reconcile-career-and-private-life', 'http://www.europarl.europa.eu/news/en/press-room/20180709IPR07555/clamp-down-on-illegal-trade-in-pets-urge-public-health-committee-meps', 'http://www.europarl.europa.eu/news/en/press-room/20180710IPR07609/austrian-presidency-priorities-discussed-in-committees', 'http://www.europarl.europa.eu/news/en/press-room/20180710IPR07605/cybersecurity-act-build-trust-in-digital-technologies', 'http://www.europarl.europa.eu/news/en/press-room/20180709IPR07543/meps-propose-measures-to-combat-mobbing-and-sexual-harassment', 'http://www.europarl.europa.eu/news/en/press-room/20180709IPR07545/rule-of-law-and-protection-of-journalists-measures-to-ensure-media-freedom', 'http://www.europarl.europa.eu/news/en/press-room/20180709IPR07544/quicker-freezing-and-confiscation-of-criminal-assets-in-the-eu', 'http://www.europarl.europa.eu/news/en/press-room/20180628IPR06819/data-exchanges-strengthening-europol-cooperation-with-non-eu-countries', 'http://www.europarl.europa.eu/news/en/press-room/20180628IPR06814/giving-humanitarian-help-to-migrants-should-not-be-a-crime-according-to-the-ep', 'http://www.europarl.europa.eu/news/en/press-room/20180628IPR06815/venezuela-parliament-calls-for-urgent-eu-help-for-people-fleeing-the-country', 'http://www.europarl.europa.eu/news/en/press-room/20180628IPR06825/eu-budget-for-2019-do-more-for-the-young-smes-and-the-climate-urge-meps', 'http://www.europarl.europa.eu/news/en/press-room/20180628IPR06808/reinforcing-eu-border-security-visa-exempt-travellers-will-be-pre-screened', 'http://www.europarl.europa.eu/news/en/press-room/20180628IPR06809/parliament-to-review-copyright-rules-in-september', 'http://www.europarl.europa.eu/news/en/press-room/20180628IPR06826/meps-react-to-breaches-of-human-rights-in-moldova-burundi-and-somalia', 'http://www.europarl.europa.eu/news/en/press-room/20180628IPR06807/meps-return-mobility-package-proposals-to-committee-for-further-consideration', 'http://www.europarl.europa.eu/news/en/press-room/20180628IPR06816/angola-s-president-joao-lourenco-calls-for-stronger-eu-africa-cooperation', 'http://www.europarl.europa.eu/news/en/press-room/20180628IPR06806/polish-pm-chooses-to-focus-on-economy-amid-questions-on-rule-of-law-in-poland', 'http://www.europarl.europa.eu/news/en/press-room/20180628IPR06823/meps-list-conditions-for-new-eu-azerbaijan-deal', 'http://www.europarl.europa.eu/news/en/press-room/20180629IPR06913/meps-back-eu-partnership-agreement-with-armenia', 'http://www.europarl.europa.eu/news/en/press-room/20180628IPR06821/parliament-approves-EU500-million-for-schooling-of-refugee-children-in-turkey', 'http://www.europarl.europa.eu/news/en/press-room/20180628IPR06818/parliament-backs-a-modernised-eu-electoral-law', 'http://www.europarl.europa.eu/news/en/press-room/20180703IPR07145/copyright-rules-for-the-digital-market', 'http://www.europarl.europa.eu/news/en/press-room/20180628IPR06829/future-of-europe-debate-with-polish-prime-minister-mateusz-morawiecki-at-9-00', 'http://www.europarl.europa.eu/news/en/press-room/20180628IPR06805/meps-deplore-lack-of-concrete-deals-at-the-eu-summit', 'http://www.europarl.europa.eu/news/en/press-room/20180628IPR06811/austria-s-eu-presidency-chancellor-sebastian-kurz-aims-to-build-bridges', 'http://www.europarl.europa.eu/news/en/press-room/20180628IPR06812/first-ever-eu-defence-industry-fund-to-finance-joint-development-of-capabilities', 'http://www.europarl.europa.eu/news/en/press-room/20180628IPR06810/meps-assess-the-results-of-the-bulgarian-presidency-of-the-council-of-the-eu', 'http://www.europarl.europa.eu/news/en/press-room/20180702IPR07021/statement-by-the-brexit-steering-group-on-uk-paper-on-eu-citizens-in-the-uk', 'http://www.europarl.europa.eu/news/en/press-room/20180628IPR06813/eu-job-search-aid-worth-EU9-9-million-for-1-858-former-air-france-workers', 'http://www.europarl.europa.eu/news/en/press-room/20180702IPR07037/third-facebook-cambridge-analytica-hearing-data-breach-prevention-and-cures', 'http://www.europarl.europa.eu/news/en/press-room/20180628IPR06804/opening-ep-remembers-nelson-mandela-and-mourns-attacks-on-roma-in-ukraine', 'http://www.europarl.europa.eu/news/en/press-room/20180629IPR06916/lux-film-prize-official-selection-for-2018-revealed', 'http://www.europarl.europa.eu/news/en/press-room/20180628BKG06841/european-parliament-press-kit-for-the-european-council-of-28-29-june-2018', 'http://www.europarl.europa.eu/news/en/press-room/20180628IPR06803/meps-question-america-first-policy', 'http://www.europarl.europa.eu/news/en/press-room/20180627IPR06709/eu-summit-migration-parliament-calls-for-joint-solutions-based-on-solidarity', 'http://www.europarl.europa.eu/news/en/press-room/20180618IPR06042/agreement-reached-on-new-eu-solidarity-corps', 'http://www.europarl.europa.eu/news/en/press-room/20180626IPR06615/euronest-delivering-reforms-is-the-best-way-forward-for-eu-s-eastern-partners', 'http://www.europarl.europa.eu/news/en/press-room/20180625IPR06510/second-facebook-cambridge-analytica-hearing-impact-on-privacy-voting-and-trust', 'http://www.europarl.europa.eu/news/en/press-room/20180625IPR06503/rule-of-law-in-hungary-parliament-should-ask-council-to-act-say-committee-meps', 'http://www.europarl.europa.eu/news/en/press-room/20180625IPR06506/giving-humanitarian-help-to-migrants-should-not-be-a-crime-say-meps', 'http://www.europarl.europa.eu/news/en/press-room/20180622IPR06404/euronest-meps-to-meet-east-european-mps-in-european-parliament-on-25-27-june', 'http://www.europarl.europa.eu/news/en/press-room/20180620IPR06212/fleeing-venezuela-meps-to-probe-humanitarian-conditions-in-colombia-and-brazil', 'http://www.europarl.europa.eu/news/en/press-room/20180618IPR06041/cultural-heritage-in-europe-high-level-conference-on-26-june', 'http://www.europarl.europa.eu/news/en/press-room/20180620IPR06249/superbugs-meps-advocate-further-measures-to-curb-use-of-antimicrobials', 'http://www.europarl.europa.eu/news/en/press-room/20180618IPR06031/future-acp-eu-partnership-meps-agree-on-concrete-objectives', 'http://www.europarl.europa.eu/news/en/press-room/20180618IPR06024/copyright-meps-update-rules-for-the-digital-age', 'http://www.europarl.europa.eu/news/en/press-room/20180619IPR06146/energy-union-deals-on-efficiency-targets-and-governance', 'http://www.europarl.europa.eu/news/en/press-room/20180618IPR06025/asylum-deal-to-update-eu-fingerprinting-database', 'http://www.europarl.europa.eu/news/en/press-room/20180618IPR06007/eu-job-search-aid-worth-EU9-9m-for-1-858-former-air-france-workers', 'http://www.europarl.europa.eu/news/en/press-room/20180618IPR06006/eu-africa-caribbean-and-pacific-towards-which-partnership', 'http://www.europarl.europa.eu/news/en/press-room/20180613IPR05739/35th-acp-eu-assembly-migration-and-demographics-will-dominate-the-debate', 'http://www.europarl.europa.eu/news/en/press-room/20180614IPR05803/reception-conditions-for-asylum-seekers-agreed-between-meps-and-council', 'http://www.europarl.europa.eu/news/en/press-room/20180614IPR05809/european-parliament-the-most-trusted-eu-institution', 'http://www.europarl.europa.eu/news/en/press-room/20180614IPR05810/energy-new-target-of-32-from-renewables-by-2030-agreed-by-meps-and-ministers', 'http://www.europarl.europa.eu/news/en/press-room/20180607IPR05247/eu-african-caribbean-and-pacific-partnership-meps-list-key-aims-for-renewal', 'http://www.europarl.europa.eu/news/en/press-room/20180613IPR05724/meps-to-vote-on-overhaul-of-road-transport-rules-in-july', 'http://www.europarl.europa.eu/news/en/press-room/20180607IPR05245/european-parliament-calls-on-russia-to-end-occupation-of-georgian-territories', 'http://www.europarl.europa.eu/news/en/press-room/20180607IPR05248/human-rights-breaches-in-russia-the-rakhine-state-and-bahrain', 'http://www.europarl.europa.eu/news/en/press-room/20180607IPR05242/meps-want-robust-eu-cyber-defence-and-closer-ties-with-nato', 'http://www.europarl.europa.eu/news/en/press-room/20180607IPR05244/parliament-votes-for-EU1-billion-in-aid-to-ukraine', 'http://www.europarl.europa.eu/news/en/press-room/20180607IPR05241/number-of-meps-to-be-reduced-after-eu-elections-in-2019', 'http://www.europarl.europa.eu/news/en/press-room/20180607IPR05246/the-eu-needs-to-under-promise-and-over-deliver-says-dutch-pm', 'http://www.europarl.europa.eu/news/en/press-room/20180613IPR05703/end-of-plastic-water-bottles-at-european-parliament', 'http://www.europarl.europa.eu/news/en/press-room/20180607IPR05239/eu-wide-rules-for-safety-of-drones-approved-by-european-parliament', 'http://www.europarl.europa.eu/news/en/press-room/20180612IPR05604/security-union-political-agreement-on-strengthened-schengen-information-system', 'http://www.europarl.europa.eu/news/en/press-room/20180607IPR05240/meps-demand-an-end-to-migrant-deaths-across-the-mediterranean-sea', 'http://www.europarl.europa.eu/news/en/press-room/20180611IPR05527/eu-us-privacy-shield-data-exchange-deal-us-must-comply-by-1-september-say-meps', 'http://www.europarl.europa.eu/news/en/press-room/20180607IPR05238/opening-parliament-expresses-support-for-victims-of-fuego-volcano-in-guatemala', 'http://www.europarl.europa.eu/news/en/press-room/20180605IPR05049/eu-wide-penalties-for-money-laundering-deal-with-council', 'http://www.europarl.europa.eu/news/en/press-room/20180605IPR05051/eu-telecoms-deal-fees-on-calls-across-eu-capped-by-2019-and-5g-network-by-2020', 'http://www.europarl.europa.eu/news/en/press-room/20180605IPR05050/halting-spread-of-drug-resistance-from-animals-to-humans-deal-with-council', 'http://www.europarl.europa.eu/news/en/press-room/20180601IPR04808/discussion-at-europe-house-brexit-food', 'http://www.europarl.europa.eu/news/en/press-room/20180604IPR04914/new-rules-on-drivers-working-conditions-and-fair-competition-in-road-transport', 'http://www.europarl.europa.eu/news/en/press-room/20180604IPR04926/no-barriers-to-free-flow-of-non-personal-data-in-the-eu', 'http://www.europarl.europa.eu/news/en/press-room/20180604IPR04912/more-answers-from-facebook-ahead-of-parliament-hearing-today', 'http://www.europarl.europa.eu/news/en/press-room/20180602IPR04902/8000-young-people-in-ep-in-strasbourg-a-breath-of-fresh-air-for-eu-democracy', 'http://www.europarl.europa.eu/news/en/press-room/20180601IPR04809/ep-president-at-eye2018-your-ideas-are-key-in-shaping-eu-s-future', 'http://www.europarl.europa.eu/news/en/press-room/20180531IPR04722/statement-by-president-tajani-on-us-steel-and-aluminium-duties', 'http://www.europarl.europa.eu/news/en/press-room/20180531IPR04720/us-tariffs-on-steel-and-aluminium-statement-of-trade-committee-chair', 'http://www.europarl.europa.eu/news/en/press-room/20180522IPR04026/european-youth-event', 'http://www.europarl.europa.eu/news/en/press-room/20180528IPR04447/resceu-meps-vote-to-upgrade-eu-civil-protection-capacity', 'http://www.europarl.europa.eu/news/en/press-room/20180525IPR04318/human-rights-breaches-in-iran-saudi-arabia-and-sudan', 'http://www.europarl.europa.eu/news/en/press-room/20180524IPR04234/meps-call-on-eu-countries-to-end-precarious-employment-practices', 'http://www.europarl.europa.eu/news/en/press-room/20180524IPR04221/car-clocking-meps-call-for-new-legislation-to-combat-odometer-fraud', 'http://www.europarl.europa.eu/news/en/press-room/20180524IPR04239/nicaragua-meps-condemn-brutal-repression-and-demand-elections', 'http://www.europarl.europa.eu/news/en/press-room/20180530IPR04607/facebook-cambridge-analytica-meps-pursue-personal-data-breaches-probe', 'http://www.europarl.europa.eu/news/en/press-room/20180524IPR04220/libya-eu-efforts-should-focus-on-protecting-migrants-meps-say', 'http://www.europarl.europa.eu/news/en/press-room/20180524IPR04224/colombia-santos-thanks-the-eu-for-its-support-to-the-peace-process', 'http://www.europarl.europa.eu/news/en/press-room/20180525IPR04317/future-of-eu-farming-meps-push-for-modern-common-policy-with-fair-funding', 'http://www.europarl.europa.eu/news/en/press-room/20180524IPR04217/the-schengen-area-is-at-a-crossroads', 'http://www.europarl.europa.eu/news/en/press-room/20180524IPR04231/post-2020-eu-budget-parliament-challenges-commission-over-scale-of-cuts', 'http://www.europarl.europa.eu/news/en/press-room/20180524IPR04219/parliament-approves-EU104-2m-in-eu-aid-to-greece-spain-france-and-portugal', 'http://www.europarl.europa.eu/news/en/press-room/20180524IPR04213/tougher-defence-tools-against-unfair-imports-to-protect-eu-jobs-and-industry', 'http://www.europarl.europa.eu/news/en/press-room/20180524IPR04233/imported-and-eu-fisheries-products-should-be-treated-equally', 'http://www.europarl.europa.eu/news/en/press-room/20180524IPR04214/strengthening-european-unity-is-in-all-our-interests-says-luxembourg-pm-bettel', 'http://www.europarl.europa.eu/news/en/press-room/20180524IPR04218/sale-of-passports-by-eu-countries-debate-in-plenary', 'http://www.europarl.europa.eu/news/en/press-room/20180524IPR04223/future-of-europe-debate-with-luxembourg-s-prime-minister-xavier-bettel', 'http://www.europarl.europa.eu/news/en/press-room/20180524IPR04222/guinea-president-alpha-conde-we-must-tackle-the-root-causes-of-migration', 'http://www.europarl.europa.eu/news/en/press-room/20180529IPR04509/us-president-trump-s-decision-on-trade-meps-to-debate-eu-measures', 'http://www.europarl.europa.eu/news/en/press-room/20180524IPR04230/posting-of-workers-final-vote-on-equal-pay-and-working-conditions', 'http://www.europarl.europa.eu/news/en/press-room/20180524IPR04215/north-sea-fisheries-meps-back-eu-plan-to-sustain-stocks-of-demersal-species', 'http://www.europarl.europa.eu/news/en/press-room/20180528IPR04446/foreign-investment-to-be-screened-to-protect-eu-countries-strategic-interests', 'http://www.europarl.europa.eu/news/en/press-room/20180524IPR04212/opening-ep-pays-tribute-to-nicole-fontaine', 'http://www.europarl.europa.eu/news/en/press-room/20180524IPR04237/address-by-the-president-antonio-tajani-at-the-funeral-of-nicole-fontaine', 'http://www.europarl.europa.eu/news/en/press-room/20180524IPR04242/discovering-europe-free-eu-rail-pass-for-18-year-olds', 'http://www.europarl.europa.eu/news/en/press-room/20180524IPR04229/road-use-charges-reforms-aim-to-improve-fairness-and-environmental-protection', 'http://www.europarl.europa.eu/news/en/press-room/20180524IPR04204/follow-up-answers-from-facebook-after-zuckerberg-s-meeting-with-leading-meps', 'http://www.europarl.europa.eu/news/en/press-room/20180522IPR04042/new-eu-data-protection-rules-take-effect-on-friday', 'http://www.europarl.europa.eu/news/en/press-room/20180523IPR04155/first-ever-eu-defence-industry-fund-meps-and-ministers-strike-informal-deal', 'http://www.europarl.europa.eu/news/en/press-room/20180522IPR04027/public-opinion-survey-finds-record-support-for-eu-despite-brexit-backdrop', 'http://www.europarl.europa.eu/news/en/press-room/20180520IPR03901/public-opinion-survey-finds-record-support-for-eu-especially-in-malta', 'http://www.europarl.europa.eu/news/en/press-room/20180430IPR02842/uk-support-for-eu-remains-stable-despite-brexit-backdrop', 'http://www.europarl.europa.eu/news/en/press-room/20180522IPR04025/one-year-to-go-to-crucial-european-elections', 'http://www.europarl.europa.eu/news/en/press-room/20180522IPR04046/how-to-access-the-live-streaming-for-today-s-meeting-with-mark-zuckerberg', 'http://www.europarl.europa.eu/news/en/press-room/20180522IPR04024/mark-zuckerberg-meeting-with-european-parliament-leaders-today', 'http://www.europarl.europa.eu/news/en/press-room/20180518IPR03804/mark-zuckerberg-at-the-ep-to-meet-president-tajani-and-political-group-leaders', 'http://www.europarl.europa.eu/news/en/press-room/20180517IPR03708/environment-committee-meps-vote-to-upgrade-eu-civil-protection-capacity', 'http://www.europarl.europa.eu/news/en/press-room/20180515IPR03511/future-eu-farm-policy-agriculture-meps-urge-fair-funding-no-renationalisation', 'http://www.europarl.europa.eu/news/en/press-room/20180516IPR03622/use-blockchain-model-to-cut-small-firms-costs-and-empower-citizens-urge-meps', 'http://www.europarl.europa.eu/news/en/press-room/20180515IPR03507/budget-meps-approve-EU104-2-m-in-eu-aid-to-greece-spain-france-and-portugal', 'http://www.europarl.europa.eu/news/en/press-room/20180516IPR03618/cyber-defence-meps-call-for-better-european-cooperation', 'http://www.europarl.europa.eu/news/en/press-room/20180514IPR03410/new-eu-data-protection-rules-meps-and-mps-to-debate-implementation-and-impact', 'http://www.europarl.europa.eu/news/en/press-room/20180426IPR02613/testing-cosmetics-on-animals-meps-call-for-worldwide-ban', 'http://www.europarl.europa.eu/news/en/press-room/20180502IPR02910/venezuelan-elections-scheduled-for-20-may-should-be-postponed-meps-urge', 'http://www.europarl.europa.eu/news/en/press-room/20180426IPR02616/caterpillar-parliament-backs-EU4-6million-in-eu-aid-for-2-287-redundant-workers', 'http://www.europarl.europa.eu/news/en/press-room/20180426IPR02612/charles-michel-advocates-a-strong-europe-that-acts-where-it-can-add-real-value', 'http://www.europarl.europa.eu/news/en/press-room/20180426IPR02615/tackle-online-and-offline-threats-to-media-pluralism-and-freedom-urge-meps', 'http://www.europarl.europa.eu/news/en/press-room/20180426IPR02614/children-must-not-be-detained-for-immigration-purposes-parliament-says', 'http://www.europarl.europa.eu/news/en/press-room/20180426IPR02611/post-2020-eu-budget-plans-show-purpose-but-lack-ambition-say-meps', 'http://www.europarl.europa.eu/news/en/press-room/20180502IPR02917/mff-and-own-resources-contact-group-declaration-on-the-post-2020-eu-budget', 'http://www.europarl.europa.eu/news/en/press-room/20180426IPR02629/gender-brexit', 'http://www.europarl.europa.eu/news/en/press-room/20180426IPR02610/opening-we-cannot-continue-to-watch-slaughters-occur-says-president-tajani', 'http://www.europarl.europa.eu/news/en/press-room/20180502IPR02901/ep-plenary-session-to-start-at-13-00-for-eu-long-term-budget-debate', 'http://www.europarl.europa.eu/news/en/press-room/20180430IPR02805/brexit-meps-concerned-over-eu-citizens-registration-process', 'http://www.europarl.europa.eu/news/en/press-room/20180423IPR02332/audiovisual-media-agreement-reached-on-new-media-services-directive', 'http://www.europarl.europa.eu/news/en/press-room/20180423IPR02320/meps-support-reforms-to-speed-up-assessment-of-asylum-requests-in-the-eu', 'http://www.europarl.europa.eu/news/en/press-room/20180424IPR02423/brexit-eu-and-uk-citizens-rights-remain-ep-s-key-priority', 'http://www.europarl.europa.eu/news/en/press-room/20180420IPR02212/meps-begin-work-on-2018-enlargement-package', 'http://www.europarl.europa.eu/news/en/press-room/20180423IPR02310/caterpillar-budget-committee-backs-EU4-6m-in-eu-aid-for-2-287-redundant-workers', 'http://www.europarl.europa.eu/news/en/press-room/20180419IPR02125/our-digital-future-high-level-conference-in-the-european-parliament-on-25-april', 'http://www.europarl.europa.eu/news/en/press-room/20180418IPR02005/safe-gas-supply-for-the-eu-meps-to-start-negotiations-with-council', 'http://www.europarl.europa.eu/news/en/press-room/20180411IPR01528/murder-of-jan-kuciak-meps-urge-action-to-protect-journalists-across-the-eu', 'http://www.europarl.europa.eu/news/en/press-room/20180412IPR01612/meps-highlight-health-risks-of-falling-vaccination-rates-in-the-eu', 'http://www.europarl.europa.eu/news/en/press-room/20180413IPR01710/meps-call-on-turkey-to-release-two-greek-soldiers-imprisoned-without-charge', 'http://www.europarl.europa.eu/news/en/press-room/20180412IPR01607/eu-must-support-civil-society-organisations-promoting-european-values', 'http://www.europarl.europa.eu/news/en/press-room/20180411IPR01527/anti-money-laundering-meps-vote-to-shed-light-on-the-true-owners-of-companies', 'http://www.europarl.europa.eu/news/en/press-room/20180411IPR01523/organic-food-meps-tighten-eu-rules-to-match-consumer-expectations', 'http://www.europarl.europa.eu/news/en/press-room/20180411IPR01522/car-approvals-parliament-endorses-new-rules-to-prevent-emissions-cheating', 'http://www.europarl.europa.eu/news/en/press-room/20180411IPR01529/human-rights-breaches-in-gaza-the-philippines-and-belarus', 'http://www.europarl.europa.eu/news/en/press-room/20180412IPR01606/meps-urge-facebook-ceo-to-come-to-european-parliament', 'http://www.europarl.europa.eu/news/en/press-room/20180411IPR01519/european-elections-meps-back-voting-dates-for-2019', 'http://www.europarl.europa.eu/news/en/press-room/20180411IPR01526/meps-give-a-green-light-to-the-eu-s-2016-budget-management', 'http://www.europarl.europa.eu/news/en/press-room/20180411IPR01525/meps-ask-commission-to-reassess-the-appointment-procedure-of-secretary-general', 'http://www.europarl.europa.eu/news/en/press-room/20180411IPR01518/circular-economy-more-recycling-of-household-waste-less-landfilling', 'http://www.europarl.europa.eu/news/en/press-room/20180411IPR01524/meps-urge-member-states-to-reach-agreement-on-tackling-migration-crises', 'http://www.europarl.europa.eu/news/en/press-room/20180411IPR01520/european-political-parties-parliament-approves-new-funding-rules', 'http://www.europarl.europa.eu/news/en/press-room/20180411IPR01515/ep-backs-national-co2-cuts-and-forestry-plans-to-meet-paris-climate-targets', 'http://www.europarl.europa.eu/news/en/press-room/20180411IPR01516/smarter-and-more-energy-efficient-buildings-in-the-eu-by-2050', 'http://www.europarl.europa.eu/news/en/press-room/20180411IPR01517/macron-defends-the-idea-of-european-sovereignty', 'http://www.europarl.europa.eu/news/en/press-room/20180411IPR01514/opening-parliament-s-political-leaders-condemn-use-of-chemical-weapons-in-syria', 'http://www.europarl.europa.eu/news/en/press-room/20180410IPR01424/democracy-and-fundamental-rights-in-hungary-meps-assess-the-situation', 'http://www.europarl.europa.eu/news/en/press-room/20180411IPR01505/access-to-the-ep-press-room-in-brussels-for-accredited-journalists', 'http://www.europarl.europa.eu/news/en/press-room/20180327IPR00656/meps-deplore-lack-of-transparency-in-selecting-eu-commission-secretary-general', 'http://www.europarl.europa.eu/news/en/press-room/20180327IPR00604/carcinogens-in-the-workplace-eu-protection-regime-to-include-new-substances', 'http://www.europarl.europa.eu/news/en/press-room/20180327IPR00618/eu-must-help-safeguard-media-independence', 'http://www.europarl.europa.eu/news/en/press-room/20180326IPR00514/support-for-development-projects-must-continue-in-all-eu-regions-after-2020', 'http://www.europarl.europa.eu/news/en/press-room/20180326IPR00517/meps-to-quiz-commissioner-oettinger-on-the-appointment-of-martin-selmayr', 'http://www.europarl.europa.eu/news/en/press-room/20180326IPR00518/budgetary-control-meps-greenlight-the-commission-s-budget-management', 'http://www.europarl.europa.eu/news/en/press-room/20180326IPR00510/saving-lives-ecall-mandatory-in-new-car-models-from-this-week', 'http://www.europarl.europa.eu/news/en/press-room/20180319IPR00007/terrorism-statement-on-the-anniversary-of-the-22-3-attacks', 'http://www.europarl.europa.eu/news/en/press-room/20180322IPR00312/petr-jezek-to-head-new-investigations-into-financial-crimes', 'http://www.europarl.europa.eu/news/en/press-room/20180320IPR00143/gas-meps-strengthen-eu-rules-on-pipelines-to-and-from-third-countries', 'http://www.europarl.europa.eu/news/en/press-room/20180319IPR00021/health-committee-meps-warn-against-dropping-vaccination-rates', 'http://www.europarl.europa.eu/news/en/press-room/20180319IPR00023/safeguarding-fair-competition-in-air-transport', 'http://www.europarl.europa.eu/news/en/press-room/20180319IPR00014/posting-of-workers-meps-and-council-strike-a-deal-on-pay-and-working-conditions', 'http://www.europarl.europa.eu/news/en/press-room/20180319IPR00022/budgetary-control-meps-to-probe-appointment-of-eu-commission-secretary-general', 'http://www.europarl.europa.eu/news/en/press-room/20180319IPR00017/brexit-steering-group-reaction-to-joint-draft-withdrawal-agreement', 'http://www.europarl.europa.eu/news/en/press-room/20180309IPR99435/syria-assad-regime-russia-and-iran-are-responsible-for-heinous-crimes', 'http://www.europarl.europa.eu/news/en/press-room/20180309IPR99422/meps-approve-new-eu-corporate-tax-plan-which-embraces-digital-presence', 'http://www.europarl.europa.eu/news/en/press-room/20180309IPR99434/european-medicines-agency-move-to-amsterdam-meps-back-plans-but-set-conditions', 'http://www.europarl.europa.eu/news/en/press-room/20180309IPR99436/human-rights-the-maldives-sudan-and-uganda', 'http://www.europarl.europa.eu/news/en/press-room/20180309IPR99421/murder-of-jan-kuciak-meps-urge-eu-investigation-actions-to-protect-journalists', 'http://www.europarl.europa.eu/news/en/press-room/20180309IPR99420/funding-europe-s-future-eu-s-post-2020-budget-must-match-policy-goals', 'http://www.europarl.europa.eu/news/en/press-room/20180309IPR99428/meps-endorse-composition-of-temporary-committee-to-investigate-financial-crimes', 'http://www.europarl.europa.eu/news/en/press-room/20180309IPR99418/brexit-ep-recommends-association-agreement-for-future-eu-uk-relations', 'http://www.europarl.europa.eu/news/en/press-room/20180309IPR99426/parliament-endorses-luis-de-guindos-as-new-ecb-vice-president', 'http://www.europarl.europa.eu/news/en/press-room/20180309IPR99429/we-cannot-expect-more-from-europe-without-giving-more-to-it-says-portuguese-pm', 'http://www.europarl.europa.eu/news/en/press-room/20180309IPR99430/us-tariffs-avoid-trade-wars-and-tackle-global-overcapacity-in-steel-instead', 'http://www.europarl.europa.eu/news/en/press-room/20180309IPR99443/safety-of-journalists-in-slovakia-and-across-the-eu-debate-today-from-15-45', 'http://www.europarl.europa.eu/news/en/press-room/20180309IPR99442/debate-with-portuguese-prime-minister-antonio-costa-on-the-future-of-europe', 'http://www.europarl.europa.eu/news/en/press-room/20180309IPR99441/us-trade-restrictions-and-the-protection-of-eu-jobs-and-business', 'http://www.europarl.europa.eu/news/en/press-room/20180309IPR99423/improving-cross-border-parcel-delivery-to-boost-buying-online', 'http://www.europarl.europa.eu/news/en/press-room/20180309IPR99424/poorest-eu-regions-need-continued-support-and-tailored-strategies-to-catch-up', 'http://www.europarl.europa.eu/news/en/press-room/20180309IPR99425/violence-against-women-all-eu-countries-must-ratify-the-istanbul-convention', 'http://www.europarl.europa.eu/news/en/press-room/20180309IPR99417/opening-president-tajani-calls-for-lasting-ceasefire-in-syria', 'http://www.europarl.europa.eu/news/en/press-room/20180309IPR99440/parliament-to-set-out-its-vision-for-future-eu-uk-relations-post-brexit', 'http://www.europarl.europa.eu/news/en/press-room/20180309IPR99438/meps-to-demand-answers-on-appointment-of-new-commission-secretary-general', 'http://www.europarl.europa.eu/news/en/press-room/20180309IPR99437/murder-of-journalist-jan-kuciak-ep-delegation-calls-for-thorough-investigation', 'http://www.europarl.europa.eu/news/en/press-room/20180308IPR99308/budget-meps-approve-EU2-1-million-in-eu-aid-for-former-tyre-workers-in-germany', 'http://www.europarl.europa.eu/news/en/press-room/20180307IPR99231/brexit-parliament-to-set-out-its-vision-for-future-eu-uk-relations', 'http://www.europarl.europa.eu/news/en/press-room/20180307IPR99230/murder-of-journalist-jan-kuciak-ep-delegation-to-visit-slovakia-thursday-friday', 'http://www.europarl.europa.eu/news/en/press-room/20180305IPR99008/international-women-s-day-2018-empowering-women-and-girls-in-the-media-and-ict', 'http://www.europarl.europa.eu/news/en/press-room/20180305IPR99007/migrants-in-libya-meps-to-discuss-how-to-ease-returns-and-fight-smuggling', 'http://www.europarl.europa.eu/news/en/press-room/20180226IPR98617/cutting-cash-flows-to-terrorists', 'http://www.europarl.europa.eu/news/en/press-room/20180226IPR98618/meps-back-crackdown-on-aggressive-cross-border-tax-schemes', 'http://www.europarl.europa.eu/news/en/press-room/20180226IPR98612/bees-and-beekeepers-meps-set-out-eu-wide-long-term-survival-strategy', 'http://www.europarl.europa.eu/news/en/press-room/20180226IPR98620/sweden-EU2-13-million-in-job-search-aid-for-900-former-ericsson-staff', 'http://www.europarl.europa.eu/news/en/press-room/20180226IPR98613/financial-crime-parliament-establishes-new-special-committee', 'http://www.europarl.europa.eu/news/en/press-room/20180226IPR98615/rule-of-law-in-poland-parliament-supports-eu-action', 'http://www.europarl.europa.eu/news/en/press-room/20180226IPR98621/plenary-endorses-belgian-candidate-to-be-a-member-of-the-court-of-auditors', 'http://www.europarl.europa.eu/news/en/press-room/20180226IPR98619/spain-EU720-000-to-help-303-former-clothing-industry-employees-find-new-jobs', 'http://www.europarl.europa.eu/news/en/press-room/20180226IPR98616/zdzislaw-krasnodebski-elected-vice-president-of-the-european-parliament', 'http://www.europarl.europa.eu/news/en/press-room/20180301IPR98903/statement-of-the-brexit-steering-group-on-the-uk-paper-on-eu-citizens-in-the-uk', 'http://www.europarl.europa.eu/news/en/press-room/20180301IPR98901/joint-statement-on-the-revision-of-the-posting-of-workers-directive', 'http://www.europarl.europa.eu/news/en/press-room/20180226IPR98611/spitzenkandidaten-process-is-here-to-stay-insist-meps', 'http://www.europarl.europa.eu/news/en/press-room/20180226IPR98624/meps-to-quiz-mr-hogan-on-removal-of-countries-from-tax-haven-blacklist', 'http://www.europarl.europa.eu/news/en/press-room/20180226IPR98610/opening-minute-of-silence-in-memory-of-murdered-journalist-jan-kuciak', 'http://www.europarl.europa.eu/news/en/press-room/20180228IPR98815/parliament-s-brexit-steering-group-to-scrutinise-draft-brexit-withdrawal-treaty', 'http://www.europarl.europa.eu/news/en/press-room/20180227IPR98780/european-political-parties-deal-on-new-funding-rules', 'http://www.europarl.europa.eu/news/en/press-room/20180227IPR98710/circular-economy-meps-back-plans-to-boost-recycling-and-cut-landfilling', 'http://www.europarl.europa.eu/news/en/press-room/20180227IPR98709/meps-back-luis-de-guindos-for-ecb-vice-president-but-want-rules-overhauled', 'http://www.europarl.europa.eu/news/en/press-room/20180221IPR98330/sweden-EU2-13-million-in-job-search-aid-for-900-former-ericsson-staff', 'http://www.europarl.europa.eu/news/en/press-room/20180221IPR98329/spain-EU720-000-to-help-303-former-clothing-industry-employees-find-new-jobs', 'http://www.europarl.europa.eu/news/en/press-room/20180222IPR98410/post-2020-eu-budget-reform-must-match-eu-s-future-ambitions', 'http://www.europarl.europa.eu/news/en/press-room/20180124IPR92748/bulgarian-presidency-priorities-discussed-in-committees', 'http://www.europarl.europa.eu/news/en/press-room/20180221IPR98332/making-it-easier-for-citizens-and-businesses-to-do-their-paperwork-online', 'http://www.europarl.europa.eu/news/en/press-room/20180221IPR98333/consumer-protection-eu-wide-rules-for-those-sold-a-defective-product', 'http://www.europarl.europa.eu/news/en/press-room/20180219IPR98113/new-eu-corporate-tax-plan-embracing-digital-presence-approved-in-committee', 'http://www.europarl.europa.eu/news/en/press-room/20180219IPR98121/energy-union-consumers-to-have-more-choice-and-greater-energy-security', 'http://www.europarl.europa.eu/news/en/press-room/20180219IPR98106/meps-support-solidarity-action-by-young-volunteers', 'http://www.europarl.europa.eu/news/en/press-room/20180219IPR98120/meps-approve-first-eu-programme-dedicated-to-the-defence-industry', 'http://www.europarl.europa.eu/news/en/press-room/20180219IPR98114/meps-quizz-new-eurogroup-president-mario-centeno-on-eurozone-reforms', 'http://www.europarl.europa.eu/news/en/press-room/20180220IPR98216/meps-propose-ways-to-cut-cash-flows-to-terrorists', 'http://www.europarl.europa.eu/news/en/press-room/20180219IPR98116/animal-testing-of-cosmetics-meps-call-for-worldwide-ban', 'http://www.europarl.europa.eu/news/en/press-room/20180214IPR97814/european-parliamentary-week-digital-economy-taxes-and-future-of-work', 'http://www.europarl.europa.eu/news/en/press-room/20180208IPR97432/european-medicines-agency-ep-fact-finding-mission-to-amsterdam', 'http://www.europarl.europa.eu/news/en/press-room/20180202IPR97033/bigger-role-for-eu-investment-bank-to-tackle-migration-crisis', 'http://www.europarl.europa.eu/news/en/press-room/20180202IPR97038/parliament-calls-for-thorough-assessment-of-bi-annual-time-change', 'http://www.europarl.europa.eu/news/en/press-room/20180202IPR97035/meps-call-on-turkey-to-lift-state-of-emergency', 'http://www.europarl.europa.eu/news/en/press-room/20180202IPR97036/venezuela-add-government-and-military-chiefs-to-eu-sanctions-list-urge-meps', 'http://www.europarl.europa.eu/news/en/press-room/20180202IPR97034/pesticides-parliament-approves-special-committee-s-composition', 'http://www.europarl.europa.eu/news/en/press-room/20180202IPR97041/human-rights-russia-egypt-and-haiti', 'http://www.europarl.europa.eu/news/en/press-room/20180206IPR97212/summer-time-debate-and-vote-on-the-twice-yearly-hour-change', 'http://www.europarl.europa.eu/news/en/press-room/20180202IPR97025/size-of-parliament-to-shrink-after-brexit', 'http://www.europarl.europa.eu/news/en/press-room/20180202IPR97031/meps-confirm-commission-blacklist-of-countries-at-risk-of-money-laundering', 'http://www.europarl.europa.eu/news/en/press-room/20180202IPR97032/zero-tolerance-for-female-genital-mutilation', 'http://www.europarl.europa.eu/news/en/press-room/20180202IPR97026/spitzenkandidaten-process-cannot-be-overturned-say-meps', 'http://www.europarl.europa.eu/news/en/press-room/20180202IPR97029/ryszard-czarnecki-no-longer-vice-president-of-parliament', 'http://www.europarl.europa.eu/news/en/press-room/20180202IPR97047/combating-social-inequalities-in-the-eu', 'http://www.europarl.europa.eu/news/en/press-room/20180202IPR97022/parliament-votes-to-end-barriers-to-cross-border-online-shopping', 'http://www.europarl.europa.eu/news/en/press-room/20180202IPR97024/our-path-needs-to-lead-forwards-not-backwards-says-croatian-prime-minister', 'http://www.europarl.europa.eu/news/en/press-room/20180202IPR97027/pesticides-parliament-sets-up-special-committee-on-eu-authorisation-process', 'http://www.europarl.europa.eu/news/en/press-room/20180202IPR97023/climate-meps-pass-law-to-cut-co2-emissions-and-fund-low-carbon-innovation', 'http://www.europarl.europa.eu/news/en/press-room/20180202IPR97028/clean-energy-innovation-needs-a-change-of-mind-set', 'http://www.europarl.europa.eu/news/en/press-room/20180202IPR97045/western-balkans-zimbabwe-turkey-and-venezuela-tuesday-debates-with-mogherini', 'http://www.europarl.europa.eu/news/en/press-room/20180202IPR97021/opening-minute-of-silence-in-memory-of-edouard-ferrand', 'http://www.europarl.europa.eu/news/en/press-room/20180202IPR97044/meps-to-debate-future-of-europe-with-croatian-prime-minister-andrej-plenkovic', 'http://www.europarl.europa.eu/news/en/press-room/20180202IPR97043/diesel-exhaust-tests-on-humans-and-monkeys-debate-with-eu-commission', 'http://www.europarl.europa.eu/news/en/press-room/20180202IPR97042/draghi-debate-on-investment-post-crisis-support-for-banks-and-the-way-forward', 'http://www.europarl.europa.eu/news/en/press-room/20180129IPR96130/brexit-ep-to-keep-fighting-to-fully-protect-rights-of-eu-uk-citizens', 'http://www.europarl.europa.eu/news/en/press-room/20171120IPR88413/lux-prize-at-cine-lumiere-a-celebration-of-european-youth-on-screen', 'http://www.europarl.europa.eu/news/en/press-room/20180129IPR96118/rule-of-law-in-poland-civil-liberties-meps-urge-eu-member-states-to-act-swiftly', 'http://www.europarl.europa.eu/news/en/press-room/20180123IPR92315/rule-of-law-in-malta-meps-demand-police-investigate-all-corruption-allegations', 'http://www.europarl.europa.eu/news/en/press-room/20180125IPR93350/faster-eu-wide-exchange-of-non-eu-nationals-criminal-records-to-fight-crime', 'http://www.europarl.europa.eu/news/en/press-room/20180123IPR92312/deal-for-more-co2-emission-cuts-by-2030-endorsed-in-committee', 'http://www.europarl.europa.eu/news/en/press-room/20180123IPR92303/parliament-to-mark-the-international-holocaust-remembrance-day', 'http://www.europarl.europa.eu/news/en/press-room/20180123IPR92314/urgent-action-needed-to-protect-eu-bee-population-urge-meps', 'http://www.europarl.europa.eu/news/en/press-room/20180123IPR92301/eu-elections-2019-meps-pave-way-for-pan-european-constituency-post-brexit', 'http://www.europarl.europa.eu/news/en/press-room/20180119IPR92124/brexit-cafes-series-of-meetings-across-the-uk', 'http://www.europarl.europa.eu/news/en/press-room/20180118IPR92014/pesticides-parliament-to-set-up-special-committee', 'http://www.europarl.europa.eu/news/en/press-room/20180112IPR91636/better-protection-of-children-in-international-divorce-disputes', 'http://www.europarl.europa.eu/news/en/press-room/20180112IPR91637/human-rights-democratic-republic-of-congo-nigeria-and-tibet', 'http://www.europarl.europa.eu/news/en/press-room/20180117IPR91901/eu-needs-to-increase-its-resilience-to-russian-propaganda-say-meps', 'http://www.europarl.europa.eu/news/en/press-room/20180112IPR91629/meps-set-ambitious-targets-for-cleaner-more-efficient-energy-use', 'http://www.europarl.europa.eu/news/en/press-room/20180112IPR91635/court-of-auditors-parliament-endorses-two-new-members', 'http://www.europarl.europa.eu/news/en/press-room/20180112IPR91628/ideal-of-creating-a-better-future-still-inspires-the-eu-says-irish-taoiseach', 'http://www.europarl.europa.eu/news/en/press-room/20180112IPR91634/europe-should-not-help-dictators-spy-on-their-own-citizens', 'http://www.europarl.europa.eu/news/en/press-room/20180112IPR91631/the-priorities-of-the-bulgarian-presidency-of-the-council-debated-in-plenary', 'http://www.europarl.europa.eu/news/en/press-room/20180116IPR91821/cutting-off-terrorist-financing-parliament-ready-to-negotiate', 'http://www.europarl.europa.eu/news/en/press-room/20180112IPR91640/russia-s-meddling-in-the-eu-gets-meps-attention', 'http://www.europarl.europa.eu/news/en/press-room/20180112IPR91638/irish-taoiseach-varadkar-to-debate-future-of-europe-with-meps', 'http://www.europarl.europa.eu/news/en/press-room/20180112IPR91630/new-fisheries-rules-add-a-ban-on-electric-pulse-fishing-say-meps', 'http://www.europarl.europa.eu/news/en/press-room/20180112IPR91627/brexit-meps-concerned-over-uk-government-priorities', 'http://www.europarl.europa.eu/news/en/press-room/20180112IPR91641/colombian-peace-process-protests-in-iran-and-kenyan-elections-up-for-debate', 'http://www.europarl.europa.eu/news/en/press-room/20180112IPR91639/meps-todebate-eu-summit-outcome-with-tusk-and-juncker', 'http://www.europarl.europa.eu/news/en/press-room/20180112IPR91626/opening-first-plenary-session-of-2018', 'http://www.europarl.europa.eu/news/en/press-room/20180111IPR91501/new-rules-to-speed-up-freezing-and-confiscating-criminal-assets-across-the-eu', 'http://www.europarl.europa.eu/news/en/press-room/20180104IPR91001/european-parliament-launches-new-multimedia-centre-on-4-january', 'http://www.europarl.europa.eu/news/en/press-room/20171220IPR90702/acp-eu-leading-sustainable-economic-development-for-local-communities', 'http://www.europarl.europa.eu/news/en/press-room/20171219IPR90606/energy-efficient-buildings-provisional-agreement-ep-and-council', 'http://www.europarl.europa.eu/news/en/press-room/20171218IPR90524/acp-eu-promoting-the-resilience-of-populations-to-natural-disasters', 'http://www.europarl.europa.eu/news/en/press-room/20171120IPR88415/european-parliament-brexit-and-agriculture-debate-in-yorkshire', 'http://www.europarl.europa.eu/news/en/press-room/20171214IPR90306/forestry-as-a-tool-to-counter-climate-change-meps-strike-deal-with-council', 'http://www.europarl.europa.eu/news/en/press-room/20171207IPR89769/human-rights-vietnam-cambodia-el-salvador', 'http://www.europarl.europa.eu/news/en/press-room/20171208IPR89956/eu-countries-must-step-up-fight-against-sexual-abuse-of-children-say-meps', 'http://www.europarl.europa.eu/news/en/press-room/20171207IPR89765/afghanistan-lack-of-security-is-jeopardising-economic-recovery-say-meps', 'http://www.europarl.europa.eu/news/en/press-room/20171207IPR89760/myanmar-stop-persecuting-rohingya-meps-keep-urging', 'http://www.europarl.europa.eu/news/en/press-room/20171207IPR89759/meps-back-sweeping-recommendations-of-special-inquiry-into-tax-crimes', 'http://www.europarl.europa.eu/news/en/press-room/20171207IPR89767/human-rights-worldwide-eu-must-act-to-halt-persecution-and-protect-migrants', 'http://www.europarl.europa.eu/news/en/press-room/20171207IPR89766/meps-advocate-stronger-eu-foreign-and-defence-policy', 'http://www.europarl.europa.eu/news/en/press-room/20171207IPR89762/phosphate-additives-in-kebab-meat-commission-proposal-goes-ahead', 'http://www.europarl.europa.eu/news/en/press-room/20171213IPR90201/this-is-for-all-venezuelans-sakharov-prize-for-democratic-opposition', 'http://www.europarl.europa.eu/news/en/press-room/20171212IPR90142/joint-progress-report-allows-move-to-phase-two-of-brexit-talks-says-parliament', 'http://www.europarl.europa.eu/news/en/press-room/20171207IPR89761/trust-is-crucial-in-brexit-talks-say-meps-during-debate', 'http://www.europarl.europa.eu/news/en/press-room/20171208IPR89912/the-house-debated-trump-s-decision-on-jerusalem', 'http://www.europarl.europa.eu/news/en/press-room/20171208IPR89913/expanding-the-schengen-area-debate-at-15-00', 'http://www.europarl.europa.eu/news/en/press-room/20171211IPR90046/more-transparency-on-eu-decision-making-new-register-of-delegated-acts', 'http://www.europarl.europa.eu/news/en/press-room/20171208IPR89911/mistreated-migrants-in-libya-meps-to-discuss-eu-s-role', 'http://www.europarl.europa.eu/news/en/press-room/20171211IPR90024/new-eu-wide-penalties-for-money-laundering', 'http://www.europarl.europa.eu/news/en/press-room/20171207IPR89764/ep-ready-to-start-talks-with-eu-governments-on-new-rules-for-online-tv-and-radio', 'http://www.europarl.europa.eu/news/en/press-room/20171207IPR89763/meps-prolong-and-expand-eu-investment-plan-up-to-EU500-billion', 'http://www.europarl.europa.eu/news/en/press-room/20171207IPR89768/simpler-and-fairer-eu-farm-policy', 'http://www.europarl.europa.eu/news/en/press-room/20171212BKG90106/faq-on-kebab-meat', 'http://www.europarl.europa.eu/news/en/press-room/20171211IPR90048/debate-on-parliament-s-proposals-to-stamp-out-practices-exposed-by-panama-papers', 'http://www.europarl.europa.eu/news/en/press-room/20171207IPR89758/opening-last-plenary-session-of-2017', 'http://www.europarl.europa.eu/news/en/press-room/20171208IPR89949/press-advisory-brexit-steering-group-press-conference-at-15-00', 'http://www.europarl.europa.eu/news/en/press-room/20171208IPR89908/sustainable-north-sea-fisheries-meps-and-ministers-strike-provisional-deal', 'http://www.europarl.europa.eu/news/en/press-room/20171205IPR89530/rule-of-law-and-democracy-in-hungary-meps-to-quiz-the-government-and-experts', 'http://www.europarl.europa.eu/news/en/press-room/20171205IPR89528/tougher-defence-tools-against-unfair-imports-meps-strike-deal-with-ministers', 'http://www.europarl.europa.eu/news/en/press-room/20171204IPR89410/cross-border-cash-movements-tightening-up-anti-terror-and-crime-checks', 'http://www.europarl.europa.eu/news/en/press-room/20171204IPR89409/blacklist-of-countries-at-risk-of-money-laundering-instructions-for-use', 'http://www.europarl.europa.eu/news/en/press-room/20171129BKG89120/34th-session-of-the-acp-eu-joint-parliamentary-assembly', 'http://www.europarl.europa.eu/news/en/press-room/20171127IPR88942/eu-job-search-aid-for-retail-workers-laid-off-in-finland-and-greece-approved', 'http://www.europarl.europa.eu/news/en/press-room/20171127IPR88936/eu-budget-2018-approved-support-for-youth-growth-security', 'http://www.europarl.europa.eu/news/en/press-room/20171127IPR88938/more-firms-to-enjoy-a-simpler-cheaper-more-effective-vat-payment-system', 'http://www.europarl.europa.eu/news/en/press-room/20171127IPR88945/helping-people-with-disabilities-meps-advocate-positive-discrimination', 'http://www.europarl.europa.eu/news/en/press-room/20171127IPR88940/yemen-meps-renew-their-call-for-an-eu-arms-embargo-against-saudi-arabia', 'http://www.europarl.europa.eu/news/en/press-room/20171127IPR88939/new-ways-to-support-stability-and-peace-outside-the-eu', 'http://www.europarl.europa.eu/news/en/press-room/20171127IPR88941/final-vote-on-new-eu-rules-on-who-bears-banks-losses', 'http://www.europarl.europa.eu/news/en/press-room/20171129IPR89119/drones-new-eu-wide-rules-to-boost-safety-and-privacy', 'http://www.europarl.europa.eu/news/en/press-room/20171127IPR88935/opening-parliament-president-takes-action-on-mock-hangings-of-polish-meps', 'http://www.europarl.europa.eu/news/en/press-room/20171129IPR89108/brexit-progress-but-not-enough', 'http://www.europarl.europa.eu/news/en/press-room/20171128IPR89004/call-for-creation-of-standing-committee-to-investigate-breaches-in-taxation', 'http://www.europarl.europa.eu/news/en/press-room/20171128IPR89003/meps-move-to-block-phosphate-use-in-kebabs', 'http://www.europarl.europa.eu/news/en/press-room/20171128IPR89009/cleaner-energy-new-binding-targets-for-energy-efficiency-and-use-of-renewables', 'http://www.europarl.europa.eu/news/en/press-room/20171127IPR88932/sakharov-prize-2017-book-your-interview-slot', 'http://www.europarl.europa.eu/news/en/press-room/20171120IPR88414/brexit-and-the-european-parliament-what-does-it-mean-for-science-and-research', 'http://www.europarl.europa.eu/news/en/press-room/20171123IPR88705/preventing-authoritarian-regimes-from-spying-on-their-own-citizens', 'http://www.europarl.europa.eu/news/en/press-room/20171120IPR88428/finland-EU2-5-million-to-help-1-500-former-retail-workers-find-new-jobs', 'http://www.europarl.europa.eu/news/en/press-room/20171120IPR88429/greece-EU2-95-million-in-job-search-aid-for-725-former-retail-employees', 'http://www.europarl.europa.eu/news/en/press-room/20171121IPR88505/stolen-babies-meps-urge-spain-to-solve-all-alleged-cases', 'http://www.europarl.europa.eu/news/en/press-room/20171120IPR88434/organic-food-green-light-for-fresh-eu-rules', 'http://www.europarl.europa.eu/news/en/press-room/20171120IPR88437/clear-rules-on-prohibited-fishing-gear-and-more-flexibility-for-eu-fishermen', 'http://www.europarl.europa.eu/news/en/press-room/20171121IPR88504/new-rules-on-funding-european-political-parties', 'http://www.europarl.europa.eu/news/en/press-room/20171120IPR88426/ending-unjustified-geo-blocking-online-shoppers-must-be-treated-equally', 'http://www.europarl.europa.eu/news/en/press-room/20171121IPR88503/more-online-tv-and-radio-across-borders', 'http://www.europarl.europa.eu/news/en/press-room/20171120IPR88443/buying-online-eu-wide-remedies-against-defective-digital-goods', 'http://www.europarl.europa.eu/news/en/press-room/20171120IPR88421/glyphosate-meps-debate-citizens-call-for-a-ban', 'http://www.europarl.europa.eu/news/en/press-room/20171116IPR88212/eu-budget-2018-deal-ep-boosts-support-for-youth-and-growth-initiatives', 'http://www.europarl.europa.eu/news/en/press-room/20171110IPR87827/new-impetus-for-development-in-africa-needed', 'http://www.europarl.europa.eu/news/en/press-room/20171110IPR87830/human-rights-sudan-somalia-and-madagascar', 'http://www.europarl.europa.eu/news/en/press-room/20171115IPR88120/ep-ready-to-start-talks-with-eu-governments-on-overhaul-of-dublin-system', 'http://www.europarl.europa.eu/news/en/press-room/20171110IPR87823/slovak-president-kiska-eu-needs-strong-leaders-with-passion-for-the-cause', 'http://www.europarl.europa.eu/news/en/press-room/20171110IPR87824/rule-of-law-and-democracy-in-poland-at-risk-parliament-ready-for-next-steps', 'http://www.europarl.europa.eu/news/en/press-room/20171110IPR87821/plenary-endorses-six-members-of-the-court-of-auditors-rejects-one', 'http://www.europarl.europa.eu/news/en/press-room/20171110IPR87818/malta-s-rule-of-law-needs-close-monitoring', 'http://www.europarl.europa.eu/news/en/press-room/20171110IPR87825/meps-want-to-reward-reforms-made-by-eastern-partners', 'http://www.europarl.europa.eu/news/en/press-room/20171110IPR87822/livia-jaroka-and-fabio-massimo-castaldo-elected-vice-presidents-of-the-ep', 'http://www.europarl.europa.eu/news/en/press-room/20171110IPR87817/parliament-passes-new-anti-dumping-rules-to-protect-eu-jobs-and-industry', 'http://www.europarl.europa.eu/news/en/press-room/20171110IPR87816/asylum-plenary-to-vote-on-negotiating-mandate-to-reform-dublin-rules', 'http://www.europarl.europa.eu/news/en/press-room/20171115IPR88103/press-conference-president-tajani-european-court-of-auditors-president-lehne', 'http://www.europarl.europa.eu/news/en/press-room/20171110IPR87832/winter-plan-for-asylum-seekers-wednesday-morning-debate', 'http://www.europarl.europa.eu/news/en/press-room/20171114IPR88001/rule-of-law-in-poland-parliament-to-discuss-and-vote-on-wednesday', 'http://www.europarl.europa.eu/news/en/press-room/20171110IPR87814/buying-online-parliament-beefs-up-protection-against-fraudsters', 'http://www.europarl.europa.eu/news/en/press-room/20171110IPR87819/italy-EU3-35-million-to-help-1-610-former-call-centre-workers-find-new-jobs', 'http://www.europarl.europa.eu/news/en/press-room/20171110IPR87820/meps-demand-finance-ministers-and-council-step-up-fight-against-tax-evasion', 'http://www.europarl.europa.eu/news/en/press-room/20171110IPR87815/sami-blood-wins-the-2017-lux-film-prize', 'http://www.europarl.europa.eu/news/en/press-room/20171113IPR87921/high-level-conference-towards-a-renewed-partnership-with-africa', 'http://www.europarl.europa.eu/news/en/press-room/20171110IPR87813/opening-two-new-vice-presidents-to-be-elected', 'http://www.europarl.europa.eu/news/en/press-room/20171109IPR87713/co2-plans-to-cut-emission-allowances-and-fund-low-carbon-innovation-agreed', 'http://www.europarl.europa.eu/news/en/press-room/20171109IPR87707/students-and-refugees-together-win-citizen-s-prize-2017', 'http://www.europarl.europa.eu/news/en/press-room/20171107IPR87501/italy-EU3-35-million-to-help-1-610-former-call-centre-workers-find-new-jobs', 'http://www.europarl.europa.eu/news/en/press-room/20171108IPR87618/paris-agreement-debate-with-california-s-governor-edmund-g-brown', 'http://www.europarl.europa.eu/news/en/press-room/20171108IPR87615/brexit-ep-outlines-its-red-lines-on-latest-uk-citizens-rights-proposals', 'http://www.europarl.europa.eu/news/en/press-room/20171106IPR87415/border-control-strengthening-security-in-the-eu', 'http://www.europarl.europa.eu/news/en/press-room/20171106IPR87429/eu-external-assistance-fund-supports-military-s-civilian-actions-for-first-time', 'http://www.europarl.europa.eu/news/en/press-room/20171031IPR87225/meps-and-mps-set-out-their-priorities-ahead-of-eastern-partnership-summit', 'http://www.europarl.europa.eu/news/en/press-room/20171031IPR87218/euronest-marking-eastern-partnership-successes-and-challenges', 'http://www.europarl.europa.eu/news/en/press-room/20171027IPR87022/euronest-meps-and-east-european-counterparts-to-meet-in-ukraine']\n"
          ],
          "name": "stdout"
        }
      ]
    },
    {
      "metadata": {
        "id": "gvmjcY7L5Dqp",
        "colab_type": "code",
        "colab": {
          "base_uri": "https://localhost:8080/",
          "height": 748
        },
        "outputId": "37c122e0-10ff-4c2c-89e1-5da111babc62"
      },
      "cell_type": "code",
      "source": [
        "sampling(list_of_links)"
      ],
      "execution_count": 25,
      "outputs": [
        {
          "output_type": "stream",
          "text": [
            "0.0026666666666666666\n",
            "0.005333333333333333\n",
            "0.012\n",
            "0.02\n",
            "0.021333333333333333\n",
            "0.02266666666666667\n",
            "0.036\n",
            "0.037333333333333336\n",
            "0.08266666666666667\n",
            "0.10933333333333334\n",
            "0.13333333333333333\n",
            "0.18266666666666667\n",
            "0.18933333333333333\n",
            "0.19733333333333333\n",
            "0.21866666666666668\n",
            "0.22533333333333333\n",
            "0.24\n",
            "0.252\n",
            "0.25733333333333336\n",
            "0.284\n",
            "0.2946666666666667\n"
          ],
          "name": "stdout"
        },
        {
          "output_type": "execute_result",
          "data": {
            "text/plain": [
              "(['http://www.europarl.europa.eu/news/en/press-room/20180607IPR05244/parliament-votes-for-EU1-billion-in-aid-to-ukraine',\n",
              "  'http://www.europarl.europa.eu/news/en/press-room/20171127IPR88936/eu-budget-2018-approved-support-for-youth-growth-security',\n",
              "  'http://www.europarl.europa.eu/news/en/press-room/20180412IPR01606/meps-urge-facebook-ceo-to-come-to-european-parliament',\n",
              "  'http://www.europarl.europa.eu/news/en/press-room/20190307IPR30738/uk-must-make-clear-what-it-wants-meps-say-in-brexit-debate',\n",
              "  'http://www.europarl.europa.eu/news/en/press-room/20180214IPR97814/european-parliamentary-week-digital-economy-taxes-and-future-of-work',\n",
              "  'http://www.europarl.europa.eu/news/en/press-room/20181017BKG16357/european-parliament-press-kit-for-the-european-council-of-17-and-18-october-2018',\n",
              "  'http://www.europarl.europa.eu/news/en/press-room/20190111IPR23225/questions-and-answers-on-issues-about-the-digital-copyright-directive',\n",
              "  'http://www.europarl.europa.eu/news/en/press-room/20180524IPR04214/strengthening-european-unity-is-in-all-our-interests-says-luxembourg-pm-bettel',\n",
              "  'http://www.europarl.europa.eu/news/en/press-room/20190214IPR26425/online-platforms-required-by-law-to-be-more-transparent-with-eu-businesses',\n",
              "  'http://www.europarl.europa.eu/news/en/press-room/20180614IPR05810/energy-new-target-of-32-from-renewables-by-2030-agreed-by-meps-and-ministers',\n",
              "  'http://www.europarl.europa.eu/news/en/press-room/20171220IPR90702/acp-eu-leading-sustainable-economic-development-for-local-communities',\n",
              "  'http://www.europarl.europa.eu/news/en/press-room/20180112IPR91626/opening-first-plenary-session-of-2018',\n",
              "  'http://www.europarl.europa.eu/news/en/press-room/20180124IPR92748/bulgarian-presidency-priorities-discussed-in-committees',\n",
              "  'http://www.europarl.europa.eu/news/en/press-room/20180123IPR92314/urgent-action-needed-to-protect-eu-bee-population-urge-meps',\n",
              "  'http://www.europarl.europa.eu/news/en/press-room/20180906IPR12180/new-eu-rules-to-thwart-money-laundering-and-terrorist-financing',\n",
              "  'http://www.europarl.europa.eu/news/en/press-room/20181210IPR21430/meps-strongly-welcome-the-global-compact-on-migration',\n",
              "  'http://www.europarl.europa.eu/news/en/press-room/20190222IPR28563/parliament-to-host-conference-on-abolishing-the-death-penalty',\n",
              "  'http://www.europarl.europa.eu/news/en/press-room/20181106IPR18320/meps-cap-prices-of-calls-within-eu-and-approve-emergency-alert-system',\n",
              "  'http://www.europarl.europa.eu/news/en/press-room/20171120IPR88434/organic-food-green-light-for-fresh-eu-rules',\n",
              "  'http://www.europarl.europa.eu/news/en/press-room/20181205IPR20942/combatting-terrorism-parliament-sets-out-proposals-for-a-new-eu-strategy',\n",
              "  'http://www.europarl.europa.eu/news/en/press-room/20180112IPR91629/meps-set-ambitious-targets-for-cleaner-more-efficient-energy-use'],\n",
              " 0.2946666666666667)"
            ]
          },
          "metadata": {
            "tags": []
          },
          "execution_count": 25
        }
      ]
    },
    {
      "metadata": {
        "id": "DhZVltI_5BGX",
        "colab_type": "code",
        "colab": {
          "base_uri": "https://localhost:8080/",
          "height": 34
        },
        "outputId": "87bfd83a-72fd-43e9-e2fe-0b9eac1af579"
      },
      "cell_type": "code",
      "source": [
        "len(list_of_links)"
      ],
      "execution_count": 26,
      "outputs": [
        {
          "output_type": "execute_result",
          "data": {
            "text/plain": [
              "750"
            ]
          },
          "metadata": {
            "tags": []
          },
          "execution_count": 26
        }
      ]
    }
  ]
}