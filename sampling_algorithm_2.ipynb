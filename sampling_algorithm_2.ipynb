{
  "nbformat": 4,
  "nbformat_minor": 0,
  "metadata": {
    "colab": {
      "name": "sampling_algorithm_2.ipynb",
      "version": "0.3.2",
      "provenance": [],
      "include_colab_link": true
    },
    "kernelspec": {
      "display_name": "Python 3",
      "language": "python",
      "name": "python3"
    }
  },
  "cells": [
    {
      "cell_type": "markdown",
      "metadata": {
        "id": "view-in-github",
        "colab_type": "text"
      },
      "source": [
        "<a href=\"https://colab.research.google.com/github/lucapas/VERTEX/blob/master/sampling_algorithm_2.ipynb\" target=\"_parent\"><img src=\"https://colab.research.google.com/assets/colab-badge.svg\" alt=\"Open In Colab\"/></a>"
      ]
    },
    {
      "metadata": {
        "id": "qlWvwJv9I4JX",
        "colab_type": "text"
      },
      "cell_type": "markdown",
      "source": [
        "# Sampling algorithm\n",
        "Implementation of Vertex sampling algorithm described in [_Web-scale information extraction with vertex_](https://ieeexplore.ieee.org/abstract/document/5767842)"
      ]
    },
    {
      "metadata": {
        "id": "ymukEtf1I4JZ",
        "colab_type": "code",
        "colab": {}
      },
      "cell_type": "code",
      "source": [
        "import requests\n",
        "from lxml import html\n",
        "from collections import defaultdict"
      ],
      "execution_count": 0,
      "outputs": []
    },
    {
      "metadata": {
        "id": "FMGpbiOxI4Jd",
        "colab_type": "text"
      },
      "cell_type": "markdown",
      "source": [
        "## Get all xpath"
      ]
    },
    {
      "metadata": {
        "id": "6JkGq2gqI4Je",
        "colab_type": "code",
        "colab": {}
      },
      "cell_type": "code",
      "source": [
        "def get_all_xpath(html_src):\n",
        "    \n",
        "    # select nodes whose children include text nodes\n",
        "    XPATH_SELECTOR = \"//*[child::text()]\" \n",
        "        \n",
        "    root = html.fromstring(html_src)\n",
        "    \n",
        "    tree = root.getroottree()\n",
        "    \n",
        "    # leaf_nodes is not properly a list of all leaf nodes. \n",
        "    # It contains nodes which are parent of text elements in the DOM\n",
        "    leaf_nodes = root.xpath(XPATH_SELECTOR)\n",
        "    \n",
        "    xpath_list = []\n",
        "    \n",
        "    # extract xpath from previously selected nodes and filter out \"noisy\" nodes\n",
        "    for leaf in leaf_nodes:\n",
        "        \n",
        "        xpath = tree.getpath(leaf) + \"/text()\"\n",
        "        \n",
        "        # Filtering out xpaths which extract javascript code or css stylesheet\n",
        "        if  \"/script\" not in xpath and \"/noscript\" not in xpath and \"/style\" not in xpath:\n",
        "                        \n",
        "            selected_values = root.xpath(xpath)\n",
        "            selected_string = ''.join(selected_values).strip()\n",
        "            \n",
        "            # Filtering out xpaths which extract empty strings\n",
        "            if selected_string:\n",
        "                xpath_list.append(xpath)\n",
        "\n",
        "    return xpath_list    "
      ],
      "execution_count": 0,
      "outputs": []
    },
    {
      "metadata": {
        "id": "JGmPA1geI4Jk",
        "colab_type": "code",
        "colab": {}
      },
      "cell_type": "code",
      "source": [
        "r = requests.get(\"https://www.androidworld.it/schede/redmi-7-2/\")"
      ],
      "execution_count": 0,
      "outputs": []
    },
    {
      "metadata": {
        "id": "wrWDg3WaI4Jn",
        "colab_type": "code",
        "colab": {}
      },
      "cell_type": "code",
      "source": [
        "xpath_list = get_all_xpath(r.content)"
      ],
      "execution_count": 0,
      "outputs": []
    },
    {
      "metadata": {
        "id": "CHTwysKvI4Jq",
        "colab_type": "code",
        "outputId": "84e35f8a-a8db-45c2-eacc-75bb7deae17b",
        "colab": {
          "base_uri": "https://localhost:8080/",
          "height": 4947
        }
      },
      "cell_type": "code",
      "source": [
        "xpath_list"
      ],
      "execution_count": 5,
      "outputs": [
        {
          "output_type": "execute_result",
          "data": {
            "text/plain": [
              "['/html/head/title/text()',\n",
              " '/html/body/div/div[3]/div/header/div/div[1]/ul/li[1]/a/text()',\n",
              " '/html/body/div/div[3]/div/header/div/div[1]/ul/li[2]/a/text()',\n",
              " '/html/body/div/div[3]/div/header/div/div[1]/ul/li[3]/a/text()',\n",
              " '/html/body/div/div[3]/div/header/div/div[2]/span/a/text()',\n",
              " '/html/body/div/nav/div/ul/li[1]/a/text()',\n",
              " '/html/body/div/nav/div/ul/li[2]/a/text()',\n",
              " '/html/body/div/nav/div/ul/li[3]/a/text()',\n",
              " '/html/body/div/nav/div/ul/li[4]/a/text()',\n",
              " '/html/body/div/nav/div/ul/li[5]/a/text()',\n",
              " '/html/body/div/nav/div/ul/li[6]/a/text()',\n",
              " '/html/body/div/nav/div/ul/li[7]/a/text()',\n",
              " '/html/body/div/nav/div/ul/li[8]/a/text()',\n",
              " '/html/body/div/nav/div/ul/li[9]/a/text()',\n",
              " '/html/body/div/nav/div/ul/li[10]/a/text()',\n",
              " '/html/body/div/nav/div/ul/li[11]/a/text()',\n",
              " '/html/body/div/div[4]/div/main/div/section/article/figure/div/div[2]/a[2]/span[2]/text()',\n",
              " '/html/body/div/div[4]/div/main/div/section/article/figure/div/div[2]/a[3]/span[2]/text()',\n",
              " '/html/body/div/div[4]/div/main/div/section/article/figure/div/div[2]/a[4]/span[2]/text()',\n",
              " '/html/body/div/div[4]/div/main/div/section/article/figure/div/div[2]/span/a/text()',\n",
              " '/html/body/div/div[4]/div/main/div/section/article/div/header/div[1]/h1/text()',\n",
              " '/html/body/div/div[4]/div/main/div/section/article/div/header/div[1]/h1/span/text()',\n",
              " '/html/body/div/div[4]/div/main/div/section/article/div/header/div[3]/div[2]/span/a/text()',\n",
              " '/html/body/div/div[4]/div/main/div/section/article/div/ul/li[1]/dl/dt/text()',\n",
              " '/html/body/div/div[4]/div/main/div/section/article/div/ul/li[1]/dl/dd/text()',\n",
              " '/html/body/div/div[4]/div/main/div/section/article/div/ul/li[2]/dl/dt/text()',\n",
              " '/html/body/div/div[4]/div/main/div/section/article/div/ul/li[2]/dl/dd/text()',\n",
              " '/html/body/div/div[4]/div/main/div/section/article/div/ul/li[3]/dl/dt/text()',\n",
              " '/html/body/div/div[4]/div/main/div/section/article/div/ul/li[3]/dl/dd/text()',\n",
              " '/html/body/div/div[4]/div/main/div/section/article/div/ul/li[4]/dl/dt/text()',\n",
              " '/html/body/div/div[4]/div/main/div/section/article/div/ul/li[4]/dl/dd/text()',\n",
              " '/html/body/div/div[4]/div/main/div/section/article/div/ul/li[5]/dl/dt/text()',\n",
              " '/html/body/div/div[4]/div/main/div/section/article/div/ul/li[5]/dl/dd/text()',\n",
              " '/html/body/div/div[4]/div/main/div/section/article/div/ul/li[6]/dl/dt/text()',\n",
              " '/html/body/div/div[4]/div/main/div/section/article/div/ul/li[6]/dl/dd/text()',\n",
              " '/html/body/div/div[4]/div/main/div/section/article/div/ul/li[7]/dl/dt/text()',\n",
              " '/html/body/div/div[4]/div/main/div/section/article/div/ul/li[7]/dl/dd/text()',\n",
              " '/html/body/div/div[4]/div/main/div/section/article/div/ul/li[8]/dl/dt/text()',\n",
              " '/html/body/div/div[4]/div/main/div/section/article/div/ul/li[8]/dl/dd/text()',\n",
              " '/html/body/div/div[4]/div/main/div/section/article/div/div[1]/p[2]/text()',\n",
              " '/html/body/div/div[4]/div/main/div/section/article/div/div[1]/p[2]/strong/strong/strong/strong/strong/text()',\n",
              " '/html/body/div/div[4]/div/main/div/section/article/div/div[1]/p[3]/text()',\n",
              " '/html/body/div/div[4]/div/main/div/section/article/div/div[1]/p[3]/strong/strong/strong/strong/strong/strong/strong/strong/strong/strong/text()',\n",
              " '/html/body/div/div[4]/div/main/div/section/article/div/div[1]/p[4]/text()',\n",
              " '/html/body/div/div[4]/div/main/div/section/article/div/div[1]/p[4]/strong/strong/strong/strong/strong/strong/strong/strong/strong/strong/text()',\n",
              " '/html/body/div/div[4]/div/main/div/section/article/div/div[1]/p[5]/text()',\n",
              " '/html/body/div/div[4]/div/main/div/section/article/div/div[1]/p[6]/text()',\n",
              " '/html/body/div/div[4]/div/main/div/section/article/div/div[1]/p[6]/strong[1]/strong/strong/strong/strong/text()',\n",
              " '/html/body/div/div[4]/div/main/div/section/article/div/div[1]/p[6]/strong[2]/strong/strong/strong/strong/text()',\n",
              " '/html/body/div/div[4]/div/main/div/section/article/div/div[1]/p[6]/strong[3]/strong/strong/strong/strong/text()',\n",
              " '/html/body/div/div[4]/div/main/div/section/article/div/div[1]/p[7]/text()',\n",
              " '/html/body/div/div[4]/div/main/div/section/article/div/h2[1]/text()',\n",
              " '/html/body/div/div[4]/div/main/div/section/article/div/div[2]/div/div/div/div[1]/text()',\n",
              " '/html/body/div/div[4]/div/main/div/section/article/div/div[2]/div/div/div/div[1]/span/text()',\n",
              " '/html/body/div/div[4]/div/main/div/section/article/div/div[2]/div/div/div/div[2]/text()',\n",
              " '/html/body/div/div[4]/div/main/div/section/article/div/div[2]/div/div/div/div[2]/span/text()',\n",
              " '/html/body/div/div[4]/div/main/div/section/article/div/div[2]/div/div/div/div[3]/text()',\n",
              " '/html/body/div/div[4]/div/main/div/section/article/div/div[2]/div/div/div/div[3]/span/text()',\n",
              " '/html/body/div/div[4]/div/main/div/section/article/div/div[2]/div/ul/li[1]/label/h3/text()',\n",
              " '/html/body/div/div[4]/div/main/div/section/article/div/div[2]/div/ul/li[1]/div/div/div[1]/text()',\n",
              " '/html/body/div/div[4]/div/main/div/section/article/div/div[2]/div/ul/li[1]/div/div/div[1]/span/text()',\n",
              " '/html/body/div/div[4]/div/main/div/section/article/div/div[2]/div/ul/li[1]/div/div/div[2]/text()',\n",
              " '/html/body/div/div[4]/div/main/div/section/article/div/div[2]/div/ul/li[1]/div/div/div[2]/span/text()',\n",
              " '/html/body/div/div[4]/div/main/div/section/article/div/div[2]/div/ul/li[1]/div/div/div[3]/text()',\n",
              " '/html/body/div/div[4]/div/main/div/section/article/div/div[2]/div/ul/li[1]/div/div/div[3]/span/text()',\n",
              " '/html/body/div/div[4]/div/main/div/section/article/div/div[2]/div/ul/li[2]/label/h3/text()',\n",
              " '/html/body/div/div[4]/div/main/div/section/article/div/div[2]/div/ul/li[2]/div/div/div[1]/text()',\n",
              " '/html/body/div/div[4]/div/main/div/section/article/div/div[2]/div/ul/li[2]/div/div/div[1]/span/text()',\n",
              " '/html/body/div/div[4]/div/main/div/section/article/div/div[2]/div/ul/li[2]/div/div/div[2]/text()',\n",
              " '/html/body/div/div[4]/div/main/div/section/article/div/div[2]/div/ul/li[2]/div/div/div[2]/span/text()',\n",
              " '/html/body/div/div[4]/div/main/div/section/article/div/div[2]/div/ul/li[2]/div/div/div[3]/text()',\n",
              " '/html/body/div/div[4]/div/main/div/section/article/div/div[2]/div/ul/li[2]/div/div/div[3]/span/text()',\n",
              " '/html/body/div/div[4]/div/main/div/section/article/div/div[2]/div/ul/li[2]/div/div/div[4]/text()',\n",
              " '/html/body/div/div[4]/div/main/div/section/article/div/div[2]/div/ul/li[2]/div/div/div[4]/span/text()',\n",
              " '/html/body/div/div[4]/div/main/div/section/article/div/div[2]/div/ul/li[2]/div/div/div[5]/text()',\n",
              " '/html/body/div/div[4]/div/main/div/section/article/div/div[2]/div/ul/li[2]/div/div/div[5]/span/text()',\n",
              " '/html/body/div/div[4]/div/main/div/section/article/div/div[2]/div/ul/li[2]/div/div/div[6]/text()',\n",
              " '/html/body/div/div[4]/div/main/div/section/article/div/div[2]/div/ul/li[2]/div/div/div[6]/span/text()',\n",
              " '/html/body/div/div[4]/div/main/div/section/article/div/div[2]/div/ul/li[2]/div/div/div[7]/text()',\n",
              " '/html/body/div/div[4]/div/main/div/section/article/div/div[2]/div/ul/li[2]/div/div/div[7]/span/text()',\n",
              " '/html/body/div/div[4]/div/main/div/section/article/div/div[2]/div/ul/li[2]/div/div/div[8]/text()',\n",
              " '/html/body/div/div[4]/div/main/div/section/article/div/div[2]/div/ul/li[2]/div/div/div[8]/span/text()',\n",
              " '/html/body/div/div[4]/div/main/div/section/article/div/div[2]/div/ul/li[2]/div/div/div[9]/text()',\n",
              " '/html/body/div/div[4]/div/main/div/section/article/div/div[2]/div/ul/li[2]/div/div/div[9]/span/text()',\n",
              " '/html/body/div/div[4]/div/main/div/section/article/div/div[2]/div/ul/li[2]/div/div/div[10]/text()',\n",
              " '/html/body/div/div[4]/div/main/div/section/article/div/div[2]/div/ul/li[2]/div/div/div[10]/span/text()',\n",
              " '/html/body/div/div[4]/div/main/div/section/article/div/div[2]/div/ul/li[2]/div/div/div[11]/text()',\n",
              " '/html/body/div/div[4]/div/main/div/section/article/div/div[2]/div/ul/li[2]/div/div/div[11]/span/text()',\n",
              " '/html/body/div/div[4]/div/main/div/section/article/div/div[2]/div/ul/li[2]/div/div/div[12]/text()',\n",
              " '/html/body/div/div[4]/div/main/div/section/article/div/div[2]/div/ul/li[2]/div/div/div[12]/span/text()',\n",
              " '/html/body/div/div[4]/div/main/div/section/article/div/div[2]/div/ul/li[2]/div/div/div[13]/text()',\n",
              " '/html/body/div/div[4]/div/main/div/section/article/div/div[2]/div/ul/li[2]/div/div/div[13]/span/text()',\n",
              " '/html/body/div/div[4]/div/main/div/section/article/div/div[2]/div/ul/li[2]/div/div/div[14]/text()',\n",
              " '/html/body/div/div[4]/div/main/div/section/article/div/div[2]/div/ul/li[2]/div/div/div[14]/span/text()',\n",
              " '/html/body/div/div[4]/div/main/div/section/article/div/div[2]/div/ul/li[2]/div/div/div[15]/text()',\n",
              " '/html/body/div/div[4]/div/main/div/section/article/div/div[2]/div/ul/li[2]/div/div/div[15]/span/text()',\n",
              " '/html/body/div/div[4]/div/main/div/section/article/div/div[2]/div/ul/li[2]/div/div/div[16]/text()',\n",
              " '/html/body/div/div[4]/div/main/div/section/article/div/div[2]/div/ul/li[2]/div/div/div[16]/span/text()',\n",
              " '/html/body/div/div[4]/div/main/div/section/article/div/div[2]/div/ul/li[2]/div/div/div[17]/text()',\n",
              " '/html/body/div/div[4]/div/main/div/section/article/div/div[2]/div/ul/li[2]/div/div/div[17]/span/text()',\n",
              " '/html/body/div/div[4]/div/main/div/section/article/div/div[2]/div/ul/li[3]/label/h3/text()',\n",
              " '/html/body/div/div[4]/div/main/div/section/article/div/div[2]/div/ul/li[3]/div/div/div[1]/text()',\n",
              " '/html/body/div/div[4]/div/main/div/section/article/div/div[2]/div/ul/li[3]/div/div/div[1]/span/text()',\n",
              " '/html/body/div/div[4]/div/main/div/section/article/div/div[2]/div/ul/li[3]/div/div/div[2]/text()',\n",
              " '/html/body/div/div[4]/div/main/div/section/article/div/div[2]/div/ul/li[3]/div/div/div[2]/span/text()',\n",
              " '/html/body/div/div[4]/div/main/div/section/article/div/div[2]/div/ul/li[3]/div/div/div[3]/text()',\n",
              " '/html/body/div/div[4]/div/main/div/section/article/div/div[2]/div/ul/li[3]/div/div/div[3]/span/text()',\n",
              " '/html/body/div/div[4]/div/main/div/section/article/div/div[2]/div/ul/li[3]/div/div/div[4]/text()',\n",
              " '/html/body/div/div[4]/div/main/div/section/article/div/div[2]/div/ul/li[3]/div/div/div[4]/span/text()',\n",
              " '/html/body/div/div[4]/div/main/div/section/article/div/div[2]/div/ul/li[3]/div/div/div[5]/text()',\n",
              " '/html/body/div/div[4]/div/main/div/section/article/div/div[2]/div/ul/li[3]/div/div/div[5]/span/text()',\n",
              " '/html/body/div/div[4]/div/main/div/section/article/div/div[2]/div/ul/li[3]/div/div/div[6]/text()',\n",
              " '/html/body/div/div[4]/div/main/div/section/article/div/div[2]/div/ul/li[3]/div/div/div[6]/span/text()',\n",
              " '/html/body/div/div[4]/div/main/div/section/article/div/div[2]/div/ul/li[3]/div/div/div[7]/text()',\n",
              " '/html/body/div/div[4]/div/main/div/section/article/div/div[2]/div/ul/li[3]/div/div/div[7]/span/text()',\n",
              " '/html/body/div/div[4]/div/main/div/section/article/div/div[2]/div/ul/li[3]/div/div/div[8]/text()',\n",
              " '/html/body/div/div[4]/div/main/div/section/article/div/div[2]/div/ul/li[3]/div/div/div[8]/span/text()',\n",
              " '/html/body/div/div[4]/div/main/div/section/article/div/div[2]/div/ul/li[3]/div/div/div[9]/text()',\n",
              " '/html/body/div/div[4]/div/main/div/section/article/div/div[2]/div/ul/li[3]/div/div/div[9]/span/text()',\n",
              " '/html/body/div/div[4]/div/main/div/section/article/div/div[2]/div/ul/li[3]/div/div/div[10]/text()',\n",
              " '/html/body/div/div[4]/div/main/div/section/article/div/div[2]/div/ul/li[3]/div/div/div[10]/span/text()',\n",
              " '/html/body/div/div[4]/div/main/div/section/article/div/div[2]/div/ul/li[3]/div/div/div[11]/text()',\n",
              " '/html/body/div/div[4]/div/main/div/section/article/div/div[2]/div/ul/li[3]/div/div/div[11]/span/text()',\n",
              " '/html/body/div/div[4]/div/main/div/section/article/div/div[2]/div/ul/li[3]/div/div/div[12]/text()',\n",
              " '/html/body/div/div[4]/div/main/div/section/article/div/div[2]/div/ul/li[3]/div/div/div[12]/span/text()',\n",
              " '/html/body/div/div[4]/div/main/div/section/article/div/div[2]/div/ul/li[3]/div/div/div[13]/text()',\n",
              " '/html/body/div/div[4]/div/main/div/section/article/div/div[2]/div/ul/li[3]/div/div/div[13]/span/text()',\n",
              " '/html/body/div/div[4]/div/main/div/section/article/div/div[2]/div/ul/li[3]/div/div/div[14]/text()',\n",
              " '/html/body/div/div[4]/div/main/div/section/article/div/div[2]/div/ul/li[3]/div/div/div[14]/span/text()',\n",
              " '/html/body/div/div[4]/div/main/div/section/article/div/div[2]/div/ul/li[3]/div/div/div[15]/text()',\n",
              " '/html/body/div/div[4]/div/main/div/section/article/div/div[2]/div/ul/li[3]/div/div/div[15]/span/text()',\n",
              " '/html/body/div/div[4]/div/main/div/section/article/div/div[2]/div/ul/li[4]/label/h3/text()',\n",
              " '/html/body/div/div[4]/div/main/div/section/article/div/div[2]/div/ul/li[4]/div/div/div[1]/text()',\n",
              " '/html/body/div/div[4]/div/main/div/section/article/div/div[2]/div/ul/li[4]/div/div/div[1]/span/text()',\n",
              " '/html/body/div/div[4]/div/main/div/section/article/div/div[2]/div/ul/li[4]/div/div/div[2]/text()',\n",
              " '/html/body/div/div[4]/div/main/div/section/article/div/div[2]/div/ul/li[4]/div/div/div[2]/span/text()',\n",
              " '/html/body/div/div[4]/div/main/div/section/article/div/div[2]/div/ul/li[4]/div/div/div[3]/text()',\n",
              " '/html/body/div/div[4]/div/main/div/section/article/div/div[2]/div/ul/li[4]/div/div/div[3]/span/text()',\n",
              " '/html/body/div/div[4]/div/main/div/section/article/div/div[2]/div/ul/li[4]/div/div/div[4]/text()',\n",
              " '/html/body/div/div[4]/div/main/div/section/article/div/div[2]/div/ul/li[4]/div/div/div[4]/span/text()',\n",
              " '/html/body/div/div[4]/div/main/div/section/article/div/div[2]/div/ul/li[4]/div/div/div[5]/text()',\n",
              " '/html/body/div/div[4]/div/main/div/section/article/div/div[2]/div/ul/li[4]/div/div/div[5]/span/text()',\n",
              " '/html/body/div/div[4]/div/main/div/section/article/div/div[2]/div/ul/li[4]/div/div/div[6]/text()',\n",
              " '/html/body/div/div[4]/div/main/div/section/article/div/div[2]/div/ul/li[4]/div/div/div[6]/span/text()',\n",
              " '/html/body/div/div[4]/div/main/div/section/article/div/div[2]/div/ul/li[4]/div/div/div[7]/text()',\n",
              " '/html/body/div/div[4]/div/main/div/section/article/div/div[2]/div/ul/li[4]/div/div/div[7]/span/text()',\n",
              " '/html/body/div/div[4]/div/main/div/section/article/div/div[2]/div/ul/li[5]/label/h3/text()',\n",
              " '/html/body/div/div[4]/div/main/div/section/article/div/div[2]/div/ul/li[5]/div/div/div[1]/text()',\n",
              " '/html/body/div/div[4]/div/main/div/section/article/div/div[2]/div/ul/li[5]/div/div/div[1]/span/text()',\n",
              " '/html/body/div/div[4]/div/main/div/section/article/div/div[2]/div/ul/li[5]/div/div/div[2]/text()',\n",
              " '/html/body/div/div[4]/div/main/div/section/article/div/div[2]/div/ul/li[5]/div/div/div[2]/span/text()',\n",
              " '/html/body/div/div[4]/div/main/div/section/article/div/div[2]/div/ul/li[5]/div/div/div[3]/text()',\n",
              " '/html/body/div/div[4]/div/main/div/section/article/div/div[2]/div/ul/li[5]/div/div/div[3]/span/text()',\n",
              " '/html/body/div/div[4]/div/main/div/section/article/div/div[2]/div/ul/li[5]/div/div/div[4]/text()',\n",
              " '/html/body/div/div[4]/div/main/div/section/article/div/div[2]/div/ul/li[5]/div/div/div[4]/span/text()',\n",
              " '/html/body/div/div[4]/div/main/div/section/article/div/div[2]/div/ul/li[5]/div/div/div[5]/text()',\n",
              " '/html/body/div/div[4]/div/main/div/section/article/div/div[2]/div/ul/li[5]/div/div/div[5]/span/text()',\n",
              " '/html/body/div/div[4]/div/main/div/section/article/div/div[2]/div/ul/li[5]/div/div/div[6]/text()',\n",
              " '/html/body/div/div[4]/div/main/div/section/article/div/div[2]/div/ul/li[5]/div/div/div[6]/span/text()',\n",
              " '/html/body/div/div[4]/div/main/div/section/article/div/div[2]/div/ul/li[5]/div/div/div[7]/text()',\n",
              " '/html/body/div/div[4]/div/main/div/section/article/div/div[2]/div/ul/li[5]/div/div/div[7]/span/text()',\n",
              " '/html/body/div/div[4]/div/main/div/section/article/div/div[2]/div/ul/li[5]/div/div/div[8]/text()',\n",
              " '/html/body/div/div[4]/div/main/div/section/article/div/div[2]/div/ul/li[5]/div/div/div[8]/span/text()',\n",
              " '/html/body/div/div[4]/div/main/div/section/article/div/div[2]/div/ul/li[6]/label/h3/text()',\n",
              " '/html/body/div/div[4]/div/main/div/section/article/div/div[2]/div/ul/li[6]/div/div/div[1]/text()',\n",
              " '/html/body/div/div[4]/div/main/div/section/article/div/div[2]/div/ul/li[6]/div/div/div[1]/span/text()',\n",
              " '/html/body/div/div[4]/div/main/div/section/article/div/div[2]/div/ul/li[6]/div/div/div[2]/text()',\n",
              " '/html/body/div/div[4]/div/main/div/section/article/div/div[2]/div/ul/li[6]/div/div/div[2]/span/text()',\n",
              " '/html/body/div/div[4]/div/main/div/section/article/div/div[2]/div/ul/li[7]/label/h3/text()',\n",
              " '/html/body/div/div[4]/div/main/div/section/article/div/div[2]/div/ul/li[7]/div/div/div[1]/text()',\n",
              " '/html/body/div/div[4]/div/main/div/section/article/div/div[2]/div/ul/li[7]/div/div/div[1]/span/text()',\n",
              " '/html/body/div/div[4]/div/main/div/section/article/div/div[2]/div/ul/li[7]/div/div/div[2]/text()',\n",
              " '/html/body/div/div[4]/div/main/div/section/article/div/div[2]/div/ul/li[7]/div/div/div[2]/span/text()',\n",
              " '/html/body/div/div[4]/div/main/div/section/article/div/div[2]/div/ul/li[7]/div/div/div[3]/text()',\n",
              " '/html/body/div/div[4]/div/main/div/section/article/div/div[2]/div/ul/li[7]/div/div/div[3]/span/text()',\n",
              " '/html/body/div/div[4]/div/main/div/section/article/div/div[2]/div/ul/li[8]/label/h3/text()',\n",
              " '/html/body/div/div[4]/div/main/div/section/article/div/div[2]/div/ul/li[8]/div/div/div[1]/text()',\n",
              " '/html/body/div/div[4]/div/main/div/section/article/div/div[2]/div/ul/li[8]/div/div/div[1]/span/text()',\n",
              " '/html/body/div/div[4]/div/main/div/section/article/div/div[2]/div/ul/li[8]/div/div/div[2]/text()',\n",
              " '/html/body/div/div[4]/div/main/div/section/article/div/div[2]/div/ul/li[8]/div/div/div[2]/span/text()',\n",
              " '/html/body/div/div[4]/div/main/div/section/article/div/div[2]/div/ul/li[8]/div/div/div[3]/text()',\n",
              " '/html/body/div/div[4]/div/main/div/section/article/div/div[2]/div/ul/li[8]/div/div/div[3]/span/text()',\n",
              " '/html/body/div/div[4]/div/main/div/section/article/div/div[2]/div/ul/li[8]/div/div/div[4]/text()',\n",
              " '/html/body/div/div[4]/div/main/div/section/article/div/div[2]/div/ul/li[8]/div/div/div[4]/span/text()',\n",
              " '/html/body/div/div[4]/div/main/div/section/article/div/div[2]/div/ul/li[9]/label/h3/text()',\n",
              " '/html/body/div/div[4]/div/main/div/section/article/div/div[2]/div/ul/li[9]/div/div/div[1]/text()',\n",
              " '/html/body/div/div[4]/div/main/div/section/article/div/div[2]/div/ul/li[9]/div/div/div[1]/span/text()',\n",
              " '/html/body/div/div[4]/div/main/div/section/article/div/div[2]/div/ul/li[9]/div/div/div[2]/text()',\n",
              " '/html/body/div/div[4]/div/main/div/section/article/div/div[2]/div/ul/li[9]/div/div/div[2]/span/text()',\n",
              " '/html/body/div/div[4]/div/main/div/section/article/div/div[2]/div/ul/li[9]/div/div/div[3]/text()',\n",
              " '/html/body/div/div[4]/div/main/div/section/article/div/div[2]/div/ul/li[9]/div/div/div[3]/span/text()',\n",
              " '/html/body/div/div[4]/div/main/div/section/article/div/div[2]/div/ul/li[9]/div/div/div[4]/text()',\n",
              " '/html/body/div/div[4]/div/main/div/section/article/div/div[2]/div/ul/li[9]/div/div/div[4]/span/text()',\n",
              " '/html/body/div/div[4]/div/main/div/section/article/div/div[2]/div/ul/li[9]/div/div/div[5]/text()',\n",
              " '/html/body/div/div[4]/div/main/div/section/article/div/div[2]/div/ul/li[9]/div/div/div[5]/span/text()',\n",
              " '/html/body/div/div[4]/div/main/div/section/article/div/div[2]/div/ul/li[9]/div/div/div[6]/text()',\n",
              " '/html/body/div/div[4]/div/main/div/section/article/div/div[2]/div/ul/li[9]/div/div/div[6]/span/text()',\n",
              " '/html/body/div/div[4]/div/main/div/section/article/div/div[2]/div/ul/li[9]/div/div/div[7]/text()',\n",
              " '/html/body/div/div[4]/div/main/div/section/article/div/div[2]/div/ul/li[9]/div/div/div[7]/span/text()',\n",
              " '/html/body/div/div[4]/div/main/div/section/article/div/div[2]/div/ul/li[9]/div/div/div[8]/text()',\n",
              " '/html/body/div/div[4]/div/main/div/section/article/div/div[2]/div/ul/li[9]/div/div/div[8]/span/text()',\n",
              " '/html/body/div/div[4]/div/main/div/section/article/div/h2[2]/text()',\n",
              " '/html/body/div/div[4]/div/main/div/section/article/div/div[3]/article[1]/div[1]/span/time/text()',\n",
              " '/html/body/div/div[4]/div/main/div/section/article/div/div[3]/article[1]/div[1]/div[2]/div[1]/span[1]/a/text()',\n",
              " '/html/body/div/div[4]/div/main/div/section/article/div/div[3]/article[1]/div[1]/div[2]/div[1]/span[2]/span/a/text()',\n",
              " '/html/body/div/div[4]/div/main/div/section/article/div/div[3]/article[1]/div[1]/div[2]/div[2]/h2/a/text()',\n",
              " '/html/body/div/div[4]/div/main/div/section/article/div/div[3]/article[1]/div[1]/div[2]/div[2]/p[1]/text()',\n",
              " '/html/body/div/div[4]/div/main/div/section/article/div/div[3]/article[1]/div[1]/div[2]/div[2]/p[2]/a/text()',\n",
              " '/html/body/div/div[4]/div/main/div/section/article/div/div[3]/article[1]/div[2]/span/span/a/text()',\n",
              " '/html/body/div/div[4]/div/main/div/section/article/div/div[3]/article[1]/div[2]/a/h2/text()',\n",
              " '/html/body/div/div[4]/div/main/div/section/article/div/div[3]/article[2]/div[1]/span/time/text()',\n",
              " '/html/body/div/div[4]/div/main/div/section/article/div/div[3]/article[2]/div[1]/div[2]/div[1]/span[1]/a/text()',\n",
              " '/html/body/div/div[4]/div/main/div/section/article/div/div[3]/article[2]/div[1]/div[2]/div[1]/span[2]/span/a/text()',\n",
              " '/html/body/div/div[4]/div/main/div/section/article/div/div[3]/article[2]/div[1]/div[2]/div[2]/h2/a/text()',\n",
              " '/html/body/div/div[4]/div/main/div/section/article/div/div[3]/article[2]/div[1]/div[2]/div[2]/p[1]/text()',\n",
              " '/html/body/div/div[4]/div/main/div/section/article/div/div[3]/article[2]/div[1]/div[2]/div[2]/p[2]/a/text()',\n",
              " '/html/body/div/div[4]/div/main/div/section/article/div/div[3]/article[2]/div[2]/span/span/a/text()',\n",
              " '/html/body/div/div[4]/div/main/div/section/article/div/div[3]/article[2]/div[2]/a/h2/text()',\n",
              " '/html/body/div/div[4]/div/main/div/section/article/div/div[3]/article[3]/div[1]/span/time/text()',\n",
              " '/html/body/div/div[4]/div/main/div/section/article/div/div[3]/article[3]/div[1]/div[2]/div[1]/span[1]/a/text()',\n",
              " '/html/body/div/div[4]/div/main/div/section/article/div/div[3]/article[3]/div[1]/div[2]/div[1]/span[2]/span/a/text()',\n",
              " '/html/body/div/div[4]/div/main/div/section/article/div/div[3]/article[3]/div[1]/div[2]/div[2]/h2/a/text()',\n",
              " '/html/body/div/div[4]/div/main/div/section/article/div/div[3]/article[3]/div[1]/div[2]/div[2]/p[1]/text()',\n",
              " '/html/body/div/div[4]/div/main/div/section/article/div/div[3]/article[3]/div[1]/div[2]/div[2]/p[2]/a/text()',\n",
              " '/html/body/div/div[4]/div/main/div/section/article/div/div[3]/article[3]/div[2]/span/span/a/text()',\n",
              " '/html/body/div/div[4]/div/main/div/section/article/div/div[3]/article[3]/div[2]/a/h2/text()',\n",
              " '/html/body/div/div[4]/div/main/div/section/article/div/div[3]/article[4]/div[1]/span/time/text()',\n",
              " '/html/body/div/div[4]/div/main/div/section/article/div/div[3]/article[4]/div[1]/div[2]/div[1]/span[1]/a/text()',\n",
              " '/html/body/div/div[4]/div/main/div/section/article/div/div[3]/article[4]/div[1]/div[2]/div[1]/span[2]/span/a/text()',\n",
              " '/html/body/div/div[4]/div/main/div/section/article/div/div[3]/article[4]/div[1]/div[2]/div[2]/h2/a/text()',\n",
              " '/html/body/div/div[4]/div/main/div/section/article/div/div[3]/article[4]/div[1]/div[2]/div[2]/p[1]/text()',\n",
              " '/html/body/div/div[4]/div/main/div/section/article/div/div[3]/article[4]/div[1]/div[2]/div[2]/p[2]/a/text()',\n",
              " '/html/body/div/div[4]/div/main/div/section/article/div/div[3]/article[4]/div[2]/span/span/a/text()',\n",
              " '/html/body/div/div[4]/div/main/div/section/article/div/div[3]/article[4]/div[2]/a/h2/text()',\n",
              " '/html/body/div/div[4]/div/main/div/section/article/div/div[3]/article[5]/div[1]/span/time/text()',\n",
              " '/html/body/div/div[4]/div/main/div/section/article/div/div[3]/article[5]/div[1]/div[2]/div[1]/span[1]/a/text()',\n",
              " '/html/body/div/div[4]/div/main/div/section/article/div/div[3]/article[5]/div[1]/div[2]/div[1]/span[2]/span/a/text()',\n",
              " '/html/body/div/div[4]/div/main/div/section/article/div/div[3]/article[5]/div[1]/div[2]/div[2]/h2/a/text()',\n",
              " '/html/body/div/div[4]/div/main/div/section/article/div/div[3]/article[5]/div[1]/div[2]/div[2]/p[1]/text()',\n",
              " '/html/body/div/div[4]/div/main/div/section/article/div/div[3]/article[5]/div[1]/div[2]/div[2]/p[2]/a/text()',\n",
              " '/html/body/div/div[4]/div/main/div/section/article/div/div[3]/article[5]/div[2]/span/span/a/text()',\n",
              " '/html/body/div/div[4]/div/main/div/section/article/div/div[3]/article[5]/div[2]/a/h2/text()',\n",
              " '/html/body/div/div[4]/div/main/div/section/article/div/div[3]/article[6]/div[1]/span/time/text()',\n",
              " '/html/body/div/div[4]/div/main/div/section/article/div/div[3]/article[6]/div[1]/div[2]/div[1]/span/span/a/text()',\n",
              " '/html/body/div/div[4]/div/main/div/section/article/div/div[3]/article[6]/div[1]/div[2]/div[2]/h2/a/text()',\n",
              " '/html/body/div/div[4]/div/main/div/section/article/div/div[3]/article[6]/div[1]/div[2]/div[2]/p/text()',\n",
              " '/html/body/div/div[4]/div/main/div/section/article/div/div[3]/article[6]/div[2]/span/span/a/text()',\n",
              " '/html/body/div/div[4]/div/main/div/section/article/div/div[3]/article[6]/div[2]/a/h2/text()',\n",
              " '/html/body/div/div[4]/div/main/div/section/article/div/div[3]/article[7]/div[1]/span/time/text()',\n",
              " '/html/body/div/div[4]/div/main/div/section/article/div/div[3]/article[7]/div[1]/div[2]/div[1]/span[1]/a/text()',\n",
              " '/html/body/div/div[4]/div/main/div/section/article/div/div[3]/article[7]/div[1]/div[2]/div[1]/span[2]/span/a/text()',\n",
              " '/html/body/div/div[4]/div/main/div/section/article/div/div[3]/article[7]/div[1]/div[2]/div[2]/h2/a/text()',\n",
              " '/html/body/div/div[4]/div/main/div/section/article/div/div[3]/article[7]/div[1]/div[2]/div[2]/p[1]/text()',\n",
              " '/html/body/div/div[4]/div/main/div/section/article/div/div[3]/article[7]/div[1]/div[2]/div[2]/p[2]/a/text()',\n",
              " '/html/body/div/div[4]/div/main/div/section/article/div/div[3]/article[7]/div[2]/span/span/a/text()',\n",
              " '/html/body/div/div[4]/div/main/div/section/article/div/div[3]/article[7]/div[2]/a/h2/text()',\n",
              " '/html/body/div/div[4]/div/main/div/section/article/div/div[3]/article[8]/div[1]/span/time/text()',\n",
              " '/html/body/div/div[4]/div/main/div/section/article/div/div[3]/article[8]/div[1]/div[2]/div[1]/span[1]/a/text()',\n",
              " '/html/body/div/div[4]/div/main/div/section/article/div/div[3]/article[8]/div[1]/div[2]/div[1]/span[2]/span/a/text()',\n",
              " '/html/body/div/div[4]/div/main/div/section/article/div/div[3]/article[8]/div[1]/div[2]/div[2]/h2/a/text()',\n",
              " '/html/body/div/div[4]/div/main/div/section/article/div/div[3]/article[8]/div[1]/div[2]/div[2]/p[1]/text()',\n",
              " '/html/body/div/div[4]/div/main/div/section/article/div/div[3]/article[8]/div[1]/div[2]/div[2]/p[2]/a/text()',\n",
              " '/html/body/div/div[4]/div/main/div/section/article/div/div[3]/article[8]/div[2]/span/span/a/text()',\n",
              " '/html/body/div/div[4]/div/main/div/section/article/div/div[3]/article[8]/div[2]/a/h2/text()',\n",
              " '/html/body/div/div[4]/div/main/div/section/article/div/div[4]/a/text()',\n",
              " '/html/body/div/div[4]/div/main/div/section/article/div/h2[3]/text()',\n",
              " '/html/body/div/div[4]/div/main/div/section/article/div/div[5]/div/div/div[1]/div/p[1]/a/text()',\n",
              " '/html/body/div/div[4]/div/main/div/section/article/div/div[5]/div/div/div[1]/div/p[2]/a/text()',\n",
              " '/html/body/div/div[4]/div/main/div/section/article/div/div[5]/div/div/div[2]/div/p[1]/a/text()',\n",
              " '/html/body/div/div[4]/div/main/div/section/article/div/div[5]/div/div/div[2]/div/p[2]/a/text()',\n",
              " '/html/body/div/div[4]/div/main/div/section/article/div/div[5]/div/div/div[3]/div/p[1]/a/text()',\n",
              " '/html/body/div/div[4]/div/main/div/section/article/div/div[5]/div/div/div[3]/div/p[2]/a/text()',\n",
              " '/html/body/div/div[4]/div/main/div/section/article/div/div[5]/div/div/div[4]/div/p[1]/a/text()',\n",
              " '/html/body/div/div[4]/div/main/div/section/article/div/div[5]/div/div/div[4]/div/p[2]/a/text()',\n",
              " '/html/body/div/div[4]/div/main/div/section/article/div/div[5]/div/div/div[5]/div/figure/a/div/div/div/p/text()',\n",
              " '/html/body/div/div[4]/div/main/div/section/article/div/div[5]/div/div/div[5]/div/p[1]/a/text()',\n",
              " '/html/body/div/div[4]/div/main/div/section/article/div/div[5]/div/div/div[5]/div/p[2]/a/text()',\n",
              " '/html/body/div/div[4]/div/main/div/section/article/div/p/text()',\n",
              " '/html/body/div/footer/div/div/div[1]/div/div/p/text()',\n",
              " '/html/body/div/footer/div/div/div[1]/div/div/p/a/text()',\n",
              " '/html/body/div/footer/div/div/div[1]/div/div/ul/li[1]/a/text()',\n",
              " '/html/body/div/footer/div/div/div[1]/div/div/ul/li[2]/a/text()',\n",
              " '/html/body/div/footer/div/div/div[1]/div/div/ul/li[3]/a/text()',\n",
              " '/html/body/div/footer/div/div/div[1]/div/div/ul/li[4]/a/text()',\n",
              " '/html/body/div/footer/div/div/div[1]/div/div/ul/li[5]/a/text()',\n",
              " '/html/body/div/footer/div/div/div[1]/div/div/ul/li[6]/a/text()',\n",
              " '/html/body/div/footer/div/div/div[2]/div[1]/text()',\n",
              " '/html/body/div/footer/div/div/div[2]/div[2]/text()',\n",
              " '/html/body/div/footer/div/div/div[2]/div[3]/p/span[1]/text()',\n",
              " '/html/body/div/footer/div/div/div[2]/div[3]/p/span[2]/text()']"
            ]
          },
          "metadata": {
            "tags": []
          },
          "execution_count": 5
        }
      ]
    },
    {
      "metadata": {
        "id": "7A5ljFiEI4Jx",
        "colab_type": "code",
        "outputId": "cf49b6c7-3bb3-44f3-c4f5-cd44f379cb44",
        "colab": {
          "base_uri": "https://localhost:8080/",
          "height": 34
        }
      },
      "cell_type": "code",
      "source": [
        "len(xpath_list)"
      ],
      "execution_count": 6,
      "outputs": [
        {
          "output_type": "execute_result",
          "data": {
            "text/plain": [
              "290"
            ]
          },
          "metadata": {
            "tags": []
          },
          "execution_count": 6
        }
      ]
    },
    {
      "metadata": {
        "id": "NPOnHBn6I4J2",
        "colab_type": "code",
        "outputId": "60d3ff0c-d378-47a2-ed3e-944314766733",
        "colab": {
          "base_uri": "https://localhost:8080/",
          "height": 9897
        }
      },
      "cell_type": "code",
      "source": [
        "root = html.fromstring(r.content)\n",
        "for xpath in xpath_list:\n",
        "    list_of_values = root.xpath(xpath)\n",
        "    string_value = ''.join(list_of_values)\n",
        "    clean_value = string_value.strip()\n",
        "    #print([string_value])\n",
        "    print([clean_value])\n",
        "    print()"
      ],
      "execution_count": 7,
      "outputs": [
        {
          "output_type": "stream",
          "text": [
            "['Redmi 7 (3GB) - Scheda tecnica | AndroidWorld']\n",
            "\n",
            "['smart']\n",
            "\n",
            "['mobile']\n",
            "\n",
            "['android']\n",
            "\n",
            "['AndroidWorld']\n",
            "\n",
            "['Recensioni']\n",
            "\n",
            "['Schede tecniche']\n",
            "\n",
            "['Smartphone']\n",
            "\n",
            "['Smartwatch']\n",
            "\n",
            "['Tablet']\n",
            "\n",
            "['App']\n",
            "\n",
            "['Giochi']\n",
            "\n",
            "['Guide']\n",
            "\n",
            "['Video']\n",
            "\n",
            "['Forum']\n",
            "\n",
            "['📸']\n",
            "\n",
            "['Specifiche']\n",
            "\n",
            "['notizie']\n",
            "\n",
            "['Correlati']\n",
            "\n",
            "['Confronta']\n",
            "\n",
            "['Redmi 7 (3GB)']\n",
            "\n",
            "['Scheda Tecnica']\n",
            "\n",
            "['Confronta']\n",
            "\n",
            "['CPU']\n",
            "\n",
            "['octa 1.8 GHz']\n",
            "\n",
            "['Display']\n",
            "\n",
            "['6,26\" HD+ / 720 x 1520']\n",
            "\n",
            "['Fotocamera']\n",
            "\n",
            "['12 Mpx ƒ/2.2']\n",
            "\n",
            "['Frontale']\n",
            "\n",
            "['8 Mpx']\n",
            "\n",
            "['RAM']\n",
            "\n",
            "['3 GB']\n",
            "\n",
            "['Memoria interna']\n",
            "\n",
            "['32 / 64 GB']\n",
            "\n",
            "['Android']\n",
            "\n",
            "['9.0 Pie']\n",
            "\n",
            "['Batteria']\n",
            "\n",
            "['4000 mAh']\n",
            "\n",
            "['è uno smartphone con sistema operativo Android di fascia bassa.']\n",
            "\n",
            "['Redmi 7 (3GB)']\n",
            "\n",
            "['La tecnologia del display dello smartphone è IPS LCD. Ha una diagonale di  ed una risoluzione di HD+ / 720 x 1520 e quindi un ppi di 269 ppi.']\n",
            "\n",
            "['6,26 pollici']\n",
            "\n",
            "['Abbiamo a che fare con una fotocamera a risoluzione di  con il supporto di un flash Singolo utile ad illuminare le foto in condizioni di scarsa luce. I video vengono registrati a Full HD - 1920 x 1080 pixel e la fotocamera frontale è da 8 megapixel.']\n",
            "\n",
            "['12 megapixel']\n",
            "\n",
            "[\"Il dispositivo è di tipo dual SIM e supporta le reti mobili sino a quelle LTE , mentre la Wi-Fi è di tipo b/g/n e il Bluetooth è 4.2. Non manca il GPS e neanche la radio FM. È del tutto assente invece l'NFC e la porta ad infrarossi.\"]\n",
            "\n",
            "[\"A muovere questo dispositivo troviamo un processore  octa con supporto ai 64 bit che lavora alla frequenza di 1.8 GHz e ha un processore grafico Adreno 506. Abbiamo poi  di RAM e  di memoria, espandibile tramite l'ausilio di una microSD.\"]\n",
            "\n",
            "['Qualcomm SDM632 Snapdragon 632']\n",
            "\n",
            "['3 GB']\n",
            "\n",
            "['32 / 64 GB']\n",
            "\n",
            "[\"All'interno del dispositivo troviamo una batteria non removibile da 4000 mAh.\"]\n",
            "\n",
            "['Redmi 7 (3GB): Specifiche Tecniche']\n",
            "\n",
            "['EUR 159,00']\n",
            "\n",
            "['Prezzo di lancio']\n",
            "\n",
            "['158,7 x 75,6 x 8,5 mm']\n",
            "\n",
            "['Dimensioni']\n",
            "\n",
            "['180 g']\n",
            "\n",
            "['Peso']\n",
            "\n",
            "['Introduzione']\n",
            "\n",
            "['Redmi']\n",
            "\n",
            "['Marca']\n",
            "\n",
            "['Android']\n",
            "\n",
            "['Sistema operativo']\n",
            "\n",
            "['9.0 Pie']\n",
            "\n",
            "['Versione Android']\n",
            "\n",
            "['Hardware']\n",
            "\n",
            "['Qualcomm SDM632 Snapdragon 632']\n",
            "\n",
            "['CPU']\n",
            "\n",
            "['Adreno 506']\n",
            "\n",
            "['GPU']\n",
            "\n",
            "['octa']\n",
            "\n",
            "['Numero core']\n",
            "\n",
            "['1.8 GHz']\n",
            "\n",
            "['Frequenza processore']\n",
            "\n",
            "['14nm']\n",
            "\n",
            "['Processo produttivo']\n",
            "\n",
            "['3 GB']\n",
            "\n",
            "['RAM']\n",
            "\n",
            "['32 / 64 GB']\n",
            "\n",
            "['Memoria interna (ROM)']\n",
            "\n",
            "['Sì']\n",
            "\n",
            "['Memoria espandibile']\n",
            "\n",
            "['Sì']\n",
            "\n",
            "['Accelerometro']\n",
            "\n",
            "['Sì']\n",
            "\n",
            "['Bussola digitale']\n",
            "\n",
            "['Sì']\n",
            "\n",
            "['Sensore di prossimità']\n",
            "\n",
            "['Sì']\n",
            "\n",
            "['Sensore di luminosità']\n",
            "\n",
            "['Sì']\n",
            "\n",
            "['Giroscopio']\n",
            "\n",
            "['No']\n",
            "\n",
            "['Barometro']\n",
            "\n",
            "['Virtuale']\n",
            "\n",
            "['Tipo di tastiera']\n",
            "\n",
            "['Sì']\n",
            "\n",
            "['Lettore Impronte digitali']\n",
            "\n",
            "['Sì']\n",
            "\n",
            "['Microfono riduzione rumore']\n",
            "\n",
            "['Connessioni']\n",
            "\n",
            "['Quad Band (850/900/1800/1900)']\n",
            "\n",
            "['GSM']\n",
            "\n",
            "['Sì']\n",
            "\n",
            "['Connettività mobile']\n",
            "\n",
            "['Sì']\n",
            "\n",
            "['Modulo telefonico']\n",
            "\n",
            "['Sì']\n",
            "\n",
            "['Dual SIM']\n",
            "\n",
            "['nanoSIM']\n",
            "\n",
            "['Tipo SIM']\n",
            "\n",
            "['4G+ - 300 Mbps']\n",
            "\n",
            "['Velocità rete']\n",
            "\n",
            "['b/g/n']\n",
            "\n",
            "['Wi-Fi']\n",
            "\n",
            "['4.2']\n",
            "\n",
            "['Bluetooth']\n",
            "\n",
            "['No']\n",
            "\n",
            "['Porta Infrarossi']\n",
            "\n",
            "['No']\n",
            "\n",
            "['NFC']\n",
            "\n",
            "['Sì']\n",
            "\n",
            "['GPS']\n",
            "\n",
            "['Sì']\n",
            "\n",
            "['GLONASS']\n",
            "\n",
            "['Sì']\n",
            "\n",
            "['Radio FM']\n",
            "\n",
            "['Sì']\n",
            "\n",
            "['Jack audio']\n",
            "\n",
            "['microUSB']\n",
            "\n",
            "['Tipo ingresso USB']\n",
            "\n",
            "['Display']\n",
            "\n",
            "['IPS LCD']\n",
            "\n",
            "['Tecnologia display']\n",
            "\n",
            "['HD+ / 720 x 1520']\n",
            "\n",
            "['Risoluzione display']\n",
            "\n",
            "['269 ppi']\n",
            "\n",
            "['Densità pixel']\n",
            "\n",
            "['6,26 pollici']\n",
            "\n",
            "['Dimensione display']\n",
            "\n",
            "['18:9']\n",
            "\n",
            "['Formato display']\n",
            "\n",
            "['No']\n",
            "\n",
            "['Force Touch']\n",
            "\n",
            "['No']\n",
            "\n",
            "['HDR']\n",
            "\n",
            "['Fotocamera']\n",
            "\n",
            "['12 megapixel']\n",
            "\n",
            "['Risoluzione']\n",
            "\n",
            "['ƒ/2.2']\n",
            "\n",
            "['Apertura focale']\n",
            "\n",
            "['Singolo']\n",
            "\n",
            "['Flash fotocamera']\n",
            "\n",
            "['No']\n",
            "\n",
            "['Stabilizzatore ottico']\n",
            "\n",
            "['No']\n",
            "\n",
            "['Autofocus laser']\n",
            "\n",
            "['No']\n",
            "\n",
            "['Sensore di spettro colore']\n",
            "\n",
            "['Full HD - 1920 x 1080 pixel']\n",
            "\n",
            "['Risoluzione video']\n",
            "\n",
            "['60 fps']\n",
            "\n",
            "['FPS video']\n",
            "\n",
            "['Seconda fotocamera']\n",
            "\n",
            "['Effetto bokeh']\n",
            "\n",
            "['Tipologia']\n",
            "\n",
            "['2 megapixel']\n",
            "\n",
            "['Risoluzione']\n",
            "\n",
            "['Fotocamera frontale']\n",
            "\n",
            "['8 megapixel']\n",
            "\n",
            "['Risoluzione (frontale)']\n",
            "\n",
            "['No']\n",
            "\n",
            "['Stabilizzatore ottico (frontale)']\n",
            "\n",
            "['No']\n",
            "\n",
            "['Flash fotocamera frontale']\n",
            "\n",
            "['Batteria']\n",
            "\n",
            "['4000 mAh']\n",
            "\n",
            "['Batteria']\n",
            "\n",
            "['No']\n",
            "\n",
            "['Batteria removibile']\n",
            "\n",
            "['No']\n",
            "\n",
            "['Ricarica rapida']\n",
            "\n",
            "['No']\n",
            "\n",
            "['Ricarica wireless']\n",
            "\n",
            "['Benchmarks']\n",
            "\n",
            "['104659']\n",
            "\n",
            "['AnTuTu']\n",
            "\n",
            "['929']\n",
            "\n",
            "['3DMark - Sling Shot']\n",
            "\n",
            "['542']\n",
            "\n",
            "['3DMark - Sling Shot Extreme Vulkan']\n",
            "\n",
            "['6052']\n",
            "\n",
            "['PCMark - Work Performance']\n",
            "\n",
            "['13h 12min']\n",
            "\n",
            "['PCMark - Work Battery Life']\n",
            "\n",
            "['510']\n",
            "\n",
            "['3DMark - Sling Shot Extreme ES 3.1']\n",
            "\n",
            "['1244']\n",
            "\n",
            "['Geekbench 4 - Single-core']\n",
            "\n",
            "['4300']\n",
            "\n",
            "['Geekbench 4 - Multi-core']\n",
            "\n",
            "['Redmi 7 (3GB): Notizie']\n",
            "\n",
            "['3 aprile 2019']\n",
            "\n",
            "['5']\n",
            "\n",
            "['Smartphone']\n",
            "\n",
            "['Redmi 7 e Redmi Note 7 da 128 GB approdano ufficialmente in Italia: dove trovarli ed a che prezzo']\n",
            "\n",
            "[\"Xiaomi ha anche annunciato l'approdo ufficiale di Xiaomi Mi9 in colorazione blu in esclusiva su Amazon.\"]\n",
            "\n",
            "['5 commenti']\n",
            "\n",
            "['Smartphone']\n",
            "\n",
            "['Redmi 7 e Redmi Note 7 da 128 GB approdano ufficialmente in Italia: dove trovarli ed a che prezzo']\n",
            "\n",
            "['19 marzo 2019']\n",
            "\n",
            "['2']\n",
            "\n",
            "['Smartphone']\n",
            "\n",
            "['Redmi 7 arriverà a breve in Europa, ma il prezzo potrebbe non essere quello giusto']\n",
            "\n",
            "['Abbiamo visto ieri il lancio di Redmi 7, l’entry-level del nuovo sub-brand di Xiaomi, che in Cina partirà da appena...']\n",
            "\n",
            "['2 commenti']\n",
            "\n",
            "['Smartphone']\n",
            "\n",
            "['Redmi 7 arriverà a breve in Europa, ma il prezzo potrebbe non essere quello giusto']\n",
            "\n",
            "['18 marzo 2019']\n",
            "\n",
            "['12']\n",
            "\n",
            "['Smartphone']\n",
            "\n",
            "['Redmi 7 ufficiale: Snapdragon 632 e fino a 4 GB di RAM per conquistare anche gli entry level (foto)']\n",
            "\n",
            "['Redmi 7 è stato appena annunciato in Cina, andando così a completare una trinità iniziata con Redmi Note 7 e...']\n",
            "\n",
            "['12 commenti']\n",
            "\n",
            "['Smartphone']\n",
            "\n",
            "['Redmi 7 ufficiale: Snapdragon 632 e fino a 4 GB di RAM per conquistare anche gli entry level (foto)']\n",
            "\n",
            "['11 marzo 2019']\n",
            "\n",
            "['3']\n",
            "\n",
            "['Smartphone']\n",
            "\n",
            "['Xiaomi propone una variante di Mi9 EE con 8 GB di RAM e conferma la data di arrivo di Redmi 7 (foto)']\n",
            "\n",
            "['Xiaomi Mi9 è uno degli smartphone che più abbiamo apprezzato tra le ultime uscite. Tuttavia diversi utenti si sono lamentati...']\n",
            "\n",
            "['3 commenti']\n",
            "\n",
            "['Smartphone']\n",
            "\n",
            "['Xiaomi propone una variante di Mi9 EE con 8 GB di RAM e conferma la data di arrivo di Redmi 7 (foto)']\n",
            "\n",
            "['6 marzo 2019']\n",
            "\n",
            "['3']\n",
            "\n",
            "['Smartphone']\n",
            "\n",
            "['Redmi 7 è davvero un Redmi Note 7 in miniatura, non ci credete? Date un’occhiata a questi video']\n",
            "\n",
            "['Redmi Note 7 arriverà in Italia il prossimo 12 marzo e se costerà quanto in Spagna, è destinato a fare...']\n",
            "\n",
            "['3 commenti']\n",
            "\n",
            "['Smartphone']\n",
            "\n",
            "['Redmi 7 è davvero un Redmi Note 7 in miniatura, non ci credete? Date un’occhiata a questi video']\n",
            "\n",
            "['12 febbraio 2019']\n",
            "\n",
            "['Smartphone']\n",
            "\n",
            "['Il nuovo Redmi 7 riceve la certificazione dal 3C e si prepara al lancio (foto)']\n",
            "\n",
            "['Redmi ha da poco iniziato a camminare sulle sue gambe dopo essersi staccata dalla grande casa-madre Xiaomi\\xa0presentando il suo primo...']\n",
            "\n",
            "['Smartphone']\n",
            "\n",
            "['Il nuovo Redmi 7 riceve la certificazione dal 3C e si prepara al lancio (foto)']\n",
            "\n",
            "['4 gennaio 2019']\n",
            "\n",
            "['7']\n",
            "\n",
            "['Smartphone']\n",
            "\n",
            "['Xiaomi Redmi 7 si mostra in rosso sfumato: avrebbe schermo da 6,3″ e batteria da 3.900 mAh (foto)']\n",
            "\n",
            "['Arrivano novità molto importanti sul conto dell’attesissimo Xiaomi Redmi 7, quello che dovrebbe essere il primo smartphone con notch a...']\n",
            "\n",
            "['7 commenti']\n",
            "\n",
            "['Smartphone']\n",
            "\n",
            "['Xiaomi Redmi 7 si mostra in rosso sfumato: avrebbe schermo da 6,3″ e batteria da 3.900 mAh (foto)']\n",
            "\n",
            "['18 dicembre 2018']\n",
            "\n",
            "['1']\n",
            "\n",
            "['Smartphone']\n",
            "\n",
            "['Xiaomi prepara il suo primo smartphone con notch a goccia: Redmi 7 sei tu? (aggiornato: Mi Play)']\n",
            "\n",
            "['Anche Xiaomi sta preparando il suo primo smartphone con notch a goccia, ma non sembra trattarsi di un top, bensì...']\n",
            "\n",
            "['1 commento']\n",
            "\n",
            "['Smartphone']\n",
            "\n",
            "['Xiaomi prepara il suo primo smartphone con notch a goccia: Redmi 7 sei tu? (aggiornato: Mi Play)']\n",
            "\n",
            "['Vedi tutte']\n",
            "\n",
            "['Redmi 7 (3GB): Prodotti Correlati']\n",
            "\n",
            "['Alcatel 5V']\n",
            "\n",
            "['Confronta']\n",
            "\n",
            "['ASUS Zenfone Max (M2)']\n",
            "\n",
            "['Confronta']\n",
            "\n",
            "['Huawei Y7 Pro (2019)']\n",
            "\n",
            "['Confronta']\n",
            "\n",
            "['Nokia 3.2']\n",
            "\n",
            "['Confronta']\n",
            "\n",
            "['8.4']\n",
            "\n",
            "['Redmi 7']\n",
            "\n",
            "['Confronta']\n",
            "\n",
            "['Su alcuni dei link inseriti in questa pagina AndroidWorld ha un’affiliazione ed ottiene una percentuale dei ricavi, tale affiliazione non fa variare il prezzo del prodotto acquistato.']\n",
            "\n",
            "[\"© Copyright 2019 Arnoldo Mondadori Editore Spa - riproduzione riservata - P.IVA 08386600152\\n\\t\\t\\t\\t\\t\\t\\tTutti i servizi sono erogati, agli stessi termini e condizioni, da Arnoldo Mondadori Editore S.p.A. quale società incorporante di Banzai Media S.r.l.\\n                            \\n                            Nuove condizioni d'uso - in data 12/02/2019 sono entrate in vigore le nuove Condizioni Generali, ti invitiamo a prenderne visione\"]\n",
            "\n",
            "['qui']\n",
            "\n",
            "['Chi Siamo']\n",
            "\n",
            "['Condizioni d’uso']\n",
            "\n",
            "['Privacy']\n",
            "\n",
            "['Privacy Policy']\n",
            "\n",
            "['Notifiche push']\n",
            "\n",
            "['Cookie Policy']\n",
            "\n",
            "['Vuoi abilitare le notifiche?']\n",
            "\n",
            "['Attendi…']\n",
            "\n",
            "['No, grazie']\n",
            "\n",
            "['Si, attiva']\n",
            "\n"
          ],
          "name": "stdout"
        }
      ]
    },
    {
      "metadata": {
        "id": "MX5AagIdI4J7",
        "colab_type": "text"
      },
      "cell_type": "markdown",
      "source": [
        "## Compute necessary data structures\n",
        "### Utility functions\n",
        "#### Get xpath value\n",
        "Returns xpath selected value from a given page"
      ]
    },
    {
      "metadata": {
        "id": "gj7dWJ7tI4J8",
        "colab_type": "code",
        "colab": {}
      },
      "cell_type": "code",
      "source": [
        "def get_xpath_value(html_src, xpath):\n",
        "    \n",
        "    root = html.fromstring(html_src)\n",
        "    selected_values = root.xpath(xpath)\n",
        "    selected_string = ''.join(selected_values).strip()\n",
        "    \n",
        "    return selected_string"
      ],
      "execution_count": 0,
      "outputs": []
    },
    {
      "metadata": {
        "id": "9cni1WjWI4J_",
        "colab_type": "code",
        "outputId": "aa46afdf-b967-4d2d-c420-1bbbc09353b3",
        "colab": {
          "base_uri": "https://localhost:8080/",
          "height": 34
        }
      },
      "cell_type": "code",
      "source": [
        "get_xpath_value(r.content, '/html/head/title/text()')"
      ],
      "execution_count": 9,
      "outputs": [
        {
          "output_type": "execute_result",
          "data": {
            "text/plain": [
              "'Redmi 7 (3GB) - Scheda tecnica | AndroidWorld'"
            ]
          },
          "metadata": {
            "tags": []
          },
          "execution_count": 9
        }
      ]
    },
    {
      "metadata": {
        "id": "85IHwjF8I4KD",
        "colab_type": "text"
      },
      "cell_type": "markdown",
      "source": [
        "#### xpath to value\n",
        "Given page source code _src_ and a list of xpath l returns a dict { _xpath_ : _value_ }, where _xpath_ is an xpath and _value_ is the string retrieved from the xpath on _src_"
      ]
    },
    {
      "metadata": {
        "id": "ue2m4IyFI4KE",
        "colab_type": "code",
        "colab": {}
      },
      "cell_type": "code",
      "source": [
        "def xpath_to_value(html_src, xpath_list):\n",
        "    \n",
        "    result = {}\n",
        "    \n",
        "    for xpath in xpath_list:\n",
        "        value = get_xpath_value(html_src, xpath)\n",
        "        result.update({xpath: value})\n",
        "        \n",
        "    return result"
      ],
      "execution_count": 0,
      "outputs": []
    },
    {
      "metadata": {
        "id": "tlCsBh1oI4KH",
        "colab_type": "code",
        "outputId": "1c484a63-cb59-4e12-ede7-a3771585bc2a",
        "colab": {
          "base_uri": "https://localhost:8080/",
          "height": 85
        }
      },
      "cell_type": "code",
      "source": [
        "xpath_to_value(r.content, ['/html/head/title/text()',\n",
        "                            '/html/body/div/div[3]/div/header/div/div[1]/ul/li[1]/a/text()',\n",
        "                            '/html/body/div/div[3]/div/header/div/div[1]/ul/li[2]/a/text()',\n",
        "                            '/html/body/div/div[3]/div/header/div/div[1]/ul/li[3]/a/text()'])"
      ],
      "execution_count": 11,
      "outputs": [
        {
          "output_type": "execute_result",
          "data": {
            "text/plain": [
              "{'/html/body/div/div[3]/div/header/div/div[1]/ul/li[1]/a/text()': 'smart',\n",
              " '/html/body/div/div[3]/div/header/div/div[1]/ul/li[2]/a/text()': 'mobile',\n",
              " '/html/body/div/div[3]/div/header/div/div[1]/ul/li[3]/a/text()': 'android',\n",
              " '/html/head/title/text()': 'Redmi 7 (3GB) - Scheda tecnica | AndroidWorld'}"
            ]
          },
          "metadata": {
            "tags": []
          },
          "execution_count": 11
        }
      ]
    },
    {
      "metadata": {
        "id": "CuqblzXkI4KM",
        "colab_type": "text"
      },
      "cell_type": "markdown",
      "source": [
        "#### get html\n",
        "Given a list of URLs, returns a dictionary _url_, _html page_"
      ]
    },
    {
      "metadata": {
        "id": "SJx_a8OII4KN",
        "colab_type": "code",
        "colab": {}
      },
      "cell_type": "code",
      "source": [
        "def get_html(list_of_urls):\n",
        "    \n",
        "    result = {}\n",
        "    \n",
        "    for url in list_of_urls:\n",
        "        r = requests.get(url)\n",
        "        if r.ok:\n",
        "            result[url] = r.content\n",
        "            \n",
        "    return result"
      ],
      "execution_count": 0,
      "outputs": []
    },
    {
      "metadata": {
        "id": "XYoFuoxvI4KV",
        "colab_type": "text"
      },
      "cell_type": "markdown",
      "source": [
        "#### get_data_structures\n",
        "Return necessary data structures for computing xpaths weights"
      ]
    },
    {
      "metadata": {
        "id": "-5fbZaMfI4KW",
        "colab_type": "code",
        "colab": {}
      },
      "cell_type": "code",
      "source": [
        "def get_data_structures(list_of_urls):\n",
        "    \n",
        "    html_pages = get_html(list_of_urls)\n",
        "    \n",
        "    url_to_xpaths = {}\n",
        "    xpath_to_value_list = defaultdict(list)\n",
        "    \n",
        "    for url in list_of_urls:\n",
        "        page = html_pages[url]\n",
        "        xpath_list = get_all_xpath(page)\n",
        "        \n",
        "        url_to_xpaths[url] = xpath_list\n",
        "        \n",
        "        xpath_to_single_value = xpath_to_value(page, xpath_list)\n",
        "        \n",
        "        for xpath in xpath_to_single_value:\n",
        "            value = xpath_to_single_value[xpath]\n",
        "            xpath_to_value_list[xpath].append(value)\n",
        "    \n",
        "    return (url_to_xpaths, xpath_to_value_list)"
      ],
      "execution_count": 0,
      "outputs": []
    },
    {
      "metadata": {
        "id": "IjHAFMTJI4KZ",
        "colab_type": "code",
        "colab": {}
      },
      "cell_type": "code",
      "source": [
        "bash_url_to_xpath_map, bash_xpath_to_values_map = get_data_structures(['http://www.tldp.org/LDP/abs/html/part1.html',\n",
        "                    'http://www.tldp.org/LDP/abs/html/invoking.html'])"
      ],
      "execution_count": 0,
      "outputs": []
    },
    {
      "metadata": {
        "id": "7-ilhNP2I4Kd",
        "colab_type": "code",
        "outputId": "91dfbe5d-adfc-4dd2-a10f-09c8e7266430",
        "colab": {
          "base_uri": "https://localhost:8080/",
          "height": 1360
        }
      },
      "cell_type": "code",
      "source": [
        "bash_url_to_xpath_map"
      ],
      "execution_count": 15,
      "outputs": [
        {
          "output_type": "execute_result",
          "data": {
            "text/plain": [
              "{'http://www.tldp.org/LDP/abs/html/invoking.html': ['/html/head/title/text()',\n",
              "  '/html/body/div[1]/table/tr[1]/th/text()',\n",
              "  '/html/body/div[1]/table/tr[2]/td[1]/a/text()',\n",
              "  '/html/body/div[1]/table/tr[2]/td[2]/text()',\n",
              "  '/html/body/div[1]/table/tr[2]/td[3]/a/text()',\n",
              "  '/html/body/div[2]/h1/text()',\n",
              "  '/html/body/div[2]/p[1]/text()',\n",
              "  '/html/body/div[2]/p[1]/tt[1]/b/text()',\n",
              "  '/html/body/div[2]/p[1]/a[1]/span/text()',\n",
              "  '/html/body/div[2]/p[1]/tt[2]/b/text()',\n",
              "  '/html/body/div[2]/p[1]/tt[3]/b/text()',\n",
              "  '/html/body/div[2]/p[1]/a[2]/tt/text()',\n",
              "  '/html/body/div[2]/p[1]/a[3]/text()',\n",
              "  '/html/body/div[2]/div/dl/dt[1]/text()',\n",
              "  '/html/body/div[2]/div/dl/dd[1]/p/text()',\n",
              "  '/html/body/div[2]/div/dl/dd[1]/p/tt/b/text()',\n",
              "  '/html/body/div[2]/div/dl/dd[1]/p/a/span/text()',\n",
              "  '/html/body/div[2]/div/dl/dt[2]/text()',\n",
              "  '/html/body/div[2]/div/dl/dd[2]/p[1]/text()',\n",
              "  '/html/body/div[2]/div/dl/dd[2]/p[1]/tt/b/text()',\n",
              "  '/html/body/div[2]/div/dl/dd[2]/p[2]/text()',\n",
              "  '/html/body/div[2]/div/dl/dd[2]/p[2]/tt/b/text()',\n",
              "  '/html/body/div[2]/p[3]/text()',\n",
              "  '/html/body/div[2]/p[3]/tt/b/text()',\n",
              "  '/html/body/div[2]/p[3]/a/span/text()',\n",
              "  '/html/body/div[2]/p[3]/span/text()',\n",
              "  '/html/body/div[2]/p[4]/text()',\n",
              "  '/html/body/div[2]/p[4]/tt/text()',\n",
              "  '/html/body/div[2]/p[4]/i/text()',\n",
              "  '/html/body/div[2]/p[4]/b[1]/text()',\n",
              "  '/html/body/div[2]/p[4]/b[2]/text()',\n",
              "  '/html/body/h3/text()',\n",
              "  '/html/body/table/tr[1]/td[1]/a/span/text()',\n",
              "  '/html/body/table/tr[1]/td[2]/p/text()',\n",
              "  '/html/body/table/tr[1]/td[2]/p/i/text()',\n",
              "  '/html/body/table/tr[1]/td[2]/p/tt/b/text()',\n",
              "  '/html/body/table/tr[2]/td[1]/a/span/text()',\n",
              "  '/html/body/table/tr[2]/td[2]/p/text()',\n",
              "  '/html/body/table/tr[2]/td[2]/p/i/text()',\n",
              "  '/html/body/table/tr[3]/td[1]/a/span/text()',\n",
              "  '/html/body/table/tr[3]/td[2]/p/text()',\n",
              "  '/html/body/table/tr[3]/td[2]/p/tt[1]/b/text()',\n",
              "  '/html/body/table/tr[3]/td[2]/p/a[1]/text()',\n",
              "  '/html/body/table/tr[3]/td[2]/p/tt[2]/text()',\n",
              "  '/html/body/table/tr[3]/td[2]/p/tt[3]/text()',\n",
              "  '/html/body/table/tr[3]/td[2]/p/a[2]/text()',\n",
              "  '/html/body/table/tr[3]/td[2]/p/tt[4]/b/text()',\n",
              "  '/html/body/div[3]/table/tr[1]/td[1]/a/text()',\n",
              "  '/html/body/div[3]/table/tr[1]/td[2]/a/text()',\n",
              "  '/html/body/div[3]/table/tr[1]/td[3]/a/text()',\n",
              "  '/html/body/div[3]/table/tr[2]/td[1]/text()',\n",
              "  '/html/body/div[3]/table/tr[2]/td[2]/a/text()',\n",
              "  '/html/body/div[3]/table/tr[2]/td[3]/text()'],\n",
              " 'http://www.tldp.org/LDP/abs/html/part1.html': ['/html/head/title/text()',\n",
              "  '/html/body/div[1]/table/tr[1]/th/text()',\n",
              "  '/html/body/div[1]/table/tr[2]/td[1]/a/text()',\n",
              "  '/html/body/div[1]/table/tr[2]/td[3]/a/text()',\n",
              "  '/html/body/div[2]/div/h1/text()',\n",
              "  '/html/body/div[2]/div/div[1]/table/tr/td[2]/p[1]/i/text()',\n",
              "  '/html/body/div[2]/div/div[1]/table/tr/td[2]/p[1]/i/em/text()',\n",
              "  '/html/body/div[2]/div/div[1]/table/tr/td[2]/p[2]/i/text()',\n",
              "  '/html/body/div[2]/div/div[1]/table/tr/td[2]/p[2]/i/em/text()',\n",
              "  '/html/body/div[2]/div/div[1]/p[2]/text()',\n",
              "  '/html/body/div[2]/div/div[1]/p[2]/i/text()',\n",
              "  '/html/body/div[2]/div/div[1]/p[2]/span/text()',\n",
              "  '/html/body/div[2]/div/div[2]/dl/dt[1]/b/text()',\n",
              "  '/html/body/div[2]/div/div[2]/dl/dt[2]/text()',\n",
              "  '/html/body/div[2]/div/div[2]/dl/dt[2]/a/text()',\n",
              "  '/html/body/div[2]/div/div[2]/dl/dt[3]/text()',\n",
              "  '/html/body/div[2]/div/div[2]/dl/dt[3]/a/text()',\n",
              "  '/html/body/div[2]/div/div[2]/dl/dd/dl/dt[1]/text()',\n",
              "  '/html/body/div[2]/div/div[2]/dl/dd/dl/dt[1]/a/text()',\n",
              "  '/html/body/div[2]/div/div[2]/dl/dd/dl/dt[2]/text()',\n",
              "  '/html/body/div[2]/div/div[2]/dl/dd/dl/dt[2]/a/text()',\n",
              "  '/html/body/div[3]/table/tr[1]/td[1]/a/text()',\n",
              "  '/html/body/div[3]/table/tr[1]/td[2]/a/text()',\n",
              "  '/html/body/div[3]/table/tr[1]/td[3]/a/text()',\n",
              "  '/html/body/div[3]/table/tr[2]/td[1]/text()',\n",
              "  '/html/body/div[3]/table/tr[2]/td[3]/text()']}"
            ]
          },
          "metadata": {
            "tags": []
          },
          "execution_count": 15
        }
      ]
    },
    {
      "metadata": {
        "id": "_bpqtyuiI4Kj",
        "colab_type": "code",
        "outputId": "8a6c69c6-7f21-494c-ec26-40e76198e635",
        "colab": {
          "base_uri": "https://localhost:8080/",
          "height": 1312
        }
      },
      "cell_type": "code",
      "source": [
        "bash_xpath_to_values_map"
      ],
      "execution_count": 16,
      "outputs": [
        {
          "output_type": "execute_result",
          "data": {
            "text/plain": [
              "defaultdict(list,\n",
              "            {'/html/body/div[1]/table/tr[1]/th/text()': ['Advanced Bash-Scripting Guide:',\n",
              "              'Advanced Bash-Scripting Guide:'],\n",
              "             '/html/body/div[1]/table/tr[2]/td[1]/a/text()': ['Prev', 'Prev'],\n",
              "             '/html/body/div[1]/table/tr[2]/td[2]/text()': ['Chapter 2. Starting Off With a Sha-Bang'],\n",
              "             '/html/body/div[1]/table/tr[2]/td[3]/a/text()': ['Next', 'Next'],\n",
              "             '/html/body/div[2]/div/div[1]/p[2]/i/text()': ['script'],\n",
              "             '/html/body/div[2]/div/div[1]/p[2]/span/text()': ['\"gluing together\"'],\n",
              "             '/html/body/div[2]/div/div[1]/p[2]/text()': [\"The shell is a command interpreter. More than just the\\n      insulating layer between the operating system kernel and the user,\\n      it's also a fairly powerful programming language. A shell program,\\n      called a , is an easy-to-use tool for\\n      building applications by  system\\n      calls, tools, utilities, and compiled binaries.  Virtually the\\n      entire repertoire of UNIX commands, utilities, and tools is\\n      available for invocation by a shell script. If that were\\n      not enough, internal shell commands, such as testing and loop\\n      constructs, lend additional power and flexibility to scripts.\\n      Shell scripts are especially well suited for administrative\\n      system tasks and other routine repetitive tasks not requiring the\\n      bells and whistles of a full-blown tightly structured programming\\n      language.\"],\n",
              "             '/html/body/div[2]/div/div[1]/table/tr/td[2]/p[1]/i/em/text()': ['A writing; a written\\n        document. [Obs.]'],\n",
              "             '/html/body/div[2]/div/div[1]/table/tr/td[2]/p[1]/i/text()': ['Script:'],\n",
              "             '/html/body/div[2]/div/div[1]/table/tr/td[2]/p[2]/i/em/text()': [\"Webster's Dictionary\"],\n",
              "             '/html/body/div[2]/div/div[1]/table/tr/td[2]/p[2]/i/text()': ['--, 1913 ed.'],\n",
              "             '/html/body/div[2]/div/div[2]/dl/dd/dl/dt[1]/a/text()': ['Invoking the script'],\n",
              "             '/html/body/div[2]/div/div[2]/dl/dd/dl/dt[1]/text()': ['2.1.'],\n",
              "             '/html/body/div[2]/div/div[2]/dl/dd/dl/dt[2]/a/text()': ['Preliminary Exercises'],\n",
              "             '/html/body/div[2]/div/div[2]/dl/dd/dl/dt[2]/text()': ['2.2.'],\n",
              "             '/html/body/div[2]/div/div[2]/dl/dt[1]/b/text()': ['Table of Contents'],\n",
              "             '/html/body/div[2]/div/div[2]/dl/dt[2]/a/text()': ['Shell Programming!'],\n",
              "             '/html/body/div[2]/div/div[2]/dl/dt[2]/text()': ['1.'],\n",
              "             '/html/body/div[2]/div/div[2]/dl/dt[3]/a/text()': ['Starting Off With a Sha-Bang'],\n",
              "             '/html/body/div[2]/div/div[2]/dl/dt[3]/text()': ['2.'],\n",
              "             '/html/body/div[2]/div/dl/dd[1]/p/a/span/text()': ['[2]'],\n",
              "             '/html/body/div[2]/div/dl/dd[1]/p/text()': ['(gives\\n\\t      everyone read/execute permission)'],\n",
              "             '/html/body/div[2]/div/dl/dd[1]/p/tt/b/text()': ['chmod 555 scriptname'],\n",
              "             '/html/body/div[2]/div/dl/dd[2]/p[1]/text()': ['(gives\\n\\t      everyone read/execute permission)'],\n",
              "             '/html/body/div[2]/div/dl/dd[2]/p[1]/tt/b/text()': ['chmod +rx scriptname'],\n",
              "             '/html/body/div[2]/div/dl/dd[2]/p[2]/text()': ['(gives only the\\n\\t\\tscript owner read/execute permission)'],\n",
              "             '/html/body/div[2]/div/dl/dd[2]/p[2]/tt/b/text()': ['chmod\\n\\t      u+rx scriptname'],\n",
              "             '/html/body/div[2]/div/dl/dt[1]/text()': ['Either:'],\n",
              "             '/html/body/div[2]/div/dl/dt[2]/text()': ['or'],\n",
              "             '/html/body/div[2]/div/h1/text()': ['Part 1. Introduction'],\n",
              "             '/html/body/div[2]/h1/text()': ['2.1. Invoking the script'],\n",
              "             '/html/body/div[2]/p[1]/a[1]/span/text()': ['[1]'],\n",
              "             '/html/body/div[2]/p[1]/a[2]/tt/text()': ['stdin'],\n",
              "             '/html/body/div[2]/p[1]/a[3]/text()': ['chmod'],\n",
              "             '/html/body/div[2]/p[1]/text()': ['Having written the script, you can invoke it by ,\\n\\n\\t  \\n\\n\\tor alternatively . (Not\\n\\trecommended is using ,\\n\\tsince this effectively disables reading from\\n\\t\\n\\twithin the script.) Much more convenient is to make\\n\\tthe script itself directly executable with a .'],\n",
              "             '/html/body/div[2]/p[1]/tt[1]/b/text()': ['sh\\n\\tscriptname'],\n",
              "             '/html/body/div[2]/p[1]/tt[2]/b/text()': ['bash scriptname'],\n",
              "             '/html/body/div[2]/p[1]/tt[3]/b/text()': ['sh <scriptname'],\n",
              "             '/html/body/div[2]/p[3]/a/span/text()': ['[3]'],\n",
              "             '/html/body/div[2]/p[3]/span/text()': ['\"sha-bang\"'],\n",
              "             '/html/body/div[2]/p[3]/text()': ['Having made the script executable, you may now test it by\\n\\t.\\n\\t\\n\\t  \\n\\n\\tIf it begins with a  line, invoking the\\n\\tscript calls the correct command interpreter to run it.'],\n",
              "             '/html/body/div[2]/p[3]/tt/b/text()': ['./scriptname'],\n",
              "             '/html/body/div[2]/p[4]/b[1]/text()': ['scriptname'],\n",
              "             '/html/body/div[2]/p[4]/b[2]/text()': ['[ENTER]'],\n",
              "             '/html/body/div[2]/p[4]/i/text()': ['root'],\n",
              "             '/html/body/div[2]/p[4]/text()': ['As a final step, after testing and debugging,\\n\\tyou would likely want to move it to  (as\\n\\t, of course), to make the script\\n\\tavailable to yourself and all other users as a systemwide\\n\\texecutable.  The script could then be invoked by simply typing\\n\\t  from the\\n\\tcommand-line.'],\n",
              "             '/html/body/div[2]/p[4]/tt/text()': ['/usr/local/bin'],\n",
              "             '/html/body/div[3]/table/tr[1]/td[1]/a/text()': ['Prev', 'Prev'],\n",
              "             '/html/body/div[3]/table/tr[1]/td[2]/a/text()': ['Home', 'Home'],\n",
              "             '/html/body/div[3]/table/tr[1]/td[3]/a/text()': ['Next', 'Next'],\n",
              "             '/html/body/div[3]/table/tr[2]/td[1]/text()': ['Advanced Bash-Scripting Guide',\n",
              "              'Starting Off With a Sha-Bang'],\n",
              "             '/html/body/div[3]/table/tr[2]/td[2]/a/text()': ['Up'],\n",
              "             '/html/body/div[3]/table/tr[2]/td[3]/text()': ['Shell Programming!',\n",
              "              'Preliminary Exercises'],\n",
              "             '/html/body/h3/text()': ['Notes'],\n",
              "             '/html/body/table/tr[1]/td[1]/a/span/text()': ['[1]'],\n",
              "             '/html/body/table/tr[1]/td[2]/p/i/text()': ['Bash'],\n",
              "             '/html/body/table/tr[1]/td[2]/p/text()': ['Caution: invoking a \\n\\t  script by  turns off\\n\\t  Bash-specific extensions, and the script may therefore fail\\n\\t  to execute.'],\n",
              "             '/html/body/table/tr[1]/td[2]/p/tt/b/text()': ['sh scriptname'],\n",
              "             '/html/body/table/tr[2]/td[1]/a/span/text()': ['[2]'],\n",
              "             '/html/body/table/tr[2]/td[2]/p/i/text()': ['read'],\n",
              "             '/html/body/table/tr[2]/td[2]/p/text()': ['A script needs , as\\n\\t\\twell as execute permission for it to run, since the shell\\n\\t\\tneeds to be able to read it.'],\n",
              "             '/html/body/table/tr[3]/td[1]/a/span/text()': ['[3]'],\n",
              "             '/html/body/table/tr[3]/td[2]/p/a[1]/text()': ['$PWD'],\n",
              "             '/html/body/table/tr[3]/td[2]/p/a[2]/text()': ['$PATH'],\n",
              "             '/html/body/table/tr[3]/td[2]/p/text()': [\"Why not simply invoke the script with\\n\\t  ? If the directory you\\n\\t  are in () is where\\n\\t   is located, why doesn't\\n\\t  this work? This fails because, for security reasons, the\\n\\t  current directory ()\\n\\t  is not by default included in a user's . It is therefore necessary to\\n\\t  explicitly invoke the script in the current directory with\\n\\t  a .\"],\n",
              "             '/html/body/table/tr[3]/td[2]/p/tt[1]/b/text()': ['scriptname'],\n",
              "             '/html/body/table/tr[3]/td[2]/p/tt[2]/text()': ['scriptname'],\n",
              "             '/html/body/table/tr[3]/td[2]/p/tt[3]/text()': ['./'],\n",
              "             '/html/body/table/tr[3]/td[2]/p/tt[4]/b/text()': ['./scriptname'],\n",
              "             '/html/head/title/text()': ['Introduction',\n",
              "              'Invoking the script']})"
            ]
          },
          "metadata": {
            "tags": []
          },
          "execution_count": 16
        }
      ]
    },
    {
      "metadata": {
        "id": "Djn4NANMI4Ko",
        "colab_type": "text"
      },
      "cell_type": "markdown",
      "source": [
        "## Compute weights\n",
        "\n",
        "### Compute frequency\n",
        "Given a list of values extracted from a xpath _Xi_ returns the frequency of _Xi_"
      ]
    },
    {
      "metadata": {
        "id": "c9kMXAhyI4Kp",
        "colab_type": "code",
        "colab": {}
      },
      "cell_type": "code",
      "source": [
        "def compute_frequency(values_list):\n",
        "    return len(values_list)"
      ],
      "execution_count": 0,
      "outputs": []
    },
    {
      "metadata": {
        "id": "21CGlDyYI4Kr",
        "colab_type": "code",
        "outputId": "3c8c3d45-e1f1-43c8-c6a3-34f119176411",
        "colab": {
          "base_uri": "https://localhost:8080/",
          "height": 34
        }
      },
      "cell_type": "code",
      "source": [
        "selected_xpaths = ['/html/head/title/text()', \n",
        "                   '/html/body/div[1]/table/tr[1]/th/text()', \n",
        "                   '/html/body/div[2]/p[4]/b[2]/text()']\n",
        "\n",
        "compute_frequency(bash_xpath_to_values_map[selected_xpaths[0]]) #should be 2"
      ],
      "execution_count": 18,
      "outputs": [
        {
          "output_type": "execute_result",
          "data": {
            "text/plain": [
              "2"
            ]
          },
          "metadata": {
            "tags": []
          },
          "execution_count": 18
        }
      ]
    },
    {
      "metadata": {
        "id": "8lwvvSi6I4Kt",
        "colab_type": "text"
      },
      "cell_type": "markdown",
      "source": [
        "### Compute informativeness\n",
        "Given cluster size and a list of values extracted from a xpath _Xi_ returns the informativeness of _Xi_"
      ]
    },
    {
      "metadata": {
        "id": "-Dj2n0L9I4Ku",
        "colab_type": "code",
        "colab": {}
      },
      "cell_type": "code",
      "source": [
        "def compute_informativeness(M, values_list):\n",
        "\n",
        "    values_set = set(values_list)\n",
        "    Ti = len(values_set)\n",
        "    \n",
        "    sum_F_Xi = compute_frequency(values_list)\n",
        "\n",
        "    return 1 - sum_F_Xi/(M*Ti)\n",
        "    "
      ],
      "execution_count": 0,
      "outputs": []
    },
    {
      "metadata": {
        "id": "S2MS_LU6I4Kx",
        "colab_type": "code",
        "outputId": "e1b067f0-9f17-4bcb-e08d-9064eb7d8fa8",
        "colab": {
          "base_uri": "https://localhost:8080/",
          "height": 34
        }
      },
      "cell_type": "code",
      "source": [
        "compute_informativeness(10, [1,2,1,1,3,5,5]) #expected: 0.825"
      ],
      "execution_count": 20,
      "outputs": [
        {
          "output_type": "execute_result",
          "data": {
            "text/plain": [
              "0.825"
            ]
          },
          "metadata": {
            "tags": []
          },
          "execution_count": 20
        }
      ]
    },
    {
      "metadata": {
        "id": "xxetj1D5I4Kz",
        "colab_type": "text"
      },
      "cell_type": "markdown",
      "source": [
        "### xpath weight\n",
        "Given a list of values extracted from a xpath _Xi_ returns the weight of _Xi_"
      ]
    },
    {
      "metadata": {
        "id": "OktxJDV6I4K0",
        "colab_type": "code",
        "colab": {}
      },
      "cell_type": "code",
      "source": [
        "def xpath_weight(cluster_size, list_of_values):\n",
        "    return compute_frequency(list_of_values)*compute_informativeness(cluster_size, list_of_values)"
      ],
      "execution_count": 0,
      "outputs": []
    },
    {
      "metadata": {
        "id": "2q2NOsUlI4K2",
        "colab_type": "code",
        "outputId": "de43c344-9f2c-4399-ce15-96555da27b62",
        "colab": {
          "base_uri": "https://localhost:8080/",
          "height": 34
        }
      },
      "cell_type": "code",
      "source": [
        "xpath_weight(2, bash_xpath_to_values_map[selected_xpaths[0]]) #should be 1"
      ],
      "execution_count": 22,
      "outputs": [
        {
          "output_type": "execute_result",
          "data": {
            "text/plain": [
              "1.0"
            ]
          },
          "metadata": {
            "tags": []
          },
          "execution_count": 22
        }
      ]
    },
    {
      "metadata": {
        "id": "5x2vb582I4K6",
        "colab_type": "code",
        "outputId": "d5107f48-2a84-4326-b054-0489d68bf8f3",
        "colab": {
          "base_uri": "https://localhost:8080/",
          "height": 34
        }
      },
      "cell_type": "code",
      "source": [
        "xpath_weight(2, bash_xpath_to_values_map[selected_xpaths[1]]) #should be 0"
      ],
      "execution_count": 23,
      "outputs": [
        {
          "output_type": "execute_result",
          "data": {
            "text/plain": [
              "0.0"
            ]
          },
          "metadata": {
            "tags": []
          },
          "execution_count": 23
        }
      ]
    },
    {
      "metadata": {
        "id": "yDHGy0FdI4K9",
        "colab_type": "code",
        "outputId": "d6d107cb-42c8-45f9-c341-71fab6824747",
        "colab": {
          "base_uri": "https://localhost:8080/",
          "height": 34
        }
      },
      "cell_type": "code",
      "source": [
        "xpath_weight(2, bash_xpath_to_values_map[selected_xpaths[2]]) #should be 0.5"
      ],
      "execution_count": 24,
      "outputs": [
        {
          "output_type": "execute_result",
          "data": {
            "text/plain": [
              "0.5"
            ]
          },
          "metadata": {
            "tags": []
          },
          "execution_count": 24
        }
      ]
    },
    {
      "metadata": {
        "id": "HZ_Zb7ppI4LB",
        "colab_type": "text"
      },
      "cell_type": "markdown",
      "source": [
        "### page_weight\n",
        "Arguments:\n",
        "- **list of xpath**: list of xpath of a given page\n",
        "- **xpath_to_values_map**: dictionary where keys are xpath and values are values retrieved from the xpath\n",
        "- **cluster_size**\n",
        "- **intersection** (optional): if None nothing happens. Otherwise only xpath in **list of xpath** $\\cap$ **intersection** will be considered in computing weight"
      ]
    },
    {
      "metadata": {
        "id": "ymoncZuYI4LE",
        "colab_type": "code",
        "colab": {}
      },
      "cell_type": "code",
      "source": [
        "def F(xpath,second_data):\n",
        "  return len(second_data.get(xpath))  \n",
        "   \n",
        "\n",
        "def I(xpath,second_data,list_of_urls):\n",
        "  return 1 - ( F(xpath,second_data) / ( len(list_of_urls) * len(set(second_data.get(xpath))) ) )\n",
        "\n",
        "def w(xpath,second_data,list_of_urls):\n",
        "  return F(xpath,second_data)*I(xpath,second_data,list_of_urls)\n",
        "\n",
        "\n",
        "\n",
        "def calcola_pesi(second_data,list_of_urls):\n",
        "  w_list_xpath={}\n",
        "  for xpath in second_data:\n",
        "    w_list_xpath.update({xpath: w(xpath,second_data,list_of_urls)})\n",
        "  return w_list_xpath\n",
        "  \n"
      ],
      "execution_count": 0,
      "outputs": []
    },
    {
      "metadata": {
        "id": "g-UbckCrI4Ls",
        "colab_type": "text"
      },
      "cell_type": "markdown",
      "source": [
        "### Max weight page\n",
        "Arguments:\n",
        "- **url_to_xpaths_map**: dictionary where keys are urls and values are xpaths extracted from urls\n",
        "- **xpath_to_values_map**: dictionary where keys are xpaths and values are values retrieved from the xpath\n",
        "- **cluster_size**\n",
        "- **intersection** (optional): if None nothing happens. Otherwise only xpath in **list of xpath** $\\cap$ **intersection** will be considered in computing weight"
      ]
    },
    {
      "metadata": {
        "id": "ci_ujTG5TEwZ",
        "colab_type": "code",
        "colab": {}
      },
      "cell_type": "code",
      "source": [
        ""
      ],
      "execution_count": 0,
      "outputs": []
    },
    {
      "metadata": {
        "id": "_TdTxRRjWL2u",
        "colab_type": "code",
        "colab": {}
      },
      "cell_type": "code",
      "source": [
        "def max_weight_page(list_of_urls, xpath_to_values_map, list_xpath_weight):\n",
        "  massimo_url=''\n",
        "  massimo=0\n",
        "  for uri in list_of_urls:\n",
        "    somma=0\n",
        "    for xpath in xpath_to_values_map[uri]:\n",
        "      w=list_xpath_weight.get(xpath)\n",
        "      if bool(w):\n",
        "        somma=somma+w    \n",
        "    if massimo<somma:\n",
        "      massimo=somma\n",
        "      massimo_url=uri\n",
        "      \n",
        "  return massimo_url  \n"
      ],
      "execution_count": 0,
      "outputs": []
    },
    {
      "metadata": {
        "id": "WJEtUL8FXPsb",
        "colab_type": "code",
        "colab": {}
      },
      "cell_type": "code",
      "source": [
        "def del_xpath(uri,list_xpath_weight,url_to_xpaths_map):\n",
        "  for xpath in url_to_xpaths_map[uri]:\n",
        "    if bool(list_xpath_weight.get(xpath)):\n",
        "      list_xpath_weight.pop(xpath)"
      ],
      "execution_count": 0,
      "outputs": []
    },
    {
      "metadata": {
        "id": "vREQSlorI4L1",
        "colab_type": "text"
      },
      "cell_type": "markdown",
      "source": [
        "## Sampling algorithm"
      ]
    },
    {
      "metadata": {
        "id": "2k4EAEC-I4L2",
        "colab_type": "code",
        "colab": {}
      },
      "cell_type": "code",
      "source": [
        "def sampling(list_of_urls, k = 20):\n",
        "\n",
        "    cluster_size = len(list_of_urls)\n",
        "    url_to_xpaths_map, xpath_to_values_map = get_data_structures(list_of_urls)\n",
        "\n",
        "    list_xpath_weight = calcola_pesi(xpath_to_values_map,list_of_urls)\n",
        "\n",
        "    #X = list(xpath_to_values_map) #insert dictionary keys into a list\n",
        "    result = []\n",
        "\n",
        "    while list_xpath_weight and len(result) <= k:\n",
        "        max_weight_url = max_weight_page(list_of_urls, url_to_xpaths_map, list_xpath_weight)\n",
        "        result.append(max_weight_url)\n",
        "        del_xpath(max_weight_url,list_xpath_weight,url_to_xpaths_map)\n",
        "\n",
        "    return result"
      ],
      "execution_count": 0,
      "outputs": []
    },
    {
      "metadata": {
        "id": "FCOMm8_8etZF",
        "colab_type": "code",
        "colab": {}
      },
      "cell_type": "code",
      "source": [
        "#mettere k=1 se no non funziona\n",
        "list_uri=[\"https://www.androidworld.it/schede/redmi-7-2/\", \"https://www.androidworld.it/schede/samsung-galaxy-a70/\"]\n",
        "sampling(list_uri)"
      ],
      "execution_count": 0,
      "outputs": []
    },
    {
      "metadata": {
        "id": "tzvPAlWcGcFW",
        "colab_type": "code",
        "colab": {
          "base_uri": "https://localhost:8080/",
          "height": 54
        },
        "outputId": "5d783f16-6c87-4c1a-fa29-afefe1912263"
      },
      "cell_type": "code",
      "source": [
        "from lxml import html\n",
        "import requests\n",
        "url = \"http://www.europarl.europa.eu/news/en/press-room/page/\"\n",
        "list_of_links = []\n",
        "for page in range(10):\n",
        "    r = requests.get(url + str(page))\n",
        "    source = r.content\n",
        "    page_source = html.fromstring(source)\n",
        "    list_of_links.extend(page_source.xpath('//a[@title=\"Read more\"]/@href'))\n",
        "print(list_of_links)"
      ],
      "execution_count": 30,
      "outputs": [
        {
          "output_type": "stream",
          "text": [
            "['http://www.europarl.europa.eu/news/en/press-room/20190404IPR35103/eu-member-states-test-cybersecurity-preparedness-for-free-and-fair-eu-elections', 'http://www.europarl.europa.eu/news/en/press-room/20190405IPR35201/the-european-parliament-launches-a-website-on-european-election-results', 'http://www.europarl.europa.eu/news/en/press-room/20190402IPR34671/mobility-package-parliament-adopts-position-on-overhaul-of-road-transport-rules', 'http://www.europarl.europa.eu/news/en/press-room/20190402IPR34670/meps-adopted-measures-to-reconcile-work-and-family-life', 'http://www.europarl.europa.eu/news/en/press-room/20190402IPR34682/meps-back-first-eu-management-plan-for-fish-stocks-in-the-western-mediterranean', 'http://www.europarl.europa.eu/news/en/press-room/20190402IPR34683/schengen-meps-adopt-their-position-on-temporary-checks-at-national-borders', 'http://www.europarl.europa.eu/news/en/press-room/20190402IPR34673/natural-gas-parliament-extends-eu-rules-to-pipelines-from-non-eu-countries', 'http://www.europarl.europa.eu/news/en/press-room/20190403IPR34819/brexit-reciprocal-visa-free-access-for-eu-and-uk-nationals', 'http://www.europarl.europa.eu/news/en/press-room/20190402IPR34672/swedish-pm-lofven-our-common-values-must-guide-us-to-an-even-better-future', 'http://www.europarl.europa.eu/news/en/press-room/20190402IPR34687/brexit-political-groups-discuss-options-for-an-orderly-withdrawal', 'http://www.europarl.europa.eu/news/en/press-room/20190402IPR34668/opening-kovesi-has-parliament-s-support-as-candidate-for-eu-public-prosecutor', 'http://www.europarl.europa.eu/news/en/press-room/20190403IPR34801/brexit-visa-free-access-to-the-eu-for-uk-nationals-and-to-the-uk-for-europeans', 'http://www.europarl.europa.eu/news/en/press-room/20190401IPR34530/fairer-simpler-more-flexible-eu-farm-policy-meps-vote-on-post-2020-reform', 'http://www.europarl.europa.eu/news/en/press-room/20190401IPR34529/protecting-farmers-and-quality-products-vote-on-eu-farm-policy-reform-plans', 'http://www.europarl.europa.eu/news/en/press-room/20190228IPR29246/new-seat-projections-for-the-next-european-parliament', 'http://www.europarl.europa.eu/news/en/press-room/20190325IPR33125/malta-and-slovakia-meps-warn-of-lack-of-judicial-independence-and-corruption', 'http://www.europarl.europa.eu/news/en/press-room/20190322IPR32350/dieselgate-parliament-calls-for-mandatory-retrofits-of-polluting-cars', 'http://www.europarl.europa.eu/news/en/press-room/20190321IPR32118/venezuela-meps-demand-free-presidential-elections-and-an-end-to-repression', 'http://www.europarl.europa.eu/news/en/press-room/20190321IPR32121/erasmus-2021-2027-more-people-to-experience-learning-exchanges-in-europe', 'http://www.europarl.europa.eu/news/en/press-room/20190321IPR32119/parliament-supports-plans-to-improve-quality-of-tap-water-and-cut-plastic-litter', 'http://www.europarl.europa.eu/news/en/press-room/20190327IPR33413/eu-border-and-coast-guard-agency-10-000-operational-staff-by-2027', 'http://www.europarl.europa.eu/news/en/press-room/20190321IPR32117/meps-agree-on-future-regional-and-cohesion-funding', 'http://www.europarl.europa.eu/news/en/press-room/20190321IPR32112/parliament-backs-new-co2-emissions-limits-for-cars-and-vans', 'http://www.europarl.europa.eu/news/en/press-room/20190321IPR32111/parliament-seals-ban-on-throwaway-plastics-by-2021', 'http://www.europarl.europa.eu/news/en/press-room/20190321IPR32120/external-action-more-funds-for-human-rights-development-and-peace', 'http://www.europarl.europa.eu/news/en/press-room/20190321IPR32115/meps-debate-brexit-and-relations-with-china-following-eu-spring-summit', 'http://www.europarl.europa.eu/news/en/press-room/20190321IPR32113/mobility-package-postponed', 'http://www.europarl.europa.eu/news/en/press-room/20190111IPR23225/questions-and-answers-on-issues-about-the-digital-copyright-directive', 'http://www.europarl.europa.eu/news/en/press-room/20190321IPR32114/meps-approve-eu-s-spending-in-2017', 'http://www.europarl.europa.eu/news/en/press-room/20190321IPR32107/parliament-backs-proposal-to-end-switch-between-summer-and-winter-time-in-2021', 'http://www.europarl.europa.eu/news/en/press-room/20190321IPR32109/tax-crimes-meps-want-eu-financial-police-force-and-financial-intelligence-unit', 'http://www.europarl.europa.eu/news/en/press-room/20190321IPR32116/parliament-boosts-consumer-rights-online-and-offline', 'http://www.europarl.europa.eu/news/en/press-room/20190321IPR32133/end-racist-discrimination-against-afro-european-people-in-the-eu', 'http://www.europarl.europa.eu/news/en/press-room/20190321IPR32110/european-parliament-approves-new-copyright-rules-for-the-internet', 'http://www.europarl.europa.eu/news/en/press-room/20190321IPR32108/parliament-makes-eu-electricity-market-cleaner-and-more-consumer-friendly', 'http://www.europarl.europa.eu/news/en/press-room/20190321IPR32135/new-rules-to-help-consumers-join-forces-to-seek-compensation', 'http://www.europarl.europa.eu/news/en/press-room/20190326IPR33205/safer-roads-eu-lawmakers-agree-on-life-saving-technologies-for-new-vehicles', 'http://www.europarl.europa.eu/news/en/press-room/20190321IPR32106/opening-minute-of-silence-for-victims-of-terrorism-and-natural-disasters', 'http://www.europarl.europa.eu/news/en/press-room/20190321IPR32155/deal-agreed-to-protect-consumers-against-misleading-and-unfair-practices', 'http://www.europarl.europa.eu/news/en/press-room/20190318IPR31813/council-strongly-criticised-over-failing-to-act-to-protect-eu-values-in-hungary', 'http://www.europarl.europa.eu/news/en/press-room/20190321IPR32132/acp-eu-parliamentary-assembly-strengthening-the-partnership', 'http://www.europarl.europa.eu/news/en/press-room/20190312IPR31161/fairer-and-clearer-rules-on-social-benefits-for-eu-mobile-workers-agreed', 'http://www.europarl.europa.eu/news/en/press-room/20190318IPR31806/ngos-saving-lives-in-the-mediterranean-meps-take-stock-of-the-situation', 'http://www.europarl.europa.eu/news/en/press-room/20190318IPR31824/european-parliament-to-host-high-level-conference-on-oceans', 'http://www.europarl.europa.eu/news/en/press-room/20190312IPR31159/migration-and-rule-of-law-on-next-acp-eu-parliamentary-assembly-agenda', 'http://www.europarl.europa.eu/news/en/press-room/20190307IPR30752/non-performing-loans-banks-need-to-mitigate-the-risk-of-potential-losses', 'http://www.europarl.europa.eu/news/en/press-room/20190307IPR30745/climate-change-parliament-s-blueprint-for-long-term-co2-cuts', 'http://www.europarl.europa.eu/news/en/press-room/20190307IPR30748/meps-call-for-eu-magnitsky-act-to-impose-sanctions-on-human-rights-abusers', 'http://www.europarl.europa.eu/news/en/press-room/20190307IPR30753/parliament-criticises-council-s-rejection-of-money-laundering-blacklist', 'http://www.europarl.europa.eu/news/en/press-room/20190307IPR30757/human-rights-breaches-in-iran-kazakhstan-and-guatemala', 'http://www.europarl.europa.eu/news/en/press-room/20190307IPR30746/parliament-wants-to-suspend-eu-accession-negotiations-with-turkey', 'http://www.europarl.europa.eu/news/en/press-room/20190307IPR30695/eu-prepares-itself-to-fight-back-against-hostile-propaganda', 'http://www.europarl.europa.eu/news/en/press-room/20190307IPR30747/parliament-proposes-policy-toolbox-to-curb-air-pollution', 'http://www.europarl.europa.eu/news/en/press-room/20190307IPR30749/more-accessible-products-and-services-for-disabled-and-elderly-people', 'http://www.europarl.europa.eu/news/en/press-room/20190307IPR30739/meps-vote-to-limit-negative-impact-of-no-deal-brexit-on-citizens', 'http://www.europarl.europa.eu/news/en/press-room/20190307IPR30738/uk-must-make-clear-what-it-wants-meps-say-in-brexit-debate', 'http://www.europarl.europa.eu/news/en/press-room/20190307IPR30744/upgraded-eu-visa-information-database-to-increase-security-at-external-borders', 'http://www.europarl.europa.eu/news/en/press-room/20190307IPR30741/slovak-prime-minister-calls-for-a-long-term-eu-vision-that-citizens-can-trust', 'http://www.europarl.europa.eu/news/en/press-room/20190307IPR30743/parliament-makes-it-easier-to-organise-a-european-citizens-initiative', 'http://www.europarl.europa.eu/news/en/press-room/20190307IPR30694/meps-adopt-cybersecurity-act-and-want-eu-to-counter-it-threat-from-china', 'http://www.europarl.europa.eu/news/en/press-room/20190307IPR30737/russia-can-no-longer-be-considered-a-strategic-partner-say-meps', 'http://www.europarl.europa.eu/news/en/press-room/20190307IPR30742/from-farms-to-supermarkets-meps-approve-new-eu-rules-against-unfair-trading', 'http://www.europarl.europa.eu/news/en/press-room/20190308IPR30918/fighting-crime-faster-eu-wide-exchange-of-non-eu-nationals-criminal-records', 'http://www.europarl.europa.eu/news/en/press-room/20190311IPR31055/first-eu-wide-protection-for-whistle-blowers-agreed', 'http://www.europarl.europa.eu/news/en/press-room/20190307IPR30740/opening-victims-of-terrorism-remembered', 'http://www.europarl.europa.eu/news/en/press-room/20190305IPR30201/women-must-have-an-equal-share-in-politics-say-meps-and-national-mps', 'http://www.europarl.europa.eu/news/en/press-room/20190304IPR30096/external-action-more-funds-for-human-rights-development-and-climate-change', 'http://www.europarl.europa.eu/news/en/press-room/20190304IPR30073/could-switching-between-summer-and-winter-time-end-in-2021', 'http://www.europarl.europa.eu/news/en/press-room/20190227IPR28908/laura-codruta-kovesi-civil-liberties-meps-top-choice-for-eu-chief-prosecutor', 'http://www.europarl.europa.eu/news/en/press-room/20190225IPR28727/tax-crimes-special-committee-calls-for-a-european-financial-police-force', 'http://www.europarl.europa.eu/news/en/press-room/20190225IPR28729/protecting-citizens-access-to-social-security-in-case-of-no-deal-brexit', 'http://www.europarl.europa.eu/news/en/press-room/20190226IPR28811/copyright-meps-back-provisional-agreement', 'http://www.europarl.europa.eu/news/en/press-room/20190225IPR28720/meps-to-quiz-candidates-for-position-of-eu-chief-prosecutor-on-tuesday-at-15-30', 'http://www.europarl.europa.eu/news/en/press-room/20190222IPR28563/parliament-to-host-conference-on-abolishing-the-death-penalty', 'http://www.europarl.europa.eu/news/en/press-room/20190220IPR27656/safer-roads-more-life-saving-technology-to-be-mandatory-in-vehicles', 'http://www.europarl.europa.eu/news/en/press-room/20190220IPR27659/meps-urge-the-eu-to-lead-the-way-to-net-zero-emissions-by-2050', 'http://www.europarl.europa.eu/news/en/press-room/20190218IPR26760/new-erasmus-more-opportunities-for-disadvantaged-youth', 'http://www.europarl.europa.eu/news/en/press-room/20190219IPR27560/parliaments-broadly-agree-on-next-steps-for-economic-monetary-union', 'http://www.europarl.europa.eu/news/en/press-room/20190218IPR26964/malta-and-slovakia-serious-shortcomings-in-the-rule-of-law', 'http://www.europarl.europa.eu/news/en/press-room/20190219IPR27353/cutting-co2-emissions-from-trucks-meps-reach-deal-with-council', 'http://www.europarl.europa.eu/news/en/press-room/20190218IPR26999/migration-and-asylum-eu-funds-to-promote-integration-and-protect-borders', 'http://www.europarl.europa.eu/news/en/press-room/20190219IPR27357/trade-negotiations-with-us-can-start-under-certain-conditions', 'http://www.europarl.europa.eu/news/en/press-room/20190207IPR25224/meps-urge-eu-states-to-ensure-better-care-of-transported-animals', 'http://www.europarl.europa.eu/news/en/press-room/20190207IPR25223/eu-cross-border-payments-outside-eurozone-meps-scrap-excessive-fees', 'http://www.europarl.europa.eu/news/en/press-room/20190207IPR25209/eu-to-scrutinise-foreign-direct-investment-more-closely', 'http://www.europarl.europa.eu/news/en/press-room/20190207IPR25225/human-rights-breaches-in-saudi-arabia-chechnya-and-zimbabwe', 'http://www.europarl.europa.eu/news/en/press-room/20190214IPR26425/online-platforms-required-by-law-to-be-more-transparent-with-eu-businesses', 'http://www.europarl.europa.eu/news/en/press-room/20190214IPR26418/meps-agree-on-objectives-and-scope-for-future-regional-and-cohesion-funding', 'http://www.europarl.europa.eu/news/en/press-room/20190212IPR26152/agreement-reached-on-digital-copyright-rules', 'http://www.europarl.europa.eu/news/en/press-room/20190207IPR25207/ep-gives-green-light-to-eu-singapore-trade-and-investment-protection-deals', 'http://www.europarl.europa.eu/news/en/press-room/20190207IPR25221/take-medical-use-of-cannabis-seriously-say-meps', 'http://www.europarl.europa.eu/news/en/press-room/20190207IPR25220/bosnia-and-herzegovina-meps-concerned-by-slow-progress-in-eu-related-reforms', 'http://www.europarl.europa.eu/news/en/press-room/20190207IPR25208/meps-reject-making-eu-regional-funding-dependent-on-economic-targets', 'http://www.europarl.europa.eu/news/en/press-room/20190212IPR25908/eu-gas-market-new-rules-agreed-will-also-cover-gas-pipelines-entering-the-eu', 'http://www.europarl.europa.eu/news/en/press-room/20190207IPR25210/italian-prime-minister-giuseppe-conte-europe-must-listen-to-the-people', 'http://www.europarl.europa.eu/news/en/press-room/20190212IPR26201/parliament-names-two-of-its-buildings-after-helmut-kohl-and-stefan-zweig', 'http://www.europarl.europa.eu/news/en/press-room/20190212IPR26008/european-parliament-and-professional-footballers-team-up', 'http://www.europarl.europa.eu/news/en/press-room/20190207IPR25206/civil-protection-parliament-strengthens-eu-disaster-response-capability', 'http://www.europarl.europa.eu/news/en/press-room/20190207IPR25218/meps-adopt-new-fisheries-partnership-with-morocco-including-western-sahara', 'http://www.europarl.europa.eu/news/en/press-room/20190207IPR25214/meps-back-plans-to-promote-water-reuse-for-agricultural-irrigation', 'http://www.europarl.europa.eu/news/en/press-room/20190207IPR25212/fisheries-management-plan-for-western-waters-adopted', 'http://www.europarl.europa.eu/news/en/press-room/20190212IPR25936/food-safety-enhancing-consumer-trust-in-eu-risk-assessment-and-authorisation', 'http://www.europarl.europa.eu/news/en/press-room/20190211IPR25771/stronger-european-border-and-coast-guard-to-secure-eu-s-borders', 'http://www.europarl.europa.eu/news/en/press-room/20190211IPR25764/parliament-names-radio-studio-after-journalists-murdered-in-december-attack', 'http://www.europarl.europa.eu/news/en/press-room/20190205IPR25030/opening-ep-demands-that-incarcerated-journalists-be-released', 'http://www.europarl.europa.eu/news/en/press-room/20190207IPR25330/safer-products-ep-and-council-close-deal-to-beef-up-checks-and-inspections', 'http://www.europarl.europa.eu/news/en/press-room/20190207IPR25282/new-forms-of-work-deal-on-measures-boosting-workers-rights', 'http://www.europarl.europa.eu/news/en/press-room/20190205IPR25020/erasmus-will-finance-existing-uk-eu-mobility-in-the-event-of-no-deal-brexit', 'http://www.europarl.europa.eu/news/en/press-room/20190204IPR24914/meps-and-eu-ministers-agree-on-closing-information-gaps-to-enhance-security', 'http://www.europarl.europa.eu/news/en/press-room/20190204IPR24909/deal-on-tightening-the-rules-to-stop-terrorists-from-using-homemade-explosives', 'http://www.europarl.europa.eu/news/en/press-room/20190204IPR24911/setting-up-a-company-in-the-eu-could-become-easier-and-cheaper', 'http://www.europarl.europa.eu/news/en/press-room/20190204IPR24950/solidarity-corps-more-opportunities-for-young-people', 'http://www.europarl.europa.eu/news/en/press-room/20190123IPR24128/ep-approves-more-transparency-and-efficiency-in-its-internal-rules', 'http://www.europarl.europa.eu/news/en/press-room/20190125IPR24303/venezuela-parliament-recognises-guaido-urges-eu-to-follow-suit', 'http://www.europarl.europa.eu/news/en/press-room/20190123IPR24127/finnish-prime-minister-calls-for-a-more-united-eu-of-concrete-actions', 'http://www.europarl.europa.eu/news/en/press-room/20190123IPR24124/meps-urge-uk-to-break-current-deadlock', 'http://www.europarl.europa.eu/news/en/press-room/20190130IPR24601/partnership-agreement-with-businesses-ahead-of-ep-elections', 'http://www.europarl.europa.eu/news/en/press-room/20190123IPR24125/parliament-commemorates-the-victims-of-the-holocaust', 'http://www.europarl.europa.eu/news/en/press-room/20190123IPR24123/opening-parliament-stands-up-for-human-rights-in-venezuela-not-oppression', 'http://www.europarl.europa.eu/news/en/press-room/20190129IPR24507/meps-to-debate-state-of-play-on-brexit-on-wednesday-afternoon', 'http://www.europarl.europa.eu/news/en/press-room/20190129IPR24504/visa-free-access-to-the-eu-for-uk-nationals-and-to-the-uk-for-eu-nationals', 'http://www.europarl.europa.eu/news/en/press-room/20190129IPR24505/new-rules-for-short-stay-visas-ep-and-council-reach-a-deal', 'http://www.europarl.europa.eu/news/en/press-room/20190129IPR24506/consumer-protection-deal-on-eu-wide-rules-for-those-sold-faulty-products', 'http://www.europarl.europa.eu/news/en/press-room/20190128IPR24410/mario-draghi-quizzed-for-last-time-by-economic-and-monetary-affairs-committee', 'http://www.europarl.europa.eu/news/en/press-room/20190125IPR24304/european-elections-new-website-explains-how-to-vote-in-every-member-state', 'http://www.europarl.europa.eu/news/en/press-room/20190124IPR24213/parliament-and-council-agree-on-measures-to-reconcile-career-and-private-life', 'http://www.europarl.europa.eu/news/en/press-room/20190121IPR23917/welfare-of-transported-animals-meps-urge-eu-states-to-do-a-better-job', 'http://www.europarl.europa.eu/news/en/press-room/20190124IPR24202/eu-singapore-free-trade-deal-gets-green-light-in-trade-committee', 'http://www.europarl.europa.eu/news/en/press-room/20190124IPR24201/ep-brexit-steering-group-calls-on-the-uk-to-overcome-the-deadlock', 'http://www.europarl.europa.eu/news/en/press-room/20190121IPR23915/consumers-rights-against-defective-digital-content-agreed-by-eu-lawmakers', 'http://www.europarl.europa.eu/news/en/press-room/20190121IPR23916/2021-2027-eu-budget-EU378-1-billion-to-benefit-all-regions', 'http://www.europarl.europa.eu/news/en/press-room/20190122IPR24027/romanian-presidency-priorities-discussed-in-committees', 'http://www.europarl.europa.eu/news/en/press-room/20190121IPR23924/meps-back-plans-to-promote-water-reuse-for-agricultural-irrigation', 'http://www.europarl.europa.eu/news/en/press-room/20190121IPR23925/consumers-to-be-better-protected-against-misleading-and-unfair-practices', 'http://www.europarl.europa.eu/news/en/press-room/20190122IPR24011/hostile-propaganda-the-eu-must-develop-a-firm-response', 'http://www.europarl.europa.eu/news/en/press-room/20190121IPR23926/meps-close-legal-loopholes-to-protect-victims-of-road-accidents', 'http://www.europarl.europa.eu/news/en/press-room/20190109IPR23011/member-states-jeopardising-the-rule-of-law-will-risk-losing-eu-funds', 'http://www.europarl.europa.eu/news/en/press-room/20190109IPR23024/promoting-rule-of-law-and-fundamental-rights-in-the-eu', 'http://www.europarl.europa.eu/news/en/press-room/20190109IPR23023/eu-integration-meps-want-to-end-permanent-opt-outs-from-eu-law', 'http://www.europarl.europa.eu/news/en/press-room/20190109IPR23027/human-rights-breaches-in-azerbaijan-and-sudan', 'http://www.europarl.europa.eu/news/en/press-room/20190109IPR23026/eu-fundamental-rights-under-threat-in-several-member-states', 'http://www.europarl.europa.eu/news/en/press-room/20190109IPR23016/meps-spell-out-priorities-for-the-european-central-bank-and-on-banking-union', 'http://www.europarl.europa.eu/news/en/press-room/20190109IPR23009/investeu-meps-support-new-programme-to-boost-financing-for-jobs-and-growth', 'http://www.europarl.europa.eu/news/en/press-room/20190115IPR23551/pesticides-meps-propose-blueprint-to-improve-eu-approval-procedure', 'http://www.europarl.europa.eu/news/en/press-room/20190109IPR23022/european-fund-for-transition-to-support-more-workers-made-redundant', 'http://www.europarl.europa.eu/news/en/press-room/20190109IPR23021/meps-want-to-eu-to-invest-more-in-young-people', 'http://www.europarl.europa.eu/news/en/press-room/20190109IPR23018/preferential-tariffs-to-help-western-sahara-to-develop', 'http://www.europarl.europa.eu/news/en/press-room/20190109IPR23019/pedro-sanchez-we-must-protect-europe-so-europe-can-protect-its-citizens', 'http://www.europarl.europa.eu/news/en/press-room/20190116IPR23603/eu-elections-new-rules-to-prevent-breaches-of-data-used-to-influence-elections', 'http://www.europarl.europa.eu/news/en/press-room/20190109IPR23020/brexit-the-time-has-come-for-the-uk-to-clarify-its-position']\n"
          ],
          "name": "stdout"
        }
      ]
    },
    {
      "metadata": {
        "id": "Cez5BjsdGgKA",
        "colab_type": "code",
        "colab": {
          "base_uri": "https://localhost:8080/",
          "height": 374
        },
        "outputId": "f603539a-5da7-4343-c986-6ef165849675"
      },
      "cell_type": "code",
      "source": [
        "sampling(list_of_links)"
      ],
      "execution_count": 33,
      "outputs": [
        {
          "output_type": "execute_result",
          "data": {
            "text/plain": [
              "['http://www.europarl.europa.eu/news/en/press-room/20190321IPR32135/new-rules-to-help-consumers-join-forces-to-seek-compensation',\n",
              " 'http://www.europarl.europa.eu/news/en/press-room/20190307IPR30738/uk-must-make-clear-what-it-wants-meps-say-in-brexit-debate',\n",
              " 'http://www.europarl.europa.eu/news/en/press-room/20190218IPR26760/new-erasmus-more-opportunities-for-disadvantaged-youth',\n",
              " 'http://www.europarl.europa.eu/news/en/press-room/20190321IPR32132/acp-eu-parliamentary-assembly-strengthening-the-partnership',\n",
              " 'http://www.europarl.europa.eu/news/en/press-room/20190207IPR25282/new-forms-of-work-deal-on-measures-boosting-workers-rights',\n",
              " 'http://www.europarl.europa.eu/news/en/press-room/20190123IPR24127/finnish-prime-minister-calls-for-a-more-united-eu-of-concrete-actions',\n",
              " 'http://www.europarl.europa.eu/news/en/press-room/20190318IPR31813/council-strongly-criticised-over-failing-to-act-to-protect-eu-values-in-hungary',\n",
              " 'http://www.europarl.europa.eu/news/en/press-room/20190109IPR23026/eu-fundamental-rights-under-threat-in-several-member-states',\n",
              " 'http://www.europarl.europa.eu/news/en/press-room/20190122IPR24027/romanian-presidency-priorities-discussed-in-committees',\n",
              " 'http://www.europarl.europa.eu/news/en/press-room/20190312IPR31161/fairer-and-clearer-rules-on-social-benefits-for-eu-mobile-workers-agreed',\n",
              " 'http://www.europarl.europa.eu/news/en/press-room/20190124IPR24202/eu-singapore-free-trade-deal-gets-green-light-in-trade-committee',\n",
              " 'http://www.europarl.europa.eu/news/en/press-room/20190121IPR23917/welfare-of-transported-animals-meps-urge-eu-states-to-do-a-better-job',\n",
              " 'http://www.europarl.europa.eu/news/en/press-room/20190111IPR23225/questions-and-answers-on-issues-about-the-digital-copyright-directive',\n",
              " 'http://www.europarl.europa.eu/news/en/press-room/20190207IPR25223/eu-cross-border-payments-outside-eurozone-meps-scrap-excessive-fees',\n",
              " 'http://www.europarl.europa.eu/news/en/press-room/20190109IPR23011/member-states-jeopardising-the-rule-of-law-will-risk-losing-eu-funds',\n",
              " 'http://www.europarl.europa.eu/news/en/press-room/20190307IPR30739/meps-vote-to-limit-negative-impact-of-no-deal-brexit-on-citizens',\n",
              " 'http://www.europarl.europa.eu/news/en/press-room/20190207IPR25207/ep-gives-green-light-to-eu-singapore-trade-and-investment-protection-deals',\n",
              " 'http://www.europarl.europa.eu/news/en/press-room/20190222IPR28563/parliament-to-host-conference-on-abolishing-the-death-penalty',\n",
              " 'http://www.europarl.europa.eu/news/en/press-room/20190307IPR30737/russia-can-no-longer-be-considered-a-strategic-partner-say-meps',\n",
              " 'http://www.europarl.europa.eu/news/en/press-room/20190321IPR32109/tax-crimes-meps-want-eu-financial-police-force-and-financial-intelligence-unit',\n",
              " 'http://www.europarl.europa.eu/news/en/press-room/20190307IPR30748/meps-call-for-eu-magnitsky-act-to-impose-sanctions-on-human-rights-abusers']"
            ]
          },
          "metadata": {
            "tags": []
          },
          "execution_count": 33
        }
      ]
    }
  ]
}