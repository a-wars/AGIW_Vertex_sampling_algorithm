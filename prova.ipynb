{
  "nbformat": 4,
  "nbformat_minor": 0,
  "metadata": {
    "colab": {
      "name": "prova.ipynb",
      "version": "0.3.2",
      "provenance": [],
      "collapsed_sections": [],
      "include_colab_link": true
    },
    "kernelspec": {
      "display_name": "Python 3",
      "language": "python",
      "name": "python3"
    }
  },
  "cells": [
    {
      "cell_type": "markdown",
      "metadata": {
        "id": "view-in-github",
        "colab_type": "text"
      },
      "source": [
        "<a href=\"https://colab.research.google.com/github/lucapas/VERTEX/blob/master/prova.ipynb\" target=\"_parent\"><img src=\"https://colab.research.google.com/assets/colab-badge.svg\" alt=\"Open In Colab\"/></a>"
      ]
    },
    {
      "metadata": {
        "id": "Nj5q1zhKpnL5",
        "colab_type": "code",
        "colab": {}
      },
      "cell_type": "code",
      "source": [
        "import requests\n",
        "import lxml.etree\n",
        "import lxml.html"
      ],
      "execution_count": 0,
      "outputs": []
    },
    {
      "metadata": {
        "id": "pXlxEZ3xpnL-",
        "colab_type": "code",
        "colab": {}
      },
      "cell_type": "code",
      "source": [
        "r = requests.get(\"http://www.dia.uniroma3.it/~patrigna/\")"
      ],
      "execution_count": 0,
      "outputs": []
    },
    {
      "metadata": {
        "id": "mBcWDiyipnMA",
        "colab_type": "code",
        "colab": {}
      },
      "cell_type": "code",
      "source": [
        "root = lxml.html.fromstring(r.content)"
      ],
      "execution_count": 0,
      "outputs": []
    },
    {
      "metadata": {
        "id": "BdmkY8UepnMD",
        "colab_type": "code",
        "colab": {}
      },
      "cell_type": "code",
      "source": [
        "leaf_tag = root.xpath(\"//*[not(child::*)]/text()\")"
      ],
      "execution_count": 0,
      "outputs": []
    },
    {
      "metadata": {
        "id": "WRbXUKR6pnMF",
        "colab_type": "code",
        "outputId": "12e8ff19-a5c2-467c-88b7-bfe2c4cf8544",
        "colab": {
          "base_uri": "https://localhost:8080/",
          "height": 343
        }
      },
      "cell_type": "code",
      "source": [
        "leaf_tag"
      ],
      "execution_count": 0,
      "outputs": [
        {
          "output_type": "execute_result",
          "data": {
            "text/plain": [
              "[\"Maurizio Patrignani's Home Page \",\n",
              " '\\n\\n<!-- Activate Cloaking Device\\n//***************************************************************************\\n//\\n//           Timothy\\'s Random Background Color Generator\\n//\\n//                 by Tim Wallace   (timothy@essex1.com)\\n//\\n//   Original random generator by Paul Houle  (ph18@cornell.edu)\\n//\\n//***************************************************************************\\n\\ntoday=new Date();\\njran=today.getTime();\\nvar number = 7;\\nvar random_number=\"\";\\nvar color=\"\";\\nvar text_color=\"\";\\n\\n// Random number generating scheme.\\nia=9301;\\nic=49297;\\nim=233280;\\njran = (jran*ia+ic) % im;\\nrandom_number = Math.ceil( (jran/(im*1.0)) *number);\\n\\n// String of if statements that load the appropriate bgcolor and text color based on random number.\\nif (random_number==1)\\n   {\\n   text_color=\"ff0000\";\\n   color=\"994444\";        // dark red\\n   }\\nif (random_number==2)\\n   {\\n   text_color=\"FFFFFF\";\\n   color=\"000000\";         // black\\n   }\\nif (random_number==3)\\n   {\\n   text_color=\"800000\";\\n   color=\"606060\";         // grey\\n   }\\nif (random_number==4)\\n   {\\n   text_color=\"00FFFF\";\\n   color=\"000080\";          // blue\\n   }\\nif (random_number==5)\\n   {\\n   text_color=\"FFFF00\";    // green blue\\n   color=\"008080\";\\n   }\\nif (random_number==6)\\n   {\\n   text_color=\"000000\";\\n   color=\"804040\";            // violet\\n   }\\nif (random_number==7)\\n   {\\n   text_color=\"FFFF00\";\\n   color=\"400040\";      // dark violet\\n   }\\n\\n// Deactivate Cloaking -->\\n\\n',\n",
              " '\\n<!-- Activate Cloaking Device\\ndocument.open();\\ndocument.write(\"<BODY  text=\\'#FFFFFF\\' link=\\'#FFFF99\\' vlink=\\'#FFCC00\\' alink=\\'#FF0000\\' BGCOLOR=\\'\"+color+\"\\'>\");\\ndocument.write(\"<CENTER></CENTER>\");\\n// Deactivate Cloaking -->\\n',\n",
              " '\\n\\n',\n",
              " 'maurizio \"titto\" patrignani\\'s home page',\n",
              " 'here',\n",
              " 'italian painter',\n",
              " 'Hear Control-V music!',\n",
              " 'Other stuff',\n",
              " 'seminars and talks',\n",
              " 'didattica',\n",
              " 'miscellanea',\n",
              " 'photos',\n",
              " 'useful pages',\n",
              " 'chinese\\ncharacters',\n",
              " 'private things',\n",
              " 'lettere americane',\n",
              " 'lettere cinesi']"
            ]
          },
          "metadata": {
            "tags": []
          },
          "execution_count": 5
        }
      ]
    },
    {
      "metadata": {
        "id": "kEnF7yqJpnMM",
        "colab_type": "code",
        "outputId": "34e66d1e-b33e-4fdb-e002-4853cafa4cd2",
        "colab": {
          "base_uri": "https://localhost:8080/",
          "height": 34
        }
      },
      "cell_type": "code",
      "source": [
        "len(leaf_tag)"
      ],
      "execution_count": 0,
      "outputs": [
        {
          "output_type": "execute_result",
          "data": {
            "text/plain": [
              "18"
            ]
          },
          "metadata": {
            "tags": []
          },
          "execution_count": 6
        }
      ]
    },
    {
      "metadata": {
        "id": "7iKnDGF0pnMQ",
        "colab_type": "code",
        "colab": {}
      },
      "cell_type": "code",
      "source": [
        "prova = leaf_tag[1]"
      ],
      "execution_count": 0,
      "outputs": []
    },
    {
      "metadata": {
        "id": "re81ep5rpnMk",
        "colab_type": "text"
      },
      "cell_type": "markdown",
      "source": [
        "## Get all xpath"
      ]
    },
    {
      "metadata": {
        "id": "GxngJUO5pnMk",
        "colab_type": "code",
        "outputId": "487b58fc-b16c-4be9-d50e-f8ccc7bd9bea",
        "colab": {
          "base_uri": "https://localhost:8080/",
          "height": 323
        }
      },
      "cell_type": "code",
      "source": [
        "def get_all_xpath(html_src):\n",
        "        \n",
        "    LEAF_XPATH = \"//*[not(child::*)]\"\n",
        "    \n",
        "    root = lxml.html.fromstring(html_src)\n",
        "    tree = root.getroottree()\n",
        "    #print(\"prova\")\n",
        "    \n",
        "    leaf_nodes = root.xpath(LEAF_XPATH)\n",
        "    leaf_nodes_with_text = []\n",
        "    \n",
        "    for leaf in leaf_nodes:\n",
        "        if leaf.text is not None:\n",
        "            leaf_nodes_with_text.append(leaf)\n",
        "    \n",
        "    #print(len(leaf_nodes_with_text))\n",
        "    \n",
        "    xpath_list = []\n",
        "    \n",
        "    for leaf in leaf_nodes_with_text:\n",
        "        xpath_list.append(tree.getpath(leaf) + '/text()')\n",
        "    #print(len(xpath_list))\n",
        "    #print(xpath_list)\n",
        "    \n",
        "        \n",
        "    return xpath_list\n",
        "    \n",
        "    \n",
        "lista_xpath = get_all_xpath(r.content)\n",
        "lista_xpath"
      ],
      "execution_count": 0,
      "outputs": [
        {
          "output_type": "execute_result",
          "data": {
            "text/plain": [
              "['/html/head/title/text()',\n",
              " '/html/head/script/text()',\n",
              " '/html/script/text()',\n",
              " '/html/body/noscript/text()',\n",
              " '/html/body/center[1]/h1/font/text()',\n",
              " '/html/body/center[2]/p/a/text()',\n",
              " '/html/body/center[3]/table/tr[2]/td[2]/font/b/a/i/text()',\n",
              " '/html/body/center[3]/table/tr[2]/td[3]/font/b/a/text()',\n",
              " '/html/body/center[4]/p/text()',\n",
              " '/html/body/center[5]/table/tr[1]/td[2]/a/b/text()',\n",
              " '/html/body/center[5]/table/tr[2]/td[2]/a/b/text()',\n",
              " '/html/body/center[5]/table/tr[3]/td[1]/b/text()',\n",
              " '/html/body/center[5]/table/tr[3]/td[2]/b/a/text()',\n",
              " '/html/body/center[5]/table/tr[4]/td[2]/b/a/text()',\n",
              " '/html/body/center[5]/table/tr[5]/td[2]/b/a/text()',\n",
              " '/html/body/center[5]/table/tr[6]/td[1]/b/text()',\n",
              " '/html/body/center[5]/table/tr[6]/td[2]/b/a/text()',\n",
              " '/html/body/center[5]/table/tr[7]/td[2]/b/a/text()']"
            ]
          },
          "metadata": {
            "tags": []
          },
          "execution_count": 14
        }
      ]
    },
    {
      "metadata": {
        "id": "4IVfHDoupnMo",
        "colab_type": "code",
        "outputId": "84007ecd-e1e1-4eb6-f6c1-7bd743ea94f4",
        "colab": {
          "base_uri": "https://localhost:8080/",
          "height": 428
        }
      },
      "cell_type": "code",
      "source": [
        "def get_text(root,xpath_list):\n",
        "    \n",
        "    lista_component=[]\n",
        "    for xpath in xpath_list:\n",
        "        lista_component.append((xpath,root.xpath(xpath)[0].strip()))\n",
        "    \n",
        "    return lista_component\n",
        "\n",
        "component_list=get_text(root,lista_xpath)\n",
        "component_list"
      ],
      "execution_count": 0,
      "outputs": [
        {
          "output_type": "execute_result",
          "data": {
            "text/plain": [
              "[('/html/head/title/text()', \"Maurizio Patrignani's Home Page\"),\n",
              " ('/html/head/script/text()',\n",
              "  '<!-- Activate Cloaking Device\\n//***************************************************************************\\n//\\n//           Timothy\\'s Random Background Color Generator\\n//\\n//                 by Tim Wallace   (timothy@essex1.com)\\n//\\n//   Original random generator by Paul Houle  (ph18@cornell.edu)\\n//\\n//***************************************************************************\\n\\ntoday=new Date();\\njran=today.getTime();\\nvar number = 7;\\nvar random_number=\"\";\\nvar color=\"\";\\nvar text_color=\"\";\\n\\n// Random number generating scheme.\\nia=9301;\\nic=49297;\\nim=233280;\\njran = (jran*ia+ic) % im;\\nrandom_number = Math.ceil( (jran/(im*1.0)) *number);\\n\\n// String of if statements that load the appropriate bgcolor and text color based on random number.\\nif (random_number==1)\\n   {\\n   text_color=\"ff0000\";\\n   color=\"994444\";        // dark red\\n   }\\nif (random_number==2)\\n   {\\n   text_color=\"FFFFFF\";\\n   color=\"000000\";         // black\\n   }\\nif (random_number==3)\\n   {\\n   text_color=\"800000\";\\n   color=\"606060\";         // grey\\n   }\\nif (random_number==4)\\n   {\\n   text_color=\"00FFFF\";\\n   color=\"000080\";          // blue\\n   }\\nif (random_number==5)\\n   {\\n   text_color=\"FFFF00\";    // green blue\\n   color=\"008080\";\\n   }\\nif (random_number==6)\\n   {\\n   text_color=\"000000\";\\n   color=\"804040\";            // violet\\n   }\\nif (random_number==7)\\n   {\\n   text_color=\"FFFF00\";\\n   color=\"400040\";      // dark violet\\n   }\\n\\n// Deactivate Cloaking -->'),\n",
              " ('/html/script/text()',\n",
              "  '<!-- Activate Cloaking Device\\ndocument.open();\\ndocument.write(\"<BODY  text=\\'#FFFFFF\\' link=\\'#FFFF99\\' vlink=\\'#FFCC00\\' alink=\\'#FF0000\\' BGCOLOR=\\'\"+color+\"\\'>\");\\ndocument.write(\"<CENTER></CENTER>\");\\n// Deactivate Cloaking -->'),\n",
              " ('/html/body/noscript/text()', ''),\n",
              " ('/html/body/center[1]/h1/font/text()',\n",
              "  'maurizio \"titto\" patrignani\\'s home page'),\n",
              " ('/html/body/center[2]/p/a/text()', 'here'),\n",
              " ('/html/body/center[3]/table/tr[2]/td[2]/font/b/a/i/text()',\n",
              "  'italian painter'),\n",
              " ('/html/body/center[3]/table/tr[2]/td[3]/font/b/a/text()',\n",
              "  'Hear Control-V music!'),\n",
              " ('/html/body/center[4]/p/text()', 'Other stuff'),\n",
              " ('/html/body/center[5]/table/tr[1]/td[2]/a/b/text()', 'seminars and talks'),\n",
              " ('/html/body/center[5]/table/tr[2]/td[2]/a/b/text()', 'didattica'),\n",
              " ('/html/body/center[5]/table/tr[3]/td[1]/b/text()', 'miscellanea'),\n",
              " ('/html/body/center[5]/table/tr[3]/td[2]/b/a/text()', 'photos'),\n",
              " ('/html/body/center[5]/table/tr[4]/td[2]/b/a/text()', 'useful pages'),\n",
              " ('/html/body/center[5]/table/tr[5]/td[2]/b/a/text()', 'chinese\\ncharacters'),\n",
              " ('/html/body/center[5]/table/tr[6]/td[1]/b/text()', 'private things'),\n",
              " ('/html/body/center[5]/table/tr[6]/td[2]/b/a/text()', 'lettere americane'),\n",
              " ('/html/body/center[5]/table/tr[7]/td[2]/b/a/text()', 'lettere cinesi')]"
            ]
          },
          "metadata": {
            "tags": []
          },
          "execution_count": 13
        }
      ]
    },
    {
      "metadata": {
        "id": "bmrMOazXqkIb",
        "colab_type": "code",
        "colab": {}
      },
      "cell_type": "code",
      "source": [
        "def first_data(uri,dizionario):\n",
        "  r = requests.get(uri)\n",
        "  lista_xpath = get_all_xpath(r.content)\n",
        "  dizionario.update({uri: lista_xpath})\n",
        "  \n",
        "  return dizionario"
      ],
      "execution_count": 0,
      "outputs": []
    },
    {
      "metadata": {
        "id": "LPSDZZI-tMcx",
        "colab_type": "code",
        "colab": {}
      },
      "cell_type": "code",
      "source": [
        "def second_data():\n",
        "  component_list=get_text(root,lista_xpath)\n",
        "  xpath_content(component_list)\n",
        "  \n",
        "root = lxml.html.fromstring(r.content)"
      ],
      "execution_count": 0,
      "outputs": []
    },
    {
      "metadata": {
        "id": "wyX2I0dkq453",
        "colab_type": "code",
        "colab": {}
      },
      "cell_type": "code",
      "source": [
        "#ciclo sulle pagine\n",
        "def data(list_uri):\n",
        "  dizionario={}\n",
        "  for uri in list_uri:\n",
        "    data_first=first_data(uri,dizionario)\n",
        "\n",
        "  \n",
        "  return data_first"
      ],
      "execution_count": 0,
      "outputs": []
    },
    {
      "metadata": {
        "id": "15C4ha3Xxliu",
        "colab_type": "code",
        "outputId": "66813931-9344-4771-d684-4d94681df5d9",
        "colab": {
          "base_uri": "https://localhost:8080/",
          "height": 2278
        }
      },
      "cell_type": "code",
      "source": [
        "#{uri,[xpath]} e {xpath,[valori]}\n",
        "list_uri=[\"http://www.dia.uniroma3.it/~patrigna/\",\"http://www.dia.uniroma3.it/~patrigna/teaching.php\"]\n",
        "data(list_uri)"
      ],
      "execution_count": 0,
      "outputs": [
        {
          "output_type": "execute_result",
          "data": {
            "text/plain": [
              "{'http://www.dia.uniroma3.it/~patrigna/': ['/html/head/title/text()',\n",
              "  '/html/head/script/text()',\n",
              "  '/html/script/text()',\n",
              "  '/html/body/noscript/text()',\n",
              "  '/html/body/center[1]/h1/font/text()',\n",
              "  '/html/body/center[2]/p/a/text()',\n",
              "  '/html/body/center[3]/table/tr[2]/td[2]/font/b/a/i/text()',\n",
              "  '/html/body/center[3]/table/tr[2]/td[3]/font/b/a/text()',\n",
              "  '/html/body/center[4]/p/text()',\n",
              "  '/html/body/center[5]/table/tr[1]/td[2]/a/b/text()',\n",
              "  '/html/body/center[5]/table/tr[2]/td[2]/a/b/text()',\n",
              "  '/html/body/center[5]/table/tr[3]/td[1]/b/text()',\n",
              "  '/html/body/center[5]/table/tr[3]/td[2]/b/a/text()',\n",
              "  '/html/body/center[5]/table/tr[4]/td[2]/b/a/text()',\n",
              "  '/html/body/center[5]/table/tr[5]/td[2]/b/a/text()',\n",
              "  '/html/body/center[5]/table/tr[6]/td[1]/b/text()',\n",
              "  '/html/body/center[5]/table/tr[6]/td[2]/b/a/text()',\n",
              "  '/html/body/center[5]/table/tr[7]/td[2]/b/a/text()'],\n",
              " 'http://www.dia.uniroma3.it/~patrigna/teaching.php': ['/html[1]/head/title/text()',\n",
              "  '/html[1]/body/center[1]/h1/font/text()',\n",
              "  '/html[1]/body/ul/li[1]/big/b/a/text()',\n",
              "  '/html[1]/body/ul/li[1]/i/text()',\n",
              "  '/html[1]/body/ul/li[2]/big/b/a/text()',\n",
              "  '/html[1]/body/ul/li[2]/i/text()',\n",
              "  '/html[1]/body/ul/li[3]/big/b/a/text()',\n",
              "  '/html[1]/body/ul/li[3]/i/text()',\n",
              "  '/html[1]/body/center[2]/h1/font/text()',\n",
              "  '/html[1]/body/p/b/font/a/text()',\n",
              "  '/html[1]/body/center[3]/table/tr[1]/td[1]/i/text()',\n",
              "  '/html[1]/body/center[3]/table/tr[1]/td[2]/b[1]/a/text()',\n",
              "  '/html[1]/body/center[3]/table/tr[1]/td[2]/b[2]/text()',\n",
              "  '/html[1]/body/center[3]/table/tr[2]/td[2]/b[1]/a/text()',\n",
              "  '/html[1]/body/center[3]/table/tr[2]/td[2]/b[2]/text()',\n",
              "  '/html[1]/body/center[3]/table/tr[3]/td[2]/b[1]/a/text()',\n",
              "  '/html[1]/body/center[3]/table/tr[3]/td[2]/b[2]/text()',\n",
              "  '/html[1]/body/center[3]/table/tr[4]/td[1]/i/text()',\n",
              "  '/html[1]/body/center[3]/table/tr[4]/td[2]/b[1]/a/text()',\n",
              "  '/html[1]/body/center[3]/table/tr[4]/td[2]/b[2]/text()',\n",
              "  '/html[1]/body/center[3]/table/tr[4]/td[2]/b[3]/a/text()',\n",
              "  '/html[1]/body/center[3]/table/tr[4]/td[2]/b[4]/text()',\n",
              "  '/html[1]/body/center[3]/table/tr[5]/td[2]/b[1]/a/text()',\n",
              "  '/html[1]/body/center[3]/table/tr[5]/td[2]/b[2]/text()',\n",
              "  '/html[1]/body/center[3]/table/tr[6]/td[2]/b[1]/a/text()',\n",
              "  '/html[1]/body/center[3]/table/tr[6]/td[2]/b[2]/text()',\n",
              "  '/html[1]/body/center[3]/table/tr[7]/td[2]/b[1]/a/text()',\n",
              "  '/html[1]/body/center[3]/table/tr[7]/td[2]/b[2]/a/text()',\n",
              "  '/html[1]/body/center[3]/table/tr[8]/td[1]/i/text()',\n",
              "  '/html[1]/body/center[3]/table/tr[8]/td[2]/b[1]/a/text()',\n",
              "  '/html[1]/body/center[3]/table/tr[8]/td[2]/b[2]/text()',\n",
              "  '/html[1]/body/center[3]/table/tr[8]/td[2]/b[3]/a/text()',\n",
              "  '/html[1]/body/center[3]/table/tr[8]/td[2]/b[4]/text()',\n",
              "  '/html[1]/body/center[3]/table/tr[9]/td[2]/b[1]/a/text()',\n",
              "  '/html[1]/body/center[3]/table/tr[9]/td[2]/b[2]/text()',\n",
              "  '/html[1]/body/center[3]/table/tr[10]/td[2]/b[1]/a/text()',\n",
              "  '/html[1]/body/center[3]/table/tr[10]/td[2]/b[2]/text()',\n",
              "  '/html[1]/body/center[3]/table/tr[11]/td[2]/b[1]/a/text()',\n",
              "  '/html[1]/body/center[3]/table/tr[11]/td[2]/b[2]/text()',\n",
              "  '/html[1]/body/center[3]/table/tr[12]/td[2]/b[1]/a/text()',\n",
              "  '/html[1]/body/center[3]/table/tr[12]/td[2]/b[2]/a/text()',\n",
              "  '/html[1]/body/center[3]/table/tr[13]/td[1]/i/text()',\n",
              "  '/html[1]/body/center[3]/table/tr[13]/td[2]/b[1]/a/text()',\n",
              "  '/html[1]/body/center[3]/table/tr[13]/td[2]/b[2]/text()',\n",
              "  '/html[1]/body/center[3]/table/tr[13]/td[2]/b[3]/a/text()',\n",
              "  '/html[1]/body/center[3]/table/tr[13]/td[2]/b[4]/text()',\n",
              "  '/html[1]/body/center[3]/table/tr[14]/td[2]/b[1]/a/text()',\n",
              "  '/html[1]/body/center[3]/table/tr[14]/td[2]/b[2]/text()',\n",
              "  '/html[1]/body/center[3]/table/tr[15]/td[2]/b[1]/a/text()',\n",
              "  '/html[1]/body/center[3]/table/tr[15]/td[2]/b[2]/text()',\n",
              "  '/html[1]/body/center[3]/table/tr[16]/td[2]/b[1]/a/text()',\n",
              "  '/html[1]/body/center[3]/table/tr[16]/td[2]/b[2]/text()',\n",
              "  '/html[1]/body/center[3]/table/tr[17]/td[2]/b[1]/a/text()',\n",
              "  '/html[1]/body/center[3]/table/tr[17]/td[2]/b[2]/text()',\n",
              "  '/html[1]/body/center[3]/table/tr[18]/td[2]/b[1]/a/text()',\n",
              "  '/html[1]/body/center[3]/table/tr[18]/td[2]/b[2]/a/text()',\n",
              "  '/html[1]/body/center[3]/table/tr[19]/td[2]/b[1]/text()',\n",
              "  '/html[1]/body/center[3]/table/tr[19]/td[2]/b[2]/a/text()',\n",
              "  '/html[1]/body/center[3]/table/tr[20]/td[2]/b[1]/text()',\n",
              "  '/html[1]/body/center[3]/table/tr[20]/td[2]/b[2]/a/text()',\n",
              "  '/html[1]/body/center[3]/table/tr[21]/td[2]/b[1]/text()',\n",
              "  '/html[1]/body/center[3]/table/tr[21]/td[2]/b[2]/a/text()',\n",
              "  '/html[1]/body/center[3]/table/tr[22]/td[2]/b[1]/text()',\n",
              "  '/html[1]/body/center[3]/table/tr[22]/td[2]/b[2]/a/text()',\n",
              "  '/html[1]/body/center[3]/table/tr[23]/td[1]/i/text()',\n",
              "  '/html[1]/body/center[3]/table/tr[23]/td[2]/b[1]/a/text()',\n",
              "  '/html[1]/body/center[3]/table/tr[23]/td[2]/b[2]/text()',\n",
              "  '/html[1]/body/center[3]/table/tr[23]/td[2]/b[3]/a/text()',\n",
              "  '/html[1]/body/center[3]/table/tr[23]/td[2]/b[4]/text()',\n",
              "  '/html[1]/body/center[3]/table/tr[24]/td[2]/b[1]/a/text()',\n",
              "  '/html[1]/body/center[3]/table/tr[24]/td[2]/b[2]/text()',\n",
              "  '/html[1]/body/center[3]/table/tr[25]/td[2]/b[1]/a/text()',\n",
              "  '/html[1]/body/center[3]/table/tr[25]/td[2]/b[2]/text()',\n",
              "  '/html[1]/body/center[3]/table/tr[26]/td[2]/b[1]/a/text()',\n",
              "  '/html[1]/body/center[3]/table/tr[26]/td[2]/b[2]/text()',\n",
              "  '/html[1]/body/center[3]/table/tr[27]/td[2]/b[1]/a/text()',\n",
              "  '/html[1]/body/center[3]/table/tr[27]/td[2]/b[2]/a/text()',\n",
              "  '/html[1]/body/center[3]/table/tr[28]/td[2]/b[1]/text()',\n",
              "  '/html[1]/body/center[3]/table/tr[28]/td[2]/b[2]/a/text()',\n",
              "  '/html[1]/body/center[3]/table/tr[29]/td[2]/b[1]/text()',\n",
              "  '/html[1]/body/center[3]/table/tr[29]/td[2]/b[2]/a/text()',\n",
              "  '/html[1]/body/center[3]/table/tr[30]/td[2]/b[1]/text()',\n",
              "  '/html[1]/body/center[3]/table/tr[30]/td[2]/b[2]/a/text()',\n",
              "  '/html[1]/body/center[3]/table/tr[31]/td[2]/b[1]/text()',\n",
              "  '/html[1]/body/center[3]/table/tr[31]/td[2]/b[2]/a/text()',\n",
              "  '/html[1]/body/center[3]/table/tr[32]/td[1]/i/text()',\n",
              "  '/html[1]/body/center[3]/table/tr[32]/td[2]/b/a/text()',\n",
              "  '/html[1]/body/center[3]/table/tr[33]/td[2]/b/a/text()',\n",
              "  '/html[1]/body/center[3]/table/tr[34]/td[2]/b[1]/a/text()',\n",
              "  '/html[1]/body/center[3]/table/tr[34]/td[2]/b[2]/text()',\n",
              "  '/html[1]/body/center[3]/table/tr[35]/td[2]/b[1]/a/text()',\n",
              "  '/html[1]/body/center[3]/table/tr[35]/td[2]/b[2]/text()',\n",
              "  '/html[1]/body/center[3]/table/tr[36]/td[1]/i/text()',\n",
              "  '/html[1]/body/center[3]/table/tr[36]/td[2]/b/a/text()',\n",
              "  '/html[1]/body/center[3]/table/tr[37]/td[2]/b[1]/a/text()',\n",
              "  '/html[1]/body/center[3]/table/tr[37]/td[2]/b[2]/text()',\n",
              "  '/html[1]/body/center[3]/table/tr[38]/td[2]/b[1]/a/text()',\n",
              "  '/html[1]/body/center[3]/table/tr[38]/td[2]/b[2]/text()',\n",
              "  '/html[1]/body/center[3]/table/tr[38]/td[2]/b[3]/text()',\n",
              "  '/html[1]/body/center[3]/table/tr[39]/td[2]/b/text()',\n",
              "  '/html[1]/body/center[3]/table/tr[40]/td[1]/i/text()',\n",
              "  '/html[1]/body/center[3]/table/tr[40]/td[2]/b[1]/a/text()',\n",
              "  '/html[1]/body/center[3]/table/tr[40]/td[2]/b[2]/text()',\n",
              "  '/html[1]/body/center[3]/table/tr[41]/td[2]/b/a/text()',\n",
              "  '/html[1]/body/center[3]/table/tr[42]/td[1]/i/text()',\n",
              "  '/html[1]/body/center[3]/table/tr[42]/td[2]/b[1]/a/text()',\n",
              "  '/html[1]/body/center[3]/table/tr[42]/td[2]/b[2]/text()',\n",
              "  '/html[1]/body/center[3]/table/tr[43]/td[2]/b/a/text()',\n",
              "  '/html[1]/body/center[3]/table/tr[44]/td[2]/b/text()',\n",
              "  '/html[1]/body/center[3]/table/tr[45]/td[2]/b/text()',\n",
              "  '/html[1]/body/center[3]/table/tr[46]/td[1]/i/text()',\n",
              "  '/html[1]/body/center[3]/table/tr[46]/td[2]/b/a/text()',\n",
              "  '/html[1]/body/center[3]/table/tr[47]/td[1]/i/text()',\n",
              "  '/html[1]/body/center[3]/table/tr[47]/td[2]/b/a/text()',\n",
              "  '/html[1]/body/center[3]/table/tr[48]/td[2]/b/a/text()']}"
            ]
          },
          "metadata": {
            "tags": []
          },
          "execution_count": 23
        }
      ]
    },
    {
      "metadata": {
        "id": "fgUAW39mwcJ4",
        "colab_type": "code",
        "colab": {}
      },
      "cell_type": "code",
      "source": [
        "root = lxml.html.fromstring(r.content)\n",
        "second_data(component_list)"
      ],
      "execution_count": 0,
      "outputs": []
    },
    {
      "metadata": {
        "id": "U6u3dQyhrgtC",
        "colab_type": "code",
        "outputId": "1d9ca764-75f4-44b5-eaf6-786eb2e03882",
        "colab": {
          "base_uri": "https://localhost:8080/",
          "height": 34
        }
      },
      "cell_type": "code",
      "source": [
        "dizionario={}\n",
        "dizionario.update({'item3': [3,2]})\n",
        "dizionario.update({'item2': [1,1]})\n",
        "dizionario.update({'item3': [4,2]})\n",
        "dizionario"
      ],
      "execution_count": 0,
      "outputs": [
        {
          "output_type": "execute_result",
          "data": {
            "text/plain": [
              "{'item2': [1, 1], 'item3': [4, 2]}"
            ]
          },
          "metadata": {
            "tags": []
          },
          "execution_count": 27
        }
      ]
    },
    {
      "metadata": {
        "id": "XMTtWbs0pvnd",
        "colab_type": "code",
        "outputId": "0148bf7e-c26b-449a-c069-29902651913c",
        "colab": {
          "base_uri": "https://localhost:8080/",
          "height": 180
        }
      },
      "cell_type": "code",
      "source": [
        "dizionario['item4'].append(1)\n",
        "dizionario"
      ],
      "execution_count": 0,
      "outputs": [
        {
          "output_type": "error",
          "ename": "KeyError",
          "evalue": "ignored",
          "traceback": [
            "\u001b[0;31m---------------------------------------------------------------------------\u001b[0m",
            "\u001b[0;31mKeyError\u001b[0m                                  Traceback (most recent call last)",
            "\u001b[0;32m<ipython-input-29-eeefa51e2b7a>\u001b[0m in \u001b[0;36m<module>\u001b[0;34m()\u001b[0m\n\u001b[0;32m----> 1\u001b[0;31m \u001b[0mdizionario\u001b[0m\u001b[0;34m[\u001b[0m\u001b[0;34m'item4'\u001b[0m\u001b[0;34m]\u001b[0m\u001b[0;34m.\u001b[0m\u001b[0mappend\u001b[0m\u001b[0;34m(\u001b[0m\u001b[0;36m1\u001b[0m\u001b[0;34m)\u001b[0m\u001b[0;34m\u001b[0m\u001b[0;34m\u001b[0m\u001b[0m\n\u001b[0m\u001b[1;32m      2\u001b[0m \u001b[0mdizionario\u001b[0m\u001b[0;34m\u001b[0m\u001b[0;34m\u001b[0m\u001b[0m\n",
            "\u001b[0;31mKeyError\u001b[0m: 'item4'"
          ]
        }
      ]
    },
    {
      "metadata": {
        "id": "QR7FlXQmpnMs",
        "colab_type": "code",
        "colab": {}
      },
      "cell_type": "code",
      "source": [
        "component_list[0]"
      ],
      "execution_count": 0,
      "outputs": []
    },
    {
      "metadata": {
        "id": "VbXc5wUbpnMx",
        "colab_type": "code",
        "colab": {}
      },
      "cell_type": "code",
      "source": [
        "lista_xpath[0]"
      ],
      "execution_count": 0,
      "outputs": []
    },
    {
      "metadata": {
        "id": "AHo5oBtNpnM1",
        "colab_type": "code",
        "colab": {}
      },
      "cell_type": "code",
      "source": [
        "root.xpath(lista_xpath[0])[0].strip()"
      ],
      "execution_count": 0,
      "outputs": []
    },
    {
      "metadata": {
        "id": "omu7qZi2pnM_",
        "colab_type": "code",
        "colab": {}
      },
      "cell_type": "code",
      "source": [
        "for i in range(root):\n",
        "    root.xpath(lista_xpath[0])[0].strip()"
      ],
      "execution_count": 0,
      "outputs": []
    },
    {
      "metadata": {
        "id": "U2_1kC-0pnNE",
        "colab_type": "code",
        "colab": {}
      },
      "cell_type": "code",
      "source": [
        "\n",
        "root[0]"
      ],
      "execution_count": 0,
      "outputs": []
    },
    {
      "metadata": {
        "id": "ebzsJ__qpnNH",
        "colab_type": "code",
        "colab": {}
      },
      "cell_type": "code",
      "source": [
        "def calcolaInformazione(listapag,xpath, valori):\n",
        "    M=len(listapag)\n",
        "    Ti=len(set(valori))\n",
        "    "
      ],
      "execution_count": 0,
      "outputs": []
    },
    {
      "metadata": {
        "id": "Fc4yRiYjpnNL",
        "colab_type": "code",
        "colab": {}
      },
      "cell_type": "code",
      "source": [
        ""
      ],
      "execution_count": 0,
      "outputs": []
    },
    {
      "metadata": {
        "id": "p3q-m7oHpnNP",
        "colab_type": "code",
        "colab": {}
      },
      "cell_type": "code",
      "source": [
        ""
      ],
      "execution_count": 0,
      "outputs": []
    }
  ]
}