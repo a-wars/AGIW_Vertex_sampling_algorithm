{
 "cells": [
  {
   "cell_type": "code",
   "execution_count": 1,
   "metadata": {},
   "outputs": [],
   "source": [
    "import requests\n",
    "import lxml.etree\n",
    "import lxml.html"
   ]
  },
  {
   "cell_type": "code",
   "execution_count": 14,
   "metadata": {},
   "outputs": [],
   "source": [
    "r = requests.get(\"http://www.dia.uniroma3.it/~patrigna/\")"
   ]
  },
  {
   "cell_type": "code",
   "execution_count": 18,
   "metadata": {},
   "outputs": [],
   "source": [
    "root = lxml.html.fromstring(r.content)"
   ]
  },
  {
   "cell_type": "code",
   "execution_count": 42,
   "metadata": {},
   "outputs": [],
   "source": [
    "leaf_tag = root.xpath(\"//*[not(child::*)]/text()\")"
   ]
  },
  {
   "cell_type": "code",
   "execution_count": 43,
   "metadata": {},
   "outputs": [
    {
     "data": {
      "text/plain": [
       "[\"Maurizio Patrignani's Home Page \",\n",
       " '\\n\\n<!-- Activate Cloaking Device\\n//***************************************************************************\\n//\\n//           Timothy\\'s Random Background Color Generator\\n//\\n//                 by Tim Wallace   (timothy@essex1.com)\\n//\\n//   Original random generator by Paul Houle  (ph18@cornell.edu)\\n//\\n//***************************************************************************\\n\\ntoday=new Date();\\njran=today.getTime();\\nvar number = 7;\\nvar random_number=\"\";\\nvar color=\"\";\\nvar text_color=\"\";\\n\\n// Random number generating scheme.\\nia=9301;\\nic=49297;\\nim=233280;\\njran = (jran*ia+ic) % im;\\nrandom_number = Math.ceil( (jran/(im*1.0)) *number);\\n\\n// String of if statements that load the appropriate bgcolor and text color based on random number.\\nif (random_number==1)\\n   {\\n   text_color=\"ff0000\";\\n   color=\"994444\";        // dark red\\n   }\\nif (random_number==2)\\n   {\\n   text_color=\"FFFFFF\";\\n   color=\"000000\";         // black\\n   }\\nif (random_number==3)\\n   {\\n   text_color=\"800000\";\\n   color=\"606060\";         // grey\\n   }\\nif (random_number==4)\\n   {\\n   text_color=\"00FFFF\";\\n   color=\"000080\";          // blue\\n   }\\nif (random_number==5)\\n   {\\n   text_color=\"FFFF00\";    // green blue\\n   color=\"008080\";\\n   }\\nif (random_number==6)\\n   {\\n   text_color=\"000000\";\\n   color=\"804040\";            // violet\\n   }\\nif (random_number==7)\\n   {\\n   text_color=\"FFFF00\";\\n   color=\"400040\";      // dark violet\\n   }\\n\\n// Deactivate Cloaking -->\\n\\n',\n",
       " '\\n<!-- Activate Cloaking Device\\ndocument.open();\\ndocument.write(\"<BODY  text=\\'#FFFFFF\\' link=\\'#FFFF99\\' vlink=\\'#FFCC00\\' alink=\\'#FF0000\\' BGCOLOR=\\'\"+color+\"\\'>\");\\ndocument.write(\"<CENTER></CENTER>\");\\n// Deactivate Cloaking -->\\n',\n",
       " '\\n\\n',\n",
       " 'maurizio \"titto\" patrignani\\'s home page',\n",
       " 'here',\n",
       " 'italian painter',\n",
       " 'Hear Control-V music!',\n",
       " 'Other stuff',\n",
       " 'seminars and talks',\n",
       " 'didattica',\n",
       " 'miscellanea',\n",
       " 'photos',\n",
       " 'useful pages',\n",
       " 'chinese\\ncharacters',\n",
       " 'private things',\n",
       " 'lettere americane',\n",
       " 'lettere cinesi']"
      ]
     },
     "execution_count": 43,
     "metadata": {},
     "output_type": "execute_result"
    }
   ],
   "source": [
    "leaf_tag"
   ]
  },
  {
   "cell_type": "code",
   "execution_count": 44,
   "metadata": {},
   "outputs": [
    {
     "data": {
      "text/plain": [
       "18"
      ]
     },
     "execution_count": 44,
     "metadata": {},
     "output_type": "execute_result"
    }
   ],
   "source": [
    "len(leaf_tag)"
   ]
  },
  {
   "cell_type": "code",
   "execution_count": 39,
   "metadata": {},
   "outputs": [],
   "source": [
    "prova = leaf_tag[1]"
   ]
  },
  {
   "cell_type": "code",
   "execution_count": 40,
   "metadata": {},
   "outputs": [
    {
     "data": {
      "text/plain": [
       "\"Maurizio Patrignani's Home Page \""
      ]
     },
     "execution_count": 40,
     "metadata": {},
     "output_type": "execute_result"
    }
   ],
   "source": [
    "prova.text"
   ]
  },
  {
   "cell_type": "code",
   "execution_count": 41,
   "metadata": {},
   "outputs": [
    {
     "data": {
      "text/plain": [
       "str"
      ]
     },
     "execution_count": 41,
     "metadata": {},
     "output_type": "execute_result"
    }
   ],
   "source": [
    "type(prova.text)"
   ]
  },
  {
   "cell_type": "code",
   "execution_count": 35,
   "metadata": {},
   "outputs": [
    {
     "data": {
      "text/plain": [
       "True"
      ]
     },
     "execution_count": 35,
     "metadata": {},
     "output_type": "execute_result"
    }
   ],
   "source": [
    "prova.text is None"
   ]
  },
  {
   "cell_type": "code",
   "execution_count": 36,
   "metadata": {},
   "outputs": [
    {
     "data": {
      "text/plain": [
       "False"
      ]
     },
     "execution_count": 36,
     "metadata": {},
     "output_type": "execute_result"
    }
   ],
   "source": [
    "prova.text == ''"
   ]
  },
  {
   "cell_type": "markdown",
   "metadata": {},
   "source": [
    "## Get all xpath"
   ]
  },
  {
   "cell_type": "code",
   "execution_count": 54,
   "metadata": {},
   "outputs": [
    {
     "name": "stdout",
     "output_type": "stream",
     "text": [
      "18\n",
      "18\n",
      "['/html/head/title/text()', '/html/head/script/text()', '/html/script/text()', '/html/body/noscript/text()', '/html/body/center[1]/h1/font/text()', '/html/body/center[2]/p/a/text()', '/html/body/center[3]/table/tr[2]/td[2]/font/b/a/i/text()', '/html/body/center[3]/table/tr[2]/td[3]/font/b/a/text()', '/html/body/center[4]/p/text()', '/html/body/center[5]/table/tr[1]/td[2]/a/b/text()', '/html/body/center[5]/table/tr[2]/td[2]/a/b/text()', '/html/body/center[5]/table/tr[3]/td[1]/b/text()', '/html/body/center[5]/table/tr[3]/td[2]/b/a/text()', '/html/body/center[5]/table/tr[4]/td[2]/b/a/text()', '/html/body/center[5]/table/tr[5]/td[2]/b/a/text()', '/html/body/center[5]/table/tr[6]/td[1]/b/text()', '/html/body/center[5]/table/tr[6]/td[2]/b/a/text()', '/html/body/center[5]/table/tr[7]/td[2]/b/a/text()']\n"
     ]
    }
   ],
   "source": [
    "def get_all_xpath(html_src):\n",
    "        \n",
    "    LEAF_XPATH = \"//*[not(child::*)]\"\n",
    "    \n",
    "    root = lxml.html.fromstring(html_src)\n",
    "    tree = root.getroottree()\n",
    "    #print(\"prova\")\n",
    "    \n",
    "    leaf_nodes = root.xpath(LEAF_XPATH)\n",
    "    leaf_nodes_with_text = []\n",
    "    \n",
    "    for leaf in leaf_nodes:\n",
    "        if leaf.text is not None:\n",
    "            leaf_nodes_with_text.append(leaf)\n",
    "    \n",
    "    #print(len(leaf_nodes_with_text))\n",
    "    \n",
    "    xpath_list = []\n",
    "    \n",
    "    for leaf in leaf_nodes_with_text:\n",
    "        xpath_list.append(tree.getpath(leaf) + '/text()')\n",
    "    #print(len(xpath_list))\n",
    "    #print(xpath_list)\n",
    "    \n",
    "        \n",
    "    return xpath_list\n",
    "    \n",
    "    \n",
    "lista_xpath = get_all_xpath(r.content)\n"
   ]
  },
  {
   "cell_type": "code",
   "execution_count": 77,
   "metadata": {},
   "outputs": [
    {
     "data": {
      "text/plain": [
       "[\"Maurizio Patrignani's Home Page\",\n",
       " '<!-- Activate Cloaking Device\\n//***************************************************************************\\n//\\n//           Timothy\\'s Random Background Color Generator\\n//\\n//                 by Tim Wallace   (timothy@essex1.com)\\n//\\n//   Original random generator by Paul Houle  (ph18@cornell.edu)\\n//\\n//***************************************************************************\\n\\ntoday=new Date();\\njran=today.getTime();\\nvar number = 7;\\nvar random_number=\"\";\\nvar color=\"\";\\nvar text_color=\"\";\\n\\n// Random number generating scheme.\\nia=9301;\\nic=49297;\\nim=233280;\\njran = (jran*ia+ic) % im;\\nrandom_number = Math.ceil( (jran/(im*1.0)) *number);\\n\\n// String of if statements that load the appropriate bgcolor and text color based on random number.\\nif (random_number==1)\\n   {\\n   text_color=\"ff0000\";\\n   color=\"994444\";        // dark red\\n   }\\nif (random_number==2)\\n   {\\n   text_color=\"FFFFFF\";\\n   color=\"000000\";         // black\\n   }\\nif (random_number==3)\\n   {\\n   text_color=\"800000\";\\n   color=\"606060\";         // grey\\n   }\\nif (random_number==4)\\n   {\\n   text_color=\"00FFFF\";\\n   color=\"000080\";          // blue\\n   }\\nif (random_number==5)\\n   {\\n   text_color=\"FFFF00\";    // green blue\\n   color=\"008080\";\\n   }\\nif (random_number==6)\\n   {\\n   text_color=\"000000\";\\n   color=\"804040\";            // violet\\n   }\\nif (random_number==7)\\n   {\\n   text_color=\"FFFF00\";\\n   color=\"400040\";      // dark violet\\n   }\\n\\n// Deactivate Cloaking -->',\n",
       " '<!-- Activate Cloaking Device\\ndocument.open();\\ndocument.write(\"<BODY  text=\\'#FFFFFF\\' link=\\'#FFFF99\\' vlink=\\'#FFCC00\\' alink=\\'#FF0000\\' BGCOLOR=\\'\"+color+\"\\'>\");\\ndocument.write(\"<CENTER></CENTER>\");\\n// Deactivate Cloaking -->',\n",
       " '',\n",
       " 'maurizio \"titto\" patrignani\\'s home page',\n",
       " 'here',\n",
       " 'italian painter',\n",
       " 'Hear Control-V music!',\n",
       " 'Other stuff',\n",
       " 'seminars and talks',\n",
       " 'didattica',\n",
       " 'miscellanea',\n",
       " 'photos',\n",
       " 'useful pages',\n",
       " 'chinese\\ncharacters',\n",
       " 'private things',\n",
       " 'lettere americane',\n",
       " 'lettere cinesi']"
      ]
     },
     "execution_count": 77,
     "metadata": {},
     "output_type": "execute_result"
    }
   ],
   "source": [
    "def get_text(root,xpath_list):\n",
    "    \n",
    "    lista_component=[]\n",
    "    \n",
    "    for xpath in xpath_list:\n",
    "        lista_component.append(root.xpath(xpath)[0].strip())\n",
    "    \n",
    "    return lista_component\n",
    "\n",
    "component_list=get_text(root,lista_xpath)\n",
    "component_list"
   ]
  },
  {
   "cell_type": "code",
   "execution_count": 76,
   "metadata": {},
   "outputs": [
    {
     "data": {
      "text/plain": [
       "str"
      ]
     },
     "execution_count": 76,
     "metadata": {},
     "output_type": "execute_result"
    }
   ],
   "source": [
    "component_list[0]"
   ]
  },
  {
   "cell_type": "code",
   "execution_count": 55,
   "metadata": {},
   "outputs": [
    {
     "data": {
      "text/plain": [
       "'/html/head/title/text()'"
      ]
     },
     "execution_count": 55,
     "metadata": {},
     "output_type": "execute_result"
    }
   ],
   "source": [
    "lista_xpath[0]"
   ]
  },
  {
   "cell_type": "code",
   "execution_count": 71,
   "metadata": {},
   "outputs": [
    {
     "data": {
      "text/plain": [
       "\"Maurizio Patrignani's Home Page\""
      ]
     },
     "execution_count": 71,
     "metadata": {},
     "output_type": "execute_result"
    }
   ],
   "source": [
    "root.xpath(lista_xpath[0])[0].strip()"
   ]
  },
  {
   "cell_type": "code",
   "execution_count": 69,
   "metadata": {},
   "outputs": [
    {
     "ename": "TypeError",
     "evalue": "'HtmlElement' object cannot be interpreted as an integer",
     "output_type": "error",
     "traceback": [
      "\u001b[0;31m---------------------------------------------------------------------------\u001b[0m",
      "\u001b[0;31mTypeError\u001b[0m                                 Traceback (most recent call last)",
      "\u001b[0;32m<ipython-input-69-5dcb122dc2d4>\u001b[0m in \u001b[0;36m<module>\u001b[0;34m\u001b[0m\n\u001b[0;32m----> 1\u001b[0;31m \u001b[0;32mfor\u001b[0m \u001b[0mi\u001b[0m \u001b[0;32min\u001b[0m \u001b[0mrange\u001b[0m\u001b[0;34m(\u001b[0m\u001b[0mroot\u001b[0m\u001b[0;34m)\u001b[0m\u001b[0;34m:\u001b[0m\u001b[0;34m\u001b[0m\u001b[0;34m\u001b[0m\u001b[0m\n\u001b[0m\u001b[1;32m      2\u001b[0m     \u001b[0mroot\u001b[0m\u001b[0;34m.\u001b[0m\u001b[0mxpath\u001b[0m\u001b[0;34m(\u001b[0m\u001b[0mlista_xpath\u001b[0m\u001b[0;34m[\u001b[0m\u001b[0;36m0\u001b[0m\u001b[0;34m]\u001b[0m\u001b[0;34m)\u001b[0m\u001b[0;34m[\u001b[0m\u001b[0;36m0\u001b[0m\u001b[0;34m]\u001b[0m\u001b[0;34m.\u001b[0m\u001b[0mstrip\u001b[0m\u001b[0;34m(\u001b[0m\u001b[0;34m)\u001b[0m\u001b[0;34m\u001b[0m\u001b[0;34m\u001b[0m\u001b[0m\n",
      "\u001b[0;31mTypeError\u001b[0m: 'HtmlElement' object cannot be interpreted as an integer"
     ]
    }
   ],
   "source": [
    "for i in range(root):\n",
    "    root.xpath(lista_xpath[0])[0].strip()"
   ]
  },
  {
   "cell_type": "code",
   "execution_count": 63,
   "metadata": {},
   "outputs": [
    {
     "data": {
      "text/plain": [
       "<Element head at 0x10b9b7d68>"
      ]
     },
     "execution_count": 63,
     "metadata": {},
     "output_type": "execute_result"
    }
   ],
   "source": [
    "\n",
    "root[0]"
   ]
  },
  {
   "cell_type": "code",
   "execution_count": 78,
   "metadata": {},
   "outputs": [],
   "source": [
    "def calcolaInformazione(listapag,xpath, valori):\n",
    "    M=len(listapag)\n",
    "    Ti=len(set(valori))\n",
    "    "
   ]
  },
  {
   "cell_type": "code",
   "execution_count": 82,
   "metadata": {},
   "outputs": [
    {
     "name": "stdout",
     "output_type": "stream",
     "text": [
      "{1, 2, 3}\n"
     ]
    }
   ],
   "source": []
  },
  {
   "cell_type": "code",
   "execution_count": null,
   "metadata": {},
   "outputs": [],
   "source": []
  }
 ],
 "metadata": {
  "kernelspec": {
   "display_name": "Python 3",
   "language": "python",
   "name": "python3"
  },
  "language_info": {
   "codemirror_mode": {
    "name": "ipython",
    "version": 3
   },
   "file_extension": ".py",
   "mimetype": "text/x-python",
   "name": "python",
   "nbconvert_exporter": "python",
   "pygments_lexer": "ipython3",
   "version": "3.7.1"
  }
 },
 "nbformat": 4,
 "nbformat_minor": 2
}
