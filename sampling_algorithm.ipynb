{
 "cells": [
  {
   "cell_type": "markdown",
   "metadata": {},
   "source": [
    "# Sampling algorithm\n",
    "Implementation of Vertex sampling algorithm described in [_Web-scale information extraction with vertex_](https://ieeexplore.ieee.org/abstract/document/5767842)"
   ]
  },
  {
   "cell_type": "code",
   "execution_count": 1,
   "metadata": {},
   "outputs": [],
   "source": [
    "import requests\n",
    "from lxml import html\n",
    "from collections import defaultdict"
   ]
  },
  {
   "cell_type": "markdown",
   "metadata": {},
   "source": [
    "## Get all xpath"
   ]
  },
  {
   "cell_type": "code",
   "execution_count": 2,
   "metadata": {},
   "outputs": [],
   "source": [
    "def get_all_xpath(html_src):\n",
    "    \n",
    "    # select nodes whose children include text nodes\n",
    "    XPATH_SELECTOR = \"//*[child::text()]\" \n",
    "        \n",
    "    root = html.fromstring(html_src)\n",
    "    \n",
    "    tree = root.getroottree()\n",
    "    \n",
    "    # leaf_nodes is not properly a list of all leaf nodes. \n",
    "    # It contains nodes which are parent of text elements in the DOM\n",
    "    leaf_nodes = root.xpath(XPATH_SELECTOR)\n",
    "    \n",
    "    xpath_list = []\n",
    "    \n",
    "    # extract xpath from previously selected nodes and filter out \"noisy\" nodes\n",
    "    for leaf in leaf_nodes:\n",
    "        \n",
    "        xpath = tree.getpath(leaf) + \"/text()\"\n",
    "        \n",
    "        # Filtering out xpaths which extract javascript code or css stylesheet\n",
    "        if  \"/script\" not in xpath and \"/noscript\" not in xpath and \"/style\" not in xpath:\n",
    "                        \n",
    "            selected_values = root.xpath(xpath)\n",
    "            selected_string = ''.join(selected_values).strip()\n",
    "            \n",
    "            # Filtering out xpaths which extract empty strings\n",
    "            if selected_string:\n",
    "                xpath_list.append(xpath)\n",
    "\n",
    "    return xpath_list    "
   ]
  },
  {
   "cell_type": "code",
   "execution_count": 3,
   "metadata": {},
   "outputs": [],
   "source": [
    "r = requests.get(\"https://www.androidworld.it/schede/redmi-7-2/\")"
   ]
  },
  {
   "cell_type": "code",
   "execution_count": 4,
   "metadata": {},
   "outputs": [],
   "source": [
    "xpath_list = get_all_xpath(r.content)"
   ]
  },
  {
   "cell_type": "code",
   "execution_count": 5,
   "metadata": {},
   "outputs": [
    {
     "data": {
      "text/plain": [
       "['/html/head/title/text()',\n",
       " '/html/body/div/div[3]/div/header/div/div[1]/ul/li[1]/a/text()',\n",
       " '/html/body/div/div[3]/div/header/div/div[1]/ul/li[2]/a/text()',\n",
       " '/html/body/div/div[3]/div/header/div/div[1]/ul/li[3]/a/text()',\n",
       " '/html/body/div/div[3]/div/header/div/div[2]/span/a/text()',\n",
       " '/html/body/div/nav/div/ul/li[1]/a/text()',\n",
       " '/html/body/div/nav/div/ul/li[2]/a/text()',\n",
       " '/html/body/div/nav/div/ul/li[3]/a/text()',\n",
       " '/html/body/div/nav/div/ul/li[4]/a/text()',\n",
       " '/html/body/div/nav/div/ul/li[5]/a/text()',\n",
       " '/html/body/div/nav/div/ul/li[6]/a/text()',\n",
       " '/html/body/div/nav/div/ul/li[7]/a/text()',\n",
       " '/html/body/div/nav/div/ul/li[8]/a/text()',\n",
       " '/html/body/div/nav/div/ul/li[9]/a/text()',\n",
       " '/html/body/div/nav/div/ul/li[10]/a/text()',\n",
       " '/html/body/div/nav/div/ul/li[11]/a/text()',\n",
       " '/html/body/div/div[4]/div/main/div/section/article/figure/div/div[2]/a[2]/span[2]/text()',\n",
       " '/html/body/div/div[4]/div/main/div/section/article/figure/div/div[2]/a[3]/span[2]/text()',\n",
       " '/html/body/div/div[4]/div/main/div/section/article/figure/div/div[2]/a[4]/span[2]/text()',\n",
       " '/html/body/div/div[4]/div/main/div/section/article/figure/div/div[2]/span/a/text()',\n",
       " '/html/body/div/div[4]/div/main/div/section/article/div/header/div[1]/h1/text()',\n",
       " '/html/body/div/div[4]/div/main/div/section/article/div/header/div[1]/h1/span/text()',\n",
       " '/html/body/div/div[4]/div/main/div/section/article/div/header/div[3]/div[2]/span/a/text()',\n",
       " '/html/body/div/div[4]/div/main/div/section/article/div/ul/li[1]/dl/dt/text()',\n",
       " '/html/body/div/div[4]/div/main/div/section/article/div/ul/li[1]/dl/dd/text()',\n",
       " '/html/body/div/div[4]/div/main/div/section/article/div/ul/li[2]/dl/dt/text()',\n",
       " '/html/body/div/div[4]/div/main/div/section/article/div/ul/li[2]/dl/dd/text()',\n",
       " '/html/body/div/div[4]/div/main/div/section/article/div/ul/li[3]/dl/dt/text()',\n",
       " '/html/body/div/div[4]/div/main/div/section/article/div/ul/li[3]/dl/dd/text()',\n",
       " '/html/body/div/div[4]/div/main/div/section/article/div/ul/li[4]/dl/dt/text()',\n",
       " '/html/body/div/div[4]/div/main/div/section/article/div/ul/li[4]/dl/dd/text()',\n",
       " '/html/body/div/div[4]/div/main/div/section/article/div/ul/li[5]/dl/dt/text()',\n",
       " '/html/body/div/div[4]/div/main/div/section/article/div/ul/li[5]/dl/dd/text()',\n",
       " '/html/body/div/div[4]/div/main/div/section/article/div/ul/li[6]/dl/dt/text()',\n",
       " '/html/body/div/div[4]/div/main/div/section/article/div/ul/li[6]/dl/dd/text()',\n",
       " '/html/body/div/div[4]/div/main/div/section/article/div/ul/li[7]/dl/dt/text()',\n",
       " '/html/body/div/div[4]/div/main/div/section/article/div/ul/li[7]/dl/dd/text()',\n",
       " '/html/body/div/div[4]/div/main/div/section/article/div/ul/li[8]/dl/dt/text()',\n",
       " '/html/body/div/div[4]/div/main/div/section/article/div/ul/li[8]/dl/dd/text()',\n",
       " '/html/body/div/div[4]/div/main/div/section/article/div/div[1]/p[2]/text()',\n",
       " '/html/body/div/div[4]/div/main/div/section/article/div/div[1]/p[2]/strong/strong/strong/strong/strong/text()',\n",
       " '/html/body/div/div[4]/div/main/div/section/article/div/div[1]/p[3]/text()',\n",
       " '/html/body/div/div[4]/div/main/div/section/article/div/div[1]/p[3]/strong/strong/strong/strong/strong/strong/strong/strong/strong/strong/text()',\n",
       " '/html/body/div/div[4]/div/main/div/section/article/div/div[1]/p[4]/text()',\n",
       " '/html/body/div/div[4]/div/main/div/section/article/div/div[1]/p[4]/strong/strong/strong/strong/strong/strong/strong/strong/strong/strong/text()',\n",
       " '/html/body/div/div[4]/div/main/div/section/article/div/div[1]/p[5]/text()',\n",
       " '/html/body/div/div[4]/div/main/div/section/article/div/div[1]/p[6]/text()',\n",
       " '/html/body/div/div[4]/div/main/div/section/article/div/div[1]/p[6]/strong[1]/strong/strong/strong/strong/text()',\n",
       " '/html/body/div/div[4]/div/main/div/section/article/div/div[1]/p[6]/strong[2]/strong/strong/strong/strong/text()',\n",
       " '/html/body/div/div[4]/div/main/div/section/article/div/div[1]/p[6]/strong[3]/strong/strong/strong/strong/text()',\n",
       " '/html/body/div/div[4]/div/main/div/section/article/div/div[1]/p[7]/text()',\n",
       " '/html/body/div/div[4]/div/main/div/section/article/div/h2[1]/text()',\n",
       " '/html/body/div/div[4]/div/main/div/section/article/div/div[2]/div/div/div/div[1]/text()',\n",
       " '/html/body/div/div[4]/div/main/div/section/article/div/div[2]/div/div/div/div[1]/span/text()',\n",
       " '/html/body/div/div[4]/div/main/div/section/article/div/div[2]/div/div/div/div[2]/text()',\n",
       " '/html/body/div/div[4]/div/main/div/section/article/div/div[2]/div/div/div/div[2]/span/text()',\n",
       " '/html/body/div/div[4]/div/main/div/section/article/div/div[2]/div/div/div/div[3]/text()',\n",
       " '/html/body/div/div[4]/div/main/div/section/article/div/div[2]/div/div/div/div[3]/span/text()',\n",
       " '/html/body/div/div[4]/div/main/div/section/article/div/div[2]/div/ul/li[1]/label/h3/text()',\n",
       " '/html/body/div/div[4]/div/main/div/section/article/div/div[2]/div/ul/li[1]/div/div/div[1]/text()',\n",
       " '/html/body/div/div[4]/div/main/div/section/article/div/div[2]/div/ul/li[1]/div/div/div[1]/span/text()',\n",
       " '/html/body/div/div[4]/div/main/div/section/article/div/div[2]/div/ul/li[1]/div/div/div[2]/text()',\n",
       " '/html/body/div/div[4]/div/main/div/section/article/div/div[2]/div/ul/li[1]/div/div/div[2]/span/text()',\n",
       " '/html/body/div/div[4]/div/main/div/section/article/div/div[2]/div/ul/li[1]/div/div/div[3]/text()',\n",
       " '/html/body/div/div[4]/div/main/div/section/article/div/div[2]/div/ul/li[1]/div/div/div[3]/span/text()',\n",
       " '/html/body/div/div[4]/div/main/div/section/article/div/div[2]/div/ul/li[2]/label/h3/text()',\n",
       " '/html/body/div/div[4]/div/main/div/section/article/div/div[2]/div/ul/li[2]/div/div/div[1]/text()',\n",
       " '/html/body/div/div[4]/div/main/div/section/article/div/div[2]/div/ul/li[2]/div/div/div[1]/span/text()',\n",
       " '/html/body/div/div[4]/div/main/div/section/article/div/div[2]/div/ul/li[2]/div/div/div[2]/text()',\n",
       " '/html/body/div/div[4]/div/main/div/section/article/div/div[2]/div/ul/li[2]/div/div/div[2]/span/text()',\n",
       " '/html/body/div/div[4]/div/main/div/section/article/div/div[2]/div/ul/li[2]/div/div/div[3]/text()',\n",
       " '/html/body/div/div[4]/div/main/div/section/article/div/div[2]/div/ul/li[2]/div/div/div[3]/span/text()',\n",
       " '/html/body/div/div[4]/div/main/div/section/article/div/div[2]/div/ul/li[2]/div/div/div[4]/text()',\n",
       " '/html/body/div/div[4]/div/main/div/section/article/div/div[2]/div/ul/li[2]/div/div/div[4]/span/text()',\n",
       " '/html/body/div/div[4]/div/main/div/section/article/div/div[2]/div/ul/li[2]/div/div/div[5]/text()',\n",
       " '/html/body/div/div[4]/div/main/div/section/article/div/div[2]/div/ul/li[2]/div/div/div[5]/span/text()',\n",
       " '/html/body/div/div[4]/div/main/div/section/article/div/div[2]/div/ul/li[2]/div/div/div[6]/text()',\n",
       " '/html/body/div/div[4]/div/main/div/section/article/div/div[2]/div/ul/li[2]/div/div/div[6]/span/text()',\n",
       " '/html/body/div/div[4]/div/main/div/section/article/div/div[2]/div/ul/li[2]/div/div/div[7]/text()',\n",
       " '/html/body/div/div[4]/div/main/div/section/article/div/div[2]/div/ul/li[2]/div/div/div[7]/span/text()',\n",
       " '/html/body/div/div[4]/div/main/div/section/article/div/div[2]/div/ul/li[2]/div/div/div[8]/text()',\n",
       " '/html/body/div/div[4]/div/main/div/section/article/div/div[2]/div/ul/li[2]/div/div/div[8]/span/text()',\n",
       " '/html/body/div/div[4]/div/main/div/section/article/div/div[2]/div/ul/li[2]/div/div/div[9]/text()',\n",
       " '/html/body/div/div[4]/div/main/div/section/article/div/div[2]/div/ul/li[2]/div/div/div[9]/span/text()',\n",
       " '/html/body/div/div[4]/div/main/div/section/article/div/div[2]/div/ul/li[2]/div/div/div[10]/text()',\n",
       " '/html/body/div/div[4]/div/main/div/section/article/div/div[2]/div/ul/li[2]/div/div/div[10]/span/text()',\n",
       " '/html/body/div/div[4]/div/main/div/section/article/div/div[2]/div/ul/li[2]/div/div/div[11]/text()',\n",
       " '/html/body/div/div[4]/div/main/div/section/article/div/div[2]/div/ul/li[2]/div/div/div[11]/span/text()',\n",
       " '/html/body/div/div[4]/div/main/div/section/article/div/div[2]/div/ul/li[2]/div/div/div[12]/text()',\n",
       " '/html/body/div/div[4]/div/main/div/section/article/div/div[2]/div/ul/li[2]/div/div/div[12]/span/text()',\n",
       " '/html/body/div/div[4]/div/main/div/section/article/div/div[2]/div/ul/li[2]/div/div/div[13]/text()',\n",
       " '/html/body/div/div[4]/div/main/div/section/article/div/div[2]/div/ul/li[2]/div/div/div[13]/span/text()',\n",
       " '/html/body/div/div[4]/div/main/div/section/article/div/div[2]/div/ul/li[2]/div/div/div[14]/text()',\n",
       " '/html/body/div/div[4]/div/main/div/section/article/div/div[2]/div/ul/li[2]/div/div/div[14]/span/text()',\n",
       " '/html/body/div/div[4]/div/main/div/section/article/div/div[2]/div/ul/li[2]/div/div/div[15]/text()',\n",
       " '/html/body/div/div[4]/div/main/div/section/article/div/div[2]/div/ul/li[2]/div/div/div[15]/span/text()',\n",
       " '/html/body/div/div[4]/div/main/div/section/article/div/div[2]/div/ul/li[2]/div/div/div[16]/text()',\n",
       " '/html/body/div/div[4]/div/main/div/section/article/div/div[2]/div/ul/li[2]/div/div/div[16]/span/text()',\n",
       " '/html/body/div/div[4]/div/main/div/section/article/div/div[2]/div/ul/li[2]/div/div/div[17]/text()',\n",
       " '/html/body/div/div[4]/div/main/div/section/article/div/div[2]/div/ul/li[2]/div/div/div[17]/span/text()',\n",
       " '/html/body/div/div[4]/div/main/div/section/article/div/div[2]/div/ul/li[3]/label/h3/text()',\n",
       " '/html/body/div/div[4]/div/main/div/section/article/div/div[2]/div/ul/li[3]/div/div/div[1]/text()',\n",
       " '/html/body/div/div[4]/div/main/div/section/article/div/div[2]/div/ul/li[3]/div/div/div[1]/span/text()',\n",
       " '/html/body/div/div[4]/div/main/div/section/article/div/div[2]/div/ul/li[3]/div/div/div[2]/text()',\n",
       " '/html/body/div/div[4]/div/main/div/section/article/div/div[2]/div/ul/li[3]/div/div/div[2]/span/text()',\n",
       " '/html/body/div/div[4]/div/main/div/section/article/div/div[2]/div/ul/li[3]/div/div/div[3]/text()',\n",
       " '/html/body/div/div[4]/div/main/div/section/article/div/div[2]/div/ul/li[3]/div/div/div[3]/span/text()',\n",
       " '/html/body/div/div[4]/div/main/div/section/article/div/div[2]/div/ul/li[3]/div/div/div[4]/text()',\n",
       " '/html/body/div/div[4]/div/main/div/section/article/div/div[2]/div/ul/li[3]/div/div/div[4]/span/text()',\n",
       " '/html/body/div/div[4]/div/main/div/section/article/div/div[2]/div/ul/li[3]/div/div/div[5]/text()',\n",
       " '/html/body/div/div[4]/div/main/div/section/article/div/div[2]/div/ul/li[3]/div/div/div[5]/span/text()',\n",
       " '/html/body/div/div[4]/div/main/div/section/article/div/div[2]/div/ul/li[3]/div/div/div[6]/text()',\n",
       " '/html/body/div/div[4]/div/main/div/section/article/div/div[2]/div/ul/li[3]/div/div/div[6]/span/text()',\n",
       " '/html/body/div/div[4]/div/main/div/section/article/div/div[2]/div/ul/li[3]/div/div/div[7]/text()',\n",
       " '/html/body/div/div[4]/div/main/div/section/article/div/div[2]/div/ul/li[3]/div/div/div[7]/span/text()',\n",
       " '/html/body/div/div[4]/div/main/div/section/article/div/div[2]/div/ul/li[3]/div/div/div[8]/text()',\n",
       " '/html/body/div/div[4]/div/main/div/section/article/div/div[2]/div/ul/li[3]/div/div/div[8]/span/text()',\n",
       " '/html/body/div/div[4]/div/main/div/section/article/div/div[2]/div/ul/li[3]/div/div/div[9]/text()',\n",
       " '/html/body/div/div[4]/div/main/div/section/article/div/div[2]/div/ul/li[3]/div/div/div[9]/span/text()',\n",
       " '/html/body/div/div[4]/div/main/div/section/article/div/div[2]/div/ul/li[3]/div/div/div[10]/text()',\n",
       " '/html/body/div/div[4]/div/main/div/section/article/div/div[2]/div/ul/li[3]/div/div/div[10]/span/text()',\n",
       " '/html/body/div/div[4]/div/main/div/section/article/div/div[2]/div/ul/li[3]/div/div/div[11]/text()',\n",
       " '/html/body/div/div[4]/div/main/div/section/article/div/div[2]/div/ul/li[3]/div/div/div[11]/span/text()',\n",
       " '/html/body/div/div[4]/div/main/div/section/article/div/div[2]/div/ul/li[3]/div/div/div[12]/text()',\n",
       " '/html/body/div/div[4]/div/main/div/section/article/div/div[2]/div/ul/li[3]/div/div/div[12]/span/text()',\n",
       " '/html/body/div/div[4]/div/main/div/section/article/div/div[2]/div/ul/li[3]/div/div/div[13]/text()',\n",
       " '/html/body/div/div[4]/div/main/div/section/article/div/div[2]/div/ul/li[3]/div/div/div[13]/span/text()',\n",
       " '/html/body/div/div[4]/div/main/div/section/article/div/div[2]/div/ul/li[3]/div/div/div[14]/text()',\n",
       " '/html/body/div/div[4]/div/main/div/section/article/div/div[2]/div/ul/li[3]/div/div/div[14]/span/text()',\n",
       " '/html/body/div/div[4]/div/main/div/section/article/div/div[2]/div/ul/li[3]/div/div/div[15]/text()',\n",
       " '/html/body/div/div[4]/div/main/div/section/article/div/div[2]/div/ul/li[3]/div/div/div[15]/span/text()',\n",
       " '/html/body/div/div[4]/div/main/div/section/article/div/div[2]/div/ul/li[4]/label/h3/text()',\n",
       " '/html/body/div/div[4]/div/main/div/section/article/div/div[2]/div/ul/li[4]/div/div/div[1]/text()',\n",
       " '/html/body/div/div[4]/div/main/div/section/article/div/div[2]/div/ul/li[4]/div/div/div[1]/span/text()',\n",
       " '/html/body/div/div[4]/div/main/div/section/article/div/div[2]/div/ul/li[4]/div/div/div[2]/text()',\n",
       " '/html/body/div/div[4]/div/main/div/section/article/div/div[2]/div/ul/li[4]/div/div/div[2]/span/text()',\n",
       " '/html/body/div/div[4]/div/main/div/section/article/div/div[2]/div/ul/li[4]/div/div/div[3]/text()',\n",
       " '/html/body/div/div[4]/div/main/div/section/article/div/div[2]/div/ul/li[4]/div/div/div[3]/span/text()',\n",
       " '/html/body/div/div[4]/div/main/div/section/article/div/div[2]/div/ul/li[4]/div/div/div[4]/text()',\n",
       " '/html/body/div/div[4]/div/main/div/section/article/div/div[2]/div/ul/li[4]/div/div/div[4]/span/text()',\n",
       " '/html/body/div/div[4]/div/main/div/section/article/div/div[2]/div/ul/li[4]/div/div/div[5]/text()',\n",
       " '/html/body/div/div[4]/div/main/div/section/article/div/div[2]/div/ul/li[4]/div/div/div[5]/span/text()',\n",
       " '/html/body/div/div[4]/div/main/div/section/article/div/div[2]/div/ul/li[4]/div/div/div[6]/text()',\n",
       " '/html/body/div/div[4]/div/main/div/section/article/div/div[2]/div/ul/li[4]/div/div/div[6]/span/text()',\n",
       " '/html/body/div/div[4]/div/main/div/section/article/div/div[2]/div/ul/li[4]/div/div/div[7]/text()',\n",
       " '/html/body/div/div[4]/div/main/div/section/article/div/div[2]/div/ul/li[4]/div/div/div[7]/span/text()',\n",
       " '/html/body/div/div[4]/div/main/div/section/article/div/div[2]/div/ul/li[5]/label/h3/text()',\n",
       " '/html/body/div/div[4]/div/main/div/section/article/div/div[2]/div/ul/li[5]/div/div/div[1]/text()',\n",
       " '/html/body/div/div[4]/div/main/div/section/article/div/div[2]/div/ul/li[5]/div/div/div[1]/span/text()',\n",
       " '/html/body/div/div[4]/div/main/div/section/article/div/div[2]/div/ul/li[5]/div/div/div[2]/text()',\n",
       " '/html/body/div/div[4]/div/main/div/section/article/div/div[2]/div/ul/li[5]/div/div/div[2]/span/text()',\n",
       " '/html/body/div/div[4]/div/main/div/section/article/div/div[2]/div/ul/li[5]/div/div/div[3]/text()',\n",
       " '/html/body/div/div[4]/div/main/div/section/article/div/div[2]/div/ul/li[5]/div/div/div[3]/span/text()',\n",
       " '/html/body/div/div[4]/div/main/div/section/article/div/div[2]/div/ul/li[5]/div/div/div[4]/text()',\n",
       " '/html/body/div/div[4]/div/main/div/section/article/div/div[2]/div/ul/li[5]/div/div/div[4]/span/text()',\n",
       " '/html/body/div/div[4]/div/main/div/section/article/div/div[2]/div/ul/li[5]/div/div/div[5]/text()',\n",
       " '/html/body/div/div[4]/div/main/div/section/article/div/div[2]/div/ul/li[5]/div/div/div[5]/span/text()',\n",
       " '/html/body/div/div[4]/div/main/div/section/article/div/div[2]/div/ul/li[5]/div/div/div[6]/text()',\n",
       " '/html/body/div/div[4]/div/main/div/section/article/div/div[2]/div/ul/li[5]/div/div/div[6]/span/text()',\n",
       " '/html/body/div/div[4]/div/main/div/section/article/div/div[2]/div/ul/li[5]/div/div/div[7]/text()',\n",
       " '/html/body/div/div[4]/div/main/div/section/article/div/div[2]/div/ul/li[5]/div/div/div[7]/span/text()',\n",
       " '/html/body/div/div[4]/div/main/div/section/article/div/div[2]/div/ul/li[5]/div/div/div[8]/text()',\n",
       " '/html/body/div/div[4]/div/main/div/section/article/div/div[2]/div/ul/li[5]/div/div/div[8]/span/text()',\n",
       " '/html/body/div/div[4]/div/main/div/section/article/div/div[2]/div/ul/li[6]/label/h3/text()',\n",
       " '/html/body/div/div[4]/div/main/div/section/article/div/div[2]/div/ul/li[6]/div/div/div[1]/text()',\n",
       " '/html/body/div/div[4]/div/main/div/section/article/div/div[2]/div/ul/li[6]/div/div/div[1]/span/text()',\n",
       " '/html/body/div/div[4]/div/main/div/section/article/div/div[2]/div/ul/li[6]/div/div/div[2]/text()',\n",
       " '/html/body/div/div[4]/div/main/div/section/article/div/div[2]/div/ul/li[6]/div/div/div[2]/span/text()',\n",
       " '/html/body/div/div[4]/div/main/div/section/article/div/div[2]/div/ul/li[7]/label/h3/text()',\n",
       " '/html/body/div/div[4]/div/main/div/section/article/div/div[2]/div/ul/li[7]/div/div/div[1]/text()',\n",
       " '/html/body/div/div[4]/div/main/div/section/article/div/div[2]/div/ul/li[7]/div/div/div[1]/span/text()',\n",
       " '/html/body/div/div[4]/div/main/div/section/article/div/div[2]/div/ul/li[7]/div/div/div[2]/text()',\n",
       " '/html/body/div/div[4]/div/main/div/section/article/div/div[2]/div/ul/li[7]/div/div/div[2]/span/text()',\n",
       " '/html/body/div/div[4]/div/main/div/section/article/div/div[2]/div/ul/li[7]/div/div/div[3]/text()',\n",
       " '/html/body/div/div[4]/div/main/div/section/article/div/div[2]/div/ul/li[7]/div/div/div[3]/span/text()',\n",
       " '/html/body/div/div[4]/div/main/div/section/article/div/div[2]/div/ul/li[8]/label/h3/text()',\n",
       " '/html/body/div/div[4]/div/main/div/section/article/div/div[2]/div/ul/li[8]/div/div/div[1]/text()',\n",
       " '/html/body/div/div[4]/div/main/div/section/article/div/div[2]/div/ul/li[8]/div/div/div[1]/span/text()',\n",
       " '/html/body/div/div[4]/div/main/div/section/article/div/div[2]/div/ul/li[8]/div/div/div[2]/text()',\n",
       " '/html/body/div/div[4]/div/main/div/section/article/div/div[2]/div/ul/li[8]/div/div/div[2]/span/text()',\n",
       " '/html/body/div/div[4]/div/main/div/section/article/div/div[2]/div/ul/li[8]/div/div/div[3]/text()',\n",
       " '/html/body/div/div[4]/div/main/div/section/article/div/div[2]/div/ul/li[8]/div/div/div[3]/span/text()',\n",
       " '/html/body/div/div[4]/div/main/div/section/article/div/div[2]/div/ul/li[8]/div/div/div[4]/text()',\n",
       " '/html/body/div/div[4]/div/main/div/section/article/div/div[2]/div/ul/li[8]/div/div/div[4]/span/text()',\n",
       " '/html/body/div/div[4]/div/main/div/section/article/div/div[2]/div/ul/li[9]/label/h3/text()',\n",
       " '/html/body/div/div[4]/div/main/div/section/article/div/div[2]/div/ul/li[9]/div/div/div[1]/text()',\n",
       " '/html/body/div/div[4]/div/main/div/section/article/div/div[2]/div/ul/li[9]/div/div/div[1]/span/text()',\n",
       " '/html/body/div/div[4]/div/main/div/section/article/div/div[2]/div/ul/li[9]/div/div/div[2]/text()',\n",
       " '/html/body/div/div[4]/div/main/div/section/article/div/div[2]/div/ul/li[9]/div/div/div[2]/span/text()',\n",
       " '/html/body/div/div[4]/div/main/div/section/article/div/div[2]/div/ul/li[9]/div/div/div[3]/text()',\n",
       " '/html/body/div/div[4]/div/main/div/section/article/div/div[2]/div/ul/li[9]/div/div/div[3]/span/text()',\n",
       " '/html/body/div/div[4]/div/main/div/section/article/div/div[2]/div/ul/li[9]/div/div/div[4]/text()',\n",
       " '/html/body/div/div[4]/div/main/div/section/article/div/div[2]/div/ul/li[9]/div/div/div[4]/span/text()',\n",
       " '/html/body/div/div[4]/div/main/div/section/article/div/div[2]/div/ul/li[9]/div/div/div[5]/text()',\n",
       " '/html/body/div/div[4]/div/main/div/section/article/div/div[2]/div/ul/li[9]/div/div/div[5]/span/text()',\n",
       " '/html/body/div/div[4]/div/main/div/section/article/div/div[2]/div/ul/li[9]/div/div/div[6]/text()',\n",
       " '/html/body/div/div[4]/div/main/div/section/article/div/div[2]/div/ul/li[9]/div/div/div[6]/span/text()',\n",
       " '/html/body/div/div[4]/div/main/div/section/article/div/div[2]/div/ul/li[9]/div/div/div[7]/text()',\n",
       " '/html/body/div/div[4]/div/main/div/section/article/div/div[2]/div/ul/li[9]/div/div/div[7]/span/text()',\n",
       " '/html/body/div/div[4]/div/main/div/section/article/div/div[2]/div/ul/li[9]/div/div/div[8]/text()',\n",
       " '/html/body/div/div[4]/div/main/div/section/article/div/div[2]/div/ul/li[9]/div/div/div[8]/span/text()',\n",
       " '/html/body/div/div[4]/div/main/div/section/article/div/h2[2]/text()',\n",
       " '/html/body/div/div[4]/div/main/div/section/article/div/div[3]/article[1]/div[1]/span/time/text()',\n",
       " '/html/body/div/div[4]/div/main/div/section/article/div/div[3]/article[1]/div[1]/div[2]/div[1]/span[1]/a/text()',\n",
       " '/html/body/div/div[4]/div/main/div/section/article/div/div[3]/article[1]/div[1]/div[2]/div[1]/span[2]/span/a/text()',\n",
       " '/html/body/div/div[4]/div/main/div/section/article/div/div[3]/article[1]/div[1]/div[2]/div[2]/h2/a/text()',\n",
       " '/html/body/div/div[4]/div/main/div/section/article/div/div[3]/article[1]/div[1]/div[2]/div[2]/p[1]/text()',\n",
       " '/html/body/div/div[4]/div/main/div/section/article/div/div[3]/article[1]/div[1]/div[2]/div[2]/p[2]/a/text()',\n",
       " '/html/body/div/div[4]/div/main/div/section/article/div/div[3]/article[1]/div[2]/span/span/a/text()',\n",
       " '/html/body/div/div[4]/div/main/div/section/article/div/div[3]/article[1]/div[2]/a/h2/text()',\n",
       " '/html/body/div/div[4]/div/main/div/section/article/div/div[3]/article[2]/div[1]/span/time/text()',\n",
       " '/html/body/div/div[4]/div/main/div/section/article/div/div[3]/article[2]/div[1]/div[2]/div[1]/span[1]/a/text()',\n",
       " '/html/body/div/div[4]/div/main/div/section/article/div/div[3]/article[2]/div[1]/div[2]/div[1]/span[2]/span/a/text()',\n",
       " '/html/body/div/div[4]/div/main/div/section/article/div/div[3]/article[2]/div[1]/div[2]/div[2]/h2/a/text()',\n",
       " '/html/body/div/div[4]/div/main/div/section/article/div/div[3]/article[2]/div[1]/div[2]/div[2]/p[1]/text()',\n",
       " '/html/body/div/div[4]/div/main/div/section/article/div/div[3]/article[2]/div[1]/div[2]/div[2]/p[2]/a/text()',\n",
       " '/html/body/div/div[4]/div/main/div/section/article/div/div[3]/article[2]/div[2]/span/span/a/text()',\n",
       " '/html/body/div/div[4]/div/main/div/section/article/div/div[3]/article[2]/div[2]/a/h2/text()',\n",
       " '/html/body/div/div[4]/div/main/div/section/article/div/div[3]/article[3]/div[1]/span/time/text()',\n",
       " '/html/body/div/div[4]/div/main/div/section/article/div/div[3]/article[3]/div[1]/div[2]/div[1]/span[1]/a/text()',\n",
       " '/html/body/div/div[4]/div/main/div/section/article/div/div[3]/article[3]/div[1]/div[2]/div[1]/span[2]/span/a/text()',\n",
       " '/html/body/div/div[4]/div/main/div/section/article/div/div[3]/article[3]/div[1]/div[2]/div[2]/h2/a/text()',\n",
       " '/html/body/div/div[4]/div/main/div/section/article/div/div[3]/article[3]/div[1]/div[2]/div[2]/p[1]/text()',\n",
       " '/html/body/div/div[4]/div/main/div/section/article/div/div[3]/article[3]/div[1]/div[2]/div[2]/p[2]/a/text()',\n",
       " '/html/body/div/div[4]/div/main/div/section/article/div/div[3]/article[3]/div[2]/span/span/a/text()',\n",
       " '/html/body/div/div[4]/div/main/div/section/article/div/div[3]/article[3]/div[2]/a/h2/text()',\n",
       " '/html/body/div/div[4]/div/main/div/section/article/div/div[3]/article[4]/div[1]/span/time/text()',\n",
       " '/html/body/div/div[4]/div/main/div/section/article/div/div[3]/article[4]/div[1]/div[2]/div[1]/span[1]/a/text()',\n",
       " '/html/body/div/div[4]/div/main/div/section/article/div/div[3]/article[4]/div[1]/div[2]/div[1]/span[2]/span/a/text()',\n",
       " '/html/body/div/div[4]/div/main/div/section/article/div/div[3]/article[4]/div[1]/div[2]/div[2]/h2/a/text()',\n",
       " '/html/body/div/div[4]/div/main/div/section/article/div/div[3]/article[4]/div[1]/div[2]/div[2]/p[1]/text()',\n",
       " '/html/body/div/div[4]/div/main/div/section/article/div/div[3]/article[4]/div[1]/div[2]/div[2]/p[2]/a/text()',\n",
       " '/html/body/div/div[4]/div/main/div/section/article/div/div[3]/article[4]/div[2]/span/span/a/text()',\n",
       " '/html/body/div/div[4]/div/main/div/section/article/div/div[3]/article[4]/div[2]/a/h2/text()',\n",
       " '/html/body/div/div[4]/div/main/div/section/article/div/div[3]/article[5]/div[1]/span/time/text()',\n",
       " '/html/body/div/div[4]/div/main/div/section/article/div/div[3]/article[5]/div[1]/div[2]/div[1]/span[1]/a/text()',\n",
       " '/html/body/div/div[4]/div/main/div/section/article/div/div[3]/article[5]/div[1]/div[2]/div[1]/span[2]/span/a/text()',\n",
       " '/html/body/div/div[4]/div/main/div/section/article/div/div[3]/article[5]/div[1]/div[2]/div[2]/h2/a/text()',\n",
       " '/html/body/div/div[4]/div/main/div/section/article/div/div[3]/article[5]/div[1]/div[2]/div[2]/p[1]/text()',\n",
       " '/html/body/div/div[4]/div/main/div/section/article/div/div[3]/article[5]/div[1]/div[2]/div[2]/p[2]/a/text()',\n",
       " '/html/body/div/div[4]/div/main/div/section/article/div/div[3]/article[5]/div[2]/span/span/a/text()',\n",
       " '/html/body/div/div[4]/div/main/div/section/article/div/div[3]/article[5]/div[2]/a/h2/text()',\n",
       " '/html/body/div/div[4]/div/main/div/section/article/div/div[3]/article[6]/div[1]/span/time/text()',\n",
       " '/html/body/div/div[4]/div/main/div/section/article/div/div[3]/article[6]/div[1]/div[2]/div[1]/span/span/a/text()',\n",
       " '/html/body/div/div[4]/div/main/div/section/article/div/div[3]/article[6]/div[1]/div[2]/div[2]/h2/a/text()',\n",
       " '/html/body/div/div[4]/div/main/div/section/article/div/div[3]/article[6]/div[1]/div[2]/div[2]/p/text()',\n",
       " '/html/body/div/div[4]/div/main/div/section/article/div/div[3]/article[6]/div[2]/span/span/a/text()',\n",
       " '/html/body/div/div[4]/div/main/div/section/article/div/div[3]/article[6]/div[2]/a/h2/text()',\n",
       " '/html/body/div/div[4]/div/main/div/section/article/div/div[3]/article[7]/div[1]/span/time/text()',\n",
       " '/html/body/div/div[4]/div/main/div/section/article/div/div[3]/article[7]/div[1]/div[2]/div[1]/span[1]/a/text()',\n",
       " '/html/body/div/div[4]/div/main/div/section/article/div/div[3]/article[7]/div[1]/div[2]/div[1]/span[2]/span/a/text()',\n",
       " '/html/body/div/div[4]/div/main/div/section/article/div/div[3]/article[7]/div[1]/div[2]/div[2]/h2/a/text()',\n",
       " '/html/body/div/div[4]/div/main/div/section/article/div/div[3]/article[7]/div[1]/div[2]/div[2]/p[1]/text()',\n",
       " '/html/body/div/div[4]/div/main/div/section/article/div/div[3]/article[7]/div[1]/div[2]/div[2]/p[2]/a/text()',\n",
       " '/html/body/div/div[4]/div/main/div/section/article/div/div[3]/article[7]/div[2]/span/span/a/text()',\n",
       " '/html/body/div/div[4]/div/main/div/section/article/div/div[3]/article[7]/div[2]/a/h2/text()',\n",
       " '/html/body/div/div[4]/div/main/div/section/article/div/div[3]/article[8]/div[1]/span/time/text()',\n",
       " '/html/body/div/div[4]/div/main/div/section/article/div/div[3]/article[8]/div[1]/div[2]/div[1]/span[1]/a/text()',\n",
       " '/html/body/div/div[4]/div/main/div/section/article/div/div[3]/article[8]/div[1]/div[2]/div[1]/span[2]/span/a/text()',\n",
       " '/html/body/div/div[4]/div/main/div/section/article/div/div[3]/article[8]/div[1]/div[2]/div[2]/h2/a/text()',\n",
       " '/html/body/div/div[4]/div/main/div/section/article/div/div[3]/article[8]/div[1]/div[2]/div[2]/p[1]/text()',\n",
       " '/html/body/div/div[4]/div/main/div/section/article/div/div[3]/article[8]/div[1]/div[2]/div[2]/p[2]/a/text()',\n",
       " '/html/body/div/div[4]/div/main/div/section/article/div/div[3]/article[8]/div[2]/span/span/a/text()',\n",
       " '/html/body/div/div[4]/div/main/div/section/article/div/div[3]/article[8]/div[2]/a/h2/text()',\n",
       " '/html/body/div/div[4]/div/main/div/section/article/div/div[4]/a/text()',\n",
       " '/html/body/div/div[4]/div/main/div/section/article/div/h2[3]/text()',\n",
       " '/html/body/div/div[4]/div/main/div/section/article/div/div[5]/div/div/div[1]/div/p[1]/a/text()',\n",
       " '/html/body/div/div[4]/div/main/div/section/article/div/div[5]/div/div/div[1]/div/p[2]/a/text()',\n",
       " '/html/body/div/div[4]/div/main/div/section/article/div/div[5]/div/div/div[2]/div/p[1]/a/text()',\n",
       " '/html/body/div/div[4]/div/main/div/section/article/div/div[5]/div/div/div[2]/div/p[2]/a/text()',\n",
       " '/html/body/div/div[4]/div/main/div/section/article/div/div[5]/div/div/div[3]/div/p[1]/a/text()',\n",
       " '/html/body/div/div[4]/div/main/div/section/article/div/div[5]/div/div/div[3]/div/p[2]/a/text()',\n",
       " '/html/body/div/div[4]/div/main/div/section/article/div/div[5]/div/div/div[4]/div/p[1]/a/text()',\n",
       " '/html/body/div/div[4]/div/main/div/section/article/div/div[5]/div/div/div[4]/div/p[2]/a/text()',\n",
       " '/html/body/div/div[4]/div/main/div/section/article/div/div[5]/div/div/div[5]/div/p[1]/a/text()',\n",
       " '/html/body/div/div[4]/div/main/div/section/article/div/div[5]/div/div/div[5]/div/p[2]/a/text()',\n",
       " '/html/body/div/div[4]/div/main/div/section/article/div/p/text()',\n",
       " '/html/body/div/footer/div/div/div[1]/div/div/p/text()',\n",
       " '/html/body/div/footer/div/div/div[1]/div/div/p/a/text()',\n",
       " '/html/body/div/footer/div/div/div[1]/div/div/ul/li[1]/a/text()',\n",
       " '/html/body/div/footer/div/div/div[1]/div/div/ul/li[2]/a/text()',\n",
       " '/html/body/div/footer/div/div/div[1]/div/div/ul/li[3]/a/text()',\n",
       " '/html/body/div/footer/div/div/div[1]/div/div/ul/li[4]/a/text()',\n",
       " '/html/body/div/footer/div/div/div[1]/div/div/ul/li[5]/a/text()',\n",
       " '/html/body/div/footer/div/div/div[1]/div/div/ul/li[6]/a/text()',\n",
       " '/html/body/div/footer/div/div/div[2]/div[1]/text()',\n",
       " '/html/body/div/footer/div/div/div[2]/div[2]/text()',\n",
       " '/html/body/div/footer/div/div/div[2]/div[3]/p/span[1]/text()',\n",
       " '/html/body/div/footer/div/div/div[2]/div[3]/p/span[2]/text()']"
      ]
     },
     "execution_count": 5,
     "metadata": {},
     "output_type": "execute_result"
    }
   ],
   "source": [
    "xpath_list"
   ]
  },
  {
   "cell_type": "code",
   "execution_count": 6,
   "metadata": {},
   "outputs": [
    {
     "data": {
      "text/plain": [
       "289"
      ]
     },
     "execution_count": 6,
     "metadata": {},
     "output_type": "execute_result"
    }
   ],
   "source": [
    "len(xpath_list)"
   ]
  },
  {
   "cell_type": "code",
   "execution_count": 7,
   "metadata": {},
   "outputs": [
    {
     "name": "stdout",
     "output_type": "stream",
     "text": [
      "['Redmi 7 (3GB) - Scheda tecnica | AndroidWorld']\n",
      "\n",
      "['smart']\n",
      "\n",
      "['mobile']\n",
      "\n",
      "['android']\n",
      "\n",
      "['AndroidWorld']\n",
      "\n",
      "['Recensioni']\n",
      "\n",
      "['Schede tecniche']\n",
      "\n",
      "['Smartphone']\n",
      "\n",
      "['Smartwatch']\n",
      "\n",
      "['Tablet']\n",
      "\n",
      "['App']\n",
      "\n",
      "['Giochi']\n",
      "\n",
      "['Guide']\n",
      "\n",
      "['Video']\n",
      "\n",
      "['Forum']\n",
      "\n",
      "['📸']\n",
      "\n",
      "['Specifiche']\n",
      "\n",
      "['notizie']\n",
      "\n",
      "['Correlati']\n",
      "\n",
      "['Confronta']\n",
      "\n",
      "['Redmi 7 (3GB)']\n",
      "\n",
      "['Scheda Tecnica']\n",
      "\n",
      "['Confronta']\n",
      "\n",
      "['CPU']\n",
      "\n",
      "['octa 1.8 GHz']\n",
      "\n",
      "['Display']\n",
      "\n",
      "['6,26\" HD+ / 720 x 1520']\n",
      "\n",
      "['Fotocamera']\n",
      "\n",
      "['12 Mpx ƒ/2.2']\n",
      "\n",
      "['Frontale']\n",
      "\n",
      "['8 Mpx']\n",
      "\n",
      "['RAM']\n",
      "\n",
      "['3 GB']\n",
      "\n",
      "['Memoria interna']\n",
      "\n",
      "['32 / 64 GB']\n",
      "\n",
      "['Android']\n",
      "\n",
      "['9.0 Pie']\n",
      "\n",
      "['Batteria']\n",
      "\n",
      "['4000 mAh']\n",
      "\n",
      "['è uno smartphone con sistema operativo Android di fascia bassa.']\n",
      "\n",
      "['Redmi 7 (3GB)']\n",
      "\n",
      "['La tecnologia del display dello smartphone è IPS LCD. Ha una diagonale di  ed una risoluzione di HD+ / 720 x 1520 e quindi un ppi di 269 ppi.']\n",
      "\n",
      "['6,26 pollici']\n",
      "\n",
      "['Abbiamo a che fare con una fotocamera a risoluzione di  con il supporto di un flash Singolo utile ad illuminare le foto in condizioni di scarsa luce. I video vengono registrati a Full HD - 1920 x 1080 pixel e la fotocamera frontale è da 8 megapixel.']\n",
      "\n",
      "['12 megapixel']\n",
      "\n",
      "[\"Il dispositivo è di tipo dual SIM e supporta le reti mobili sino a quelle LTE , mentre la Wi-Fi è di tipo b/g/n e il Bluetooth è 4.2. Non manca il GPS e neanche la radio FM. È del tutto assente invece l'NFC e la porta ad infrarossi.\"]\n",
      "\n",
      "[\"A muovere questo dispositivo troviamo un processore  octa con supporto ai 64 bit che lavora alla frequenza di 1.8 GHz e ha un processore grafico Adreno 506. Abbiamo poi  di RAM e  di memoria, espandibile tramite l'ausilio di una microSD.\"]\n",
      "\n",
      "['Qualcomm SDM632 Snapdragon 632']\n",
      "\n",
      "['3 GB']\n",
      "\n",
      "['32 / 64 GB']\n",
      "\n",
      "[\"All'interno del dispositivo troviamo una batteria non removibile da 4000 mAh.\"]\n",
      "\n",
      "['Redmi 7 (3GB): Specifiche Tecniche']\n",
      "\n",
      "['EUR 159,00']\n",
      "\n",
      "['Prezzo di lancio']\n",
      "\n",
      "['158,7 x 75,6 x 8,5 mm']\n",
      "\n",
      "['Dimensioni']\n",
      "\n",
      "['180 g']\n",
      "\n",
      "['Peso']\n",
      "\n",
      "['Introduzione']\n",
      "\n",
      "['Redmi']\n",
      "\n",
      "['Marca']\n",
      "\n",
      "['Android']\n",
      "\n",
      "['Sistema operativo']\n",
      "\n",
      "['9.0 Pie']\n",
      "\n",
      "['Versione Android']\n",
      "\n",
      "['Hardware']\n",
      "\n",
      "['Qualcomm SDM632 Snapdragon 632']\n",
      "\n",
      "['CPU']\n",
      "\n",
      "['Adreno 506']\n",
      "\n",
      "['GPU']\n",
      "\n",
      "['octa']\n",
      "\n",
      "['Numero core']\n",
      "\n",
      "['1.8 GHz']\n",
      "\n",
      "['Frequenza processore']\n",
      "\n",
      "['14nm']\n",
      "\n",
      "['Processo produttivo']\n",
      "\n",
      "['3 GB']\n",
      "\n",
      "['RAM']\n",
      "\n",
      "['32 / 64 GB']\n",
      "\n",
      "['Memoria interna (ROM)']\n",
      "\n",
      "['Sì']\n",
      "\n",
      "['Memoria espandibile']\n",
      "\n",
      "['Sì']\n",
      "\n",
      "['Accelerometro']\n",
      "\n",
      "['Sì']\n",
      "\n",
      "['Bussola digitale']\n",
      "\n",
      "['Sì']\n",
      "\n",
      "['Sensore di prossimità']\n",
      "\n",
      "['Sì']\n",
      "\n",
      "['Sensore di luminosità']\n",
      "\n",
      "['Sì']\n",
      "\n",
      "['Giroscopio']\n",
      "\n",
      "['No']\n",
      "\n",
      "['Barometro']\n",
      "\n",
      "['Virtuale']\n",
      "\n",
      "['Tipo di tastiera']\n",
      "\n",
      "['Sì']\n",
      "\n",
      "['Lettore Impronte digitali']\n",
      "\n",
      "['Sì']\n",
      "\n",
      "['Microfono riduzione rumore']\n",
      "\n",
      "['Connessioni']\n",
      "\n",
      "['Quad Band (850/900/1800/1900)']\n",
      "\n",
      "['GSM']\n",
      "\n",
      "['Sì']\n",
      "\n",
      "['Connettività mobile']\n",
      "\n",
      "['Sì']\n",
      "\n",
      "['Modulo telefonico']\n",
      "\n",
      "['Sì']\n",
      "\n",
      "['Dual SIM']\n",
      "\n",
      "['nanoSIM']\n",
      "\n",
      "['Tipo SIM']\n",
      "\n",
      "['4G+ - 300 Mbps']\n",
      "\n",
      "['Velocità rete']\n",
      "\n",
      "['b/g/n']\n",
      "\n",
      "['Wi-Fi']\n",
      "\n",
      "['4.2']\n",
      "\n",
      "['Bluetooth']\n",
      "\n",
      "['No']\n",
      "\n",
      "['Porta Infrarossi']\n",
      "\n",
      "['No']\n",
      "\n",
      "['NFC']\n",
      "\n",
      "['Sì']\n",
      "\n",
      "['GPS']\n",
      "\n",
      "['Sì']\n",
      "\n",
      "['GLONASS']\n",
      "\n",
      "['Sì']\n",
      "\n",
      "['Radio FM']\n",
      "\n",
      "['Sì']\n",
      "\n",
      "['Jack audio']\n",
      "\n",
      "['microUSB']\n",
      "\n",
      "['Tipo ingresso USB']\n",
      "\n",
      "['Display']\n",
      "\n",
      "['IPS LCD']\n",
      "\n",
      "['Tecnologia display']\n",
      "\n",
      "['HD+ / 720 x 1520']\n",
      "\n",
      "['Risoluzione display']\n",
      "\n",
      "['269 ppi']\n",
      "\n",
      "['Densità pixel']\n",
      "\n",
      "['6,26 pollici']\n",
      "\n",
      "['Dimensione display']\n",
      "\n",
      "['18:9']\n",
      "\n",
      "['Formato display']\n",
      "\n",
      "['No']\n",
      "\n",
      "['Force Touch']\n",
      "\n",
      "['No']\n",
      "\n",
      "['HDR']\n",
      "\n",
      "['Fotocamera']\n",
      "\n",
      "['12 megapixel']\n",
      "\n",
      "['Risoluzione']\n",
      "\n",
      "['ƒ/2.2']\n",
      "\n",
      "['Apertura focale']\n",
      "\n",
      "['Singolo']\n",
      "\n",
      "['Flash fotocamera']\n",
      "\n",
      "['No']\n",
      "\n",
      "['Stabilizzatore ottico']\n",
      "\n",
      "['No']\n",
      "\n",
      "['Autofocus laser']\n",
      "\n",
      "['No']\n",
      "\n",
      "['Sensore di spettro colore']\n",
      "\n",
      "['Full HD - 1920 x 1080 pixel']\n",
      "\n",
      "['Risoluzione video']\n",
      "\n",
      "['60 fps']\n",
      "\n",
      "['FPS video']\n",
      "\n",
      "['Seconda fotocamera']\n",
      "\n",
      "['Effetto bokeh']\n",
      "\n",
      "['Tipologia']\n",
      "\n",
      "['2 megapixel']\n",
      "\n",
      "['Risoluzione']\n",
      "\n",
      "['Fotocamera frontale']\n",
      "\n",
      "['8 megapixel']\n",
      "\n",
      "['Risoluzione (frontale)']\n",
      "\n",
      "['No']\n",
      "\n",
      "['Stabilizzatore ottico (frontale)']\n",
      "\n",
      "['No']\n",
      "\n",
      "['Flash fotocamera frontale']\n",
      "\n",
      "['Batteria']\n",
      "\n",
      "['4000 mAh']\n",
      "\n",
      "['Batteria']\n",
      "\n",
      "['No']\n",
      "\n",
      "['Batteria removibile']\n",
      "\n",
      "['No']\n",
      "\n",
      "['Ricarica rapida']\n",
      "\n",
      "['No']\n",
      "\n",
      "['Ricarica wireless']\n",
      "\n",
      "['Benchmarks']\n",
      "\n",
      "['104659']\n",
      "\n",
      "['AnTuTu']\n",
      "\n",
      "['929']\n",
      "\n",
      "['3DMark - Sling Shot']\n",
      "\n",
      "['542']\n",
      "\n",
      "['3DMark - Sling Shot Extreme Vulkan']\n",
      "\n",
      "['6052']\n",
      "\n",
      "['PCMark - Work Performance']\n",
      "\n",
      "['13h 12min']\n",
      "\n",
      "['PCMark - Work Battery Life']\n",
      "\n",
      "['510']\n",
      "\n",
      "['3DMark - Sling Shot Extreme ES 3.1']\n",
      "\n",
      "['1244']\n",
      "\n",
      "['Geekbench 4 - Single-core']\n",
      "\n",
      "['4300']\n",
      "\n",
      "['Geekbench 4 - Multi-core']\n",
      "\n",
      "['Redmi 7 (3GB): Notizie']\n",
      "\n",
      "['3 aprile 2019']\n",
      "\n",
      "['5']\n",
      "\n",
      "['Smartphone']\n",
      "\n",
      "['Redmi 7 e Redmi Note 7 da 128 GB approdano ufficialmente in Italia: dove trovarli ed a che prezzo']\n",
      "\n",
      "[\"Xiaomi ha anche annunciato l'approdo ufficiale di Xiaomi Mi9 in colorazione blu in esclusiva su Amazon.\"]\n",
      "\n",
      "['5 commenti']\n",
      "\n",
      "['Smartphone']\n",
      "\n",
      "['Redmi 7 e Redmi Note 7 da 128 GB approdano ufficialmente in Italia: dove trovarli ed a che prezzo']\n",
      "\n",
      "['19 marzo 2019']\n",
      "\n",
      "['2']\n",
      "\n",
      "['Smartphone']\n",
      "\n",
      "['Redmi 7 arriverà a breve in Europa, ma il prezzo potrebbe non essere quello giusto']\n",
      "\n",
      "['Abbiamo visto ieri il lancio di Redmi 7, l’entry-level del nuovo sub-brand di Xiaomi, che in Cina partirà da appena...']\n",
      "\n",
      "['2 commenti']\n",
      "\n",
      "['Smartphone']\n",
      "\n",
      "['Redmi 7 arriverà a breve in Europa, ma il prezzo potrebbe non essere quello giusto']\n",
      "\n",
      "['18 marzo 2019']\n",
      "\n",
      "['12']\n",
      "\n",
      "['Smartphone']\n",
      "\n",
      "['Redmi 7 ufficiale: Snapdragon 632 e fino a 4 GB di RAM per conquistare anche gli entry level (foto)']\n",
      "\n",
      "['Redmi 7 è stato appena annunciato in Cina, andando così a completare una trinità iniziata con Redmi Note 7 e...']\n",
      "\n",
      "['12 commenti']\n",
      "\n",
      "['Smartphone']\n",
      "\n",
      "['Redmi 7 ufficiale: Snapdragon 632 e fino a 4 GB di RAM per conquistare anche gli entry level (foto)']\n",
      "\n",
      "['11 marzo 2019']\n",
      "\n",
      "['3']\n",
      "\n",
      "['Smartphone']\n",
      "\n",
      "['Xiaomi propone una variante di Mi9 EE con 8 GB di RAM e conferma la data di arrivo di Redmi 7 (foto)']\n",
      "\n",
      "['Xiaomi Mi9 è uno degli smartphone che più abbiamo apprezzato tra le ultime uscite. Tuttavia diversi utenti si sono lamentati...']\n",
      "\n",
      "['3 commenti']\n",
      "\n",
      "['Smartphone']\n",
      "\n",
      "['Xiaomi propone una variante di Mi9 EE con 8 GB di RAM e conferma la data di arrivo di Redmi 7 (foto)']\n",
      "\n",
      "['6 marzo 2019']\n",
      "\n",
      "['3']\n",
      "\n",
      "['Smartphone']\n",
      "\n",
      "['Redmi 7 è davvero un Redmi Note 7 in miniatura, non ci credete? Date un’occhiata a questi video']\n",
      "\n",
      "['Redmi Note 7 arriverà in Italia il prossimo 12 marzo e se costerà quanto in Spagna, è destinato a fare...']\n",
      "\n",
      "['3 commenti']\n",
      "\n",
      "['Smartphone']\n",
      "\n",
      "['Redmi 7 è davvero un Redmi Note 7 in miniatura, non ci credete? Date un’occhiata a questi video']\n",
      "\n",
      "['12 febbraio 2019']\n",
      "\n",
      "['Smartphone']\n",
      "\n",
      "['Il nuovo Redmi 7 riceve la certificazione dal 3C e si prepara al lancio (foto)']\n",
      "\n",
      "['Redmi ha da poco iniziato a camminare sulle sue gambe dopo essersi staccata dalla grande casa-madre Xiaomi\\xa0presentando il suo primo...']\n",
      "\n",
      "['Smartphone']\n",
      "\n",
      "['Il nuovo Redmi 7 riceve la certificazione dal 3C e si prepara al lancio (foto)']\n",
      "\n",
      "['4 gennaio 2019']\n",
      "\n",
      "['7']\n",
      "\n",
      "['Smartphone']\n",
      "\n",
      "['Xiaomi Redmi 7 si mostra in rosso sfumato: avrebbe schermo da 6,3″ e batteria da 3.900 mAh (foto)']\n",
      "\n",
      "['Arrivano novità molto importanti sul conto dell’attesissimo Xiaomi Redmi 7, quello che dovrebbe essere il primo smartphone con notch a...']\n",
      "\n",
      "['7 commenti']\n",
      "\n",
      "['Smartphone']\n",
      "\n",
      "['Xiaomi Redmi 7 si mostra in rosso sfumato: avrebbe schermo da 6,3″ e batteria da 3.900 mAh (foto)']\n",
      "\n",
      "['18 dicembre 2018']\n",
      "\n",
      "['1']\n",
      "\n",
      "['Smartphone']\n",
      "\n",
      "['Xiaomi prepara il suo primo smartphone con notch a goccia: Redmi 7 sei tu? (aggiornato: Mi Play)']\n",
      "\n",
      "['Anche Xiaomi sta preparando il suo primo smartphone con notch a goccia, ma non sembra trattarsi di un top, bensì...']\n",
      "\n",
      "['1 commento']\n",
      "\n",
      "['Smartphone']\n",
      "\n",
      "['Xiaomi prepara il suo primo smartphone con notch a goccia: Redmi 7 sei tu? (aggiornato: Mi Play)']\n",
      "\n",
      "['Vedi tutte']\n",
      "\n",
      "['Redmi 7 (3GB): Prodotti Correlati']\n",
      "\n",
      "['Alcatel 5V']\n",
      "\n",
      "['Confronta']\n",
      "\n",
      "['ASUS Zenfone Max (M2)']\n",
      "\n",
      "['Confronta']\n",
      "\n",
      "['Huawei Y7 Pro (2019)']\n",
      "\n",
      "['Confronta']\n",
      "\n",
      "['Nokia 3.2']\n",
      "\n",
      "['Confronta']\n",
      "\n",
      "['Redmi 7']\n",
      "\n",
      "['Confronta']\n",
      "\n",
      "['Su alcuni dei link inseriti in questa pagina AndroidWorld ha un’affiliazione ed ottiene una percentuale dei ricavi, tale affiliazione non fa variare il prezzo del prodotto acquistato.']\n",
      "\n",
      "[\"© Copyright 2019 Arnoldo Mondadori Editore Spa - riproduzione riservata - P.IVA 08386600152\\n\\t\\t\\t\\t\\t\\t\\tTutti i servizi sono erogati, agli stessi termini e condizioni, da Arnoldo Mondadori Editore S.p.A. quale società incorporante di Banzai Media S.r.l.\\n                            \\n                            Nuove condizioni d'uso - in data 12/02/2019 sono entrate in vigore le nuove Condizioni Generali, ti invitiamo a prenderne visione\"]\n",
      "\n",
      "['qui']\n",
      "\n",
      "['Chi Siamo']\n",
      "\n",
      "['Condizioni d’uso']\n",
      "\n",
      "['Privacy']\n",
      "\n",
      "['Privacy Policy']\n",
      "\n",
      "['Notifiche push']\n",
      "\n",
      "['Cookie Policy']\n",
      "\n",
      "['Vuoi abilitare le notifiche?']\n",
      "\n",
      "['Attendi…']\n",
      "\n",
      "['No, grazie']\n",
      "\n",
      "['Si, attiva']\n",
      "\n"
     ]
    }
   ],
   "source": [
    "root = html.fromstring(r.content)\n",
    "for xpath in xpath_list:\n",
    "    list_of_values = root.xpath(xpath)\n",
    "    string_value = ''.join(list_of_values)\n",
    "    clean_value = string_value.strip()\n",
    "    #print([string_value])\n",
    "    print([clean_value])\n",
    "    print()"
   ]
  },
  {
   "cell_type": "markdown",
   "metadata": {},
   "source": [
    "## Compute necessary data structures\n",
    "### Utility functions\n",
    "#### Get xpath value\n",
    "Returns xpath selected value from a given page"
   ]
  },
  {
   "cell_type": "code",
   "execution_count": 8,
   "metadata": {},
   "outputs": [],
   "source": [
    "def get_xpath_value(html_src, xpath):\n",
    "    \n",
    "    root = html.fromstring(html_src)\n",
    "    selected_values = root.xpath(xpath)\n",
    "    selected_string = ''.join(selected_values).strip()\n",
    "    \n",
    "    return selected_string"
   ]
  },
  {
   "cell_type": "code",
   "execution_count": 9,
   "metadata": {},
   "outputs": [
    {
     "data": {
      "text/plain": [
       "'Redmi 7 (3GB) - Scheda tecnica | AndroidWorld'"
      ]
     },
     "execution_count": 9,
     "metadata": {},
     "output_type": "execute_result"
    }
   ],
   "source": [
    "get_xpath_value(r.content, '/html/head/title/text()')"
   ]
  },
  {
   "cell_type": "markdown",
   "metadata": {},
   "source": [
    "#### xpath to value\n",
    "Given page source code _src_ and a list of xpath l returns a dict { _xpath_ : _value_ }, where _xpath_ is an xpath and _value_ is the string retrieved from the xpath on _src_"
   ]
  },
  {
   "cell_type": "code",
   "execution_count": 10,
   "metadata": {},
   "outputs": [],
   "source": [
    "def xpath_to_value(html_src, xpath_list):\n",
    "    \n",
    "    result = {}\n",
    "    \n",
    "    for xpath in xpath_list:\n",
    "        value = get_xpath_value(html_src, xpath)\n",
    "        result.update({xpath: value})\n",
    "        \n",
    "    return result"
   ]
  },
  {
   "cell_type": "code",
   "execution_count": 11,
   "metadata": {},
   "outputs": [
    {
     "data": {
      "text/plain": [
       "{'/html/head/title/text()': 'Redmi 7 (3GB) - Scheda tecnica | AndroidWorld',\n",
       " '/html/body/div/div[3]/div/header/div/div[1]/ul/li[1]/a/text()': 'smart',\n",
       " '/html/body/div/div[3]/div/header/div/div[1]/ul/li[2]/a/text()': 'mobile',\n",
       " '/html/body/div/div[3]/div/header/div/div[1]/ul/li[3]/a/text()': 'android'}"
      ]
     },
     "execution_count": 11,
     "metadata": {},
     "output_type": "execute_result"
    }
   ],
   "source": [
    "xpath_to_value(r.content, ['/html/head/title/text()',\n",
    "                            '/html/body/div/div[3]/div/header/div/div[1]/ul/li[1]/a/text()',\n",
    "                            '/html/body/div/div[3]/div/header/div/div[1]/ul/li[2]/a/text()',\n",
    "                            '/html/body/div/div[3]/div/header/div/div[1]/ul/li[3]/a/text()'])"
   ]
  },
  {
   "cell_type": "markdown",
   "metadata": {},
   "source": [
    "#### get html\n",
    "Given a list of URLs, returns a dictionary _url_, _html page_"
   ]
  },
  {
   "cell_type": "code",
   "execution_count": 12,
   "metadata": {},
   "outputs": [],
   "source": [
    "def get_html(list_of_urls):\n",
    "    \n",
    "    result = {}\n",
    "    \n",
    "    for url in list_of_urls:\n",
    "        r = requests.get(url)\n",
    "        if r.ok:\n",
    "            result[url] = r.content\n",
    "            \n",
    "    return result"
   ]
  },
  {
   "cell_type": "markdown",
   "metadata": {},
   "source": [
    "#### get_data_structures\n",
    "Return necessary data structures for computing xpaths weights"
   ]
  },
  {
   "cell_type": "code",
   "execution_count": 13,
   "metadata": {},
   "outputs": [],
   "source": [
    "def get_data_structures(list_of_urls):\n",
    "    \n",
    "    html_pages = get_html(list_of_urls)\n",
    "    \n",
    "    url_to_xpaths = {}\n",
    "    xpath_to_value_list = defaultdict(list)\n",
    "    \n",
    "    for url in list_of_urls:\n",
    "        page = html_pages[url]\n",
    "        xpath_list = get_all_xpath(page)\n",
    "        \n",
    "        url_to_xpaths[url] = xpath_list\n",
    "        \n",
    "        xpath_to_single_value = xpath_to_value(page, xpath_list)\n",
    "        \n",
    "        for xpath in xpath_to_single_value:\n",
    "            value = xpath_to_single_value[xpath]\n",
    "            xpath_to_value_list[xpath].append(value)\n",
    "    \n",
    "    return (url_to_xpaths, xpath_to_value_list)"
   ]
  },
  {
   "cell_type": "code",
   "execution_count": 14,
   "metadata": {},
   "outputs": [],
   "source": [
    "bash_url_to_xpath_map, bash_xpath_to_values_map = get_data_structures(['http://www.tldp.org/LDP/abs/html/part1.html',\n",
    "                    'http://www.tldp.org/LDP/abs/html/invoking.html'])"
   ]
  },
  {
   "cell_type": "code",
   "execution_count": 15,
   "metadata": {},
   "outputs": [
    {
     "data": {
      "text/plain": [
       "{'http://www.tldp.org/LDP/abs/html/part1.html': ['/html/head/title/text()',\n",
       "  '/html/body/div[1]/table/tr[1]/th/text()',\n",
       "  '/html/body/div[1]/table/tr[2]/td[1]/a/text()',\n",
       "  '/html/body/div[1]/table/tr[2]/td[3]/a/text()',\n",
       "  '/html/body/div[2]/div/h1/text()',\n",
       "  '/html/body/div[2]/div/div[1]/table/tr/td[2]/p[1]/i/text()',\n",
       "  '/html/body/div[2]/div/div[1]/table/tr/td[2]/p[1]/i/em/text()',\n",
       "  '/html/body/div[2]/div/div[1]/table/tr/td[2]/p[2]/i/text()',\n",
       "  '/html/body/div[2]/div/div[1]/table/tr/td[2]/p[2]/i/em/text()',\n",
       "  '/html/body/div[2]/div/div[1]/p[2]/text()',\n",
       "  '/html/body/div[2]/div/div[1]/p[2]/i/text()',\n",
       "  '/html/body/div[2]/div/div[1]/p[2]/span/text()',\n",
       "  '/html/body/div[2]/div/div[2]/dl/dt[1]/b/text()',\n",
       "  '/html/body/div[2]/div/div[2]/dl/dt[2]/text()',\n",
       "  '/html/body/div[2]/div/div[2]/dl/dt[2]/a/text()',\n",
       "  '/html/body/div[2]/div/div[2]/dl/dt[3]/text()',\n",
       "  '/html/body/div[2]/div/div[2]/dl/dt[3]/a/text()',\n",
       "  '/html/body/div[2]/div/div[2]/dl/dd/dl/dt[1]/text()',\n",
       "  '/html/body/div[2]/div/div[2]/dl/dd/dl/dt[1]/a/text()',\n",
       "  '/html/body/div[2]/div/div[2]/dl/dd/dl/dt[2]/text()',\n",
       "  '/html/body/div[2]/div/div[2]/dl/dd/dl/dt[2]/a/text()',\n",
       "  '/html/body/div[3]/table/tr[1]/td[1]/a/text()',\n",
       "  '/html/body/div[3]/table/tr[1]/td[2]/a/text()',\n",
       "  '/html/body/div[3]/table/tr[1]/td[3]/a/text()',\n",
       "  '/html/body/div[3]/table/tr[2]/td[1]/text()',\n",
       "  '/html/body/div[3]/table/tr[2]/td[3]/text()'],\n",
       " 'http://www.tldp.org/LDP/abs/html/invoking.html': ['/html/head/title/text()',\n",
       "  '/html/body/div[1]/table/tr[1]/th/text()',\n",
       "  '/html/body/div[1]/table/tr[2]/td[1]/a/text()',\n",
       "  '/html/body/div[1]/table/tr[2]/td[2]/text()',\n",
       "  '/html/body/div[1]/table/tr[2]/td[3]/a/text()',\n",
       "  '/html/body/div[2]/h1/text()',\n",
       "  '/html/body/div[2]/p[1]/text()',\n",
       "  '/html/body/div[2]/p[1]/tt[1]/b/text()',\n",
       "  '/html/body/div[2]/p[1]/a[1]/span/text()',\n",
       "  '/html/body/div[2]/p[1]/tt[2]/b/text()',\n",
       "  '/html/body/div[2]/p[1]/tt[3]/b/text()',\n",
       "  '/html/body/div[2]/p[1]/a[2]/tt/text()',\n",
       "  '/html/body/div[2]/p[1]/a[3]/text()',\n",
       "  '/html/body/div[2]/div/dl/dt[1]/text()',\n",
       "  '/html/body/div[2]/div/dl/dd[1]/p/text()',\n",
       "  '/html/body/div[2]/div/dl/dd[1]/p/tt/b/text()',\n",
       "  '/html/body/div[2]/div/dl/dd[1]/p/a/span/text()',\n",
       "  '/html/body/div[2]/div/dl/dt[2]/text()',\n",
       "  '/html/body/div[2]/div/dl/dd[2]/p[1]/text()',\n",
       "  '/html/body/div[2]/div/dl/dd[2]/p[1]/tt/b/text()',\n",
       "  '/html/body/div[2]/div/dl/dd[2]/p[2]/text()',\n",
       "  '/html/body/div[2]/div/dl/dd[2]/p[2]/tt/b/text()',\n",
       "  '/html/body/div[2]/p[3]/text()',\n",
       "  '/html/body/div[2]/p[3]/tt/b/text()',\n",
       "  '/html/body/div[2]/p[3]/a/span/text()',\n",
       "  '/html/body/div[2]/p[3]/span/text()',\n",
       "  '/html/body/div[2]/p[4]/text()',\n",
       "  '/html/body/div[2]/p[4]/tt/text()',\n",
       "  '/html/body/div[2]/p[4]/i/text()',\n",
       "  '/html/body/div[2]/p[4]/b[1]/text()',\n",
       "  '/html/body/div[2]/p[4]/b[2]/text()',\n",
       "  '/html/body/h3/text()',\n",
       "  '/html/body/table/tr[1]/td[1]/a/span/text()',\n",
       "  '/html/body/table/tr[1]/td[2]/p/text()',\n",
       "  '/html/body/table/tr[1]/td[2]/p/i/text()',\n",
       "  '/html/body/table/tr[1]/td[2]/p/tt/b/text()',\n",
       "  '/html/body/table/tr[2]/td[1]/a/span/text()',\n",
       "  '/html/body/table/tr[2]/td[2]/p/text()',\n",
       "  '/html/body/table/tr[2]/td[2]/p/i/text()',\n",
       "  '/html/body/table/tr[3]/td[1]/a/span/text()',\n",
       "  '/html/body/table/tr[3]/td[2]/p/text()',\n",
       "  '/html/body/table/tr[3]/td[2]/p/tt[1]/b/text()',\n",
       "  '/html/body/table/tr[3]/td[2]/p/a[1]/text()',\n",
       "  '/html/body/table/tr[3]/td[2]/p/tt[2]/text()',\n",
       "  '/html/body/table/tr[3]/td[2]/p/tt[3]/text()',\n",
       "  '/html/body/table/tr[3]/td[2]/p/a[2]/text()',\n",
       "  '/html/body/table/tr[3]/td[2]/p/tt[4]/b/text()',\n",
       "  '/html/body/div[3]/table/tr[1]/td[1]/a/text()',\n",
       "  '/html/body/div[3]/table/tr[1]/td[2]/a/text()',\n",
       "  '/html/body/div[3]/table/tr[1]/td[3]/a/text()',\n",
       "  '/html/body/div[3]/table/tr[2]/td[1]/text()',\n",
       "  '/html/body/div[3]/table/tr[2]/td[2]/a/text()',\n",
       "  '/html/body/div[3]/table/tr[2]/td[3]/text()']}"
      ]
     },
     "execution_count": 15,
     "metadata": {},
     "output_type": "execute_result"
    }
   ],
   "source": [
    "bash_url_to_xpath_map"
   ]
  },
  {
   "cell_type": "code",
   "execution_count": 16,
   "metadata": {},
   "outputs": [
    {
     "data": {
      "text/plain": [
       "defaultdict(list,\n",
       "            {'/html/head/title/text()': ['Introduction',\n",
       "              'Invoking the script'],\n",
       "             '/html/body/div[1]/table/tr[1]/th/text()': ['Advanced Bash-Scripting Guide:',\n",
       "              'Advanced Bash-Scripting Guide:'],\n",
       "             '/html/body/div[1]/table/tr[2]/td[1]/a/text()': ['Prev', 'Prev'],\n",
       "             '/html/body/div[1]/table/tr[2]/td[3]/a/text()': ['Next', 'Next'],\n",
       "             '/html/body/div[2]/div/h1/text()': ['Part 1. Introduction'],\n",
       "             '/html/body/div[2]/div/div[1]/table/tr/td[2]/p[1]/i/text()': ['Script:'],\n",
       "             '/html/body/div[2]/div/div[1]/table/tr/td[2]/p[1]/i/em/text()': ['A writing; a written\\n        document. [Obs.]'],\n",
       "             '/html/body/div[2]/div/div[1]/table/tr/td[2]/p[2]/i/text()': ['--, 1913 ed.'],\n",
       "             '/html/body/div[2]/div/div[1]/table/tr/td[2]/p[2]/i/em/text()': [\"Webster's Dictionary\"],\n",
       "             '/html/body/div[2]/div/div[1]/p[2]/text()': [\"The shell is a command interpreter. More than just the\\n      insulating layer between the operating system kernel and the user,\\n      it's also a fairly powerful programming language. A shell program,\\n      called a , is an easy-to-use tool for\\n      building applications by  system\\n      calls, tools, utilities, and compiled binaries.  Virtually the\\n      entire repertoire of UNIX commands, utilities, and tools is\\n      available for invocation by a shell script. If that were\\n      not enough, internal shell commands, such as testing and loop\\n      constructs, lend additional power and flexibility to scripts.\\n      Shell scripts are especially well suited for administrative\\n      system tasks and other routine repetitive tasks not requiring the\\n      bells and whistles of a full-blown tightly structured programming\\n      language.\"],\n",
       "             '/html/body/div[2]/div/div[1]/p[2]/i/text()': ['script'],\n",
       "             '/html/body/div[2]/div/div[1]/p[2]/span/text()': ['\"gluing together\"'],\n",
       "             '/html/body/div[2]/div/div[2]/dl/dt[1]/b/text()': ['Table of Contents'],\n",
       "             '/html/body/div[2]/div/div[2]/dl/dt[2]/text()': ['1.'],\n",
       "             '/html/body/div[2]/div/div[2]/dl/dt[2]/a/text()': ['Shell Programming!'],\n",
       "             '/html/body/div[2]/div/div[2]/dl/dt[3]/text()': ['2.'],\n",
       "             '/html/body/div[2]/div/div[2]/dl/dt[3]/a/text()': ['Starting Off With a Sha-Bang'],\n",
       "             '/html/body/div[2]/div/div[2]/dl/dd/dl/dt[1]/text()': ['2.1.'],\n",
       "             '/html/body/div[2]/div/div[2]/dl/dd/dl/dt[1]/a/text()': ['Invoking the script'],\n",
       "             '/html/body/div[2]/div/div[2]/dl/dd/dl/dt[2]/text()': ['2.2.'],\n",
       "             '/html/body/div[2]/div/div[2]/dl/dd/dl/dt[2]/a/text()': ['Preliminary Exercises'],\n",
       "             '/html/body/div[3]/table/tr[1]/td[1]/a/text()': ['Prev', 'Prev'],\n",
       "             '/html/body/div[3]/table/tr[1]/td[2]/a/text()': ['Home', 'Home'],\n",
       "             '/html/body/div[3]/table/tr[1]/td[3]/a/text()': ['Next', 'Next'],\n",
       "             '/html/body/div[3]/table/tr[2]/td[1]/text()': ['Advanced Bash-Scripting Guide',\n",
       "              'Starting Off With a Sha-Bang'],\n",
       "             '/html/body/div[3]/table/tr[2]/td[3]/text()': ['Shell Programming!',\n",
       "              'Preliminary Exercises'],\n",
       "             '/html/body/div[1]/table/tr[2]/td[2]/text()': ['Chapter 2. Starting Off With a Sha-Bang'],\n",
       "             '/html/body/div[2]/h1/text()': ['2.1. Invoking the script'],\n",
       "             '/html/body/div[2]/p[1]/text()': ['Having written the script, you can invoke it by ,\\n\\n\\t  \\n\\n\\tor alternatively . (Not\\n\\trecommended is using ,\\n\\tsince this effectively disables reading from\\n\\t\\n\\twithin the script.) Much more convenient is to make\\n\\tthe script itself directly executable with a .'],\n",
       "             '/html/body/div[2]/p[1]/tt[1]/b/text()': ['sh\\n\\tscriptname'],\n",
       "             '/html/body/div[2]/p[1]/a[1]/span/text()': ['[1]'],\n",
       "             '/html/body/div[2]/p[1]/tt[2]/b/text()': ['bash scriptname'],\n",
       "             '/html/body/div[2]/p[1]/tt[3]/b/text()': ['sh <scriptname'],\n",
       "             '/html/body/div[2]/p[1]/a[2]/tt/text()': ['stdin'],\n",
       "             '/html/body/div[2]/p[1]/a[3]/text()': ['chmod'],\n",
       "             '/html/body/div[2]/div/dl/dt[1]/text()': ['Either:'],\n",
       "             '/html/body/div[2]/div/dl/dd[1]/p/text()': ['(gives\\n\\t      everyone read/execute permission)'],\n",
       "             '/html/body/div[2]/div/dl/dd[1]/p/tt/b/text()': ['chmod 555 scriptname'],\n",
       "             '/html/body/div[2]/div/dl/dd[1]/p/a/span/text()': ['[2]'],\n",
       "             '/html/body/div[2]/div/dl/dt[2]/text()': ['or'],\n",
       "             '/html/body/div[2]/div/dl/dd[2]/p[1]/text()': ['(gives\\n\\t      everyone read/execute permission)'],\n",
       "             '/html/body/div[2]/div/dl/dd[2]/p[1]/tt/b/text()': ['chmod +rx scriptname'],\n",
       "             '/html/body/div[2]/div/dl/dd[2]/p[2]/text()': ['(gives only the\\n\\t\\tscript owner read/execute permission)'],\n",
       "             '/html/body/div[2]/div/dl/dd[2]/p[2]/tt/b/text()': ['chmod\\n\\t      u+rx scriptname'],\n",
       "             '/html/body/div[2]/p[3]/text()': ['Having made the script executable, you may now test it by\\n\\t.\\n\\t\\n\\t  \\n\\n\\tIf it begins with a  line, invoking the\\n\\tscript calls the correct command interpreter to run it.'],\n",
       "             '/html/body/div[2]/p[3]/tt/b/text()': ['./scriptname'],\n",
       "             '/html/body/div[2]/p[3]/a/span/text()': ['[3]'],\n",
       "             '/html/body/div[2]/p[3]/span/text()': ['\"sha-bang\"'],\n",
       "             '/html/body/div[2]/p[4]/text()': ['As a final step, after testing and debugging,\\n\\tyou would likely want to move it to  (as\\n\\t, of course), to make the script\\n\\tavailable to yourself and all other users as a systemwide\\n\\texecutable.  The script could then be invoked by simply typing\\n\\t  from the\\n\\tcommand-line.'],\n",
       "             '/html/body/div[2]/p[4]/tt/text()': ['/usr/local/bin'],\n",
       "             '/html/body/div[2]/p[4]/i/text()': ['root'],\n",
       "             '/html/body/div[2]/p[4]/b[1]/text()': ['scriptname'],\n",
       "             '/html/body/div[2]/p[4]/b[2]/text()': ['[ENTER]'],\n",
       "             '/html/body/h3/text()': ['Notes'],\n",
       "             '/html/body/table/tr[1]/td[1]/a/span/text()': ['[1]'],\n",
       "             '/html/body/table/tr[1]/td[2]/p/text()': ['Caution: invoking a \\n\\t  script by  turns off\\n\\t  Bash-specific extensions, and the script may therefore fail\\n\\t  to execute.'],\n",
       "             '/html/body/table/tr[1]/td[2]/p/i/text()': ['Bash'],\n",
       "             '/html/body/table/tr[1]/td[2]/p/tt/b/text()': ['sh scriptname'],\n",
       "             '/html/body/table/tr[2]/td[1]/a/span/text()': ['[2]'],\n",
       "             '/html/body/table/tr[2]/td[2]/p/text()': ['A script needs , as\\n\\t\\twell as execute permission for it to run, since the shell\\n\\t\\tneeds to be able to read it.'],\n",
       "             '/html/body/table/tr[2]/td[2]/p/i/text()': ['read'],\n",
       "             '/html/body/table/tr[3]/td[1]/a/span/text()': ['[3]'],\n",
       "             '/html/body/table/tr[3]/td[2]/p/text()': [\"Why not simply invoke the script with\\n\\t  ? If the directory you\\n\\t  are in () is where\\n\\t   is located, why doesn't\\n\\t  this work? This fails because, for security reasons, the\\n\\t  current directory ()\\n\\t  is not by default included in a user's . It is therefore necessary to\\n\\t  explicitly invoke the script in the current directory with\\n\\t  a .\"],\n",
       "             '/html/body/table/tr[3]/td[2]/p/tt[1]/b/text()': ['scriptname'],\n",
       "             '/html/body/table/tr[3]/td[2]/p/a[1]/text()': ['$PWD'],\n",
       "             '/html/body/table/tr[3]/td[2]/p/tt[2]/text()': ['scriptname'],\n",
       "             '/html/body/table/tr[3]/td[2]/p/tt[3]/text()': ['./'],\n",
       "             '/html/body/table/tr[3]/td[2]/p/a[2]/text()': ['$PATH'],\n",
       "             '/html/body/table/tr[3]/td[2]/p/tt[4]/b/text()': ['./scriptname'],\n",
       "             '/html/body/div[3]/table/tr[2]/td[2]/a/text()': ['Up']})"
      ]
     },
     "execution_count": 16,
     "metadata": {},
     "output_type": "execute_result"
    }
   ],
   "source": [
    "bash_xpath_to_values_map"
   ]
  },
  {
   "cell_type": "markdown",
   "metadata": {},
   "source": [
    "## Compute weights\n",
    "\n",
    "### Compute frequency\n",
    "Given a list of values extracted from a xpath _Xi_ returns the frequency of _Xi_"
   ]
  },
  {
   "cell_type": "code",
   "execution_count": 17,
   "metadata": {},
   "outputs": [],
   "source": [
    "def compute_frequency(values_list):\n",
    "    return len(values_list)"
   ]
  },
  {
   "cell_type": "code",
   "execution_count": 18,
   "metadata": {},
   "outputs": [
    {
     "data": {
      "text/plain": [
       "2"
      ]
     },
     "execution_count": 18,
     "metadata": {},
     "output_type": "execute_result"
    }
   ],
   "source": [
    "selected_xpaths = ['/html/head/title/text()', \n",
    "                   '/html/body/div[1]/table/tr[1]/th/text()', \n",
    "                   '/html/body/div[2]/p[4]/b[2]/text()']\n",
    "\n",
    "compute_frequency(bash_xpath_to_values_map[selected_xpaths[0]]) #should be 2"
   ]
  },
  {
   "cell_type": "markdown",
   "metadata": {},
   "source": [
    "### Compute informativeness\n",
    "Given cluster size and a list of values extracted from a xpath _Xi_ returns the informativeness of _Xi_"
   ]
  },
  {
   "cell_type": "code",
   "execution_count": 19,
   "metadata": {},
   "outputs": [],
   "source": [
    "def compute_informativeness(M, values_list):\n",
    "\n",
    "    values_set = set(values_list)\n",
    "    Ti = len(values_set)\n",
    "    \n",
    "    sum_F_Xi = compute_frequency(values_list)\n",
    "\n",
    "    return 1 - sum_F_Xi/(M*Ti)\n",
    "    "
   ]
  },
  {
   "cell_type": "code",
   "execution_count": 20,
   "metadata": {},
   "outputs": [
    {
     "data": {
      "text/plain": [
       "0.825"
      ]
     },
     "execution_count": 20,
     "metadata": {},
     "output_type": "execute_result"
    }
   ],
   "source": [
    "compute_informativeness(10, [1,2,1,1,3,5,5]) #expected: 0.825"
   ]
  },
  {
   "cell_type": "markdown",
   "metadata": {},
   "source": [
    "### xpath weight\n",
    "Given a list of values extracted from a xpath _Xi_ returns the weight of _Xi_"
   ]
  },
  {
   "cell_type": "code",
   "execution_count": 21,
   "metadata": {},
   "outputs": [],
   "source": [
    "def xpath_weight(cluster_size, list_of_values):\n",
    "    return compute_frequency(list_of_values)*compute_informativeness(cluster_size, list_of_values)"
   ]
  },
  {
   "cell_type": "code",
   "execution_count": 22,
   "metadata": {},
   "outputs": [
    {
     "data": {
      "text/plain": [
       "1.0"
      ]
     },
     "execution_count": 22,
     "metadata": {},
     "output_type": "execute_result"
    }
   ],
   "source": [
    "xpath_weight(2, bash_xpath_to_values_map[selected_xpaths[0]]) #should be 1"
   ]
  },
  {
   "cell_type": "code",
   "execution_count": 23,
   "metadata": {},
   "outputs": [
    {
     "data": {
      "text/plain": [
       "0.0"
      ]
     },
     "execution_count": 23,
     "metadata": {},
     "output_type": "execute_result"
    }
   ],
   "source": [
    "xpath_weight(2, bash_xpath_to_values_map[selected_xpaths[1]]) #should be 0"
   ]
  },
  {
   "cell_type": "code",
   "execution_count": 24,
   "metadata": {},
   "outputs": [
    {
     "data": {
      "text/plain": [
       "0.5"
      ]
     },
     "execution_count": 24,
     "metadata": {},
     "output_type": "execute_result"
    }
   ],
   "source": [
    "xpath_weight(2, bash_xpath_to_values_map[selected_xpaths[2]]) #should be 0.5"
   ]
  },
  {
   "cell_type": "markdown",
   "metadata": {},
   "source": [
    "### page_weight\n",
    "Arguments:\n",
    "- **list of xpath**: list of xpath of a given page\n",
    "- **xpath_to_values_map**: dictionary where keys are xpath and values are values retrieved from the xpath\n",
    "- **cluster_size**\n",
    "- **intersection** (optional): if None nothing happens. Otherwise only xpath in **list of xpath** $\\cap$ **intersection** will be considered in computing weight"
   ]
  },
  {
   "cell_type": "code",
   "execution_count": 50,
   "metadata": {},
   "outputs": [],
   "source": [
    "def page_weight(list_of_xpath, xpath_to_values_map, cluster_size, intersection = None):\n",
    "\n",
    "    weight = 0\n",
    "    \n",
    "    if intersection is None:\n",
    "        intersection = list_of_xpath\n",
    "        \n",
    "    for xpath in list_of_xpath:\n",
    "        if xpath in intersection:\n",
    "            list_of_values = xpath_to_values_map[xpath]\n",
    "            weight_of_xpath = xpath_weight(cluster_size, list_of_values)\n",
    "            weight += weight_of_xpath\n",
    "    return weight"
   ]
  },
  {
   "cell_type": "code",
   "execution_count": 51,
   "metadata": {
    "scrolled": true
   },
   "outputs": [
    {
     "data": {
      "text/plain": [
       "1.5"
      ]
     },
     "execution_count": 51,
     "metadata": {},
     "output_type": "execute_result"
    }
   ],
   "source": [
    "page_weight(selected_xpaths, bash_xpath_to_values_map, 2) # should be 1.5"
   ]
  },
  {
   "cell_type": "code",
   "execution_count": 52,
   "metadata": {},
   "outputs": [
    {
     "data": {
      "text/plain": [
       "1.0"
      ]
     },
     "execution_count": 52,
     "metadata": {},
     "output_type": "execute_result"
    }
   ],
   "source": [
    "page_weight(selected_xpaths[:2], bash_xpath_to_values_map, 2) # should be 1"
   ]
  },
  {
   "cell_type": "code",
   "execution_count": 53,
   "metadata": {},
   "outputs": [
    {
     "data": {
      "text/plain": [
       "1.5"
      ]
     },
     "execution_count": 53,
     "metadata": {},
     "output_type": "execute_result"
    }
   ],
   "source": [
    "page_weight([selected_xpaths[0], selected_xpaths[2]], bash_xpath_to_values_map, 2) # should be 1.5"
   ]
  },
  {
   "cell_type": "code",
   "execution_count": 54,
   "metadata": {},
   "outputs": [
    {
     "data": {
      "text/plain": [
       "1.5"
      ]
     },
     "execution_count": 54,
     "metadata": {},
     "output_type": "execute_result"
    }
   ],
   "source": [
    "page_weight(selected_xpaths, bash_xpath_to_values_map, 2, selected_xpaths) #should be 1.5"
   ]
  },
  {
   "cell_type": "code",
   "execution_count": 56,
   "metadata": {},
   "outputs": [
    {
     "data": {
      "text/plain": [
       "0"
      ]
     },
     "execution_count": 56,
     "metadata": {},
     "output_type": "execute_result"
    }
   ],
   "source": [
    "page_weight(selected_xpaths, bash_xpath_to_values_map, 2, []) #should be 0"
   ]
  },
  {
   "cell_type": "code",
   "execution_count": 57,
   "metadata": {},
   "outputs": [
    {
     "data": {
      "text/plain": [
       "1.0"
      ]
     },
     "execution_count": 57,
     "metadata": {},
     "output_type": "execute_result"
    }
   ],
   "source": [
    "page_weight(selected_xpaths, bash_xpath_to_values_map, 2, selected_xpaths[:2]) #should be 1"
   ]
  },
  {
   "cell_type": "code",
   "execution_count": 58,
   "metadata": {},
   "outputs": [
    {
     "data": {
      "text/plain": [
       "0.5"
      ]
     },
     "execution_count": 58,
     "metadata": {},
     "output_type": "execute_result"
    }
   ],
   "source": [
    "page_weight(selected_xpaths, bash_xpath_to_values_map, 2, [selected_xpaths[2]]) #should be 0.5"
   ]
  },
  {
   "cell_type": "code",
   "execution_count": 59,
   "metadata": {},
   "outputs": [],
   "source": [
    "selected_urls = ['http://www.tldp.org/LDP/abs/html/part1.html',\n",
    "                'http://www.tldp.org/LDP/abs/html/invoking.html']"
   ]
  },
  {
   "cell_type": "code",
   "execution_count": 60,
   "metadata": {},
   "outputs": [
    {
     "data": {
      "text/plain": [
       "11.5"
      ]
     },
     "execution_count": 60,
     "metadata": {},
     "output_type": "execute_result"
    }
   ],
   "source": [
    "page_weight(bash_url_to_xpath_map[selected_urls[0]], bash_xpath_to_values_map, 2)"
   ]
  },
  {
   "cell_type": "code",
   "execution_count": 61,
   "metadata": {},
   "outputs": [
    {
     "data": {
      "text/plain": [
       "25.0"
      ]
     },
     "execution_count": 61,
     "metadata": {},
     "output_type": "execute_result"
    }
   ],
   "source": [
    "page_weight(bash_url_to_xpath_map[selected_urls[1]], bash_xpath_to_values_map, 2)"
   ]
  },
  {
   "cell_type": "markdown",
   "metadata": {},
   "source": [
    "### Max weight page\n",
    "Arguments:\n",
    "- **url_to_xpaths_map**: dictionary where keys are urls and values are xpaths extracted from urls\n",
    "- **xpath_to_values_map**: dictionary where keys are xpaths and values are values retrieved from the xpath\n",
    "- **cluster_size**\n",
    "- **intersection** (optional): if None nothing happens. Otherwise only xpath in **list of xpath** $\\cap$ **intersection** will be considered in computing weight"
   ]
  },
  {
   "cell_type": "code",
   "execution_count": 62,
   "metadata": {},
   "outputs": [],
   "source": [
    "def max_weight_page(url_to_xpaths_map, xpath_to_values_map, cluster_size, intersection = None):\n",
    "    \n",
    "    max_weight = 0\n",
    "    max_weight_page = None\n",
    "    \n",
    "    for url in url_to_xpaths_map:\n",
    "        \n",
    "        xpaths = url_to_xpaths_map[url]\n",
    "        weight = page_weight(xpaths, xpath_to_values_map, cluster_size, intersection)\n",
    "        \n",
    "        if weight > max_weight:\n",
    "            max_weight = weight\n",
    "            max_weight_page = url\n",
    "    \n",
    "    return url"
   ]
  },
  {
   "cell_type": "code",
   "execution_count": 63,
   "metadata": {},
   "outputs": [
    {
     "data": {
      "text/plain": [
       "'http://www.tldp.org/LDP/abs/html/invoking.html'"
      ]
     },
     "execution_count": 63,
     "metadata": {},
     "output_type": "execute_result"
    }
   ],
   "source": [
    "max_weight_page(bash_url_to_xpath_map, bash_xpath_to_values_map, 2) #expected: invoking.html"
   ]
  },
  {
   "cell_type": "markdown",
   "metadata": {},
   "source": [
    "## Sampling algorithm"
   ]
  },
  {
   "cell_type": "code",
   "execution_count": 69,
   "metadata": {},
   "outputs": [],
   "source": [
    "def sampling(list_of_urls, k = 20):\n",
    "    \n",
    "    cluster_size = len(list_of_urls)\n",
    "    \n",
    "    url_to_xpaths_map, xpath_to_values_map = get_data_structures(list_of_urls)\n",
    "    \n",
    "    X = list(xpath_to_values_map) #insert dictionary keys into a list\n",
    "    result = []\n",
    "    \n",
    "    while X and len(result) <= k:\n",
    "        max_weight_url = max_weight_page(url_to_xpaths_map, xpath_to_values_map, cluster_size, X)\n",
    "        result.append(max_weight_url)\n",
    "        X = [xpath for xpath in X if xpath not in url_to_xpaths_map[max_weight_url]]\n",
    "        url_to_xpaths_map.pop(max_weight_url)\n",
    "        \n",
    "    return result"
   ]
  },
  {
   "cell_type": "code",
   "execution_count": 70,
   "metadata": {},
   "outputs": [
    {
     "data": {
      "text/plain": [
       "['http://www.tldp.org/LDP/abs/html/invoking.html',\n",
       " 'http://www.tldp.org/LDP/abs/html/part1.html']"
      ]
     },
     "execution_count": 70,
     "metadata": {},
     "output_type": "execute_result"
    }
   ],
   "source": [
    "sampling(selected_urls)"
   ]
  }
 ],
 "metadata": {
  "kernelspec": {
   "display_name": "Python 3",
   "language": "python",
   "name": "python3"
  },
  "language_info": {
   "codemirror_mode": {
    "name": "ipython",
    "version": 3
   },
   "file_extension": ".py",
   "mimetype": "text/x-python",
   "name": "python",
   "nbconvert_exporter": "python",
   "pygments_lexer": "ipython3",
   "version": "3.7.1"
  }
 },
 "nbformat": 4,
 "nbformat_minor": 2
}
